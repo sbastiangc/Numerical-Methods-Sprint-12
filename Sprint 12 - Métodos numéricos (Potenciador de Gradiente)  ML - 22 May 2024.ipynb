{
 "cells": [
  {
   "cell_type": "markdown",
   "metadata": {},
   "source": [
    "# Hola Sebastián! <a class=\"tocSkip\"></a>\n",
    "\n",
    "Mi nombre es Oscar Flores y tengo el gusto de revisar tu proyecto. Si tienes algún comentario que quieras agregar en tus respuestas te puedes referir a mi como Oscar, no hay problema que me trates de tú.\n",
    "\n",
    "Si veo un error en la primera revisión solamente lo señalaré y dejaré que tú encuentres de qué se trata y cómo arreglarlo. Debo prepararte para que te desempeñes como especialista en Data, en un trabajo real, el responsable a cargo tuyo hará lo mismo. Si aún tienes dificultades para resolver esta tarea, te daré indicaciones más precisas en una siguiente iteración.\n",
    "\n",
    "Te dejaré mis comentarios más abajo - **por favor, no los muevas, modifiques o borres**\n",
    "\n",
    "Comenzaré mis comentarios con un resumen de los puntos que están bien, aquellos que debes corregir y aquellos que puedes mejorar. Luego deberás revisar todo el notebook para leer mis comentarios, los cuales estarán en rectángulos de color verde, amarillo o rojo como siguen:\n",
    "\n",
    "<div class=\"alert alert-block alert-success\">\n",
    "<b>Comentario de Reviewer</b> <a class=\"tocSkip\"></a>\n",
    "    \n",
    "Muy bien! Toda la respuesta fue lograda satisfactoriamente.\n",
    "</div>\n",
    "\n",
    "<div class=\"alert alert-block alert-warning\">\n",
    "<b>Comentario de Reviewer</b> <a class=\"tocSkip\"></a>\n",
    "\n",
    "Existen detalles a mejorar. Existen recomendaciones.\n",
    "</div>\n",
    "\n",
    "<div class=\"alert alert-block alert-danger\">\n",
    "\n",
    "<b>Comentario de Reviewer</b> <a class=\"tocSkip\"></a>\n",
    "\n",
    "Se necesitan correcciones en el bloque. El trabajo no puede ser aceptado con comentarios en rojo sin solucionar.\n",
    "</div>\n",
    "\n",
    "Cualquier comentario que quieras agregar entre iteraciones de revisión lo puedes hacer de la siguiente manera:\n",
    "\n",
    "<div class=\"alert alert-block alert-info\">\n",
    "<b>Respuesta estudiante.</b> <a class=\"tocSkip\"></a>\n",
    "</div>\n"
   ]
  },
  {
   "cell_type": "markdown",
   "metadata": {},
   "source": [
    "## Resumen de la revisión 1 <a class=\"tocSkip\"></a>"
   ]
  },
  {
   "cell_type": "markdown",
   "metadata": {},
   "source": [
    "<div class=\"alert alert-block alert-success\">\n",
    "<b>Comentario de Reviewer</b> <a class=\"tocSkip\"></a>\n",
    "\n",
    "Muy buen trabajo Sebastián, tu notebook está muy completo y ordenado. Está todo lo necesario para aprobar el notebook, no tengo ningún comentario adicinoal a realizar, tan solo difiero en un par de ocasiones del uso de gráfico de líneas. Muy bien!\n",
    "</div>"
   ]
  },
  {
   "cell_type": "markdown",
   "metadata": {},
   "source": [
    "----"
   ]
  },
  {
   "cell_type": "markdown",
   "metadata": {},
   "source": [
    "# Métodos numéricos ML - Valor de mercado automóvil "
   ]
  },
  {
   "cell_type": "markdown",
   "metadata": {},
   "source": [
    "El servicio de venta de autos usados Rusty Bargain está desarrollando una aplicación para atraer nuevos clientes. Gracias a esa app, puedes averiguar rápidamente el valor de mercado de tu coche. Tienes acceso al historial: especificaciones técnicas, versiones de equipamiento y precios. Tienes que crear un modelo que determine el valor de mercado.\n",
    "A Rusty Bargain le interesa:\n",
    "- la calidad de la predicción;\n",
    "- la velocidad de la predicción;\n",
    "- el tiempo requerido para el entrenamiento"
   ]
  },
  {
   "cell_type": "markdown",
   "metadata": {
    "toc": true
   },
   "source": [
    "<h1>Contenido:<span class=\"tocSkip\"></span></h1>\n",
    "<div class=\"toc\"><ul class=\"toc-item\"><li><span><a href=\"#Preparación-de-datos\" data-toc-modified-id=\"Preparación-de-datos-1\"><span class=\"toc-item-num\">1&nbsp;&nbsp;</span>Preparación de datos</a></span><ul class=\"toc-item\"><li><span><a href=\"#Exploración-de-datos\" data-toc-modified-id=\"Exploración-de-datos-1.1\"><span class=\"toc-item-num\">1.1&nbsp;&nbsp;</span>Exploración de datos</a></span></li><li><span><a href=\"#Codificación-y-estandarización-de-datos\" data-toc-modified-id=\"Codificación-y-estandarización-de-datos-1.2\"><span class=\"toc-item-num\">1.2&nbsp;&nbsp;</span>Codificación y estandarización de datos</a></span></li><li><span><a href=\"#Escalar-los-datos\" data-toc-modified-id=\"Escalar-los-datos-1.3\"><span class=\"toc-item-num\">1.3&nbsp;&nbsp;</span>Escalar los datos</a></span></li><li><span><a href=\"#Segmentación-de-datos\" data-toc-modified-id=\"Segmentación-de-datos-1.4\"><span class=\"toc-item-num\">1.4&nbsp;&nbsp;</span>Segmentación de datos</a></span></li></ul></li><li><span><a href=\"#Entrenamiento-del-modelo\" data-toc-modified-id=\"Entrenamiento-del-modelo-2\"><span class=\"toc-item-num\">2&nbsp;&nbsp;</span>Entrenamiento del modelo</a></span><ul class=\"toc-item\"><li><span><a href=\"#Modelo-de-regresión-lineal\" data-toc-modified-id=\"Modelo-de-regresión-lineal-2.1\"><span class=\"toc-item-num\">2.1&nbsp;&nbsp;</span>Modelo de regresión lineal</a></span></li><li><span><a href=\"#Modelo-de-bosque-aleatorio\" data-toc-modified-id=\"Modelo-de-bosque-aleatorio-2.2\"><span class=\"toc-item-num\">2.2&nbsp;&nbsp;</span>Modelo de bosque aleatorio</a></span></li><li><span><a href=\"#Potenciador-de-gradiente\" data-toc-modified-id=\"Potenciador-de-gradiente-2.3\"><span class=\"toc-item-num\">2.3&nbsp;&nbsp;</span>Potenciador de gradiente</a></span></li><li><span><a href=\"#LightGBM\" data-toc-modified-id=\"LightGBM-2.4\"><span class=\"toc-item-num\">2.4&nbsp;&nbsp;</span>LightGBM</a></span></li><li><span><a href=\"#CatBoost\" data-toc-modified-id=\"CatBoost-2.5\"><span class=\"toc-item-num\">2.5&nbsp;&nbsp;</span>CatBoost</a></span></li></ul></li><li><span><a href=\"#Análisis-del-modelo\" data-toc-modified-id=\"Análisis-del-modelo-3\"><span class=\"toc-item-num\">3&nbsp;&nbsp;</span>Análisis del modelo</a></span><ul class=\"toc-item\"><li><span><a href=\"#Prueba-de-LightGBM-con-datos-de-prueba\" data-toc-modified-id=\"Prueba-de-LightGBM-con-datos-de-prueba-3.1\"><span class=\"toc-item-num\">3.1&nbsp;&nbsp;</span>Prueba de LightGBM con datos de prueba</a></span></li></ul></li><li><span><a href=\"#Conclusión\" data-toc-modified-id=\"Conclusión-4\"><span class=\"toc-item-num\">4&nbsp;&nbsp;</span>Conclusión</a></span></li></ul></div>"
   ]
  },
  {
   "cell_type": "markdown",
   "metadata": {},
   "source": [
    "## Preparación de datos"
   ]
  },
  {
   "cell_type": "code",
   "execution_count": 1,
   "metadata": {},
   "outputs": [],
   "source": [
    "import pandas as pd\n",
    "import numpy as np\n",
    "import seaborn as sb\n",
    "import matplotlib.pyplot as plt\n",
    "\n",
    "#importo processing para etiquetas, onehot y escalar datos\n",
    "import sklearn.preprocessing\n",
    "from sklearn.model_selection import train_test_split\n",
    "from sklearn.preprocessing import OrdinalEncoder\n",
    "from sklearn.preprocessing import OneHotEncoder\n",
    "from sklearn.preprocessing import StandardScaler\n",
    "\n",
    "# importo los modelos a utilizar\n",
    "from sklearn.linear_model import LinearRegression\n",
    "from sklearn.ensemble import RandomForestRegressor\n",
    "from sklearn.ensemble import GradientBoostingRegressor\n",
    "from catboost import CatBoostRegressor\n",
    "from lightgbm import LGBMRegressor\n",
    "\n",
    "#importo las métricas para evaluar los modelos \n",
    "from sklearn.metrics import mean_squared_error\n",
    "from sklearn.metrics import r2_score\n",
    "from sklearn.metrics import classification_report \n",
    "\n",
    "#importo time\n",
    "import time"
   ]
  },
  {
   "cell_type": "code",
   "execution_count": 2,
   "metadata": {},
   "outputs": [],
   "source": [
    "#uso pd.read_csv para cargar los datos\n",
    "df = pd.read_csv('/datasets/car_data.csv')"
   ]
  },
  {
   "cell_type": "markdown",
   "metadata": {},
   "source": [
    "### Exploración de datos"
   ]
  },
  {
   "cell_type": "code",
   "execution_count": 3,
   "metadata": {},
   "outputs": [
    {
     "name": "stdout",
     "output_type": "stream",
     "text": [
      "<class 'pandas.core.frame.DataFrame'>\n",
      "RangeIndex: 354369 entries, 0 to 354368\n",
      "Data columns (total 16 columns):\n",
      " #   Column             Non-Null Count   Dtype \n",
      "---  ------             --------------   ----- \n",
      " 0   DateCrawled        354369 non-null  object\n",
      " 1   Price              354369 non-null  int64 \n",
      " 2   VehicleType        316879 non-null  object\n",
      " 3   RegistrationYear   354369 non-null  int64 \n",
      " 4   Gearbox            334536 non-null  object\n",
      " 5   Power              354369 non-null  int64 \n",
      " 6   Model              334664 non-null  object\n",
      " 7   Mileage            354369 non-null  int64 \n",
      " 8   RegistrationMonth  354369 non-null  int64 \n",
      " 9   FuelType           321474 non-null  object\n",
      " 10  Brand              354369 non-null  object\n",
      " 11  NotRepaired        283215 non-null  object\n",
      " 12  DateCreated        354369 non-null  object\n",
      " 13  NumberOfPictures   354369 non-null  int64 \n",
      " 14  PostalCode         354369 non-null  int64 \n",
      " 15  LastSeen           354369 non-null  object\n",
      "dtypes: int64(7), object(9)\n",
      "memory usage: 43.3+ MB\n"
     ]
    }
   ],
   "source": [
    "# uso info para explorar los datos\n",
    "df.info()"
   ]
  },
  {
   "cell_type": "markdown",
   "metadata": {},
   "source": [
    "**Observacion:** Existen columnas con valores ausentes como. `VehicleType`,  `Model`, `FuelType`, `NotRepaired`"
   ]
  },
  {
   "cell_type": "code",
   "execution_count": 4,
   "metadata": {
    "scrolled": true
   },
   "outputs": [
    {
     "data": {
      "text/html": [
       "<div>\n",
       "<style scoped>\n",
       "    .dataframe tbody tr th:only-of-type {\n",
       "        vertical-align: middle;\n",
       "    }\n",
       "\n",
       "    .dataframe tbody tr th {\n",
       "        vertical-align: top;\n",
       "    }\n",
       "\n",
       "    .dataframe thead th {\n",
       "        text-align: right;\n",
       "    }\n",
       "</style>\n",
       "<table border=\"1\" class=\"dataframe\">\n",
       "  <thead>\n",
       "    <tr style=\"text-align: right;\">\n",
       "      <th></th>\n",
       "      <th>DateCrawled</th>\n",
       "      <th>Price</th>\n",
       "      <th>VehicleType</th>\n",
       "      <th>RegistrationYear</th>\n",
       "      <th>Gearbox</th>\n",
       "      <th>Power</th>\n",
       "      <th>Model</th>\n",
       "      <th>Mileage</th>\n",
       "      <th>RegistrationMonth</th>\n",
       "      <th>FuelType</th>\n",
       "      <th>Brand</th>\n",
       "      <th>NotRepaired</th>\n",
       "      <th>DateCreated</th>\n",
       "      <th>NumberOfPictures</th>\n",
       "      <th>PostalCode</th>\n",
       "      <th>LastSeen</th>\n",
       "    </tr>\n",
       "  </thead>\n",
       "  <tbody>\n",
       "    <tr>\n",
       "      <th>0</th>\n",
       "      <td>24/03/2016 11:52</td>\n",
       "      <td>480</td>\n",
       "      <td>NaN</td>\n",
       "      <td>1993</td>\n",
       "      <td>manual</td>\n",
       "      <td>0</td>\n",
       "      <td>golf</td>\n",
       "      <td>150000</td>\n",
       "      <td>0</td>\n",
       "      <td>petrol</td>\n",
       "      <td>volkswagen</td>\n",
       "      <td>NaN</td>\n",
       "      <td>24/03/2016 00:00</td>\n",
       "      <td>0</td>\n",
       "      <td>70435</td>\n",
       "      <td>07/04/2016 03:16</td>\n",
       "    </tr>\n",
       "    <tr>\n",
       "      <th>1</th>\n",
       "      <td>24/03/2016 10:58</td>\n",
       "      <td>18300</td>\n",
       "      <td>coupe</td>\n",
       "      <td>2011</td>\n",
       "      <td>manual</td>\n",
       "      <td>190</td>\n",
       "      <td>NaN</td>\n",
       "      <td>125000</td>\n",
       "      <td>5</td>\n",
       "      <td>gasoline</td>\n",
       "      <td>audi</td>\n",
       "      <td>yes</td>\n",
       "      <td>24/03/2016 00:00</td>\n",
       "      <td>0</td>\n",
       "      <td>66954</td>\n",
       "      <td>07/04/2016 01:46</td>\n",
       "    </tr>\n",
       "    <tr>\n",
       "      <th>2</th>\n",
       "      <td>14/03/2016 12:52</td>\n",
       "      <td>9800</td>\n",
       "      <td>suv</td>\n",
       "      <td>2004</td>\n",
       "      <td>auto</td>\n",
       "      <td>163</td>\n",
       "      <td>grand</td>\n",
       "      <td>125000</td>\n",
       "      <td>8</td>\n",
       "      <td>gasoline</td>\n",
       "      <td>jeep</td>\n",
       "      <td>NaN</td>\n",
       "      <td>14/03/2016 00:00</td>\n",
       "      <td>0</td>\n",
       "      <td>90480</td>\n",
       "      <td>05/04/2016 12:47</td>\n",
       "    </tr>\n",
       "    <tr>\n",
       "      <th>3</th>\n",
       "      <td>17/03/2016 16:54</td>\n",
       "      <td>1500</td>\n",
       "      <td>small</td>\n",
       "      <td>2001</td>\n",
       "      <td>manual</td>\n",
       "      <td>75</td>\n",
       "      <td>golf</td>\n",
       "      <td>150000</td>\n",
       "      <td>6</td>\n",
       "      <td>petrol</td>\n",
       "      <td>volkswagen</td>\n",
       "      <td>no</td>\n",
       "      <td>17/03/2016 00:00</td>\n",
       "      <td>0</td>\n",
       "      <td>91074</td>\n",
       "      <td>17/03/2016 17:40</td>\n",
       "    </tr>\n",
       "    <tr>\n",
       "      <th>4</th>\n",
       "      <td>31/03/2016 17:25</td>\n",
       "      <td>3600</td>\n",
       "      <td>small</td>\n",
       "      <td>2008</td>\n",
       "      <td>manual</td>\n",
       "      <td>69</td>\n",
       "      <td>fabia</td>\n",
       "      <td>90000</td>\n",
       "      <td>7</td>\n",
       "      <td>gasoline</td>\n",
       "      <td>skoda</td>\n",
       "      <td>no</td>\n",
       "      <td>31/03/2016 00:00</td>\n",
       "      <td>0</td>\n",
       "      <td>60437</td>\n",
       "      <td>06/04/2016 10:17</td>\n",
       "    </tr>\n",
       "  </tbody>\n",
       "</table>\n",
       "</div>"
      ],
      "text/plain": [
       "        DateCrawled  Price VehicleType  RegistrationYear Gearbox  Power  \\\n",
       "0  24/03/2016 11:52    480         NaN              1993  manual      0   \n",
       "1  24/03/2016 10:58  18300       coupe              2011  manual    190   \n",
       "2  14/03/2016 12:52   9800         suv              2004    auto    163   \n",
       "3  17/03/2016 16:54   1500       small              2001  manual     75   \n",
       "4  31/03/2016 17:25   3600       small              2008  manual     69   \n",
       "\n",
       "   Model  Mileage  RegistrationMonth  FuelType       Brand NotRepaired  \\\n",
       "0   golf   150000                  0    petrol  volkswagen         NaN   \n",
       "1    NaN   125000                  5  gasoline        audi         yes   \n",
       "2  grand   125000                  8  gasoline        jeep         NaN   \n",
       "3   golf   150000                  6    petrol  volkswagen          no   \n",
       "4  fabia    90000                  7  gasoline       skoda          no   \n",
       "\n",
       "        DateCreated  NumberOfPictures  PostalCode          LastSeen  \n",
       "0  24/03/2016 00:00                 0       70435  07/04/2016 03:16  \n",
       "1  24/03/2016 00:00                 0       66954  07/04/2016 01:46  \n",
       "2  14/03/2016 00:00                 0       90480  05/04/2016 12:47  \n",
       "3  17/03/2016 00:00                 0       91074  17/03/2016 17:40  \n",
       "4  31/03/2016 00:00                 0       60437  06/04/2016 10:17  "
      ]
     },
     "execution_count": 4,
     "metadata": {},
     "output_type": "execute_result"
    }
   ],
   "source": [
    "# uso head para visualizar los datos \n",
    "df.head()"
   ]
  },
  {
   "cell_type": "code",
   "execution_count": 5,
   "metadata": {
    "scrolled": true
   },
   "outputs": [
    {
     "data": {
      "text/plain": [
       "DateCrawled              0\n",
       "Price                    0\n",
       "VehicleType          37490\n",
       "RegistrationYear         0\n",
       "Gearbox              19833\n",
       "Power                    0\n",
       "Model                19705\n",
       "Mileage                  0\n",
       "RegistrationMonth        0\n",
       "FuelType             32895\n",
       "Brand                    0\n",
       "NotRepaired          71154\n",
       "DateCreated              0\n",
       "NumberOfPictures         0\n",
       "PostalCode               0\n",
       "LastSeen                 0\n",
       "dtype: int64"
      ]
     },
     "execution_count": 5,
     "metadata": {},
     "output_type": "execute_result"
    }
   ],
   "source": [
    "# examino los valores ausentes\n",
    "df.isna().sum()"
   ]
  },
  {
   "cell_type": "markdown",
   "metadata": {},
   "source": [
    "**Observación:**\n",
    "\n",
    "**Las columnas `VehicleType`, `Gearbox`, `Model`, `FuelType` y `NotRepaired` contienen valores ausentes**, se eliminarán de los datos ya que estos pueden afectar la precisión del modelo. "
   ]
  },
  {
   "cell_type": "code",
   "execution_count": 6,
   "metadata": {},
   "outputs": [],
   "source": [
    "# uso dropna junto con inplace para eliminar los datos con valores ausentes\n",
    "df.dropna(inplace=True)"
   ]
  },
  {
   "cell_type": "code",
   "execution_count": 7,
   "metadata": {},
   "outputs": [
    {
     "data": {
      "text/plain": [
       "DateCrawled          0\n",
       "Price                0\n",
       "VehicleType          0\n",
       "RegistrationYear     0\n",
       "Gearbox              0\n",
       "Power                0\n",
       "Model                0\n",
       "Mileage              0\n",
       "RegistrationMonth    0\n",
       "FuelType             0\n",
       "Brand                0\n",
       "NotRepaired          0\n",
       "DateCreated          0\n",
       "NumberOfPictures     0\n",
       "PostalCode           0\n",
       "LastSeen             0\n",
       "dtype: int64"
      ]
     },
     "execution_count": 7,
     "metadata": {},
     "output_type": "execute_result"
    }
   ],
   "source": [
    "# verifico que ya no hay valores ausentes\n",
    "df.isna().sum()"
   ]
  },
  {
   "cell_type": "code",
   "execution_count": 8,
   "metadata": {},
   "outputs": [
    {
     "data": {
      "text/plain": [
       "247"
      ]
     },
     "execution_count": 8,
     "metadata": {},
     "output_type": "execute_result"
    }
   ],
   "source": [
    "# verifico si hay valores duplicados\n",
    "df.duplicated().sum()"
   ]
  },
  {
   "cell_type": "code",
   "execution_count": 9,
   "metadata": {},
   "outputs": [],
   "source": [
    "# elimino los datos duplicados del modelo con el uso de drop_duplicates\n",
    "df.drop_duplicates(inplace=True)"
   ]
  },
  {
   "cell_type": "code",
   "execution_count": 10,
   "metadata": {},
   "outputs": [
    {
     "data": {
      "text/plain": [
       "0"
      ]
     },
     "execution_count": 10,
     "metadata": {},
     "output_type": "execute_result"
    }
   ],
   "source": [
    "# reviso que ya no existan duplicados\n",
    "df.duplicated().sum()"
   ]
  },
  {
   "cell_type": "code",
   "execution_count": 11,
   "metadata": {},
   "outputs": [
    {
     "name": "stdout",
     "output_type": "stream",
     "text": [
      "<class 'pandas.core.frame.DataFrame'>\n",
      "Int64Index: 245567 entries, 3 to 354367\n",
      "Data columns (total 16 columns):\n",
      " #   Column             Non-Null Count   Dtype \n",
      "---  ------             --------------   ----- \n",
      " 0   DateCrawled        245567 non-null  object\n",
      " 1   Price              245567 non-null  int64 \n",
      " 2   VehicleType        245567 non-null  object\n",
      " 3   RegistrationYear   245567 non-null  int64 \n",
      " 4   Gearbox            245567 non-null  object\n",
      " 5   Power              245567 non-null  int64 \n",
      " 6   Model              245567 non-null  object\n",
      " 7   Mileage            245567 non-null  int64 \n",
      " 8   RegistrationMonth  245567 non-null  int64 \n",
      " 9   FuelType           245567 non-null  object\n",
      " 10  Brand              245567 non-null  object\n",
      " 11  NotRepaired        245567 non-null  object\n",
      " 12  DateCreated        245567 non-null  object\n",
      " 13  NumberOfPictures   245567 non-null  int64 \n",
      " 14  PostalCode         245567 non-null  int64 \n",
      " 15  LastSeen           245567 non-null  object\n",
      "dtypes: int64(7), object(9)\n",
      "memory usage: 31.8+ MB\n"
     ]
    }
   ],
   "source": [
    "df.info()"
   ]
  },
  {
   "cell_type": "code",
   "execution_count": 12,
   "metadata": {},
   "outputs": [
    {
     "data": {
      "text/html": [
       "<div>\n",
       "<style scoped>\n",
       "    .dataframe tbody tr th:only-of-type {\n",
       "        vertical-align: middle;\n",
       "    }\n",
       "\n",
       "    .dataframe tbody tr th {\n",
       "        vertical-align: top;\n",
       "    }\n",
       "\n",
       "    .dataframe thead th {\n",
       "        text-align: right;\n",
       "    }\n",
       "</style>\n",
       "<table border=\"1\" class=\"dataframe\">\n",
       "  <thead>\n",
       "    <tr style=\"text-align: right;\">\n",
       "      <th></th>\n",
       "      <th>Price</th>\n",
       "      <th>VehicleType</th>\n",
       "      <th>RegistrationYear</th>\n",
       "      <th>Gearbox</th>\n",
       "      <th>Power</th>\n",
       "      <th>Model</th>\n",
       "      <th>Mileage</th>\n",
       "      <th>FuelType</th>\n",
       "      <th>Brand</th>\n",
       "      <th>NotRepaired</th>\n",
       "    </tr>\n",
       "  </thead>\n",
       "  <tbody>\n",
       "    <tr>\n",
       "      <th>3</th>\n",
       "      <td>1500</td>\n",
       "      <td>small</td>\n",
       "      <td>2001</td>\n",
       "      <td>manual</td>\n",
       "      <td>75</td>\n",
       "      <td>golf</td>\n",
       "      <td>150000</td>\n",
       "      <td>petrol</td>\n",
       "      <td>volkswagen</td>\n",
       "      <td>no</td>\n",
       "    </tr>\n",
       "    <tr>\n",
       "      <th>4</th>\n",
       "      <td>3600</td>\n",
       "      <td>small</td>\n",
       "      <td>2008</td>\n",
       "      <td>manual</td>\n",
       "      <td>69</td>\n",
       "      <td>fabia</td>\n",
       "      <td>90000</td>\n",
       "      <td>gasoline</td>\n",
       "      <td>skoda</td>\n",
       "      <td>no</td>\n",
       "    </tr>\n",
       "    <tr>\n",
       "      <th>5</th>\n",
       "      <td>650</td>\n",
       "      <td>sedan</td>\n",
       "      <td>1995</td>\n",
       "      <td>manual</td>\n",
       "      <td>102</td>\n",
       "      <td>3er</td>\n",
       "      <td>150000</td>\n",
       "      <td>petrol</td>\n",
       "      <td>bmw</td>\n",
       "      <td>yes</td>\n",
       "    </tr>\n",
       "    <tr>\n",
       "      <th>6</th>\n",
       "      <td>2200</td>\n",
       "      <td>convertible</td>\n",
       "      <td>2004</td>\n",
       "      <td>manual</td>\n",
       "      <td>109</td>\n",
       "      <td>2_reihe</td>\n",
       "      <td>150000</td>\n",
       "      <td>petrol</td>\n",
       "      <td>peugeot</td>\n",
       "      <td>no</td>\n",
       "    </tr>\n",
       "    <tr>\n",
       "      <th>7</th>\n",
       "      <td>0</td>\n",
       "      <td>sedan</td>\n",
       "      <td>1980</td>\n",
       "      <td>manual</td>\n",
       "      <td>50</td>\n",
       "      <td>other</td>\n",
       "      <td>40000</td>\n",
       "      <td>petrol</td>\n",
       "      <td>volkswagen</td>\n",
       "      <td>no</td>\n",
       "    </tr>\n",
       "  </tbody>\n",
       "</table>\n",
       "</div>"
      ],
      "text/plain": [
       "   Price  VehicleType  RegistrationYear Gearbox  Power    Model  Mileage  \\\n",
       "3   1500        small              2001  manual     75     golf   150000   \n",
       "4   3600        small              2008  manual     69    fabia    90000   \n",
       "5    650        sedan              1995  manual    102      3er   150000   \n",
       "6   2200  convertible              2004  manual    109  2_reihe   150000   \n",
       "7      0        sedan              1980  manual     50    other    40000   \n",
       "\n",
       "   FuelType       Brand NotRepaired  \n",
       "3    petrol  volkswagen          no  \n",
       "4  gasoline       skoda          no  \n",
       "5    petrol         bmw         yes  \n",
       "6    petrol     peugeot          no  \n",
       "7    petrol  volkswagen          no  "
      ]
     },
     "execution_count": 12,
     "metadata": {},
     "output_type": "execute_result"
    }
   ],
   "source": [
    "# elimino las columnas no necesarias para determinar el precio\n",
    "df = df.drop(['DateCrawled','RegistrationMonth', 'DateCreated', 'NumberOfPictures', 'PostalCode', 'LastSeen'], axis = 1)\n",
    "df.head()"
   ]
  },
  {
   "cell_type": "code",
   "execution_count": 13,
   "metadata": {},
   "outputs": [
    {
     "data": {
      "text/html": [
       "<div>\n",
       "<style scoped>\n",
       "    .dataframe tbody tr th:only-of-type {\n",
       "        vertical-align: middle;\n",
       "    }\n",
       "\n",
       "    .dataframe tbody tr th {\n",
       "        vertical-align: top;\n",
       "    }\n",
       "\n",
       "    .dataframe thead th {\n",
       "        text-align: right;\n",
       "    }\n",
       "</style>\n",
       "<table border=\"1\" class=\"dataframe\">\n",
       "  <thead>\n",
       "    <tr style=\"text-align: right;\">\n",
       "      <th></th>\n",
       "      <th>Price</th>\n",
       "      <th>RegistrationYear</th>\n",
       "      <th>Power</th>\n",
       "      <th>Mileage</th>\n",
       "    </tr>\n",
       "  </thead>\n",
       "  <tbody>\n",
       "    <tr>\n",
       "      <th>count</th>\n",
       "      <td>245567.000000</td>\n",
       "      <td>245567.000000</td>\n",
       "      <td>245567.000000</td>\n",
       "      <td>245567.000000</td>\n",
       "    </tr>\n",
       "    <tr>\n",
       "      <th>mean</th>\n",
       "      <td>5125.680959</td>\n",
       "      <td>2002.918287</td>\n",
       "      <td>119.971796</td>\n",
       "      <td>127297.112397</td>\n",
       "    </tr>\n",
       "    <tr>\n",
       "      <th>std</th>\n",
       "      <td>4718.468928</td>\n",
       "      <td>6.164689</td>\n",
       "      <td>139.448062</td>\n",
       "      <td>37079.536493</td>\n",
       "    </tr>\n",
       "    <tr>\n",
       "      <th>min</th>\n",
       "      <td>0.000000</td>\n",
       "      <td>1910.000000</td>\n",
       "      <td>0.000000</td>\n",
       "      <td>5000.000000</td>\n",
       "    </tr>\n",
       "    <tr>\n",
       "      <th>25%</th>\n",
       "      <td>1499.000000</td>\n",
       "      <td>1999.000000</td>\n",
       "      <td>75.000000</td>\n",
       "      <td>125000.000000</td>\n",
       "    </tr>\n",
       "    <tr>\n",
       "      <th>50%</th>\n",
       "      <td>3500.000000</td>\n",
       "      <td>2003.000000</td>\n",
       "      <td>110.000000</td>\n",
       "      <td>150000.000000</td>\n",
       "    </tr>\n",
       "    <tr>\n",
       "      <th>75%</th>\n",
       "      <td>7500.000000</td>\n",
       "      <td>2007.000000</td>\n",
       "      <td>150.000000</td>\n",
       "      <td>150000.000000</td>\n",
       "    </tr>\n",
       "    <tr>\n",
       "      <th>max</th>\n",
       "      <td>20000.000000</td>\n",
       "      <td>2018.000000</td>\n",
       "      <td>20000.000000</td>\n",
       "      <td>150000.000000</td>\n",
       "    </tr>\n",
       "  </tbody>\n",
       "</table>\n",
       "</div>"
      ],
      "text/plain": [
       "               Price  RegistrationYear          Power        Mileage\n",
       "count  245567.000000     245567.000000  245567.000000  245567.000000\n",
       "mean     5125.680959       2002.918287     119.971796  127297.112397\n",
       "std      4718.468928          6.164689     139.448062   37079.536493\n",
       "min         0.000000       1910.000000       0.000000    5000.000000\n",
       "25%      1499.000000       1999.000000      75.000000  125000.000000\n",
       "50%      3500.000000       2003.000000     110.000000  150000.000000\n",
       "75%      7500.000000       2007.000000     150.000000  150000.000000\n",
       "max     20000.000000       2018.000000   20000.000000  150000.000000"
      ]
     },
     "execution_count": 13,
     "metadata": {},
     "output_type": "execute_result"
    }
   ],
   "source": [
    "# uso describe para evaluar valores atípicos en los datos\n",
    "df.describe()"
   ]
  },
  {
   "cell_type": "markdown",
   "metadata": {},
   "source": [
    "<div class=\"alert alert-block alert-success\">\n",
    "<b>Comentario de Reviewer</b> <a class=\"tocSkip\"></a>\n",
    "\n",
    "Ok, muy bien hasta aquí\n",
    "</div>"
   ]
  },
  {
   "cell_type": "markdown",
   "metadata": {},
   "source": [
    "**Observación valores atípicos:**\n",
    "\n",
    "**Tanto `Price` como `Power` tienen valores mínimos en 0** esto puede indicar datos que no fueron registrados debidamente y que afectaran la calidad de las predicciones. "
   ]
  },
  {
   "cell_type": "code",
   "execution_count": 14,
   "metadata": {},
   "outputs": [
    {
     "name": "stdout",
     "output_type": "stream",
     "text": [
      "Price = 0: (3386, 10)\n",
      "Power = 0: (9611, 10)\n"
     ]
    }
   ],
   "source": [
    "# imprimo los valores que tengan power o price iguales a 0\n",
    "print('Price = 0:', df[df['Price']==0].shape)\n",
    "print('Power = 0:',df[df['Power']==0].shape)"
   ]
  },
  {
   "cell_type": "markdown",
   "metadata": {},
   "source": [
    "<div class=\"alert alert-block alert-success\">\n",
    "<b>Comentario de Reviewer</b> <a class=\"tocSkip\"></a>\n",
    "\n",
    "Correcto, estos son valores atípicos\n",
    "</div>"
   ]
  },
  {
   "cell_type": "code",
   "execution_count": 15,
   "metadata": {},
   "outputs": [],
   "source": [
    "# elimino todos los registros donde price o power es 0\n",
    "\n",
    "df = df[df['Price']!=0].reset_index(drop=True)\n",
    "df = df[df['Power']!=0].reset_index(drop=True)"
   ]
  },
  {
   "cell_type": "code",
   "execution_count": 16,
   "metadata": {
    "scrolled": true
   },
   "outputs": [
    {
     "data": {
      "text/html": [
       "<div>\n",
       "<style scoped>\n",
       "    .dataframe tbody tr th:only-of-type {\n",
       "        vertical-align: middle;\n",
       "    }\n",
       "\n",
       "    .dataframe tbody tr th {\n",
       "        vertical-align: top;\n",
       "    }\n",
       "\n",
       "    .dataframe thead th {\n",
       "        text-align: right;\n",
       "    }\n",
       "</style>\n",
       "<table border=\"1\" class=\"dataframe\">\n",
       "  <thead>\n",
       "    <tr style=\"text-align: right;\">\n",
       "      <th></th>\n",
       "      <th>Price</th>\n",
       "      <th>VehicleType</th>\n",
       "      <th>RegistrationYear</th>\n",
       "      <th>Gearbox</th>\n",
       "      <th>Power</th>\n",
       "      <th>Model</th>\n",
       "      <th>Mileage</th>\n",
       "      <th>FuelType</th>\n",
       "      <th>Brand</th>\n",
       "      <th>NotRepaired</th>\n",
       "    </tr>\n",
       "  </thead>\n",
       "  <tbody>\n",
       "    <tr>\n",
       "      <th>0</th>\n",
       "      <td>1500</td>\n",
       "      <td>small</td>\n",
       "      <td>2001</td>\n",
       "      <td>manual</td>\n",
       "      <td>75</td>\n",
       "      <td>golf</td>\n",
       "      <td>150000</td>\n",
       "      <td>petrol</td>\n",
       "      <td>volkswagen</td>\n",
       "      <td>no</td>\n",
       "    </tr>\n",
       "    <tr>\n",
       "      <th>1</th>\n",
       "      <td>3600</td>\n",
       "      <td>small</td>\n",
       "      <td>2008</td>\n",
       "      <td>manual</td>\n",
       "      <td>69</td>\n",
       "      <td>fabia</td>\n",
       "      <td>90000</td>\n",
       "      <td>gasoline</td>\n",
       "      <td>skoda</td>\n",
       "      <td>no</td>\n",
       "    </tr>\n",
       "    <tr>\n",
       "      <th>2</th>\n",
       "      <td>650</td>\n",
       "      <td>sedan</td>\n",
       "      <td>1995</td>\n",
       "      <td>manual</td>\n",
       "      <td>102</td>\n",
       "      <td>3er</td>\n",
       "      <td>150000</td>\n",
       "      <td>petrol</td>\n",
       "      <td>bmw</td>\n",
       "      <td>yes</td>\n",
       "    </tr>\n",
       "    <tr>\n",
       "      <th>3</th>\n",
       "      <td>2200</td>\n",
       "      <td>convertible</td>\n",
       "      <td>2004</td>\n",
       "      <td>manual</td>\n",
       "      <td>109</td>\n",
       "      <td>2_reihe</td>\n",
       "      <td>150000</td>\n",
       "      <td>petrol</td>\n",
       "      <td>peugeot</td>\n",
       "      <td>no</td>\n",
       "    </tr>\n",
       "    <tr>\n",
       "      <th>4</th>\n",
       "      <td>2000</td>\n",
       "      <td>sedan</td>\n",
       "      <td>2004</td>\n",
       "      <td>manual</td>\n",
       "      <td>105</td>\n",
       "      <td>3_reihe</td>\n",
       "      <td>150000</td>\n",
       "      <td>petrol</td>\n",
       "      <td>mazda</td>\n",
       "      <td>no</td>\n",
       "    </tr>\n",
       "    <tr>\n",
       "      <th>5</th>\n",
       "      <td>2799</td>\n",
       "      <td>wagon</td>\n",
       "      <td>2005</td>\n",
       "      <td>manual</td>\n",
       "      <td>140</td>\n",
       "      <td>passat</td>\n",
       "      <td>150000</td>\n",
       "      <td>gasoline</td>\n",
       "      <td>volkswagen</td>\n",
       "      <td>yes</td>\n",
       "    </tr>\n",
       "    <tr>\n",
       "      <th>6</th>\n",
       "      <td>17999</td>\n",
       "      <td>suv</td>\n",
       "      <td>2011</td>\n",
       "      <td>manual</td>\n",
       "      <td>190</td>\n",
       "      <td>navara</td>\n",
       "      <td>70000</td>\n",
       "      <td>gasoline</td>\n",
       "      <td>nissan</td>\n",
       "      <td>no</td>\n",
       "    </tr>\n",
       "    <tr>\n",
       "      <th>7</th>\n",
       "      <td>1750</td>\n",
       "      <td>small</td>\n",
       "      <td>2004</td>\n",
       "      <td>auto</td>\n",
       "      <td>75</td>\n",
       "      <td>twingo</td>\n",
       "      <td>150000</td>\n",
       "      <td>petrol</td>\n",
       "      <td>renault</td>\n",
       "      <td>no</td>\n",
       "    </tr>\n",
       "    <tr>\n",
       "      <th>8</th>\n",
       "      <td>7550</td>\n",
       "      <td>bus</td>\n",
       "      <td>2007</td>\n",
       "      <td>manual</td>\n",
       "      <td>136</td>\n",
       "      <td>c_max</td>\n",
       "      <td>150000</td>\n",
       "      <td>gasoline</td>\n",
       "      <td>ford</td>\n",
       "      <td>no</td>\n",
       "    </tr>\n",
       "    <tr>\n",
       "      <th>9</th>\n",
       "      <td>1850</td>\n",
       "      <td>bus</td>\n",
       "      <td>2004</td>\n",
       "      <td>manual</td>\n",
       "      <td>102</td>\n",
       "      <td>a_klasse</td>\n",
       "      <td>150000</td>\n",
       "      <td>petrol</td>\n",
       "      <td>mercedes_benz</td>\n",
       "      <td>no</td>\n",
       "    </tr>\n",
       "  </tbody>\n",
       "</table>\n",
       "</div>"
      ],
      "text/plain": [
       "   Price  VehicleType  RegistrationYear Gearbox  Power     Model  Mileage  \\\n",
       "0   1500        small              2001  manual     75      golf   150000   \n",
       "1   3600        small              2008  manual     69     fabia    90000   \n",
       "2    650        sedan              1995  manual    102       3er   150000   \n",
       "3   2200  convertible              2004  manual    109   2_reihe   150000   \n",
       "4   2000        sedan              2004  manual    105   3_reihe   150000   \n",
       "5   2799        wagon              2005  manual    140    passat   150000   \n",
       "6  17999          suv              2011  manual    190    navara    70000   \n",
       "7   1750        small              2004    auto     75    twingo   150000   \n",
       "8   7550          bus              2007  manual    136     c_max   150000   \n",
       "9   1850          bus              2004  manual    102  a_klasse   150000   \n",
       "\n",
       "   FuelType          Brand NotRepaired  \n",
       "0    petrol     volkswagen          no  \n",
       "1  gasoline          skoda          no  \n",
       "2    petrol            bmw         yes  \n",
       "3    petrol        peugeot          no  \n",
       "4    petrol          mazda          no  \n",
       "5  gasoline     volkswagen         yes  \n",
       "6  gasoline         nissan          no  \n",
       "7    petrol        renault          no  \n",
       "8  gasoline           ford          no  \n",
       "9    petrol  mercedes_benz          no  "
      ]
     },
     "execution_count": 16,
     "metadata": {},
     "output_type": "execute_result"
    }
   ],
   "source": [
    "df.head(10)"
   ]
  },
  {
   "cell_type": "code",
   "execution_count": 17,
   "metadata": {
    "scrolled": true
   },
   "outputs": [
    {
     "data": {
      "text/html": [
       "<div>\n",
       "<style scoped>\n",
       "    .dataframe tbody tr th:only-of-type {\n",
       "        vertical-align: middle;\n",
       "    }\n",
       "\n",
       "    .dataframe tbody tr th {\n",
       "        vertical-align: top;\n",
       "    }\n",
       "\n",
       "    .dataframe thead th {\n",
       "        text-align: right;\n",
       "    }\n",
       "</style>\n",
       "<table border=\"1\" class=\"dataframe\">\n",
       "  <thead>\n",
       "    <tr style=\"text-align: right;\">\n",
       "      <th></th>\n",
       "      <th>Price</th>\n",
       "      <th>RegistrationYear</th>\n",
       "      <th>Power</th>\n",
       "      <th>Mileage</th>\n",
       "    </tr>\n",
       "  </thead>\n",
       "  <tbody>\n",
       "    <tr>\n",
       "      <th>count</th>\n",
       "      <td>233029.000000</td>\n",
       "      <td>233029.000000</td>\n",
       "      <td>233029.000000</td>\n",
       "      <td>233029.000000</td>\n",
       "    </tr>\n",
       "    <tr>\n",
       "      <th>mean</th>\n",
       "      <td>5291.863219</td>\n",
       "      <td>2003.088148</td>\n",
       "      <td>124.824739</td>\n",
       "      <td>127018.568504</td>\n",
       "    </tr>\n",
       "    <tr>\n",
       "      <th>std</th>\n",
       "      <td>4729.981297</td>\n",
       "      <td>6.082840</td>\n",
       "      <td>137.559774</td>\n",
       "      <td>37079.072487</td>\n",
       "    </tr>\n",
       "    <tr>\n",
       "      <th>min</th>\n",
       "      <td>1.000000</td>\n",
       "      <td>1910.000000</td>\n",
       "      <td>1.000000</td>\n",
       "      <td>5000.000000</td>\n",
       "    </tr>\n",
       "    <tr>\n",
       "      <th>25%</th>\n",
       "      <td>1555.000000</td>\n",
       "      <td>1999.000000</td>\n",
       "      <td>82.000000</td>\n",
       "      <td>125000.000000</td>\n",
       "    </tr>\n",
       "    <tr>\n",
       "      <th>50%</th>\n",
       "      <td>3690.000000</td>\n",
       "      <td>2004.000000</td>\n",
       "      <td>116.000000</td>\n",
       "      <td>150000.000000</td>\n",
       "    </tr>\n",
       "    <tr>\n",
       "      <th>75%</th>\n",
       "      <td>7750.000000</td>\n",
       "      <td>2007.000000</td>\n",
       "      <td>150.000000</td>\n",
       "      <td>150000.000000</td>\n",
       "    </tr>\n",
       "    <tr>\n",
       "      <th>max</th>\n",
       "      <td>20000.000000</td>\n",
       "      <td>2018.000000</td>\n",
       "      <td>20000.000000</td>\n",
       "      <td>150000.000000</td>\n",
       "    </tr>\n",
       "  </tbody>\n",
       "</table>\n",
       "</div>"
      ],
      "text/plain": [
       "               Price  RegistrationYear          Power        Mileage\n",
       "count  233029.000000     233029.000000  233029.000000  233029.000000\n",
       "mean     5291.863219       2003.088148     124.824739  127018.568504\n",
       "std      4729.981297          6.082840     137.559774   37079.072487\n",
       "min         1.000000       1910.000000       1.000000    5000.000000\n",
       "25%      1555.000000       1999.000000      82.000000  125000.000000\n",
       "50%      3690.000000       2004.000000     116.000000  150000.000000\n",
       "75%      7750.000000       2007.000000     150.000000  150000.000000\n",
       "max     20000.000000       2018.000000   20000.000000  150000.000000"
      ]
     },
     "execution_count": 17,
     "metadata": {},
     "output_type": "execute_result"
    }
   ],
   "source": [
    "# uso describe para verificar los nuevos valores\n",
    "df.describe()"
   ]
  },
  {
   "cell_type": "markdown",
   "metadata": {},
   "source": [
    "**Observación General:**\n",
    "\n",
    "La tabla de características contiene 9 columnas:\n",
    "\n",
    "`VehicleType`, `RegistrationYear`, `Gearbox`, `Power`, `Model`, `FuelType` y `Brand` nos permiten conocer información sobre las características del vehículo. Adicional a esto las columnas `Mileage` y `NotRepaired` nos brindan información sobre la vida útil del vehículo y su expectativa de uso, de esta forma se podrá analizar los datos por marca, año y estado para encontrar patrones que determinen los precios.\n",
    "\n",
    "Por último `Price` nos permite conocer el precio de mercado en euros el cual será nuestro objetivo de análisis.\n",
    "\n",
    "- la tabla contiene información de 233,029 datos.\n",
    "- el promedio de precio es 5,292 €.\n",
    "- el promedio de kilometraje es de 127,000 km.\n",
    "- en promedio el año modelo es 2003. \n",
    "\n",
    "**Limpieza y procesamiento de datos:**\n",
    "\n",
    "-  Las columnas `VehicleType`, `Gearbox`, `Model`, `FuelType` y `NotRepaired` contenían valores ausentes, **se eliminaron para mejorar la calidad del modelo.**\n",
    "\n",
    "- Se encontraron **247 datos duplicados que corresponden al 0.09% los cuales fueron eliminados.**\n",
    "\n",
    "- Se encontraron valores **atípicos donde Price y Power eran 0**, estos se eliminaron de igual manera.\n"
   ]
  },
  {
   "cell_type": "markdown",
   "metadata": {},
   "source": [
    "<div class=\"alert alert-block alert-success\">\n",
    "<b>Comentario de Reviewer</b> <a class=\"tocSkip\"></a>\n",
    "\n",
    "Excelente, buen trabajo en esta primera parte.\n",
    "</div>"
   ]
  },
  {
   "cell_type": "markdown",
   "metadata": {},
   "source": [
    "### Codificación y estandarización de datos"
   ]
  },
  {
   "cell_type": "code",
   "execution_count": 18,
   "metadata": {},
   "outputs": [],
   "source": [
    "# uso get_dummies en gearbox para realizar codificación one-hot, uso drop_first = True\n",
    "# 0 para auto y 1 para manual\n",
    "\n",
    "df['Gearbox'] = pd.get_dummies(df['Gearbox'], drop_first=True)\n",
    "\n",
    "# uso get_dummies en NotRepaired para realizar codificación one-hot, uso drop_first = True\n",
    "# 0 para no y 1 para yes\n",
    "\n",
    "df['NotRepaired'] = pd.get_dummies(df['NotRepaired'], drop_first=True)"
   ]
  },
  {
   "cell_type": "code",
   "execution_count": 19,
   "metadata": {},
   "outputs": [],
   "source": [
    "#uso Lable enconder para transformar las comunas categorías a numéricas\n",
    "\n",
    "df['VehicleType'] = OrdinalEncoder().fit_transform(df[['VehicleType']])\n",
    "df['Model'] = OrdinalEncoder().fit_transform(df[['Model']])\n",
    "df['FuelType'] = OrdinalEncoder().fit_transform(df[['FuelType']])\n",
    "df['Brand'] = OrdinalEncoder().fit_transform(df[['Brand']])"
   ]
  },
  {
   "cell_type": "code",
   "execution_count": 20,
   "metadata": {},
   "outputs": [
    {
     "data": {
      "text/html": [
       "<div>\n",
       "<style scoped>\n",
       "    .dataframe tbody tr th:only-of-type {\n",
       "        vertical-align: middle;\n",
       "    }\n",
       "\n",
       "    .dataframe tbody tr th {\n",
       "        vertical-align: top;\n",
       "    }\n",
       "\n",
       "    .dataframe thead th {\n",
       "        text-align: right;\n",
       "    }\n",
       "</style>\n",
       "<table border=\"1\" class=\"dataframe\">\n",
       "  <thead>\n",
       "    <tr style=\"text-align: right;\">\n",
       "      <th></th>\n",
       "      <th>Price</th>\n",
       "      <th>VehicleType</th>\n",
       "      <th>RegistrationYear</th>\n",
       "      <th>Gearbox</th>\n",
       "      <th>Power</th>\n",
       "      <th>Model</th>\n",
       "      <th>Mileage</th>\n",
       "      <th>FuelType</th>\n",
       "      <th>Brand</th>\n",
       "      <th>NotRepaired</th>\n",
       "    </tr>\n",
       "  </thead>\n",
       "  <tbody>\n",
       "    <tr>\n",
       "      <th>0</th>\n",
       "      <td>1500</td>\n",
       "      <td>5.0</td>\n",
       "      <td>2001</td>\n",
       "      <td>1</td>\n",
       "      <td>75</td>\n",
       "      <td>116.0</td>\n",
       "      <td>150000</td>\n",
       "      <td>6.0</td>\n",
       "      <td>37.0</td>\n",
       "      <td>0</td>\n",
       "    </tr>\n",
       "    <tr>\n",
       "      <th>1</th>\n",
       "      <td>3600</td>\n",
       "      <td>5.0</td>\n",
       "      <td>2008</td>\n",
       "      <td>1</td>\n",
       "      <td>69</td>\n",
       "      <td>101.0</td>\n",
       "      <td>90000</td>\n",
       "      <td>2.0</td>\n",
       "      <td>31.0</td>\n",
       "      <td>0</td>\n",
       "    </tr>\n",
       "    <tr>\n",
       "      <th>2</th>\n",
       "      <td>650</td>\n",
       "      <td>4.0</td>\n",
       "      <td>1995</td>\n",
       "      <td>1</td>\n",
       "      <td>102</td>\n",
       "      <td>11.0</td>\n",
       "      <td>150000</td>\n",
       "      <td>6.0</td>\n",
       "      <td>2.0</td>\n",
       "      <td>1</td>\n",
       "    </tr>\n",
       "    <tr>\n",
       "      <th>3</th>\n",
       "      <td>2200</td>\n",
       "      <td>1.0</td>\n",
       "      <td>2004</td>\n",
       "      <td>1</td>\n",
       "      <td>109</td>\n",
       "      <td>8.0</td>\n",
       "      <td>150000</td>\n",
       "      <td>6.0</td>\n",
       "      <td>25.0</td>\n",
       "      <td>0</td>\n",
       "    </tr>\n",
       "    <tr>\n",
       "      <th>4</th>\n",
       "      <td>2000</td>\n",
       "      <td>4.0</td>\n",
       "      <td>2004</td>\n",
       "      <td>1</td>\n",
       "      <td>105</td>\n",
       "      <td>10.0</td>\n",
       "      <td>150000</td>\n",
       "      <td>6.0</td>\n",
       "      <td>19.0</td>\n",
       "      <td>0</td>\n",
       "    </tr>\n",
       "    <tr>\n",
       "      <th>5</th>\n",
       "      <td>2799</td>\n",
       "      <td>7.0</td>\n",
       "      <td>2005</td>\n",
       "      <td>1</td>\n",
       "      <td>140</td>\n",
       "      <td>170.0</td>\n",
       "      <td>150000</td>\n",
       "      <td>2.0</td>\n",
       "      <td>37.0</td>\n",
       "      <td>1</td>\n",
       "    </tr>\n",
       "    <tr>\n",
       "      <th>6</th>\n",
       "      <td>17999</td>\n",
       "      <td>6.0</td>\n",
       "      <td>2011</td>\n",
       "      <td>1</td>\n",
       "      <td>190</td>\n",
       "      <td>159.0</td>\n",
       "      <td>70000</td>\n",
       "      <td>2.0</td>\n",
       "      <td>23.0</td>\n",
       "      <td>0</td>\n",
       "    </tr>\n",
       "    <tr>\n",
       "      <th>7</th>\n",
       "      <td>1750</td>\n",
       "      <td>5.0</td>\n",
       "      <td>2004</td>\n",
       "      <td>0</td>\n",
       "      <td>75</td>\n",
       "      <td>226.0</td>\n",
       "      <td>150000</td>\n",
       "      <td>6.0</td>\n",
       "      <td>27.0</td>\n",
       "      <td>0</td>\n",
       "    </tr>\n",
       "    <tr>\n",
       "      <th>8</th>\n",
       "      <td>7550</td>\n",
       "      <td>0.0</td>\n",
       "      <td>2007</td>\n",
       "      <td>1</td>\n",
       "      <td>136</td>\n",
       "      <td>60.0</td>\n",
       "      <td>150000</td>\n",
       "      <td>2.0</td>\n",
       "      <td>10.0</td>\n",
       "      <td>0</td>\n",
       "    </tr>\n",
       "    <tr>\n",
       "      <th>9</th>\n",
       "      <td>1850</td>\n",
       "      <td>0.0</td>\n",
       "      <td>2004</td>\n",
       "      <td>1</td>\n",
       "      <td>102</td>\n",
       "      <td>33.0</td>\n",
       "      <td>150000</td>\n",
       "      <td>6.0</td>\n",
       "      <td>20.0</td>\n",
       "      <td>0</td>\n",
       "    </tr>\n",
       "  </tbody>\n",
       "</table>\n",
       "</div>"
      ],
      "text/plain": [
       "   Price  VehicleType  RegistrationYear  Gearbox  Power  Model  Mileage  \\\n",
       "0   1500          5.0              2001        1     75  116.0   150000   \n",
       "1   3600          5.0              2008        1     69  101.0    90000   \n",
       "2    650          4.0              1995        1    102   11.0   150000   \n",
       "3   2200          1.0              2004        1    109    8.0   150000   \n",
       "4   2000          4.0              2004        1    105   10.0   150000   \n",
       "5   2799          7.0              2005        1    140  170.0   150000   \n",
       "6  17999          6.0              2011        1    190  159.0    70000   \n",
       "7   1750          5.0              2004        0     75  226.0   150000   \n",
       "8   7550          0.0              2007        1    136   60.0   150000   \n",
       "9   1850          0.0              2004        1    102   33.0   150000   \n",
       "\n",
       "   FuelType  Brand  NotRepaired  \n",
       "0       6.0   37.0            0  \n",
       "1       2.0   31.0            0  \n",
       "2       6.0    2.0            1  \n",
       "3       6.0   25.0            0  \n",
       "4       6.0   19.0            0  \n",
       "5       2.0   37.0            1  \n",
       "6       2.0   23.0            0  \n",
       "7       6.0   27.0            0  \n",
       "8       2.0   10.0            0  \n",
       "9       6.0   20.0            0  "
      ]
     },
     "execution_count": 20,
     "metadata": {},
     "output_type": "execute_result"
    }
   ],
   "source": [
    "# verifico que la codificacion y estiquetado sea correcto\n",
    "df.head(10)"
   ]
  },
  {
   "cell_type": "markdown",
   "metadata": {},
   "source": [
    "**Observación:**\n",
    "\n",
    "- Se utilizó **codificación one-hot** en las columnas **`Gearbox` y `NotRepaired`** para poder analizarlas correctamente.\n",
    "\n",
    "- De igual manera **se utilizó etiquetado de datos con OrdinalEncoder()** en las columnas `VehicleType`, `Model`, `FuelType`, `Brand`\n"
   ]
  },
  {
   "cell_type": "markdown",
   "metadata": {},
   "source": [
    "<div class=\"alert alert-block alert-success\">\n",
    "<b>Comentario de Reviewer</b> <a class=\"tocSkip\"></a>\n",
    "\n",
    "Muy bien, correcto. Ojo con OrdinalEncoder, a veces puede generar aprendizajes indeaseados en los modelos (en las clases que no hay un orden inherente, el modelo podría aprender que un valor categórico es \"más grande\" que otro, lo que no tiene sentido), pero en este caso, son pocos los valores diferentes en las columnas categóricas.\n",
    "</div>"
   ]
  },
  {
   "cell_type": "markdown",
   "metadata": {},
   "source": [
    "### Escalar los datos"
   ]
  },
  {
   "cell_type": "code",
   "execution_count": 21,
   "metadata": {},
   "outputs": [],
   "source": [
    "#defino las columnas a esacalar en una lista\n",
    "feature_names = ['VehicleType', 'RegistrationYear', 'Gearbox', 'Power','Model', 'Mileage', 'FuelType', 'Brand', 'NotRepaired']\n",
    "\n",
    "#uso MaxAbsScaler para escalar los datos de las columnas indicadas\n",
    "transformer_mas = sklearn.preprocessing.MaxAbsScaler().fit(df[feature_names].to_numpy())\n",
    "\n",
    "# creo df_scaled para almacenar los nuevos datos en sus respectivas columnas\n",
    "df_scaled = df.copy()\n",
    "df_scaled.loc[:, feature_names] = transformer_mas.transform(df[feature_names].to_numpy())"
   ]
  },
  {
   "cell_type": "code",
   "execution_count": 22,
   "metadata": {},
   "outputs": [
    {
     "data": {
      "text/html": [
       "<div>\n",
       "<style scoped>\n",
       "    .dataframe tbody tr th:only-of-type {\n",
       "        vertical-align: middle;\n",
       "    }\n",
       "\n",
       "    .dataframe tbody tr th {\n",
       "        vertical-align: top;\n",
       "    }\n",
       "\n",
       "    .dataframe thead th {\n",
       "        text-align: right;\n",
       "    }\n",
       "</style>\n",
       "<table border=\"1\" class=\"dataframe\">\n",
       "  <thead>\n",
       "    <tr style=\"text-align: right;\">\n",
       "      <th></th>\n",
       "      <th>Price</th>\n",
       "      <th>VehicleType</th>\n",
       "      <th>RegistrationYear</th>\n",
       "      <th>Gearbox</th>\n",
       "      <th>Power</th>\n",
       "      <th>Model</th>\n",
       "      <th>Mileage</th>\n",
       "      <th>FuelType</th>\n",
       "      <th>Brand</th>\n",
       "      <th>NotRepaired</th>\n",
       "    </tr>\n",
       "  </thead>\n",
       "  <tbody>\n",
       "    <tr>\n",
       "      <th>0</th>\n",
       "      <td>1500</td>\n",
       "      <td>0.714286</td>\n",
       "      <td>0.991576</td>\n",
       "      <td>1.0</td>\n",
       "      <td>0.00375</td>\n",
       "      <td>0.467742</td>\n",
       "      <td>1.0</td>\n",
       "      <td>1.000000</td>\n",
       "      <td>0.973684</td>\n",
       "      <td>0.0</td>\n",
       "    </tr>\n",
       "    <tr>\n",
       "      <th>1</th>\n",
       "      <td>3600</td>\n",
       "      <td>0.714286</td>\n",
       "      <td>0.995045</td>\n",
       "      <td>1.0</td>\n",
       "      <td>0.00345</td>\n",
       "      <td>0.407258</td>\n",
       "      <td>0.6</td>\n",
       "      <td>0.333333</td>\n",
       "      <td>0.815789</td>\n",
       "      <td>0.0</td>\n",
       "    </tr>\n",
       "    <tr>\n",
       "      <th>2</th>\n",
       "      <td>650</td>\n",
       "      <td>0.571429</td>\n",
       "      <td>0.988603</td>\n",
       "      <td>1.0</td>\n",
       "      <td>0.00510</td>\n",
       "      <td>0.044355</td>\n",
       "      <td>1.0</td>\n",
       "      <td>1.000000</td>\n",
       "      <td>0.052632</td>\n",
       "      <td>1.0</td>\n",
       "    </tr>\n",
       "    <tr>\n",
       "      <th>3</th>\n",
       "      <td>2200</td>\n",
       "      <td>0.142857</td>\n",
       "      <td>0.993062</td>\n",
       "      <td>1.0</td>\n",
       "      <td>0.00545</td>\n",
       "      <td>0.032258</td>\n",
       "      <td>1.0</td>\n",
       "      <td>1.000000</td>\n",
       "      <td>0.657895</td>\n",
       "      <td>0.0</td>\n",
       "    </tr>\n",
       "    <tr>\n",
       "      <th>4</th>\n",
       "      <td>2000</td>\n",
       "      <td>0.571429</td>\n",
       "      <td>0.993062</td>\n",
       "      <td>1.0</td>\n",
       "      <td>0.00525</td>\n",
       "      <td>0.040323</td>\n",
       "      <td>1.0</td>\n",
       "      <td>1.000000</td>\n",
       "      <td>0.500000</td>\n",
       "      <td>0.0</td>\n",
       "    </tr>\n",
       "  </tbody>\n",
       "</table>\n",
       "</div>"
      ],
      "text/plain": [
       "   Price  VehicleType  RegistrationYear  Gearbox    Power     Model  Mileage  \\\n",
       "0   1500     0.714286          0.991576      1.0  0.00375  0.467742      1.0   \n",
       "1   3600     0.714286          0.995045      1.0  0.00345  0.407258      0.6   \n",
       "2    650     0.571429          0.988603      1.0  0.00510  0.044355      1.0   \n",
       "3   2200     0.142857          0.993062      1.0  0.00545  0.032258      1.0   \n",
       "4   2000     0.571429          0.993062      1.0  0.00525  0.040323      1.0   \n",
       "\n",
       "   FuelType     Brand  NotRepaired  \n",
       "0  1.000000  0.973684          0.0  \n",
       "1  0.333333  0.815789          0.0  \n",
       "2  1.000000  0.052632          1.0  \n",
       "3  1.000000  0.657895          0.0  \n",
       "4  1.000000  0.500000          0.0  "
      ]
     },
     "execution_count": 22,
     "metadata": {},
     "output_type": "execute_result"
    }
   ],
   "source": [
    "# verifico que el escalado se haya realizado correctamente\n",
    "df_scaled.head()"
   ]
  },
  {
   "cell_type": "markdown",
   "metadata": {},
   "source": [
    "**Observación:**\n",
    "- **Se utilizó MaxAbsScaler() para escalar los datos** de las columnas a usar en el modelo.\n",
    "\n",
    "- **Esto evitara que el modelo pueda exagerar la importancia de escalas grandes** como Kilometraje o año de registro en sus predicciones.\n"
   ]
  },
  {
   "cell_type": "markdown",
   "metadata": {},
   "source": [
    "<div class=\"alert alert-block alert-success\">\n",
    "<b>Comentario de Reviewer</b> <a class=\"tocSkip\"></a>\n",
    "\n",
    "Correcto\n",
    "</div>"
   ]
  },
  {
   "cell_type": "markdown",
   "metadata": {},
   "source": [
    "### Segmentación de datos"
   ]
  },
  {
   "cell_type": "code",
   "execution_count": 23,
   "metadata": {},
   "outputs": [],
   "source": [
    "# creo las tablas de características y de objetivo\n",
    "features = df_scaled.drop(['Price'], axis = 1)\n",
    "target = df_scaled['Price']"
   ]
  },
  {
   "cell_type": "code",
   "execution_count": 24,
   "metadata": {
    "scrolled": true
   },
   "outputs": [
    {
     "data": {
      "text/html": [
       "<div>\n",
       "<style scoped>\n",
       "    .dataframe tbody tr th:only-of-type {\n",
       "        vertical-align: middle;\n",
       "    }\n",
       "\n",
       "    .dataframe tbody tr th {\n",
       "        vertical-align: top;\n",
       "    }\n",
       "\n",
       "    .dataframe thead th {\n",
       "        text-align: right;\n",
       "    }\n",
       "</style>\n",
       "<table border=\"1\" class=\"dataframe\">\n",
       "  <thead>\n",
       "    <tr style=\"text-align: right;\">\n",
       "      <th></th>\n",
       "      <th>VehicleType</th>\n",
       "      <th>RegistrationYear</th>\n",
       "      <th>Gearbox</th>\n",
       "      <th>Power</th>\n",
       "      <th>Model</th>\n",
       "      <th>Mileage</th>\n",
       "      <th>FuelType</th>\n",
       "      <th>Brand</th>\n",
       "      <th>NotRepaired</th>\n",
       "    </tr>\n",
       "  </thead>\n",
       "  <tbody>\n",
       "    <tr>\n",
       "      <th>0</th>\n",
       "      <td>0.714286</td>\n",
       "      <td>0.991576</td>\n",
       "      <td>1.0</td>\n",
       "      <td>0.00375</td>\n",
       "      <td>0.467742</td>\n",
       "      <td>1.0</td>\n",
       "      <td>1.000000</td>\n",
       "      <td>0.973684</td>\n",
       "      <td>0.0</td>\n",
       "    </tr>\n",
       "    <tr>\n",
       "      <th>1</th>\n",
       "      <td>0.714286</td>\n",
       "      <td>0.995045</td>\n",
       "      <td>1.0</td>\n",
       "      <td>0.00345</td>\n",
       "      <td>0.407258</td>\n",
       "      <td>0.6</td>\n",
       "      <td>0.333333</td>\n",
       "      <td>0.815789</td>\n",
       "      <td>0.0</td>\n",
       "    </tr>\n",
       "    <tr>\n",
       "      <th>2</th>\n",
       "      <td>0.571429</td>\n",
       "      <td>0.988603</td>\n",
       "      <td>1.0</td>\n",
       "      <td>0.00510</td>\n",
       "      <td>0.044355</td>\n",
       "      <td>1.0</td>\n",
       "      <td>1.000000</td>\n",
       "      <td>0.052632</td>\n",
       "      <td>1.0</td>\n",
       "    </tr>\n",
       "    <tr>\n",
       "      <th>3</th>\n",
       "      <td>0.142857</td>\n",
       "      <td>0.993062</td>\n",
       "      <td>1.0</td>\n",
       "      <td>0.00545</td>\n",
       "      <td>0.032258</td>\n",
       "      <td>1.0</td>\n",
       "      <td>1.000000</td>\n",
       "      <td>0.657895</td>\n",
       "      <td>0.0</td>\n",
       "    </tr>\n",
       "    <tr>\n",
       "      <th>4</th>\n",
       "      <td>0.571429</td>\n",
       "      <td>0.993062</td>\n",
       "      <td>1.0</td>\n",
       "      <td>0.00525</td>\n",
       "      <td>0.040323</td>\n",
       "      <td>1.0</td>\n",
       "      <td>1.000000</td>\n",
       "      <td>0.500000</td>\n",
       "      <td>0.0</td>\n",
       "    </tr>\n",
       "  </tbody>\n",
       "</table>\n",
       "</div>"
      ],
      "text/plain": [
       "   VehicleType  RegistrationYear  Gearbox    Power     Model  Mileage  \\\n",
       "0     0.714286          0.991576      1.0  0.00375  0.467742      1.0   \n",
       "1     0.714286          0.995045      1.0  0.00345  0.407258      0.6   \n",
       "2     0.571429          0.988603      1.0  0.00510  0.044355      1.0   \n",
       "3     0.142857          0.993062      1.0  0.00545  0.032258      1.0   \n",
       "4     0.571429          0.993062      1.0  0.00525  0.040323      1.0   \n",
       "\n",
       "   FuelType     Brand  NotRepaired  \n",
       "0  1.000000  0.973684          0.0  \n",
       "1  0.333333  0.815789          0.0  \n",
       "2  1.000000  0.052632          1.0  \n",
       "3  1.000000  0.657895          0.0  \n",
       "4  1.000000  0.500000          0.0  "
      ]
     },
     "execution_count": 24,
     "metadata": {},
     "output_type": "execute_result"
    }
   ],
   "source": [
    "# verifico la tabla de características \n",
    "features.head(5)"
   ]
  },
  {
   "cell_type": "code",
   "execution_count": 25,
   "metadata": {},
   "outputs": [
    {
     "data": {
      "text/plain": [
       "0    1500\n",
       "1    3600\n",
       "2     650\n",
       "3    2200\n",
       "4    2000\n",
       "Name: Price, dtype: int64"
      ]
     },
     "execution_count": 25,
     "metadata": {},
     "output_type": "execute_result"
    }
   ],
   "source": [
    "# verifico target\n",
    "target.head()"
   ]
  },
  {
   "cell_type": "code",
   "execution_count": 26,
   "metadata": {},
   "outputs": [],
   "source": [
    "#uso train_test_split para dividir los datos en entrenamiento y prueba con 20%\n",
    "features_train, features_test, target_train, target_test =train_test_split(features,target,test_size=0.2,random_state=12345)\n",
    "\n",
    "#uso train_test_split para dividir los datos en entrenamiento y validación con 25%\n",
    "features_train, features_valid, target_train, target_valid =train_test_split(features_train,target_train,test_size=.25,random_state=12345)"
   ]
  },
  {
   "cell_type": "code",
   "execution_count": 27,
   "metadata": {},
   "outputs": [
    {
     "name": "stdout",
     "output_type": "stream",
     "text": [
      "features_train: (139817, 9)\n",
      "target_train: (139817,)\n",
      "\n",
      "features_valid (46606, 9)\n",
      "target_valid (46606,)\n",
      "\n",
      "features_test (46606, 9)\n",
      "target_test (46606,)\n"
     ]
    }
   ],
   "source": [
    "# verifico el tamaño de los segmentos de prueba\n",
    "print('features_train:', features_train.shape)\n",
    "print('target_train:', target_train.shape)\n",
    "\n",
    "print('')\n",
    "print('features_valid', features_valid.shape)\n",
    "print('target_valid', target_valid.shape)\n",
    "\n",
    "print('')\n",
    "print('features_test', features_test.shape)\n",
    "print('target_test', target_test.shape)"
   ]
  },
  {
   "cell_type": "markdown",
   "metadata": {},
   "source": [
    "**Observación:**\n",
    "- Los tamaños de **cada segmento corresponden a 60% para entrenamiento, 20% prueba y 20% validación.**\n",
    "- Los segmentos de características tienen las columnas: `VehicleType`, `RegistrationYear`, `Gearbox`, `Power`, `Model`, `Mileage`, `FuelType`, `Brand`, `NotRepaired`\n",
    "- Los segmentos de objetivo solo tienen la columna `Price`."
   ]
  },
  {
   "cell_type": "markdown",
   "metadata": {},
   "source": [
    "<div class=\"alert alert-block alert-success\">\n",
    "<b>Comentario de Reviewer</b> <a class=\"tocSkip\"></a>\n",
    "\n",
    "Correcto, muy bien!\n",
    "</div>"
   ]
  },
  {
   "cell_type": "markdown",
   "metadata": {},
   "source": [
    "## Entrenamiento del modelo "
   ]
  },
  {
   "cell_type": "markdown",
   "metadata": {},
   "source": [
    "### Modelo de regresión lineal"
   ]
  },
  {
   "cell_type": "markdown",
   "metadata": {},
   "source": [
    "Descripcion de proyecto: \"La regresión lineal no es muy buena para el ajuste de hiperparámetros, pero es perfecta para hacer una prueba de cordura de otros métodos.\""
   ]
  },
  {
   "cell_type": "code",
   "execution_count": 28,
   "metadata": {
    "scrolled": true
   },
   "outputs": [
    {
     "name": "stdout",
     "output_type": "stream",
     "text": [
      "RMSE: 3361.2678793981067\n",
      "R2: 0.49710852538018946\n",
      "\n",
      "Tiempo entrenamiento: 0.04583597183227539\n",
      "Tiempo predicción: 0.002811908721923828\n"
     ]
    }
   ],
   "source": [
    "#creo el modelo de regresión lineal\n",
    "lr = LinearRegression()\n",
    "\n",
    "#creo time.time() alrededor de model.fit para calcular el tiempo de entrenamiento\n",
    "start_t = time.time()\n",
    "lr.fit(features_train, target_train)\n",
    "lr_train_time = time.time() - start_t\n",
    "\n",
    "#creo time.time() alrededor de model.predict para calcular el tiempo de predicción\n",
    "start_p = time.time()\n",
    "lr_predict = lr.predict(features_valid)\n",
    "lr_pred_time = time.time() - start_p\n",
    "\n",
    "#calculo RMSE & R2\n",
    "lr_rmse = mean_squared_error(target_valid, lr_predict)**0.5\n",
    "lr_r2 = r2_score(target_valid, lr_predict)\n",
    "\n",
    "# imprimo los resultados de rmse, r2 y tiempo de entrenamiento y prediccion\n",
    "float_formatter = \"{:.2}\".format\n",
    "\n",
    "print('RMSE:', lr_rmse)\n",
    "print('R2:', lr_r2)\n",
    "print('')\n",
    "print('Tiempo entrenamiento:', lr_train_time)\n",
    "print('Tiempo predicción:', lr_pred_time)"
   ]
  },
  {
   "cell_type": "code",
   "execution_count": 29,
   "metadata": {
    "scrolled": true
   },
   "outputs": [],
   "source": [
    "#uso %%timeit para confirmar los resultados\n",
    "#lr_check = LinearRegression()\n",
    "#%timeit lr_check.fit(features_train, target_train)\n",
    "#%timeit lr_check.predict(features_valid)"
   ]
  },
  {
   "cell_type": "code",
   "execution_count": 30,
   "metadata": {},
   "outputs": [
    {
     "name": "stdout",
     "output_type": "stream",
     "text": [
      "Tiempo entrenamiento promedio:\n",
      "53.3 ms ± 2.23 ms per loop (mean ± std. dev. of 7 runs, 10 loops each)\n",
      "\n",
      "Tiempo predicción promedio:\n",
      "8.98 ms ± 935 µs per loop (mean ± std. dev. of 7 runs, 100 loops each)\n"
     ]
    }
   ],
   "source": [
    "print('Tiempo entrenamiento promedio:')\n",
    "print('53.3 ms ± 2.23 ms per loop (mean ± std. dev. of 7 runs, 10 loops each)')\n",
    "print('')\n",
    "print('Tiempo predicción promedio:')\n",
    "print('8.98 ms ± 935 µs per loop (mean ± std. dev. of 7 runs, 100 loops each)')\n",
    "\n",
    "#almaceno los tiempos promedios para comparar los modelos más adelante todo en s\n",
    "lr_train = 53.3/1000\n",
    "lr_pred = 8.98/1000"
   ]
  },
  {
   "cell_type": "markdown",
   "metadata": {},
   "source": [
    "**Regresión Lineal Observaciones:**\n",
    "- El valor de **RMSE es 3361 € y R2 es 0.50**, esto nos indica que **la regresión no es muy acertada con sus predicciones**, pero servirá como base para la comparación de otros modelos.\n",
    "- El modelo de regresión tarda en promedio **53.3 ms para entrenamiento.**\n",
    "- El modelo de regresión tarda en promedio **8.98 ms para realizar predicciones.**"
   ]
  },
  {
   "cell_type": "markdown",
   "metadata": {},
   "source": [
    "<div class=\"alert alert-block alert-success\">\n",
    "<b>Comentario de Reviewer</b> <a class=\"tocSkip\"></a>\n",
    "\n",
    "Correcto!\n",
    "</div>"
   ]
  },
  {
   "cell_type": "markdown",
   "metadata": {},
   "source": [
    "### Modelo de bosque aleatorio"
   ]
  },
  {
   "cell_type": "code",
   "execution_count": 31,
   "metadata": {},
   "outputs": [
    {
     "name": "stdout",
     "output_type": "stream",
     "text": [
      "RMSE: 1597.9999000240878\n",
      "R2: 0.8863363709400939\n",
      "\n",
      "Tiempo entrenamiento: 42.28597450256348\n",
      "Tiempo predicción: 1.6429975032806396\n"
     ]
    }
   ],
   "source": [
    "#creo el modelo de bosque aleatorio\n",
    "model = RandomForestRegressor(max_depth=25, random_state=12345)\n",
    "\n",
    "#creo time.time() alrededor de model.fit para calcular el tiempo de entrenamiento\n",
    "start_t = time.time()\n",
    "model.fit(features_train, target_train)\n",
    "rf_train_time = time.time() - start_t\n",
    "\n",
    "#creo time.time() alrededor de model.predict para calcular el tiempo de predicción\n",
    "start_p = time.time()\n",
    "model_predict = model.predict(features_valid)\n",
    "rf_pred_time = time.time() - start_p\n",
    "\n",
    "#calculo RMSE & R2\n",
    "rf_rmse = mean_squared_error(target_valid, model_predict)**0.5\n",
    "rf_r2 = r2_score(target_valid, model_predict)\n",
    "\n",
    "# imprimo los resultados de rmse, r2 y tiempo de entrenamiento y predicción\n",
    "print('RMSE:', rf_rmse)\n",
    "print('R2:', rf_r2)\n",
    "print('')\n",
    "print('Tiempo entrenamiento:', rf_train_time)\n",
    "print('Tiempo predicción:', rf_pred_time)"
   ]
  },
  {
   "cell_type": "code",
   "execution_count": 32,
   "metadata": {},
   "outputs": [],
   "source": [
    "# comprobar los resultados con el uso de %timeit - OK\n",
    "\n",
    "#rf_check = RandomForestRegressor(max_depth=25, random_state=12345)\n",
    "#%timeit -n 1 -r 3 model.fit(features_train, target_train)\n",
    "#%timeit -n 1 -r 3 model.predict(features_valid)"
   ]
  },
  {
   "cell_type": "code",
   "execution_count": 33,
   "metadata": {},
   "outputs": [
    {
     "name": "stdout",
     "output_type": "stream",
     "text": [
      "Tiempo entrenamiento promedio:\n",
      "40.8 s ± 273 ms per loop (mean ± std. dev. of 3 runs, 1 loop each)\n",
      "Tiempo predicción promedio:\n",
      "1.67 s ± 8.68 ms per loop (mean ± std. dev. of 3 runs, 1 loop each)\n"
     ]
    }
   ],
   "source": [
    "print('Tiempo entrenamiento promedio:')\n",
    "print('40.8 s ± 273 ms per loop (mean ± std. dev. of 3 runs, 1 loop each)')\n",
    "print('Tiempo predicción promedio:')\n",
    "print('1.67 s ± 8.68 ms per loop (mean ± std. dev. of 3 runs, 1 loop each)')\n",
    "\n",
    "#almaceno los tiempos promedios para comparar los modelos más adelante\n",
    "rf_train = 40.8\n",
    "rf_pred = 1.67\n"
   ]
  },
  {
   "cell_type": "markdown",
   "metadata": {},
   "source": [
    "**Bosque aleatorio observaciones:**\n",
    "\n",
    "- El valor de **RMSE disminuyó a 1598 € y R2  aumentó a 0.89**, es un modelo mucho más acertado en sus predicciones, sin embargo tiene tiempos mucho mayores en comparación a la regresión lineal, además a la compañía le interesa un modelo que minimice la espera de los usuarios en la app.\n",
    "- El modelo de bosque aleatorio tarda en promedio **40.8 s para entrenamiento.**\n",
    "- El modelo de bosque aleatorio tarda en promedio **1.67 s para realizar predicciones.**"
   ]
  },
  {
   "cell_type": "markdown",
   "metadata": {},
   "source": [
    "<div class=\"alert alert-block alert-success\">\n",
    "<b>Comentario de Reviewer</b> <a class=\"tocSkip\"></a>\n",
    "\n",
    "Correcto!\n",
    "</div>"
   ]
  },
  {
   "cell_type": "markdown",
   "metadata": {},
   "source": [
    "### Potenciador de gradiente"
   ]
  },
  {
   "cell_type": "code",
   "execution_count": 34,
   "metadata": {},
   "outputs": [
    {
     "name": "stdout",
     "output_type": "stream",
     "text": [
      "RMSE: 1843.380299439872\n",
      "R2: 0.8487491214079157\n",
      "\n",
      "Tiempo entrenamiento: 27.051328659057617\n",
      "Tiempo predicción: 0.7235283851623535\n"
     ]
    }
   ],
   "source": [
    "#creo el modelo de potenciador de gradiente y defino los hiperparámetros\n",
    "model = GradientBoostingRegressor(n_estimators=40, max_depth=25, random_state=12345)\n",
    "\n",
    "#creo time.time() alrededor de model.fit para calcular el tiempo de entrenamiento\n",
    "start_time = time.time()\n",
    "model.fit(features_train, target_train)\n",
    "gb_train_time = time.time() - start_time\n",
    "\n",
    "#creo time.time() alrededor de model.predict para calcular el tiempo de predicción\n",
    "start_time = time.time()\n",
    "model_predict = model.predict(features_valid)\n",
    "gb_pred_time = time.time() - start_time\n",
    "\n",
    "#calculo RMSE & R2\n",
    "gb_rmse = mean_squared_error(target_valid, model_predict)**0.5\n",
    "gb_r2 = r2_score(target_valid, model_predict)\n",
    "\n",
    "# imprimo los resultados de rmse, r2 y tiempo de entrenamiento y predicción\n",
    "print(\"RMSE:\", gb_rmse)\n",
    "print(\"R2:\", gb_r2)\n",
    "print('')\n",
    "print(\"Tiempo entrenamiento:\", gb_train_time)\n",
    "print(\"Tiempo predicción:\", gb_pred_time)"
   ]
  },
  {
   "cell_type": "code",
   "execution_count": 35,
   "metadata": {},
   "outputs": [],
   "source": [
    "# comprobar los resultados con el uso de %timeit - OK\n",
    "\n",
    "#gb_check = GradientBoostingRegressor(n_estimators=40, max_depth=25, random_state=12345)\n",
    "#%timeit -n 1 -r 3 gb_check.fit(features_train, target_train)\n",
    "#%timeit -n 1 -r 3 gb_check.predict(features_valid)"
   ]
  },
  {
   "cell_type": "code",
   "execution_count": 36,
   "metadata": {},
   "outputs": [
    {
     "name": "stdout",
     "output_type": "stream",
     "text": [
      "Tiempo entrenamiento promedio:\n",
      "28.2 s ± 193 ms per loop (mean ± std. dev. of 3 runs, 1 loop each)\n",
      "Tiempo predicción promedio:\n",
      "724 ms ± 15.4 ms per loop (mean ± std. dev. of 3 runs, 1 loop each)\n"
     ]
    }
   ],
   "source": [
    "print('Tiempo entrenamiento promedio:')\n",
    "print('28.2 s ± 193 ms per loop (mean ± std. dev. of 3 runs, 1 loop each)')\n",
    "print('Tiempo predicción promedio:')\n",
    "print('724 ms ± 15.4 ms per loop (mean ± std. dev. of 3 runs, 1 loop each)')\n",
    "\n",
    "#almaceno los tiempos promedios para comparar los modelos más adelante (todo en segundos)\n",
    "gb_train = 28.2\n",
    "gb_pred = 724/1000 "
   ]
  },
  {
   "cell_type": "markdown",
   "metadata": {},
   "source": [
    "**GradientBoosting observaciones:**\n",
    "\n",
    "- El valor de **RMSE es 1843 € y R2 es 0.85**, es un modelo menos acertado que el bosque aleatorio, sin embargo tiene tiempos mucho más eficientes en comparación ya que reduce el tiempo de entrenamiento a la mitad y es más rápido para hacer predicciones sin sacrificar mucho RMSE y R2.\n",
    "\n",
    "- El modelo de GradientBoosting tarda en promedio **28.2 s para entrenamiento.**\n",
    "- El modelo de GradientBoosting tarda en promedio **724 ms para realizar predicciones.**"
   ]
  },
  {
   "cell_type": "markdown",
   "metadata": {},
   "source": [
    "<div class=\"alert alert-block alert-success\">\n",
    "<b>Comentario de Reviewer</b> <a class=\"tocSkip\"></a>\n",
    "\n",
    "Correcto!\n",
    "</div>"
   ]
  },
  {
   "cell_type": "markdown",
   "metadata": {},
   "source": [
    "### LightGBM"
   ]
  },
  {
   "cell_type": "code",
   "execution_count": 37,
   "metadata": {},
   "outputs": [
    {
     "name": "stdout",
     "output_type": "stream",
     "text": [
      "RMSE: 1649.9580888356375\n",
      "R2: 0.8788247713522173\n",
      "\n",
      "Tiempo entrenamiento: 1.6968955993652344\n",
      "Tiempo predicción:: 0.3112635612487793\n"
     ]
    }
   ],
   "source": [
    "# creo el modelo de lightGBM Regressor y defino los hiperparametros\n",
    "model_lgb = LGBMRegressor(boosting_type='gbdt',\n",
    "                          learning_rate=0.15, \n",
    "                          n_estimators=80, \n",
    "                          random_state=12345)\n",
    "\n",
    "\n",
    "#creo time.time() alrededor de model.fit para calcular el tiempo de entrenamiento\n",
    "start_time = time.time()\n",
    "model_lgb.fit(features_train, target_train)\n",
    "lgbm_train_time = time.time() - start_time\n",
    "\n",
    "#creo time.time() alrededor de model.predict para calcular el tiempo de predicción\n",
    "start_time = time.time()\n",
    "model_predict = model_lgb.predict(features_valid)\n",
    "lgbm_pred_time = time.time() - start_time\n",
    "\n",
    "#calculo RMSE & R2\n",
    "lgbm_rmse = mean_squared_error(target_valid, model_predict)**0.5\n",
    "lgbm_r2 = r2_score(target_valid, model_predict)\n",
    "\n",
    "# imprimo los resultados de rmse, r2 y tiempo de entrenamiento y predicción\n",
    "print(\"RMSE:\", lgbm_rmse)\n",
    "print(\"R2:\", lgbm_r2)\n",
    "print('')\n",
    "print(\"Tiempo entrenamiento:\", lgbm_train_time)\n",
    "print(\"Tiempo predicción::\", lgbm_pred_time)"
   ]
  },
  {
   "cell_type": "code",
   "execution_count": 38,
   "metadata": {},
   "outputs": [],
   "source": [
    "# comprobar los resultados con el uso de %timeit - OK\n",
    "\n",
    "#lgb_check = LGBMRegressor(boosting_type='gbdt', learning_rate=0.15, n_estimators=80, random_state=12345)\n",
    "#%timeit -n 1 -r 3 lgb_check.fit(features_train, target_train)\n",
    "#%timeit -n 1 -r 3 lgb_check.predict(features_valid)"
   ]
  },
  {
   "cell_type": "code",
   "execution_count": 39,
   "metadata": {},
   "outputs": [
    {
     "name": "stdout",
     "output_type": "stream",
     "text": [
      "Tiempo entrenamiento promedio:\n",
      "1.68 s ± 89.1 ms per loop (mean ± std. dev. of 3 runs, 1 loop each)\n",
      "Tiempo predicción promedio:\n",
      "338 ms ± 32.3 ms per loop (mean ± std. dev. of 3 runs, 1 loop each)\n"
     ]
    }
   ],
   "source": [
    "print('Tiempo entrenamiento promedio:')\n",
    "print('1.68 s ± 89.1 ms per loop (mean ± std. dev. of 3 runs, 1 loop each)')\n",
    "print('Tiempo predicción promedio:')\n",
    "print('338 ms ± 32.3 ms per loop (mean ± std. dev. of 3 runs, 1 loop each)')\n",
    "\n",
    "#almaceno los tiempos promedios para comparar los modelos más adelante (todo en segundos)\n",
    "lgbm_train = 1.68\n",
    "lgbm_pred = 338/1000 "
   ]
  },
  {
   "cell_type": "markdown",
   "metadata": {},
   "source": [
    "**LightGBM Observaciones:**\n",
    "\n",
    "- El valor de **RMSE es 1650 € y R2 es 0.88**, **es un modelo casi tan acertado como el bosque aleatorio**, sin embargo  **tiene tiempos notablemente más eficientes** en comparación lo cual puede alinearse a las expectativas de la compañía.\n",
    "\n",
    "- El modelo de lightGBM tarda en promedio **1.68 s para entrenamiento.**\n",
    "- El modelo de lightGBM tarda en promedio **338 ms para realizar predicciones.**"
   ]
  },
  {
   "cell_type": "markdown",
   "metadata": {},
   "source": [
    "<div class=\"alert alert-block alert-success\">\n",
    "<b>Comentario de Reviewer</b> <a class=\"tocSkip\"></a>\n",
    "\n",
    "Correcto!\n",
    "</div>"
   ]
  },
  {
   "cell_type": "markdown",
   "metadata": {},
   "source": [
    "### CatBoost"
   ]
  },
  {
   "cell_type": "code",
   "execution_count": 40,
   "metadata": {},
   "outputs": [
    {
     "name": "stdout",
     "output_type": "stream",
     "text": [
      "0:\tlearn: 4409.0330653\ttotal: 72.8ms\tremaining: 14.5s\n",
      "1:\tlearn: 4138.1537507\ttotal: 96.4ms\tremaining: 9.54s\n",
      "2:\tlearn: 3888.6228704\ttotal: 120ms\tremaining: 7.85s\n",
      "3:\tlearn: 3671.4919577\ttotal: 142ms\tremaining: 6.96s\n",
      "4:\tlearn: 3482.5036020\ttotal: 164ms\tremaining: 6.41s\n",
      "5:\tlearn: 3317.3663392\ttotal: 188ms\tremaining: 6.07s\n",
      "6:\tlearn: 3173.3624266\ttotal: 211ms\tremaining: 5.82s\n",
      "7:\tlearn: 3043.8200902\ttotal: 234ms\tremaining: 5.61s\n",
      "8:\tlearn: 2934.7281796\ttotal: 257ms\tremaining: 5.44s\n",
      "9:\tlearn: 2838.7407830\ttotal: 280ms\tremaining: 5.33s\n",
      "10:\tlearn: 2756.4939943\ttotal: 304ms\tremaining: 5.22s\n",
      "11:\tlearn: 2679.9084540\ttotal: 326ms\tremaining: 5.11s\n",
      "12:\tlearn: 2613.8097786\ttotal: 348ms\tremaining: 5.01s\n",
      "13:\tlearn: 2554.1241462\ttotal: 370ms\tremaining: 4.92s\n",
      "14:\tlearn: 2500.8392038\ttotal: 395ms\tremaining: 4.87s\n",
      "15:\tlearn: 2455.4563016\ttotal: 416ms\tremaining: 4.79s\n",
      "16:\tlearn: 2417.4268755\ttotal: 438ms\tremaining: 4.71s\n",
      "17:\tlearn: 2379.9152398\ttotal: 461ms\tremaining: 4.67s\n",
      "18:\tlearn: 2348.1464593\ttotal: 482ms\tremaining: 4.59s\n",
      "19:\tlearn: 2319.0777800\ttotal: 505ms\tremaining: 4.54s\n",
      "20:\tlearn: 2289.7086858\ttotal: 532ms\tremaining: 4.53s\n",
      "21:\tlearn: 2263.3183747\ttotal: 553ms\tremaining: 4.48s\n",
      "22:\tlearn: 2241.2300785\ttotal: 575ms\tremaining: 4.42s\n",
      "23:\tlearn: 2222.9953059\ttotal: 596ms\tremaining: 4.37s\n",
      "24:\tlearn: 2203.2854230\ttotal: 618ms\tremaining: 4.32s\n",
      "25:\tlearn: 2185.0802432\ttotal: 641ms\tremaining: 4.29s\n",
      "26:\tlearn: 2167.4311645\ttotal: 666ms\tremaining: 4.27s\n",
      "27:\tlearn: 2153.4521600\ttotal: 691ms\tremaining: 4.25s\n",
      "28:\tlearn: 2140.2114516\ttotal: 717ms\tremaining: 4.23s\n",
      "29:\tlearn: 2126.7304370\ttotal: 740ms\tremaining: 4.19s\n",
      "30:\tlearn: 2113.8186868\ttotal: 762ms\tremaining: 4.15s\n",
      "31:\tlearn: 2103.6774562\ttotal: 783ms\tremaining: 4.11s\n",
      "32:\tlearn: 2094.4049349\ttotal: 804ms\tremaining: 4.07s\n",
      "33:\tlearn: 2085.4750100\ttotal: 825ms\tremaining: 4.03s\n",
      "34:\tlearn: 2075.3103112\ttotal: 847ms\tremaining: 3.99s\n",
      "35:\tlearn: 2065.4149330\ttotal: 868ms\tremaining: 3.95s\n",
      "36:\tlearn: 2056.7502231\ttotal: 889ms\tremaining: 3.92s\n",
      "37:\tlearn: 2044.8865538\ttotal: 916ms\tremaining: 3.9s\n",
      "38:\tlearn: 2032.1154204\ttotal: 941ms\tremaining: 3.88s\n",
      "39:\tlearn: 2025.7323866\ttotal: 962ms\tremaining: 3.85s\n",
      "40:\tlearn: 2017.3418244\ttotal: 983ms\tremaining: 3.81s\n",
      "41:\tlearn: 2010.7440492\ttotal: 1s\tremaining: 3.78s\n",
      "42:\tlearn: 2004.7019685\ttotal: 1.02s\tremaining: 3.74s\n",
      "43:\tlearn: 1997.6281811\ttotal: 1.05s\tremaining: 3.71s\n",
      "44:\tlearn: 1991.8370633\ttotal: 1.07s\tremaining: 3.68s\n",
      "45:\tlearn: 1985.0170970\ttotal: 1.09s\tremaining: 3.65s\n",
      "46:\tlearn: 1981.1230240\ttotal: 1.11s\tremaining: 3.61s\n",
      "47:\tlearn: 1974.9057093\ttotal: 1.13s\tremaining: 3.59s\n",
      "48:\tlearn: 1966.1899778\ttotal: 1.16s\tremaining: 3.56s\n",
      "49:\tlearn: 1961.6139630\ttotal: 1.18s\tremaining: 3.53s\n",
      "50:\tlearn: 1957.3662474\ttotal: 1.2s\tremaining: 3.5s\n",
      "51:\tlearn: 1952.7313559\ttotal: 1.22s\tremaining: 3.48s\n",
      "52:\tlearn: 1947.9833116\ttotal: 1.24s\tremaining: 3.45s\n",
      "53:\tlearn: 1945.0212590\ttotal: 1.26s\tremaining: 3.42s\n",
      "54:\tlearn: 1940.3510723\ttotal: 1.28s\tremaining: 3.39s\n",
      "55:\tlearn: 1937.0771508\ttotal: 1.3s\tremaining: 3.35s\n",
      "56:\tlearn: 1933.4092312\ttotal: 1.32s\tremaining: 3.33s\n",
      "57:\tlearn: 1928.7195622\ttotal: 1.35s\tremaining: 3.3s\n",
      "58:\tlearn: 1925.1500055\ttotal: 1.37s\tremaining: 3.27s\n",
      "59:\tlearn: 1922.5846597\ttotal: 1.39s\tremaining: 3.24s\n",
      "60:\tlearn: 1920.6351058\ttotal: 1.41s\tremaining: 3.21s\n",
      "61:\tlearn: 1915.4745901\ttotal: 1.43s\tremaining: 3.19s\n",
      "62:\tlearn: 1912.1570834\ttotal: 1.45s\tremaining: 3.16s\n",
      "63:\tlearn: 1907.2840898\ttotal: 1.48s\tremaining: 3.14s\n",
      "64:\tlearn: 1902.6492107\ttotal: 1.5s\tremaining: 3.11s\n",
      "65:\tlearn: 1900.3671325\ttotal: 1.52s\tremaining: 3.08s\n",
      "66:\tlearn: 1895.3901477\ttotal: 1.54s\tremaining: 3.06s\n",
      "67:\tlearn: 1893.0312071\ttotal: 1.56s\tremaining: 3.03s\n",
      "68:\tlearn: 1889.9220196\ttotal: 1.59s\tremaining: 3.01s\n",
      "69:\tlearn: 1885.5755216\ttotal: 1.61s\tremaining: 2.99s\n",
      "70:\tlearn: 1882.5703662\ttotal: 1.63s\tremaining: 2.97s\n",
      "71:\tlearn: 1879.6573691\ttotal: 1.66s\tremaining: 2.94s\n",
      "72:\tlearn: 1878.0639273\ttotal: 1.68s\tremaining: 2.92s\n",
      "73:\tlearn: 1876.5857680\ttotal: 1.69s\tremaining: 2.88s\n",
      "74:\tlearn: 1875.1233323\ttotal: 1.71s\tremaining: 2.85s\n",
      "75:\tlearn: 1872.6985657\ttotal: 1.73s\tremaining: 2.83s\n",
      "76:\tlearn: 1871.0490460\ttotal: 1.76s\tremaining: 2.81s\n",
      "77:\tlearn: 1868.3282711\ttotal: 1.78s\tremaining: 2.78s\n",
      "78:\tlearn: 1866.9710142\ttotal: 1.8s\tremaining: 2.76s\n",
      "79:\tlearn: 1864.3555515\ttotal: 1.83s\tremaining: 2.74s\n",
      "80:\tlearn: 1861.9964451\ttotal: 1.85s\tremaining: 2.72s\n",
      "81:\tlearn: 1858.3389645\ttotal: 1.87s\tremaining: 2.7s\n",
      "82:\tlearn: 1856.8467287\ttotal: 1.89s\tremaining: 2.67s\n",
      "83:\tlearn: 1853.4814805\ttotal: 1.91s\tremaining: 2.64s\n",
      "84:\tlearn: 1851.9207450\ttotal: 1.94s\tremaining: 2.62s\n",
      "85:\tlearn: 1849.9184231\ttotal: 1.96s\tremaining: 2.6s\n",
      "86:\tlearn: 1847.0500028\ttotal: 1.98s\tremaining: 2.57s\n",
      "87:\tlearn: 1845.8541225\ttotal: 2.01s\tremaining: 2.55s\n",
      "88:\tlearn: 1844.3933417\ttotal: 2.03s\tremaining: 2.53s\n",
      "89:\tlearn: 1841.9733371\ttotal: 2.05s\tremaining: 2.5s\n",
      "90:\tlearn: 1840.2434526\ttotal: 2.07s\tremaining: 2.48s\n",
      "91:\tlearn: 1838.7827696\ttotal: 2.09s\tremaining: 2.45s\n",
      "92:\tlearn: 1836.5960731\ttotal: 2.11s\tremaining: 2.43s\n",
      "93:\tlearn: 1833.8620535\ttotal: 2.14s\tremaining: 2.41s\n",
      "94:\tlearn: 1831.4228587\ttotal: 2.16s\tremaining: 2.39s\n",
      "95:\tlearn: 1830.0754219\ttotal: 2.18s\tremaining: 2.37s\n",
      "96:\tlearn: 1828.1025473\ttotal: 2.21s\tremaining: 2.35s\n",
      "97:\tlearn: 1826.7838048\ttotal: 2.23s\tremaining: 2.32s\n",
      "98:\tlearn: 1824.4636787\ttotal: 2.25s\tremaining: 2.3s\n",
      "99:\tlearn: 1823.0729458\ttotal: 2.27s\tremaining: 2.27s\n",
      "100:\tlearn: 1822.1288261\ttotal: 2.29s\tremaining: 2.25s\n",
      "101:\tlearn: 1820.3301401\ttotal: 2.32s\tremaining: 2.23s\n",
      "102:\tlearn: 1818.8871037\ttotal: 2.34s\tremaining: 2.2s\n",
      "103:\tlearn: 1817.7393673\ttotal: 2.36s\tremaining: 2.18s\n",
      "104:\tlearn: 1815.9508701\ttotal: 2.38s\tremaining: 2.15s\n",
      "105:\tlearn: 1814.0375059\ttotal: 2.41s\tremaining: 2.13s\n",
      "106:\tlearn: 1812.1563518\ttotal: 2.43s\tremaining: 2.11s\n",
      "107:\tlearn: 1809.1871494\ttotal: 2.45s\tremaining: 2.09s\n",
      "108:\tlearn: 1807.9322673\ttotal: 2.48s\tremaining: 2.07s\n",
      "109:\tlearn: 1806.0037739\ttotal: 2.5s\tremaining: 2.04s\n",
      "110:\tlearn: 1805.3367859\ttotal: 2.52s\tremaining: 2.02s\n",
      "111:\tlearn: 1802.8629253\ttotal: 2.54s\tremaining: 2s\n",
      "112:\tlearn: 1802.0756464\ttotal: 2.56s\tremaining: 1.97s\n",
      "113:\tlearn: 1800.5585319\ttotal: 2.58s\tremaining: 1.95s\n",
      "114:\tlearn: 1799.5613730\ttotal: 2.6s\tremaining: 1.93s\n",
      "115:\tlearn: 1798.2291192\ttotal: 2.63s\tremaining: 1.9s\n",
      "116:\tlearn: 1797.2119643\ttotal: 2.65s\tremaining: 1.88s\n",
      "117:\tlearn: 1795.1622462\ttotal: 2.67s\tremaining: 1.85s\n",
      "118:\tlearn: 1793.3914496\ttotal: 2.69s\tremaining: 1.83s\n",
      "119:\tlearn: 1792.0395434\ttotal: 2.72s\tremaining: 1.81s\n",
      "120:\tlearn: 1790.5300331\ttotal: 2.74s\tremaining: 1.79s\n",
      "121:\tlearn: 1789.2505167\ttotal: 2.76s\tremaining: 1.77s\n",
      "122:\tlearn: 1787.5883850\ttotal: 2.79s\tremaining: 1.74s\n",
      "123:\tlearn: 1786.7536056\ttotal: 2.81s\tremaining: 1.72s\n",
      "124:\tlearn: 1785.2354733\ttotal: 2.83s\tremaining: 1.7s\n",
      "125:\tlearn: 1784.1059121\ttotal: 2.86s\tremaining: 1.68s\n",
      "126:\tlearn: 1783.2150591\ttotal: 2.88s\tremaining: 1.66s\n",
      "127:\tlearn: 1782.2694148\ttotal: 2.91s\tremaining: 1.64s\n",
      "128:\tlearn: 1781.0243608\ttotal: 2.93s\tremaining: 1.61s\n",
      "129:\tlearn: 1780.3031834\ttotal: 2.95s\tremaining: 1.59s\n",
      "130:\tlearn: 1779.6441892\ttotal: 2.98s\tremaining: 1.57s\n",
      "131:\tlearn: 1778.7984331\ttotal: 3s\tremaining: 1.54s\n",
      "132:\tlearn: 1777.4595797\ttotal: 3.02s\tremaining: 1.52s\n",
      "133:\tlearn: 1776.3963526\ttotal: 3.04s\tremaining: 1.5s\n",
      "134:\tlearn: 1775.7018348\ttotal: 3.06s\tremaining: 1.47s\n",
      "135:\tlearn: 1774.7552099\ttotal: 3.08s\tremaining: 1.45s\n",
      "136:\tlearn: 1774.0410550\ttotal: 3.11s\tremaining: 1.43s\n",
      "137:\tlearn: 1772.2741181\ttotal: 3.13s\tremaining: 1.41s\n",
      "138:\tlearn: 1771.2654040\ttotal: 3.15s\tremaining: 1.38s\n",
      "139:\tlearn: 1769.9182305\ttotal: 3.17s\tremaining: 1.36s\n",
      "140:\tlearn: 1769.3389553\ttotal: 3.19s\tremaining: 1.34s\n",
      "141:\tlearn: 1768.7367354\ttotal: 3.21s\tremaining: 1.31s\n",
      "142:\tlearn: 1767.8795310\ttotal: 3.24s\tremaining: 1.29s\n",
      "143:\tlearn: 1767.3154821\ttotal: 3.26s\tremaining: 1.27s\n",
      "144:\tlearn: 1765.9138415\ttotal: 3.28s\tremaining: 1.24s\n",
      "145:\tlearn: 1765.4557632\ttotal: 3.3s\tremaining: 1.22s\n",
      "146:\tlearn: 1764.6350341\ttotal: 3.32s\tremaining: 1.2s\n",
      "147:\tlearn: 1763.7571455\ttotal: 3.35s\tremaining: 1.18s\n",
      "148:\tlearn: 1762.6159338\ttotal: 3.37s\tremaining: 1.15s\n",
      "149:\tlearn: 1761.8725567\ttotal: 3.39s\tremaining: 1.13s\n",
      "150:\tlearn: 1761.3455319\ttotal: 3.41s\tremaining: 1.1s\n",
      "151:\tlearn: 1760.2176230\ttotal: 3.43s\tremaining: 1.08s\n",
      "152:\tlearn: 1759.4258122\ttotal: 3.45s\tremaining: 1.06s\n"
     ]
    },
    {
     "name": "stdout",
     "output_type": "stream",
     "text": [
      "153:\tlearn: 1758.7271604\ttotal: 3.47s\tremaining: 1.04s\n",
      "154:\tlearn: 1757.7051045\ttotal: 3.49s\tremaining: 1.01s\n",
      "155:\tlearn: 1756.1660208\ttotal: 3.52s\tremaining: 994ms\n",
      "156:\tlearn: 1755.6070799\ttotal: 3.55s\tremaining: 972ms\n",
      "157:\tlearn: 1754.6936210\ttotal: 3.57s\tremaining: 950ms\n",
      "158:\tlearn: 1753.9013185\ttotal: 3.6s\tremaining: 928ms\n",
      "159:\tlearn: 1753.0105057\ttotal: 3.62s\tremaining: 905ms\n",
      "160:\tlearn: 1752.4966685\ttotal: 3.64s\tremaining: 882ms\n",
      "161:\tlearn: 1751.2260073\ttotal: 3.66s\tremaining: 859ms\n",
      "162:\tlearn: 1750.2411680\ttotal: 3.68s\tremaining: 836ms\n",
      "163:\tlearn: 1749.6504519\ttotal: 3.71s\tremaining: 814ms\n",
      "164:\tlearn: 1748.7494378\ttotal: 3.73s\tremaining: 791ms\n",
      "165:\tlearn: 1748.3058677\ttotal: 3.75s\tremaining: 768ms\n",
      "166:\tlearn: 1747.2718252\ttotal: 3.78s\tremaining: 746ms\n",
      "167:\tlearn: 1745.7280603\ttotal: 3.8s\tremaining: 725ms\n",
      "168:\tlearn: 1745.1148893\ttotal: 3.83s\tremaining: 702ms\n",
      "169:\tlearn: 1744.3304827\ttotal: 3.85s\tremaining: 679ms\n",
      "170:\tlearn: 1743.4351578\ttotal: 3.87s\tremaining: 656ms\n",
      "171:\tlearn: 1742.7567051\ttotal: 3.89s\tremaining: 633ms\n",
      "172:\tlearn: 1742.3391746\ttotal: 3.92s\tremaining: 611ms\n",
      "173:\tlearn: 1741.6337721\ttotal: 3.94s\tremaining: 588ms\n",
      "174:\tlearn: 1740.9458279\ttotal: 3.96s\tremaining: 566ms\n",
      "175:\tlearn: 1740.4772094\ttotal: 3.98s\tremaining: 543ms\n",
      "176:\tlearn: 1739.6219422\ttotal: 4s\tremaining: 520ms\n",
      "177:\tlearn: 1738.9226251\ttotal: 4.03s\tremaining: 498ms\n",
      "178:\tlearn: 1737.6559706\ttotal: 4.05s\tremaining: 475ms\n",
      "179:\tlearn: 1736.3072723\ttotal: 4.07s\tremaining: 453ms\n",
      "180:\tlearn: 1735.6985213\ttotal: 4.1s\tremaining: 430ms\n",
      "181:\tlearn: 1735.5149430\ttotal: 4.12s\tremaining: 407ms\n",
      "182:\tlearn: 1734.3357608\ttotal: 4.14s\tremaining: 385ms\n",
      "183:\tlearn: 1733.8906324\ttotal: 4.16s\tremaining: 362ms\n",
      "184:\tlearn: 1733.1564869\ttotal: 4.18s\tremaining: 339ms\n",
      "185:\tlearn: 1732.0432285\ttotal: 4.21s\tremaining: 317ms\n",
      "186:\tlearn: 1731.3802371\ttotal: 4.23s\tremaining: 294ms\n",
      "187:\tlearn: 1731.0199113\ttotal: 4.25s\tremaining: 272ms\n",
      "188:\tlearn: 1730.4241174\ttotal: 4.28s\tremaining: 249ms\n",
      "189:\tlearn: 1729.6458951\ttotal: 4.3s\tremaining: 226ms\n",
      "190:\tlearn: 1729.1931749\ttotal: 4.32s\tremaining: 204ms\n",
      "191:\tlearn: 1728.4653382\ttotal: 4.35s\tremaining: 181ms\n",
      "192:\tlearn: 1727.6434134\ttotal: 4.37s\tremaining: 159ms\n",
      "193:\tlearn: 1727.0246614\ttotal: 4.39s\tremaining: 136ms\n",
      "194:\tlearn: 1726.5056178\ttotal: 4.41s\tremaining: 113ms\n",
      "195:\tlearn: 1726.0849627\ttotal: 4.43s\tremaining: 90.5ms\n",
      "196:\tlearn: 1725.4472149\ttotal: 4.46s\tremaining: 67.9ms\n",
      "197:\tlearn: 1724.5988691\ttotal: 4.48s\tremaining: 45.2ms\n",
      "198:\tlearn: 1723.6497213\ttotal: 4.5s\tremaining: 22.6ms\n",
      "199:\tlearn: 1722.8935694\ttotal: 4.53s\tremaining: 0us\n",
      "\n",
      "RMSE: 1737.433701380114\n",
      "R2: 0.8656355108715965\n",
      "\n",
      "Tiempo entrenamiento: 4.760116338729858\n",
      "Tiempo predicción: 0.01684403419494629\n"
     ]
    }
   ],
   "source": [
    "# creo el modelo de catboost y defino los hiperparametros\n",
    "model_cat = CatBoostRegressor(iterations=200,\n",
    "                          learning_rate=0.1,\n",
    "                          depth=5,\n",
    "                          l2_leaf_reg=4,\n",
    "                          random_seed=12345)\n",
    "\n",
    "\n",
    "#creo time.time() alrededor de model.fit para calcular el tiempo de entrenamiento\n",
    "start_time = time.time()\n",
    "model_cat.fit(features_train, target_train)\n",
    "cat_train_time = time.time() - start_time\n",
    "\n",
    "#creo time.time() alrededor de model.predict para calcular el tiempo de predicción\n",
    "start_time = time.time()\n",
    "model_predict = model_cat.predict(features_valid)\n",
    "cat_pred_time = time.time() - start_time\n",
    "\n",
    "#calculo RMSE & R2\n",
    "cat_rmse = mean_squared_error(target_valid, model_predict)**0.5\n",
    "cat_r2 = r2_score(target_valid, model_predict)\n",
    "\n",
    "# imprimo los resultados de rmse, r2 y tiempo de entrenamiento y predicción\n",
    "print('')\n",
    "print(\"RMSE:\", cat_rmse)\n",
    "print(\"R2:\", cat_r2)\n",
    "print('')\n",
    "print(\"Tiempo entrenamiento:\", cat_train_time)\n",
    "print(\"Tiempo predicción:\", cat_pred_time)"
   ]
  },
  {
   "cell_type": "code",
   "execution_count": 41,
   "metadata": {},
   "outputs": [],
   "source": [
    "# comprobar los resultados con el uso de %timeit - OK\n",
    "\n",
    "#cat_check = model_cat = CatBoostRegressor(iterations=200, learning_rate=0.1, depth=5, l2_leaf_reg=4, random_seed=12345)\n",
    "#%timeit -n 1 -r 3 cat_check.fit(features_train, target_train)\n",
    "#%timeit -n 1 -r 3 cat_check.predict(features_valid)"
   ]
  },
  {
   "cell_type": "code",
   "execution_count": 42,
   "metadata": {},
   "outputs": [
    {
     "name": "stdout",
     "output_type": "stream",
     "text": [
      "Tiempo entrenamiento Promedio:\n",
      "4.83 s ± 146 ms per loop (mean ± std. dev. of 3 runs, 1 loop each)\n",
      "Tiempo predicción Promedio:\n",
      "15.9 ms ± 522 µs per loop (mean ± std. dev. of 3 runs, 1 loop each)\n"
     ]
    }
   ],
   "source": [
    "print('Tiempo entrenamiento Promedio:')\n",
    "print('4.83 s ± 146 ms per loop (mean ± std. dev. of 3 runs, 1 loop each)')\n",
    "print('Tiempo predicción Promedio:')\n",
    "print('15.9 ms ± 522 µs per loop (mean ± std. dev. of 3 runs, 1 loop each)')\n",
    "\n",
    "#almaceno los tiempos promedios para comparar los modelos más adelante (todo en segundos)\n",
    "cat_train = 4.83\n",
    "cat_pred = 15.9/1000 "
   ]
  },
  {
   "cell_type": "markdown",
   "metadata": {},
   "source": [
    "**CatBoost Observaciones:**\n",
    "\n",
    "- El valor de **RMSE es 1737 € y R2 es 0.87**, es ligeramente menos acertado que lightGBM, sin embargo **regresa a un tiempo más lento de entrenamiento y predicción** en comparación.\n",
    "\n",
    "- El modelo de CatBoost tarda en promedio **4.83 s para entrenamiento.**\n",
    "- El modelo de CatBoost tarda en promedio **15.9 ms para realizar predicciones.**\n"
   ]
  },
  {
   "cell_type": "markdown",
   "metadata": {},
   "source": [
    "<div class=\"alert alert-block alert-success\">\n",
    "<b>Comentario de Reviewer</b> <a class=\"tocSkip\"></a>\n",
    "\n",
    "Correcto!\n",
    "</div>"
   ]
  },
  {
   "cell_type": "markdown",
   "metadata": {},
   "source": [
    "## Análisis del modelo"
   ]
  },
  {
   "cell_type": "code",
   "execution_count": 43,
   "metadata": {},
   "outputs": [
    {
     "data": {
      "text/html": [
       "<div>\n",
       "<style scoped>\n",
       "    .dataframe tbody tr th:only-of-type {\n",
       "        vertical-align: middle;\n",
       "    }\n",
       "\n",
       "    .dataframe tbody tr th {\n",
       "        vertical-align: top;\n",
       "    }\n",
       "\n",
       "    .dataframe thead th {\n",
       "        text-align: right;\n",
       "    }\n",
       "</style>\n",
       "<table border=\"1\" class=\"dataframe\">\n",
       "  <thead>\n",
       "    <tr style=\"text-align: right;\">\n",
       "      <th></th>\n",
       "      <th>modelo</th>\n",
       "      <th>RMSE</th>\n",
       "      <th>R2</th>\n",
       "      <th>T. Entrenamiento (s)</th>\n",
       "      <th>T. Predicción (s)</th>\n",
       "    </tr>\n",
       "  </thead>\n",
       "  <tbody>\n",
       "    <tr>\n",
       "      <th>1</th>\n",
       "      <td>Bosque aleatorio</td>\n",
       "      <td>1598.0</td>\n",
       "      <td>0.89</td>\n",
       "      <td>40.8000</td>\n",
       "      <td>1.67000</td>\n",
       "    </tr>\n",
       "    <tr>\n",
       "      <th>3</th>\n",
       "      <td>LightGBM</td>\n",
       "      <td>1650.0</td>\n",
       "      <td>0.88</td>\n",
       "      <td>1.6800</td>\n",
       "      <td>0.33800</td>\n",
       "    </tr>\n",
       "    <tr>\n",
       "      <th>4</th>\n",
       "      <td>CatBoost</td>\n",
       "      <td>1737.4</td>\n",
       "      <td>0.87</td>\n",
       "      <td>4.8300</td>\n",
       "      <td>0.01590</td>\n",
       "    </tr>\n",
       "    <tr>\n",
       "      <th>2</th>\n",
       "      <td>Potenciador de Gradiente</td>\n",
       "      <td>1843.4</td>\n",
       "      <td>0.85</td>\n",
       "      <td>28.2000</td>\n",
       "      <td>0.72400</td>\n",
       "    </tr>\n",
       "    <tr>\n",
       "      <th>0</th>\n",
       "      <td>Regresión Lineal</td>\n",
       "      <td>3361.3</td>\n",
       "      <td>0.50</td>\n",
       "      <td>0.0533</td>\n",
       "      <td>0.00898</td>\n",
       "    </tr>\n",
       "  </tbody>\n",
       "</table>\n",
       "</div>"
      ],
      "text/plain": [
       "                     modelo    RMSE    R2  T. Entrenamiento (s)  \\\n",
       "1          Bosque aleatorio  1598.0  0.89               40.8000   \n",
       "3                  LightGBM  1650.0  0.88                1.6800   \n",
       "4                  CatBoost  1737.4  0.87                4.8300   \n",
       "2  Potenciador de Gradiente  1843.4  0.85               28.2000   \n",
       "0          Regresión Lineal  3361.3  0.50                0.0533   \n",
       "\n",
       "   T. Predicción (s)  \n",
       "1            1.67000  \n",
       "3            0.33800  \n",
       "4            0.01590  \n",
       "2            0.72400  \n",
       "0            0.00898  "
      ]
     },
     "execution_count": 43,
     "metadata": {},
     "output_type": "execute_result"
    }
   ],
   "source": [
    "#creo un dataframe para los resultados\n",
    "model_compare = pd.DataFrame({\n",
    "    'modelo':['Regresión Lineal', 'Bosque aleatorio', 'Potenciador de Gradiente', 'LightGBM', 'CatBoost'],\n",
    "    'RMSE':[lr_rmse, rf_rmse, gb_rmse,lgbm_rmse, cat_rmse],\n",
    "    'R2':[lr_r2, rf_r2, gb_r2,lgbm_r2, cat_r2],\n",
    "    'T. Entrenamiento (s)':[lr_train,rf_train,gb_train, lgbm_train, cat_train],\n",
    "    'T. Predicción (s)':[lr_pred,rf_pred, gb_pred, lgbm_pred, cat_pred]\n",
    "    }\n",
    ")\n",
    "\n",
    "# ajusto el formato de las columnas  RMSE y R2\n",
    "model_compare['RMSE'] =round(model_compare['RMSE'],1)\n",
    "model_compare['R2'] =round(model_compare['R2'],2)\n",
    "\n",
    "model_compare_RMSE = model_compare.sort_values(by='RMSE', ascending= True )\n",
    "model_compare_RMSE\n"
   ]
  },
  {
   "cell_type": "code",
   "execution_count": 44,
   "metadata": {},
   "outputs": [
    {
     "data": {
      "image/png": "[encoded data removed]",
      "text/plain": [
       "<Figure size 1200x600 with 2 Axes>"
      ]
     },
     "metadata": {},
     "output_type": "display_data"
    }
   ],
   "source": [
    "# creo una dataframe para comparar los modelos por RMSE\n",
    "model_compare_RMSE = model_compare.sort_values(by='RMSE', ascending= False)\n",
    "model_compare_RMSE\n",
    "\n",
    "# creo subplots para graficar RMSE vs tiempo de entrenamiento\n",
    "fig, ax1 = plt.subplots(figsize=(12, 6))\n",
    "ax2 = ax1.twinx() # secondary y-axis\n",
    "\n",
    "# defino los colores para la grafica\n",
    "colors = ['#d3d3d3', '#d3d3d3', '#d3d3d3', '#4169e1', '#d3d3d3']\n",
    "\n",
    "\n",
    "# gráfico el RMSE para cada modelo de barras \n",
    "sb.barplot(x='modelo', \n",
    "           y='RMSE', \n",
    "           palette = colors,\n",
    "           data=model_compare_RMSE,\n",
    "           ax=ax1, \n",
    "           alpha = 0.8) \n",
    "\n",
    "#creo la línea para comparar el tiempo de entrenamiento de cada modelo\n",
    "ax2 = sb.pointplot(x='modelo',\n",
    "             y='T. Entrenamiento (s)',\n",
    "             color= '#ffa700',\n",
    "             data= model_compare_RMSE,\n",
    "             ax=ax2,\n",
    "             linestyles ='',\n",
    "             markers='o', \n",
    "             legend = True) \n",
    "\n",
    "\n",
    "ax1.set_ylim(0,3800)                                   #defino el limite del eje 1\n",
    "ax2.set_ylim(0,50)                                     #defino el limite del eje 2\n",
    "ax2.set_ylabel(\"Tiempo entrenamiento en (s)\")          #nombre eje 2\n",
    "\n",
    "plt.title(\"¿Cuál es el mejor modelo: menor RMSE y menor tiempo de entrenamiento?\")    #asigno un titulo\n",
    "plt.legend(title='', loc='upper right', labels=['T. Entrenamiento (s)'])              #creo una leyenda\n",
    "plt.tight_layout()\n",
    "plt.show()"
   ]
  },
  {
   "cell_type": "markdown",
   "metadata": {},
   "source": [
    "**Observaciones:**\n",
    "- Los **modelos que minimizan el RMSE son el `bosque aleatorio` y `lightGBM` con ~1600 €**\n",
    "\n",
    "\n",
    "- No obstante, **el `bosque aleatorio` es un modelo que requiere mucho tiempo para ser entrenado 41s**, casi 20 veces más que lightGMB ~2s.\n",
    "\n",
    "\n",
    "- **Podemos ver que el mejor modelo para la compañía es lightGBM** dada su precisión y velocidad, esto **tiene sentido ya que este algoritmo utiliza un enfoque secuencial para mejorar cada árbol nuevo vs el anterior minimizando el error** lo que le permite trabajar con datos complejos de forma efectiva.\n"
   ]
  },
  {
   "cell_type": "code",
   "execution_count": 45,
   "metadata": {},
   "outputs": [
    {
     "data": {
      "text/plain": [
       "<AxesSubplot:title={'center':'Tiempo de entrenamiento y de predicción para cada modelo'}, xlabel='Modelo', ylabel='Tiempo en segundos'>"
      ]
     },
     "execution_count": 45,
     "metadata": {},
     "output_type": "execute_result"
    },
    {
     "data": {
      "image/png": "[encoded data removed]",
      "text/plain": [
       "<Figure size 1200x600 with 1 Axes>"
      ]
     },
     "metadata": {},
     "output_type": "display_data"
    }
   ],
   "source": [
    "#creo un dataframe para comparar tiempo de entrenamiento y predicción\n",
    "model_compare_time = model_compare.sort_values(by='T. Entrenamiento (s)', ascending = False)\n",
    "model_compare_time = model_compare_time[model_compare_time['modelo'] != 'Regresión Lineal']\n",
    "\n",
    "#creo un gráfico de líneas para ambos tiempos\n",
    "model_compare_time.plot(kind='line',\n",
    "                        x= 'modelo',\n",
    "                        y= ['T. Entrenamiento (s)','T. Predicción (s)'],\n",
    "                        figsize = (12,6),\n",
    "                        legend = True,\n",
    "                        title = 'Tiempo de entrenamiento y de predicción para cada modelo',\n",
    "                        color = ['#ffa700','#4169e1'],\n",
    "                        ylabel = 'Tiempo en segundos',\n",
    "                        xlabel = 'Modelo',\n",
    "                        style='o',\n",
    "                        linewidth=2\n",
    "                        )\n"
   ]
  },
  {
   "cell_type": "markdown",
   "metadata": {},
   "source": [
    "**Observaciones:**\n",
    "- Podemos observar que el `bosque aleatorio` y `potenciador de gradiente` son los modelos que **tienen un mayor tiempo de entrenamiento y no son recomendados para la compañía**.\n",
    "\n",
    "\n",
    "- **LightGBM y CatBoost tienen los menores tiempos de entrenamiento** (4.83s y 1.6s) ambos tienen tiempos de predicción similares.\n",
    "\n",
    "\n",
    "- **LightGBM se destaca como el mejor modelo para precisión/eficiencia** ya que obtiene los mejores RMSE y R2 sin sacrificar la velocidad de entrenamiento y predicción.\n",
    "\n"
   ]
  },
  {
   "cell_type": "markdown",
   "metadata": {},
   "source": [
    "### Prueba de LightGBM con datos de prueba"
   ]
  },
  {
   "cell_type": "code",
   "execution_count": 46,
   "metadata": {},
   "outputs": [
    {
     "name": "stdout",
     "output_type": "stream",
     "text": [
      "RMSE: 1659.7643367146536\n",
      "R2: 0.8784733174738063\n",
      "\n",
      "Tiempo entrenamiento: 1.6795597076416016\n",
      "Tiempo predicción: 0.3000926971435547\n"
     ]
    }
   ],
   "source": [
    "#uso el modelo lightGBM Regressor y defino los hiperparametros\n",
    "model_lgb = LGBMRegressor(boosting_type='gbdt',\n",
    "                          learning_rate=0.15, \n",
    "                          n_estimators=80, \n",
    "                          random_state=12345)\n",
    "\n",
    "\n",
    "#creo time.time() alrededor de model.fit para calcular el tiempo de entrenamiento\n",
    "start_time = time.time()\n",
    "model_lgb.fit(features_train, target_train)\n",
    "lgbm_train_time = time.time() - start_time\n",
    "\n",
    "#creo time.time() al rededor de model.predict con los datos de prueba**\n",
    "start_time = time.time()\n",
    "model_predict = model_lgb.predict(features_test)\n",
    "lgbm_pred_time = time.time() - start_time\n",
    "\n",
    "#calculo RMSE & R2 para los datos de prueba\n",
    "lgbm_rmse = mean_squared_error(target_test, model_predict)**0.5\n",
    "lgbm_r2 = r2_score(target_test, model_predict)\n",
    "\n",
    "# imprimo los resultados de rmse, r2 y tiempos para datos de prueba\n",
    "print(\"RMSE:\", lgbm_rmse)\n",
    "print(\"R2:\", lgbm_r2)\n",
    "print('')\n",
    "print(\"Tiempo entrenamiento:\", lgbm_train_time)\n",
    "print(\"Tiempo predicción:\", lgbm_pred_time)"
   ]
  },
  {
   "cell_type": "code",
   "execution_count": 47,
   "metadata": {},
   "outputs": [],
   "source": [
    "# comprobar los resultados con el uso de %timeit - OK\n",
    "\n",
    "#lgb_check = LGBMRegressor(boosting_type='gbdt', learning_rate=0.15, n_estimators=80, random_state=12345)\n",
    "#%timeit -n 1 -r 3 lgb_check.fit(features_train, target_train)\n",
    "#%timeit -n 1 -r 3 lgb_check.predict(features_test)"
   ]
  },
  {
   "cell_type": "code",
   "execution_count": 48,
   "metadata": {},
   "outputs": [
    {
     "name": "stdout",
     "output_type": "stream",
     "text": [
      "Tiempo entrenamiento promedio:\n",
      "1.94 s ± 30.2 ms per loop (mean ± std. dev. of 3 runs, 1 loop each)\n",
      "Tiempo predicción promedio:\n",
      "335 ms ± 32.6 ms per loop (mean ± std. dev. of 3 runs, 1 loop each))\n"
     ]
    }
   ],
   "source": [
    "print('Tiempo entrenamiento promedio:')\n",
    "print('1.94 s ± 30.2 ms per loop (mean ± std. dev. of 3 runs, 1 loop each)')\n",
    "print('Tiempo predicción promedio:')\n",
    "print('335 ms ± 32.6 ms per loop (mean ± std. dev. of 3 runs, 1 loop each))')"
   ]
  },
  {
   "cell_type": "markdown",
   "metadata": {},
   "source": [
    "**Observaciones lightGBM datos de Prueba:**\n",
    "\n",
    "- Para los datos de prueba el **RMSE es 1660 € y R2 es 0.88**, podemos comprobar que lightGBM mantiene la calidad de la predicción/velocidad que se evidenció con los datos de entrenamiento.\n",
    "\n",
    "- El modelo de lightGBM con los datos de prueba tardó **1.94  s para entrenamiento.**\n",
    "- El modelo de lightGBM con los datos de prueba tardó **335 ms para realizar predicciones.**"
   ]
  },
  {
   "cell_type": "markdown",
   "metadata": {},
   "source": [
    "<div class=\"alert alert-block alert-success\">\n",
    "<b>Comentario de Reviewer</b> <a class=\"tocSkip\"></a>\n",
    "\n",
    "Buen trabajo!\n",
    "</div>"
   ]
  },
  {
   "cell_type": "code",
   "execution_count": 49,
   "metadata": {},
   "outputs": [
    {
     "data": {
      "image/png": "[encoded data removed]",
      "text/plain": [
       "<Figure size 1200x400 with 1 Axes>"
      ]
     },
     "metadata": {},
     "output_type": "display_data"
    }
   ],
   "source": [
    "# consulto la importancia de las características del modelo para análisis \n",
    "# uso feature_importances_\n",
    "\n",
    "lgbm_var = pd.DataFrame(model_lgb.feature_importances_, index = features_valid.columns)\n",
    "lgbm_var = lgbm_var.sort_values(by=[0], ascending = False)\n",
    "\n",
    "# grafico los resultados de las características\n",
    "lgbm_var.plot.bar(legend = None,           \n",
    "                 figsize = (12,4), \n",
    "                 rot = 0,\n",
    "                 xlabel = \"Caracteristicas\",\n",
    "                 ylabel = \"\",\n",
    "                 title = \"¿Cuáles son las características más importantes para el modelo LightGBM?\",\n",
    "                 color = '#4169e1',\n",
    "                 alpha = 0.8)\n",
    "plt.show()"
   ]
  },
  {
   "cell_type": "markdown",
   "metadata": {},
   "source": [
    "**Observación características:**\n",
    "- Con el análisis de las características podemos entender mejor cómo funciona el modelo de lightGBM.\n",
    "- Podemos notar que **las características más importantes para el modelo son `Power`,`RegistrationYear` seguidas por  `Brand`.**\n",
    "- Por otra parte podemos ver que **`FuelType`,`NotRepaired` y `Gearbox` son las menos importantes.**"
   ]
  },
  {
   "cell_type": "markdown",
   "metadata": {},
   "source": [
    "<div class=\"alert alert-block alert-success\">\n",
    "<b>Comentario de Reviewer</b> <a class=\"tocSkip\"></a>\n",
    "\n",
    "Muy buen complemento!\n",
    "</div>"
   ]
  },
  {
   "cell_type": "markdown",
   "metadata": {},
   "source": [
    "## Conclusión"
   ]
  },
  {
   "cell_type": "markdown",
   "metadata": {},
   "source": [
    "**Se recomienda a la compañía implementar el modelo de LightGBM para la nueva app, ya que esta maximiza la precisión de las predicciones y maximiza la velocidad de predicción y entrenamiento:**\n",
    "\n",
    "**Hiperparametros:**\n",
    "\n",
    "- boosting_type = 'gbdt'\n",
    "- learning_rate = 0.15 \n",
    "- n_estimators = 80 \n",
    "- random_state = 12345\n",
    "\n",
    "**Cual es la calidad de la predicción?**  La calidad es favorable RMSE: 1660 € y R2: 0.88\n",
    "\n",
    "**Cual es la velocidad de la predicción?** La velocidad de predicción es de ~0.3 s\n",
    "\n",
    "**Cual es el tiempo requerido para el entrenamiento?** La velocidad de entrenamiento es de ~2s\n",
    "\n",
    "________________________________________________________________________\n",
    "**Resumen del proyecto:**\n",
    "\n",
    "**1) Extracción y preparación de datos:**\n",
    "En primer lugar se analizaron los datos sobre los vehículos:\n",
    "\n",
    "**Exploración de datos**\n",
    "- Se eliminaron valores ausentes de las columnas `VehicleType`, `Gearbox`, `Model`, `FuelType` y `NotRepaired`\n",
    "- Se eliminaron  247 datos duplicados que correspondian al 0.09% de los datos.\n",
    "- Se eliminaron valores atípicos donde Price y Power eran 0.\n",
    "\n",
    "**Codificación y estandarización de datos**\n",
    "- Se utilizó **codificación one-hot** en las columnas `Gearbox` y `NotRepaired`.\n",
    "- Se utilizó **etiquetado de datos con OrdinalEncoder()** en las columnas `VehicleType`, `Model`, `FuelType`, `Brand`\n",
    "\n",
    "**Escalar los datos**\n",
    "- **Se utilizó MaxAbsScaler() para escalar los datos** de las columnas a usar en el modelo.\n",
    "\n",
    "**Segmentación de datos**\n",
    "- Se segmentaron los datos **en 60% para entrenamiento, 20% prueba y 20% validación.**\n",
    "- Los segmentos de características tienen las columnas: `VehicleType`, `RegistrationYear`, `Gearbox`, `Power`, `Model`, `Mileage`, `FuelType`, `Brand`, `NotRepaired`\n",
    "- Los segmentos de objetivo solo tienen la columna `Price`.\n",
    "\n",
    "\n",
    "**2) Entrenamiento del modelo:** \n",
    "\n",
    "Se evaluaron diferentes modelos para encontrar la mejor opción para la compañía teniendo en cuenta los requerimientos de precisión y velocidad.\n",
    "\n",
    "- **Regresión Lineal:** RMSE: 3361 € y R2: 0.50 - **modelo poco preciso (base)**\n",
    "\n",
    "- **Bosque aleatorio:** RMSE: 1598 € y R2:  0.89 - **el modelo más preciso,  sin embargo es lento (E: 41s y P: 2s)**\n",
    "\n",
    "- **Potenciador de gradiente:** RMSE: 1843 € y R2: 0.85 - modelo menos acertado que el bosque aleatorio, **sin embargo tiene tiempos mucho más eficientes (E: 28s y P: 0.7s)**\n",
    "\n",
    "- **LightGBM:** RMSE: 1650 € y R2: 0.88, **mejor modelo precisión/velocidad (E: 2s, P: 0.3s)**\n",
    "\n",
    "- **CatBoost:** RMSE: 1737 € y R2: 0.87, ligeramente menos acertado que lightGBM, **sin embargo más lento (E: 5s, P: 0.16s)**\n",
    "\n",
    "\n",
    "**3) Análisis del modelo:**\n",
    "\n",
    "**Se verificó que LightGBM mantiene la calidad de la predicción/velocidad** que se evidenció con los datos de entrenamiento.\n",
    "\n",
    "- **RMSE: 1660 € y R2: 0.88**\n",
    "- **Tiempo de entrenamiento: 1.94s**\n",
    "- **Tiempo de predicción: 0.3s**\n",
    "\n",
    "**Análisis de características:**\n",
    "- **Más importantes:** `Power`,`RegistrationYear` y `Brand`.\n",
    "- **Menos importantes:** `FuelType`,`NotRepaired` y `Gearbox`.\n"
   ]
  },
  {
   "cell_type": "markdown",
   "metadata": {},
   "source": [
    "<div class=\"alert alert-block alert-success\">\n",
    "<b>Comentario de Reviewer</b> <a class=\"tocSkip\"></a>\n",
    "\n",
    "Muy bien\n",
    "</div>"
   ]
  },
  {
   "cell_type": "markdown",
   "metadata": {},
   "source": [
    "# Lista de control"
   ]
  },
  {
   "cell_type": "markdown",
   "metadata": {},
   "source": [
    "Escribe 'x' para verificar. Luego presiona Shift+Enter"
   ]
  },
  {
   "cell_type": "markdown",
   "metadata": {},
   "source": [
    "- [x]  Jupyter Notebook está abierto\n",
    "- [x]  El código no tiene errores\n",
    "- [x]  Las celdas con el código han sido colocadas en orden de ejecución\n",
    "- [x]  Los datos han sido descargados y preparados\n",
    "- [x]  Los modelos han sido entrenados\n",
    "- [x]  Se realizó el análisis de velocidad y calidad de los modelos"
   ]
  }
 ],
 "metadata": {
  "ExecuteTimeLog": [
   {
    "duration": 51942,
    "start_time": "2024-05-17T15:18:44.872Z"
   },
   {
    "duration": 757,
    "start_time": "2024-05-17T15:21:55.080Z"
   },
   {
    "duration": 5292,
    "start_time": "2024-05-17T15:22:01.805Z"
   },
   {
    "duration": 801,
    "start_time": "2024-05-17T15:23:46.711Z"
   },
   {
    "duration": 142,
    "start_time": "2024-05-17T15:23:59.883Z"
   },
   {
    "duration": 21,
    "start_time": "2024-05-17T15:24:10.525Z"
   },
   {
    "duration": 147,
    "start_time": "2024-05-17T15:24:29.374Z"
   },
   {
    "duration": 134,
    "start_time": "2024-05-17T15:24:34.014Z"
   },
   {
    "duration": 112,
    "start_time": "2024-05-17T15:24:49.761Z"
   },
   {
    "duration": 391,
    "start_time": "2024-05-17T15:24:55.491Z"
   },
   {
    "duration": 8445,
    "start_time": "2024-05-17T15:25:12.847Z"
   },
   {
    "duration": 1611,
    "start_time": "2024-05-17T15:25:21.297Z"
   },
   {
    "duration": 738,
    "start_time": "2024-05-17T15:25:22.912Z"
   },
   {
    "duration": 146,
    "start_time": "2024-05-17T15:25:23.653Z"
   },
   {
    "duration": 42,
    "start_time": "2024-05-17T15:25:23.803Z"
   },
   {
    "duration": 145,
    "start_time": "2024-05-17T15:25:23.848Z"
   },
   {
    "duration": 203,
    "start_time": "2024-05-17T15:25:23.996Z"
   },
   {
    "duration": 307,
    "start_time": "2024-05-17T15:25:24.202Z"
   },
   {
    "duration": 96,
    "start_time": "2024-05-17T15:25:39.359Z"
   },
   {
    "duration": 359,
    "start_time": "2024-05-17T15:26:05.650Z"
   },
   {
    "duration": 286,
    "start_time": "2024-05-17T15:26:09.518Z"
   },
   {
    "duration": 22,
    "start_time": "2024-05-17T15:26:34.403Z"
   },
   {
    "duration": 103,
    "start_time": "2024-05-17T15:26:40.851Z"
   },
   {
    "duration": 90,
    "start_time": "2024-05-17T15:28:06.334Z"
   },
   {
    "duration": 6,
    "start_time": "2024-05-17T15:28:50.170Z"
   },
   {
    "duration": 1268,
    "start_time": "2024-05-17T15:28:54.007Z"
   },
   {
    "duration": 33,
    "start_time": "2024-05-17T15:29:00.226Z"
   },
   {
    "duration": 39,
    "start_time": "2024-05-17T15:31:21.098Z"
   },
   {
    "duration": 17,
    "start_time": "2024-05-17T15:31:32.241Z"
   },
   {
    "duration": 13,
    "start_time": "2024-05-17T15:31:39.993Z"
   },
   {
    "duration": 8450,
    "start_time": "2024-05-17T15:31:45.426Z"
   },
   {
    "duration": 1572,
    "start_time": "2024-05-17T15:31:53.882Z"
   },
   {
    "duration": 751,
    "start_time": "2024-05-17T15:31:55.458Z"
   },
   {
    "duration": 162,
    "start_time": "2024-05-17T15:31:56.212Z"
   },
   {
    "duration": 25,
    "start_time": "2024-05-17T15:31:56.377Z"
   },
   {
    "duration": 164,
    "start_time": "2024-05-17T15:31:56.406Z"
   },
   {
    "duration": 196,
    "start_time": "2024-05-17T15:31:56.573Z"
   },
   {
    "duration": 100,
    "start_time": "2024-05-17T15:31:56.772Z"
   },
   {
    "duration": 305,
    "start_time": "2024-05-17T15:31:56.875Z"
   },
   {
    "duration": 340,
    "start_time": "2024-05-17T15:31:57.186Z"
   },
   {
    "duration": 301,
    "start_time": "2024-05-17T15:31:57.529Z"
   },
   {
    "duration": 118,
    "start_time": "2024-05-17T15:31:57.834Z"
   },
   {
    "duration": 104,
    "start_time": "2024-05-17T15:31:57.956Z"
   },
   {
    "duration": 23,
    "start_time": "2024-05-17T15:31:58.063Z"
   },
   {
    "duration": 75,
    "start_time": "2024-05-17T15:31:58.089Z"
   },
   {
    "duration": 18,
    "start_time": "2024-05-17T15:33:09.050Z"
   },
   {
    "duration": 12,
    "start_time": "2024-05-17T19:17:44.234Z"
   },
   {
    "duration": 303,
    "start_time": "2024-05-17T19:17:49.033Z"
   },
   {
    "duration": 51628,
    "start_time": "2024-05-17T19:17:57.357Z"
   },
   {
    "duration": 5525,
    "start_time": "2024-05-17T19:18:48.988Z"
   },
   {
    "duration": 838,
    "start_time": "2024-05-17T19:18:54.516Z"
   },
   {
    "duration": 159,
    "start_time": "2024-05-17T19:18:55.358Z"
   },
   {
    "duration": 22,
    "start_time": "2024-05-17T19:18:55.520Z"
   },
   {
    "duration": 166,
    "start_time": "2024-05-17T19:18:55.545Z"
   },
   {
    "duration": 177,
    "start_time": "2024-05-17T19:18:55.714Z"
   },
   {
    "duration": 119,
    "start_time": "2024-05-17T19:18:55.893Z"
   },
   {
    "duration": 305,
    "start_time": "2024-05-17T19:18:56.016Z"
   },
   {
    "duration": 340,
    "start_time": "2024-05-17T19:18:56.325Z"
   },
   {
    "duration": 299,
    "start_time": "2024-05-17T19:18:56.668Z"
   },
   {
    "duration": 113,
    "start_time": "2024-05-17T19:18:56.970Z"
   },
   {
    "duration": 107,
    "start_time": "2024-05-17T19:18:57.089Z"
   },
   {
    "duration": 23,
    "start_time": "2024-05-17T19:18:57.210Z"
   },
   {
    "duration": 72,
    "start_time": "2024-05-17T19:18:57.236Z"
   },
   {
    "duration": 19,
    "start_time": "2024-05-17T19:18:57.313Z"
   },
   {
    "duration": 3,
    "start_time": "2024-05-17T19:24:23.800Z"
   },
   {
    "duration": 5,
    "start_time": "2024-05-17T19:24:29.588Z"
   },
   {
    "duration": 1781,
    "start_time": "2024-05-17T19:24:29.599Z"
   },
   {
    "duration": 731,
    "start_time": "2024-05-17T19:24:31.384Z"
   },
   {
    "duration": 191,
    "start_time": "2024-05-17T19:24:32.118Z"
   },
   {
    "duration": 24,
    "start_time": "2024-05-17T19:24:32.314Z"
   },
   {
    "duration": 170,
    "start_time": "2024-05-17T19:24:32.340Z"
   },
   {
    "duration": 218,
    "start_time": "2024-05-17T19:24:32.514Z"
   },
   {
    "duration": 102,
    "start_time": "2024-05-17T19:24:32.735Z"
   },
   {
    "duration": 324,
    "start_time": "2024-05-17T19:24:32.840Z"
   },
   {
    "duration": 374,
    "start_time": "2024-05-17T19:24:33.168Z"
   },
   {
    "duration": 332,
    "start_time": "2024-05-17T19:24:33.548Z"
   },
   {
    "duration": 115,
    "start_time": "2024-05-17T19:24:33.884Z"
   },
   {
    "duration": 90,
    "start_time": "2024-05-17T19:24:34.008Z"
   },
   {
    "duration": 28,
    "start_time": "2024-05-17T19:24:34.113Z"
   },
   {
    "duration": 65,
    "start_time": "2024-05-17T19:24:34.144Z"
   },
   {
    "duration": 24,
    "start_time": "2024-05-17T19:24:34.213Z"
   },
   {
    "duration": 107,
    "start_time": "2024-05-17T19:29:49.711Z"
   },
   {
    "duration": 6,
    "start_time": "2024-05-17T19:30:28.420Z"
   },
   {
    "duration": 419,
    "start_time": "2024-05-17T19:30:31.963Z"
   },
   {
    "duration": 6,
    "start_time": "2024-05-17T19:30:36.475Z"
   },
   {
    "duration": 1501,
    "start_time": "2024-05-17T19:36:17.756Z"
   },
   {
    "duration": 101,
    "start_time": "2024-05-17T19:36:33.857Z"
   },
   {
    "duration": 5,
    "start_time": "2024-05-17T19:36:59.333Z"
   },
   {
    "duration": 1611,
    "start_time": "2024-05-17T19:36:59.350Z"
   },
   {
    "duration": 736,
    "start_time": "2024-05-17T19:37:00.965Z"
   },
   {
    "duration": 147,
    "start_time": "2024-05-17T19:37:01.704Z"
   },
   {
    "duration": 21,
    "start_time": "2024-05-17T19:37:01.855Z"
   },
   {
    "duration": 158,
    "start_time": "2024-05-17T19:37:01.880Z"
   },
   {
    "duration": 194,
    "start_time": "2024-05-17T19:37:02.042Z"
   },
   {
    "duration": 100,
    "start_time": "2024-05-17T19:37:02.239Z"
   },
   {
    "duration": 310,
    "start_time": "2024-05-17T19:37:02.343Z"
   },
   {
    "duration": 342,
    "start_time": "2024-05-17T19:37:02.657Z"
   },
   {
    "duration": 307,
    "start_time": "2024-05-17T19:37:03.003Z"
   },
   {
    "duration": 112,
    "start_time": "2024-05-17T19:37:03.315Z"
   },
   {
    "duration": 99,
    "start_time": "2024-05-17T19:37:03.430Z"
   },
   {
    "duration": 25,
    "start_time": "2024-05-17T19:37:03.531Z"
   },
   {
    "duration": 65,
    "start_time": "2024-05-17T19:37:03.560Z"
   },
   {
    "duration": 99,
    "start_time": "2024-05-17T19:37:03.628Z"
   },
   {
    "duration": 6,
    "start_time": "2024-05-17T19:37:03.730Z"
   },
   {
    "duration": 1952,
    "start_time": "2024-05-17T19:37:03.740Z"
   },
   {
    "duration": 26,
    "start_time": "2024-05-17T19:38:32.259Z"
   },
   {
    "duration": 21,
    "start_time": "2024-05-17T19:38:56.426Z"
   },
   {
    "duration": 24,
    "start_time": "2024-05-17T19:40:55.884Z"
   },
   {
    "duration": 16,
    "start_time": "2024-05-17T19:41:22.248Z"
   },
   {
    "duration": 45,
    "start_time": "2024-05-17T19:51:34.884Z"
   },
   {
    "duration": 4,
    "start_time": "2024-05-17T19:54:15.017Z"
   },
   {
    "duration": 123,
    "start_time": "2024-05-17T20:01:13.826Z"
   },
   {
    "duration": 81,
    "start_time": "2024-05-17T20:21:24.808Z"
   },
   {
    "duration": 49,
    "start_time": "2024-05-17T20:24:14.519Z"
   },
   {
    "duration": 24,
    "start_time": "2024-05-17T20:24:39.166Z"
   },
   {
    "duration": 26,
    "start_time": "2024-05-17T20:25:58.525Z"
   },
   {
    "duration": 15,
    "start_time": "2024-05-17T20:26:11.751Z"
   },
   {
    "duration": 22,
    "start_time": "2024-05-17T20:26:17.935Z"
   },
   {
    "duration": 4,
    "start_time": "2024-05-17T20:26:30.317Z"
   },
   {
    "duration": 1616,
    "start_time": "2024-05-17T20:26:30.324Z"
   },
   {
    "duration": 734,
    "start_time": "2024-05-17T20:26:31.943Z"
   },
   {
    "duration": 153,
    "start_time": "2024-05-17T20:26:32.680Z"
   },
   {
    "duration": 24,
    "start_time": "2024-05-17T20:26:32.836Z"
   },
   {
    "duration": 161,
    "start_time": "2024-05-17T20:26:32.863Z"
   },
   {
    "duration": 210,
    "start_time": "2024-05-17T20:26:33.026Z"
   },
   {
    "duration": 99,
    "start_time": "2024-05-17T20:26:33.239Z"
   },
   {
    "duration": 310,
    "start_time": "2024-05-17T20:26:33.341Z"
   },
   {
    "duration": 352,
    "start_time": "2024-05-17T20:26:33.656Z"
   },
   {
    "duration": 320,
    "start_time": "2024-05-17T20:26:34.010Z"
   },
   {
    "duration": 105,
    "start_time": "2024-05-17T20:26:34.336Z"
   },
   {
    "duration": 114,
    "start_time": "2024-05-17T20:26:34.445Z"
   },
   {
    "duration": 27,
    "start_time": "2024-05-17T20:26:34.562Z"
   },
   {
    "duration": 60,
    "start_time": "2024-05-17T20:26:34.592Z"
   },
   {
    "duration": 112,
    "start_time": "2024-05-17T20:26:34.655Z"
   },
   {
    "duration": 7,
    "start_time": "2024-05-17T20:26:34.771Z"
   },
   {
    "duration": 39,
    "start_time": "2024-05-17T20:26:34.781Z"
   },
   {
    "duration": 26,
    "start_time": "2024-05-17T20:26:34.825Z"
   },
   {
    "duration": 68,
    "start_time": "2024-05-17T20:26:34.854Z"
   },
   {
    "duration": 7,
    "start_time": "2024-05-17T20:26:34.925Z"
   },
   {
    "duration": 46,
    "start_time": "2024-05-17T20:27:46.229Z"
   },
   {
    "duration": 4,
    "start_time": "2024-05-17T20:28:14.379Z"
   },
   {
    "duration": 1673,
    "start_time": "2024-05-17T20:28:14.388Z"
   },
   {
    "duration": 746,
    "start_time": "2024-05-17T20:28:16.065Z"
   },
   {
    "duration": 153,
    "start_time": "2024-05-17T20:28:16.814Z"
   },
   {
    "duration": 38,
    "start_time": "2024-05-17T20:28:16.973Z"
   },
   {
    "duration": 146,
    "start_time": "2024-05-17T20:28:17.015Z"
   },
   {
    "duration": 196,
    "start_time": "2024-05-17T20:28:17.165Z"
   },
   {
    "duration": 112,
    "start_time": "2024-05-17T20:28:17.366Z"
   },
   {
    "duration": 313,
    "start_time": "2024-05-17T20:28:17.481Z"
   },
   {
    "duration": 342,
    "start_time": "2024-05-17T20:28:17.797Z"
   },
   {
    "duration": 322,
    "start_time": "2024-05-17T20:28:18.142Z"
   },
   {
    "duration": 128,
    "start_time": "2024-05-17T20:28:18.468Z"
   },
   {
    "duration": 117,
    "start_time": "2024-05-17T20:28:18.600Z"
   },
   {
    "duration": 28,
    "start_time": "2024-05-17T20:28:18.723Z"
   },
   {
    "duration": 64,
    "start_time": "2024-05-17T20:28:18.755Z"
   },
   {
    "duration": 99,
    "start_time": "2024-05-17T20:28:18.822Z"
   },
   {
    "duration": 6,
    "start_time": "2024-05-17T20:28:18.924Z"
   },
   {
    "duration": 19,
    "start_time": "2024-05-17T20:28:18.935Z"
   },
   {
    "duration": 53,
    "start_time": "2024-05-17T20:28:18.956Z"
   },
   {
    "duration": 73,
    "start_time": "2024-05-17T20:28:19.011Z"
   },
   {
    "duration": 4,
    "start_time": "2024-05-17T20:28:19.087Z"
   },
   {
    "duration": 438,
    "start_time": "2024-05-17T20:29:55.165Z"
   },
   {
    "duration": 900,
    "start_time": "2024-05-17T20:30:00.758Z"
   },
   {
    "duration": 31,
    "start_time": "2024-05-17T20:31:00.719Z"
   },
   {
    "duration": 155,
    "start_time": "2024-05-17T20:31:31.086Z"
   },
   {
    "duration": 121,
    "start_time": "2024-05-17T20:31:37.305Z"
   },
   {
    "duration": 106,
    "start_time": "2024-05-17T20:31:48.369Z"
   },
   {
    "duration": 4,
    "start_time": "2024-05-17T20:36:00.147Z"
   },
   {
    "duration": 1581,
    "start_time": "2024-05-17T20:36:00.155Z"
   },
   {
    "duration": 731,
    "start_time": "2024-05-17T20:36:01.739Z"
   },
   {
    "duration": 168,
    "start_time": "2024-05-17T20:36:02.473Z"
   },
   {
    "duration": 21,
    "start_time": "2024-05-17T20:36:02.647Z"
   },
   {
    "duration": 162,
    "start_time": "2024-05-17T20:36:02.671Z"
   },
   {
    "duration": 206,
    "start_time": "2024-05-17T20:36:02.836Z"
   },
   {
    "duration": 99,
    "start_time": "2024-05-17T20:36:03.045Z"
   },
   {
    "duration": 304,
    "start_time": "2024-05-17T20:36:03.146Z"
   },
   {
    "duration": 333,
    "start_time": "2024-05-17T20:36:03.453Z"
   },
   {
    "duration": 315,
    "start_time": "2024-05-17T20:36:03.789Z"
   },
   {
    "duration": 111,
    "start_time": "2024-05-17T20:36:04.111Z"
   },
   {
    "duration": 102,
    "start_time": "2024-05-17T20:36:04.225Z"
   },
   {
    "duration": 22,
    "start_time": "2024-05-17T20:36:04.333Z"
   },
   {
    "duration": 72,
    "start_time": "2024-05-17T20:36:04.358Z"
   },
   {
    "duration": 91,
    "start_time": "2024-05-17T20:36:04.432Z"
   },
   {
    "duration": 6,
    "start_time": "2024-05-17T20:36:04.526Z"
   },
   {
    "duration": 469,
    "start_time": "2024-05-17T20:36:04.535Z"
   },
   {
    "duration": 0,
    "start_time": "2024-05-17T20:36:05.009Z"
   },
   {
    "duration": 0,
    "start_time": "2024-05-17T20:36:05.012Z"
   },
   {
    "duration": 0,
    "start_time": "2024-05-17T20:36:05.013Z"
   },
   {
    "duration": 0,
    "start_time": "2024-05-17T20:36:05.015Z"
   },
   {
    "duration": 0,
    "start_time": "2024-05-17T20:36:05.017Z"
   },
   {
    "duration": 21,
    "start_time": "2024-05-17T20:36:22.788Z"
   },
   {
    "duration": 94,
    "start_time": "2024-05-17T20:36:35.016Z"
   },
   {
    "duration": 31,
    "start_time": "2024-05-17T20:36:38.361Z"
   },
   {
    "duration": 128,
    "start_time": "2024-05-17T20:36:57.332Z"
   },
   {
    "duration": 29,
    "start_time": "2024-05-17T20:37:00.745Z"
   },
   {
    "duration": 4,
    "start_time": "2024-05-17T20:37:50.258Z"
   },
   {
    "duration": 1561,
    "start_time": "2024-05-17T20:37:50.266Z"
   },
   {
    "duration": 728,
    "start_time": "2024-05-17T20:37:51.830Z"
   },
   {
    "duration": 157,
    "start_time": "2024-05-17T20:37:52.562Z"
   },
   {
    "duration": 22,
    "start_time": "2024-05-17T20:37:52.723Z"
   },
   {
    "duration": 162,
    "start_time": "2024-05-17T20:37:52.748Z"
   },
   {
    "duration": 195,
    "start_time": "2024-05-17T20:37:52.913Z"
   },
   {
    "duration": 102,
    "start_time": "2024-05-17T20:37:53.111Z"
   },
   {
    "duration": 303,
    "start_time": "2024-05-17T20:37:53.216Z"
   },
   {
    "duration": 347,
    "start_time": "2024-05-17T20:37:53.522Z"
   },
   {
    "duration": 305,
    "start_time": "2024-05-17T20:37:53.872Z"
   },
   {
    "duration": 108,
    "start_time": "2024-05-17T20:37:54.180Z"
   },
   {
    "duration": 99,
    "start_time": "2024-05-17T20:37:54.292Z"
   },
   {
    "duration": 22,
    "start_time": "2024-05-17T20:37:54.408Z"
   },
   {
    "duration": 47,
    "start_time": "2024-05-17T20:37:54.434Z"
   },
   {
    "duration": 102,
    "start_time": "2024-05-17T20:37:54.508Z"
   },
   {
    "duration": 9,
    "start_time": "2024-05-17T20:37:54.613Z"
   },
   {
    "duration": 21,
    "start_time": "2024-05-17T20:37:54.625Z"
   },
   {
    "duration": 117,
    "start_time": "2024-05-17T20:37:54.649Z"
   },
   {
    "duration": 121,
    "start_time": "2024-05-17T20:37:54.769Z"
   },
   {
    "duration": 357,
    "start_time": "2024-05-17T20:37:54.908Z"
   },
   {
    "duration": 5,
    "start_time": "2024-05-17T20:37:55.268Z"
   },
   {
    "duration": 0,
    "start_time": "2024-05-17T20:37:55.277Z"
   },
   {
    "duration": 7,
    "start_time": "2024-05-17T20:38:12.336Z"
   },
   {
    "duration": 1827,
    "start_time": "2024-05-17T20:38:19.246Z"
   },
   {
    "duration": 12,
    "start_time": "2024-05-17T20:38:38.872Z"
   },
   {
    "duration": 31,
    "start_time": "2024-05-17T20:38:51.564Z"
   },
   {
    "duration": 10,
    "start_time": "2024-05-17T20:39:04.584Z"
   },
   {
    "duration": 78,
    "start_time": "2024-05-17T20:39:08.269Z"
   },
   {
    "duration": 4,
    "start_time": "2024-05-17T20:39:20.564Z"
   },
   {
    "duration": 1575,
    "start_time": "2024-05-17T20:39:20.573Z"
   },
   {
    "duration": 777,
    "start_time": "2024-05-17T20:39:22.152Z"
   },
   {
    "duration": 149,
    "start_time": "2024-05-17T20:39:22.933Z"
   },
   {
    "duration": 39,
    "start_time": "2024-05-17T20:39:23.085Z"
   },
   {
    "duration": 150,
    "start_time": "2024-05-17T20:39:23.130Z"
   },
   {
    "duration": 184,
    "start_time": "2024-05-17T20:39:23.282Z"
   },
   {
    "duration": 113,
    "start_time": "2024-05-17T20:39:23.469Z"
   },
   {
    "duration": 316,
    "start_time": "2024-05-17T20:39:23.585Z"
   },
   {
    "duration": 344,
    "start_time": "2024-05-17T20:39:23.903Z"
   },
   {
    "duration": 299,
    "start_time": "2024-05-17T20:39:24.250Z"
   },
   {
    "duration": 121,
    "start_time": "2024-05-17T20:39:24.552Z"
   },
   {
    "duration": 112,
    "start_time": "2024-05-17T20:39:24.676Z"
   },
   {
    "duration": 39,
    "start_time": "2024-05-17T20:39:24.791Z"
   },
   {
    "duration": 43,
    "start_time": "2024-05-17T20:39:24.837Z"
   },
   {
    "duration": 106,
    "start_time": "2024-05-17T20:39:24.883Z"
   },
   {
    "duration": 19,
    "start_time": "2024-05-17T20:39:24.992Z"
   },
   {
    "duration": 23,
    "start_time": "2024-05-17T20:39:25.015Z"
   },
   {
    "duration": 122,
    "start_time": "2024-05-17T20:39:25.042Z"
   },
   {
    "duration": 119,
    "start_time": "2024-05-17T20:39:25.168Z"
   },
   {
    "duration": 388,
    "start_time": "2024-05-17T20:39:25.290Z"
   },
   {
    "duration": 50,
    "start_time": "2024-05-17T20:39:25.680Z"
   },
   {
    "duration": 1858,
    "start_time": "2024-05-17T20:39:25.733Z"
   },
   {
    "duration": 26,
    "start_time": "2024-05-17T20:40:09.701Z"
   },
   {
    "duration": 4,
    "start_time": "2024-05-17T20:40:15.647Z"
   },
   {
    "duration": 1584,
    "start_time": "2024-05-17T20:40:15.656Z"
   },
   {
    "duration": 766,
    "start_time": "2024-05-17T20:40:17.243Z"
   },
   {
    "duration": 150,
    "start_time": "2024-05-17T20:40:18.012Z"
   },
   {
    "duration": 21,
    "start_time": "2024-05-17T20:40:18.167Z"
   },
   {
    "duration": 155,
    "start_time": "2024-05-17T20:40:18.191Z"
   },
   {
    "duration": 212,
    "start_time": "2024-05-17T20:40:18.352Z"
   },
   {
    "duration": 145,
    "start_time": "2024-05-17T20:40:18.567Z"
   },
   {
    "duration": 328,
    "start_time": "2024-05-17T20:40:18.716Z"
   },
   {
    "duration": 348,
    "start_time": "2024-05-17T20:40:19.046Z"
   },
   {
    "duration": 314,
    "start_time": "2024-05-17T20:40:19.396Z"
   },
   {
    "duration": 114,
    "start_time": "2024-05-17T20:40:19.712Z"
   },
   {
    "duration": 102,
    "start_time": "2024-05-17T20:40:19.829Z"
   },
   {
    "duration": 24,
    "start_time": "2024-05-17T20:40:19.936Z"
   },
   {
    "duration": 106,
    "start_time": "2024-05-17T20:40:19.962Z"
   },
   {
    "duration": 104,
    "start_time": "2024-05-17T20:40:20.071Z"
   },
   {
    "duration": 7,
    "start_time": "2024-05-17T20:40:20.178Z"
   },
   {
    "duration": 38,
    "start_time": "2024-05-17T20:40:20.188Z"
   },
   {
    "duration": 98,
    "start_time": "2024-05-17T20:40:20.228Z"
   },
   {
    "duration": 115,
    "start_time": "2024-05-17T20:40:20.329Z"
   },
   {
    "duration": 361,
    "start_time": "2024-05-17T20:40:20.447Z"
   },
   {
    "duration": 39,
    "start_time": "2024-05-17T20:40:20.812Z"
   },
   {
    "duration": 1843,
    "start_time": "2024-05-17T20:40:20.854Z"
   },
   {
    "duration": 24,
    "start_time": "2024-05-17T20:40:59.853Z"
   },
   {
    "duration": 3,
    "start_time": "2024-05-17T20:41:05.096Z"
   },
   {
    "duration": 1640,
    "start_time": "2024-05-17T20:41:05.113Z"
   },
   {
    "duration": 755,
    "start_time": "2024-05-17T20:41:06.757Z"
   },
   {
    "duration": 150,
    "start_time": "2024-05-17T20:41:07.515Z"
   },
   {
    "duration": 21,
    "start_time": "2024-05-17T20:41:07.668Z"
   },
   {
    "duration": 136,
    "start_time": "2024-05-17T20:41:07.709Z"
   },
   {
    "duration": 214,
    "start_time": "2024-05-17T20:41:07.847Z"
   },
   {
    "duration": 105,
    "start_time": "2024-05-17T20:41:08.064Z"
   },
   {
    "duration": 308,
    "start_time": "2024-05-17T20:41:08.172Z"
   },
   {
    "duration": 346,
    "start_time": "2024-05-17T20:41:08.483Z"
   },
   {
    "duration": 308,
    "start_time": "2024-05-17T20:41:08.832Z"
   },
   {
    "duration": 117,
    "start_time": "2024-05-17T20:41:09.143Z"
   },
   {
    "duration": 103,
    "start_time": "2024-05-17T20:41:09.263Z"
   },
   {
    "duration": 41,
    "start_time": "2024-05-17T20:41:09.369Z"
   },
   {
    "duration": 77,
    "start_time": "2024-05-17T20:41:09.415Z"
   },
   {
    "duration": 82,
    "start_time": "2024-05-17T20:41:09.508Z"
   },
   {
    "duration": 18,
    "start_time": "2024-05-17T20:41:09.593Z"
   },
   {
    "duration": 21,
    "start_time": "2024-05-17T20:41:09.614Z"
   },
   {
    "duration": 111,
    "start_time": "2024-05-17T20:41:09.639Z"
   },
   {
    "duration": 111,
    "start_time": "2024-05-17T20:41:09.753Z"
   },
   {
    "duration": 360,
    "start_time": "2024-05-17T20:41:09.869Z"
   },
   {
    "duration": 37,
    "start_time": "2024-05-17T20:41:10.233Z"
   },
   {
    "duration": 1872,
    "start_time": "2024-05-17T20:41:10.273Z"
   },
   {
    "duration": 3,
    "start_time": "2024-05-17T20:48:13.764Z"
   },
   {
    "duration": 4,
    "start_time": "2024-05-17T20:49:36.811Z"
   },
   {
    "duration": 1648,
    "start_time": "2024-05-17T20:49:36.819Z"
   },
   {
    "duration": 766,
    "start_time": "2024-05-17T20:49:38.470Z"
   },
   {
    "duration": 155,
    "start_time": "2024-05-17T20:49:39.240Z"
   },
   {
    "duration": 22,
    "start_time": "2024-05-17T20:49:39.410Z"
   },
   {
    "duration": 151,
    "start_time": "2024-05-17T20:49:39.434Z"
   },
   {
    "duration": 187,
    "start_time": "2024-05-17T20:49:39.588Z"
   },
   {
    "duration": 107,
    "start_time": "2024-05-17T20:49:39.778Z"
   },
   {
    "duration": 309,
    "start_time": "2024-05-17T20:49:39.890Z"
   },
   {
    "duration": 362,
    "start_time": "2024-05-17T20:49:40.202Z"
   },
   {
    "duration": 292,
    "start_time": "2024-05-17T20:49:40.567Z"
   },
   {
    "duration": 110,
    "start_time": "2024-05-17T20:49:40.862Z"
   },
   {
    "duration": 105,
    "start_time": "2024-05-17T20:49:40.975Z"
   },
   {
    "duration": 35,
    "start_time": "2024-05-17T20:49:41.083Z"
   },
   {
    "duration": 72,
    "start_time": "2024-05-17T20:49:41.121Z"
   },
   {
    "duration": 94,
    "start_time": "2024-05-17T20:49:41.195Z"
   },
   {
    "duration": 17,
    "start_time": "2024-05-17T20:49:41.293Z"
   },
   {
    "duration": 47,
    "start_time": "2024-05-17T20:49:41.313Z"
   },
   {
    "duration": 45,
    "start_time": "2024-05-17T20:49:41.364Z"
   },
   {
    "duration": 69,
    "start_time": "2024-05-17T20:49:41.412Z"
   },
   {
    "duration": 137,
    "start_time": "2024-05-17T20:49:41.485Z"
   },
   {
    "duration": 345,
    "start_time": "2024-05-17T20:49:41.625Z"
   },
   {
    "duration": 1882,
    "start_time": "2024-05-17T20:49:41.972Z"
   },
   {
    "duration": 0,
    "start_time": "2024-05-17T20:49:43.857Z"
   },
   {
    "duration": 71,
    "start_time": "2024-05-17T20:57:52.273Z"
   },
   {
    "duration": 107,
    "start_time": "2024-05-17T20:58:17.104Z"
   },
   {
    "duration": 12,
    "start_time": "2024-05-17T20:58:29.386Z"
   },
   {
    "duration": 70,
    "start_time": "2024-05-17T21:01:31.861Z"
   },
   {
    "duration": 5,
    "start_time": "2024-05-17T21:02:01.359Z"
   },
   {
    "duration": 1614,
    "start_time": "2024-05-17T21:02:01.368Z"
   },
   {
    "duration": 753,
    "start_time": "2024-05-17T21:02:02.985Z"
   },
   {
    "duration": 180,
    "start_time": "2024-05-17T21:02:03.742Z"
   },
   {
    "duration": 27,
    "start_time": "2024-05-17T21:02:03.926Z"
   },
   {
    "duration": 168,
    "start_time": "2024-05-17T21:02:03.960Z"
   },
   {
    "duration": 205,
    "start_time": "2024-05-17T21:02:04.131Z"
   },
   {
    "duration": 100,
    "start_time": "2024-05-17T21:02:04.339Z"
   },
   {
    "duration": 335,
    "start_time": "2024-05-17T21:02:04.445Z"
   },
   {
    "duration": 399,
    "start_time": "2024-05-17T21:02:04.783Z"
   },
   {
    "duration": 317,
    "start_time": "2024-05-17T21:02:05.185Z"
   },
   {
    "duration": 111,
    "start_time": "2024-05-17T21:02:05.511Z"
   },
   {
    "duration": 101,
    "start_time": "2024-05-17T21:02:05.626Z"
   },
   {
    "duration": 22,
    "start_time": "2024-05-17T21:02:05.730Z"
   },
   {
    "duration": 105,
    "start_time": "2024-05-17T21:02:05.755Z"
   },
   {
    "duration": 95,
    "start_time": "2024-05-17T21:02:05.863Z"
   },
   {
    "duration": 6,
    "start_time": "2024-05-17T21:02:05.961Z"
   },
   {
    "duration": 60,
    "start_time": "2024-05-17T21:02:05.971Z"
   },
   {
    "duration": 16,
    "start_time": "2024-05-17T21:02:06.035Z"
   },
   {
    "duration": 97,
    "start_time": "2024-05-17T21:02:06.054Z"
   },
   {
    "duration": 344,
    "start_time": "2024-05-17T21:02:06.155Z"
   },
   {
    "duration": 16,
    "start_time": "2024-05-17T21:02:06.502Z"
   },
   {
    "duration": 3,
    "start_time": "2024-05-17T21:02:06.522Z"
   },
   {
    "duration": 8,
    "start_time": "2024-05-18T14:25:06.654Z"
   },
   {
    "duration": 5252,
    "start_time": "2024-05-18T14:25:06.665Z"
   },
   {
    "duration": 807,
    "start_time": "2024-05-18T14:25:11.920Z"
   },
   {
    "duration": 163,
    "start_time": "2024-05-18T14:25:12.732Z"
   },
   {
    "duration": 40,
    "start_time": "2024-05-18T14:25:12.901Z"
   },
   {
    "duration": 140,
    "start_time": "2024-05-18T14:25:12.944Z"
   },
   {
    "duration": 193,
    "start_time": "2024-05-18T14:25:13.087Z"
   },
   {
    "duration": 107,
    "start_time": "2024-05-18T14:25:13.283Z"
   },
   {
    "duration": 307,
    "start_time": "2024-05-18T14:25:13.393Z"
   },
   {
    "duration": 341,
    "start_time": "2024-05-18T14:25:13.703Z"
   },
   {
    "duration": 303,
    "start_time": "2024-05-18T14:25:14.047Z"
   },
   {
    "duration": 110,
    "start_time": "2024-05-18T14:25:14.353Z"
   },
   {
    "duration": 105,
    "start_time": "2024-05-18T14:25:14.466Z"
   },
   {
    "duration": 22,
    "start_time": "2024-05-18T14:25:14.577Z"
   },
   {
    "duration": 92,
    "start_time": "2024-05-18T14:25:14.602Z"
   },
   {
    "duration": 94,
    "start_time": "2024-05-18T14:25:14.697Z"
   },
   {
    "duration": 6,
    "start_time": "2024-05-18T14:25:14.794Z"
   },
   {
    "duration": 54,
    "start_time": "2024-05-18T14:25:14.804Z"
   },
   {
    "duration": 17,
    "start_time": "2024-05-18T14:25:14.862Z"
   },
   {
    "duration": 105,
    "start_time": "2024-05-18T14:25:14.885Z"
   },
   {
    "duration": 337,
    "start_time": "2024-05-18T14:25:14.993Z"
   },
   {
    "duration": 13,
    "start_time": "2024-05-18T14:25:15.333Z"
   },
   {
    "duration": 4,
    "start_time": "2024-05-18T14:25:15.348Z"
   },
   {
    "duration": 16,
    "start_time": "2024-05-18T14:25:35.592Z"
   },
   {
    "duration": 421,
    "start_time": "2024-05-18T14:25:46.111Z"
   },
   {
    "duration": 6,
    "start_time": "2024-05-18T14:25:50.488Z"
   },
   {
    "duration": 14,
    "start_time": "2024-05-18T14:27:59.726Z"
   },
   {
    "duration": 4,
    "start_time": "2024-05-18T14:28:12.211Z"
   },
   {
    "duration": 1663,
    "start_time": "2024-05-18T14:28:12.219Z"
   },
   {
    "duration": 733,
    "start_time": "2024-05-18T14:28:13.885Z"
   },
   {
    "duration": 150,
    "start_time": "2024-05-18T14:28:14.621Z"
   },
   {
    "duration": 22,
    "start_time": "2024-05-18T14:28:14.776Z"
   },
   {
    "duration": 175,
    "start_time": "2024-05-18T14:28:14.800Z"
   },
   {
    "duration": 196,
    "start_time": "2024-05-18T14:28:14.978Z"
   },
   {
    "duration": 107,
    "start_time": "2024-05-18T14:28:15.178Z"
   },
   {
    "duration": 316,
    "start_time": "2024-05-18T14:28:15.288Z"
   },
   {
    "duration": 349,
    "start_time": "2024-05-18T14:28:15.608Z"
   },
   {
    "duration": 295,
    "start_time": "2024-05-18T14:28:15.959Z"
   },
   {
    "duration": 111,
    "start_time": "2024-05-18T14:28:16.258Z"
   },
   {
    "duration": 104,
    "start_time": "2024-05-18T14:28:16.372Z"
   },
   {
    "duration": 22,
    "start_time": "2024-05-18T14:28:16.481Z"
   },
   {
    "duration": 91,
    "start_time": "2024-05-18T14:28:16.506Z"
   },
   {
    "duration": 95,
    "start_time": "2024-05-18T14:28:16.600Z"
   },
   {
    "duration": 9,
    "start_time": "2024-05-18T14:28:16.698Z"
   },
   {
    "duration": 52,
    "start_time": "2024-05-18T14:28:16.709Z"
   },
   {
    "duration": 18,
    "start_time": "2024-05-18T14:28:16.764Z"
   },
   {
    "duration": 98,
    "start_time": "2024-05-18T14:28:16.785Z"
   },
   {
    "duration": 342,
    "start_time": "2024-05-18T14:28:16.886Z"
   },
   {
    "duration": 12,
    "start_time": "2024-05-18T14:28:17.232Z"
   },
   {
    "duration": 12,
    "start_time": "2024-05-18T14:29:57.978Z"
   },
   {
    "duration": 4,
    "start_time": "2024-05-18T14:30:04.562Z"
   },
   {
    "duration": 1622,
    "start_time": "2024-05-18T14:30:04.570Z"
   },
   {
    "duration": 724,
    "start_time": "2024-05-18T14:30:06.195Z"
   },
   {
    "duration": 162,
    "start_time": "2024-05-18T14:30:06.923Z"
   },
   {
    "duration": 22,
    "start_time": "2024-05-18T14:30:07.088Z"
   },
   {
    "duration": 148,
    "start_time": "2024-05-18T14:30:07.130Z"
   },
   {
    "duration": 204,
    "start_time": "2024-05-18T14:30:07.281Z"
   },
   {
    "duration": 100,
    "start_time": "2024-05-18T14:30:07.488Z"
   },
   {
    "duration": 315,
    "start_time": "2024-05-18T14:30:07.594Z"
   },
   {
    "duration": 347,
    "start_time": "2024-05-18T14:30:07.911Z"
   },
   {
    "duration": 311,
    "start_time": "2024-05-18T14:30:08.261Z"
   },
   {
    "duration": 109,
    "start_time": "2024-05-18T14:30:08.576Z"
   },
   {
    "duration": 116,
    "start_time": "2024-05-18T14:30:08.688Z"
   },
   {
    "duration": 35,
    "start_time": "2024-05-18T14:30:08.807Z"
   },
   {
    "duration": 71,
    "start_time": "2024-05-18T14:30:08.845Z"
   },
   {
    "duration": 100,
    "start_time": "2024-05-18T14:30:08.932Z"
   },
   {
    "duration": 7,
    "start_time": "2024-05-18T14:30:09.035Z"
   },
   {
    "duration": 39,
    "start_time": "2024-05-18T14:30:09.044Z"
   },
   {
    "duration": 50,
    "start_time": "2024-05-18T14:30:09.086Z"
   },
   {
    "duration": 70,
    "start_time": "2024-05-18T14:30:09.139Z"
   },
   {
    "duration": 346,
    "start_time": "2024-05-18T14:30:09.212Z"
   },
   {
    "duration": 13,
    "start_time": "2024-05-18T14:30:09.561Z"
   },
   {
    "duration": 11,
    "start_time": "2024-05-18T14:30:21.686Z"
   },
   {
    "duration": 19,
    "start_time": "2024-05-18T14:33:48.198Z"
   },
   {
    "duration": 29,
    "start_time": "2024-05-18T14:33:53.097Z"
   },
   {
    "duration": 5,
    "start_time": "2024-05-18T14:36:01.288Z"
   },
   {
    "duration": 1702,
    "start_time": "2024-05-18T14:36:01.297Z"
   },
   {
    "duration": 748,
    "start_time": "2024-05-18T14:36:03.003Z"
   },
   {
    "duration": 153,
    "start_time": "2024-05-18T14:36:03.754Z"
   },
   {
    "duration": 35,
    "start_time": "2024-05-18T14:36:03.913Z"
   },
   {
    "duration": 145,
    "start_time": "2024-05-18T14:36:03.952Z"
   },
   {
    "duration": 206,
    "start_time": "2024-05-18T14:36:04.100Z"
   },
   {
    "duration": 131,
    "start_time": "2024-05-18T14:36:04.309Z"
   },
   {
    "duration": 307,
    "start_time": "2024-05-18T14:36:04.444Z"
   },
   {
    "duration": 339,
    "start_time": "2024-05-18T14:36:04.754Z"
   },
   {
    "duration": 315,
    "start_time": "2024-05-18T14:36:05.096Z"
   },
   {
    "duration": 126,
    "start_time": "2024-05-18T14:36:05.414Z"
   },
   {
    "duration": 112,
    "start_time": "2024-05-18T14:36:05.544Z"
   },
   {
    "duration": 45,
    "start_time": "2024-05-18T14:36:05.662Z"
   },
   {
    "duration": 39,
    "start_time": "2024-05-18T14:36:05.710Z"
   },
   {
    "duration": 148,
    "start_time": "2024-05-18T14:36:05.752Z"
   },
   {
    "duration": 93,
    "start_time": "2024-05-18T14:36:05.902Z"
   },
   {
    "duration": 7,
    "start_time": "2024-05-18T14:36:05.998Z"
   },
   {
    "duration": 53,
    "start_time": "2024-05-18T14:36:06.008Z"
   },
   {
    "duration": 16,
    "start_time": "2024-05-18T14:36:06.064Z"
   },
   {
    "duration": 95,
    "start_time": "2024-05-18T14:36:06.083Z"
   },
   {
    "duration": 333,
    "start_time": "2024-05-18T14:36:06.181Z"
   },
   {
    "duration": 18,
    "start_time": "2024-05-18T14:36:06.518Z"
   },
   {
    "duration": 419,
    "start_time": "2024-05-18T14:40:27.857Z"
   },
   {
    "duration": 8,
    "start_time": "2024-05-18T14:40:29.791Z"
   },
   {
    "duration": 5,
    "start_time": "2024-05-18T14:40:41.288Z"
   },
   {
    "duration": 1698,
    "start_time": "2024-05-18T14:40:41.297Z"
   },
   {
    "duration": 720,
    "start_time": "2024-05-18T14:40:42.998Z"
   },
   {
    "duration": 151,
    "start_time": "2024-05-18T14:40:43.720Z"
   },
   {
    "duration": 22,
    "start_time": "2024-05-18T14:40:43.877Z"
   },
   {
    "duration": 158,
    "start_time": "2024-05-18T14:40:43.902Z"
   },
   {
    "duration": 194,
    "start_time": "2024-05-18T14:40:44.063Z"
   },
   {
    "duration": 117,
    "start_time": "2024-05-18T14:40:44.259Z"
   },
   {
    "duration": 318,
    "start_time": "2024-05-18T14:40:44.380Z"
   },
   {
    "duration": 350,
    "start_time": "2024-05-18T14:40:44.702Z"
   },
   {
    "duration": 297,
    "start_time": "2024-05-18T14:40:45.055Z"
   },
   {
    "duration": 115,
    "start_time": "2024-05-18T14:40:45.354Z"
   },
   {
    "duration": 110,
    "start_time": "2024-05-18T14:40:45.473Z"
   },
   {
    "duration": 12,
    "start_time": "2024-05-18T14:40:45.589Z"
   },
   {
    "duration": 38,
    "start_time": "2024-05-18T14:40:45.604Z"
   },
   {
    "duration": 145,
    "start_time": "2024-05-18T14:40:45.646Z"
   },
   {
    "duration": 93,
    "start_time": "2024-05-18T14:40:45.794Z"
   },
   {
    "duration": 6,
    "start_time": "2024-05-18T14:40:45.891Z"
   },
   {
    "duration": 50,
    "start_time": "2024-05-18T14:40:45.907Z"
   },
   {
    "duration": 16,
    "start_time": "2024-05-18T14:40:45.960Z"
   },
   {
    "duration": 102,
    "start_time": "2024-05-18T14:40:45.979Z"
   },
   {
    "duration": 323,
    "start_time": "2024-05-18T14:40:46.084Z"
   },
   {
    "duration": 20,
    "start_time": "2024-05-18T14:40:46.410Z"
   },
   {
    "duration": 7,
    "start_time": "2024-05-18T14:40:53.658Z"
   },
   {
    "duration": 1303,
    "start_time": "2024-05-18T14:41:24.238Z"
   },
   {
    "duration": 5,
    "start_time": "2024-05-18T14:41:33.455Z"
   },
   {
    "duration": 1621,
    "start_time": "2024-05-18T14:41:33.464Z"
   },
   {
    "duration": 766,
    "start_time": "2024-05-18T14:41:35.092Z"
   },
   {
    "duration": 154,
    "start_time": "2024-05-18T14:41:35.861Z"
   },
   {
    "duration": 22,
    "start_time": "2024-05-18T14:41:36.030Z"
   },
   {
    "duration": 155,
    "start_time": "2024-05-18T14:41:36.055Z"
   },
   {
    "duration": 203,
    "start_time": "2024-05-18T14:41:36.212Z"
   },
   {
    "duration": 113,
    "start_time": "2024-05-18T14:41:36.418Z"
   },
   {
    "duration": 324,
    "start_time": "2024-05-18T14:41:36.533Z"
   },
   {
    "duration": 354,
    "start_time": "2024-05-18T14:41:36.864Z"
   },
   {
    "duration": 301,
    "start_time": "2024-05-18T14:41:37.221Z"
   },
   {
    "duration": 111,
    "start_time": "2024-05-18T14:41:37.531Z"
   },
   {
    "duration": 100,
    "start_time": "2024-05-18T14:41:37.645Z"
   },
   {
    "duration": 42,
    "start_time": "2024-05-18T14:41:37.749Z"
   },
   {
    "duration": 41,
    "start_time": "2024-05-18T14:41:37.794Z"
   },
   {
    "duration": 10,
    "start_time": "2024-05-18T14:41:37.838Z"
   },
   {
    "duration": 160,
    "start_time": "2024-05-18T14:41:37.852Z"
   },
   {
    "duration": 89,
    "start_time": "2024-05-18T14:41:38.015Z"
   },
   {
    "duration": 7,
    "start_time": "2024-05-18T14:41:38.106Z"
   },
   {
    "duration": 37,
    "start_time": "2024-05-18T14:41:38.130Z"
   },
   {
    "duration": 17,
    "start_time": "2024-05-18T14:41:38.170Z"
   },
   {
    "duration": 102,
    "start_time": "2024-05-18T14:41:38.190Z"
   },
   {
    "duration": 337,
    "start_time": "2024-05-18T14:41:38.295Z"
   },
   {
    "duration": 11,
    "start_time": "2024-05-18T14:41:38.635Z"
   },
   {
    "duration": 5,
    "start_time": "2024-05-18T14:43:09.232Z"
   },
   {
    "duration": 1663,
    "start_time": "2024-05-18T14:43:09.241Z"
   },
   {
    "duration": 718,
    "start_time": "2024-05-18T14:43:10.907Z"
   },
   {
    "duration": 160,
    "start_time": "2024-05-18T14:43:11.628Z"
   },
   {
    "duration": 41,
    "start_time": "2024-05-18T14:43:11.793Z"
   },
   {
    "duration": 153,
    "start_time": "2024-05-18T14:43:11.837Z"
   },
   {
    "duration": 210,
    "start_time": "2024-05-18T14:43:11.993Z"
   },
   {
    "duration": 131,
    "start_time": "2024-05-18T14:43:12.206Z"
   },
   {
    "duration": 305,
    "start_time": "2024-05-18T14:43:12.341Z"
   },
   {
    "duration": 347,
    "start_time": "2024-05-18T14:43:12.649Z"
   },
   {
    "duration": 342,
    "start_time": "2024-05-18T14:43:12.999Z"
   },
   {
    "duration": 109,
    "start_time": "2024-05-18T14:43:13.345Z"
   },
   {
    "duration": 37,
    "start_time": "2024-05-18T14:43:13.458Z"
   },
   {
    "duration": 55,
    "start_time": "2024-05-18T14:43:13.530Z"
   },
   {
    "duration": 1274,
    "start_time": "2024-05-18T14:43:13.588Z"
   },
   {
    "duration": 0,
    "start_time": "2024-05-18T14:43:14.865Z"
   },
   {
    "duration": 0,
    "start_time": "2024-05-18T14:43:14.869Z"
   },
   {
    "duration": 0,
    "start_time": "2024-05-18T14:43:14.871Z"
   },
   {
    "duration": 0,
    "start_time": "2024-05-18T14:43:14.873Z"
   },
   {
    "duration": 0,
    "start_time": "2024-05-18T14:43:14.874Z"
   },
   {
    "duration": 0,
    "start_time": "2024-05-18T14:43:14.878Z"
   },
   {
    "duration": 0,
    "start_time": "2024-05-18T14:43:14.880Z"
   },
   {
    "duration": 0,
    "start_time": "2024-05-18T14:43:14.884Z"
   },
   {
    "duration": 0,
    "start_time": "2024-05-18T14:43:14.885Z"
   },
   {
    "duration": 9,
    "start_time": "2024-05-18T14:43:47.134Z"
   },
   {
    "duration": 10,
    "start_time": "2024-05-18T14:43:49.238Z"
   },
   {
    "duration": 12,
    "start_time": "2024-05-18T14:44:43.157Z"
   },
   {
    "duration": 13,
    "start_time": "2024-05-18T14:45:14.389Z"
   },
   {
    "duration": 11,
    "start_time": "2024-05-18T14:45:23.024Z"
   },
   {
    "duration": 3,
    "start_time": "2024-05-18T14:45:38.854Z"
   },
   {
    "duration": 75,
    "start_time": "2024-05-18T14:45:55.843Z"
   },
   {
    "duration": 54,
    "start_time": "2024-05-18T14:45:58.038Z"
   },
   {
    "duration": 34,
    "start_time": "2024-05-18T14:46:21.619Z"
   },
   {
    "duration": 6,
    "start_time": "2024-05-18T14:46:49.154Z"
   },
   {
    "duration": 16,
    "start_time": "2024-05-18T14:46:51.008Z"
   },
   {
    "duration": 4,
    "start_time": "2024-05-18T14:57:46.249Z"
   },
   {
    "duration": 1610,
    "start_time": "2024-05-18T14:57:46.258Z"
   },
   {
    "duration": 718,
    "start_time": "2024-05-18T14:57:47.871Z"
   },
   {
    "duration": 160,
    "start_time": "2024-05-18T14:57:48.592Z"
   },
   {
    "duration": 22,
    "start_time": "2024-05-18T14:57:48.758Z"
   },
   {
    "duration": 170,
    "start_time": "2024-05-18T14:57:48.783Z"
   },
   {
    "duration": 197,
    "start_time": "2024-05-18T14:57:48.956Z"
   },
   {
    "duration": 103,
    "start_time": "2024-05-18T14:57:49.156Z"
   },
   {
    "duration": 305,
    "start_time": "2024-05-18T14:57:49.262Z"
   },
   {
    "duration": 359,
    "start_time": "2024-05-18T14:57:49.571Z"
   },
   {
    "duration": 291,
    "start_time": "2024-05-18T14:57:49.933Z"
   },
   {
    "duration": 108,
    "start_time": "2024-05-18T14:57:50.230Z"
   },
   {
    "duration": 38,
    "start_time": "2024-05-18T14:57:50.341Z"
   },
   {
    "duration": 79,
    "start_time": "2024-05-18T14:57:50.387Z"
   },
   {
    "duration": 12,
    "start_time": "2024-05-18T14:57:50.470Z"
   },
   {
    "duration": 96,
    "start_time": "2024-05-18T14:57:50.485Z"
   },
   {
    "duration": 65,
    "start_time": "2024-05-18T14:57:50.584Z"
   },
   {
    "duration": 18,
    "start_time": "2024-05-18T14:57:50.651Z"
   },
   {
    "duration": 88,
    "start_time": "2024-05-18T14:57:50.672Z"
   },
   {
    "duration": 327,
    "start_time": "2024-05-18T14:57:50.763Z"
   },
   {
    "duration": 11,
    "start_time": "2024-05-18T14:57:51.093Z"
   },
   {
    "duration": 453,
    "start_time": "2024-05-18T14:57:51.107Z"
   },
   {
    "duration": 5,
    "start_time": "2024-05-18T14:58:45.814Z"
   },
   {
    "duration": 1652,
    "start_time": "2024-05-18T14:58:45.824Z"
   },
   {
    "duration": 724,
    "start_time": "2024-05-18T14:58:47.479Z"
   },
   {
    "duration": 147,
    "start_time": "2024-05-18T14:58:48.206Z"
   },
   {
    "duration": 28,
    "start_time": "2024-05-18T14:58:48.358Z"
   },
   {
    "duration": 174,
    "start_time": "2024-05-18T14:58:48.388Z"
   },
   {
    "duration": 194,
    "start_time": "2024-05-18T14:58:48.566Z"
   },
   {
    "duration": 112,
    "start_time": "2024-05-18T14:58:48.763Z"
   },
   {
    "duration": 307,
    "start_time": "2024-05-18T14:58:48.878Z"
   },
   {
    "duration": 356,
    "start_time": "2024-05-18T14:58:49.189Z"
   },
   {
    "duration": 295,
    "start_time": "2024-05-18T14:58:49.551Z"
   },
   {
    "duration": 109,
    "start_time": "2024-05-18T14:58:49.849Z"
   },
   {
    "duration": 41,
    "start_time": "2024-05-18T14:58:49.961Z"
   },
   {
    "duration": 75,
    "start_time": "2024-05-18T14:58:50.009Z"
   },
   {
    "duration": 13,
    "start_time": "2024-05-18T14:58:50.086Z"
   },
   {
    "duration": 95,
    "start_time": "2024-05-18T14:58:50.102Z"
   },
   {
    "duration": 75,
    "start_time": "2024-05-18T14:58:50.199Z"
   },
   {
    "duration": 16,
    "start_time": "2024-05-18T14:58:50.277Z"
   },
   {
    "duration": 84,
    "start_time": "2024-05-18T14:58:50.296Z"
   },
   {
    "duration": 330,
    "start_time": "2024-05-18T14:58:50.383Z"
   },
   {
    "duration": 18,
    "start_time": "2024-05-18T14:58:50.716Z"
   },
   {
    "duration": 78,
    "start_time": "2024-05-18T14:58:50.737Z"
   },
   {
    "duration": 6,
    "start_time": "2024-05-18T14:58:50.831Z"
   },
   {
    "duration": 5,
    "start_time": "2024-05-18T14:59:41.072Z"
   },
   {
    "duration": 6,
    "start_time": "2024-05-18T15:00:52.643Z"
   },
   {
    "duration": 22,
    "start_time": "2024-05-18T15:06:44.255Z"
   },
   {
    "duration": 15,
    "start_time": "2024-05-18T15:07:07.910Z"
   },
   {
    "duration": 19,
    "start_time": "2024-05-18T15:07:36.023Z"
   },
   {
    "duration": 18,
    "start_time": "2024-05-18T15:08:01.574Z"
   },
   {
    "duration": 420,
    "start_time": "2024-05-18T15:09:17.991Z"
   },
   {
    "duration": 487,
    "start_time": "2024-05-18T15:10:10.101Z"
   },
   {
    "duration": 4,
    "start_time": "2024-05-18T15:11:51.952Z"
   },
   {
    "duration": 1663,
    "start_time": "2024-05-18T15:11:51.960Z"
   },
   {
    "duration": 727,
    "start_time": "2024-05-18T15:11:53.625Z"
   },
   {
    "duration": 163,
    "start_time": "2024-05-18T15:11:54.356Z"
   },
   {
    "duration": 26,
    "start_time": "2024-05-18T15:11:54.523Z"
   },
   {
    "duration": 173,
    "start_time": "2024-05-18T15:11:54.552Z"
   },
   {
    "duration": 190,
    "start_time": "2024-05-18T15:11:54.731Z"
   },
   {
    "duration": 103,
    "start_time": "2024-05-18T15:11:54.932Z"
   },
   {
    "duration": 309,
    "start_time": "2024-05-18T15:11:55.038Z"
   },
   {
    "duration": 349,
    "start_time": "2024-05-18T15:11:55.353Z"
   },
   {
    "duration": 320,
    "start_time": "2024-05-18T15:11:55.705Z"
   },
   {
    "duration": 108,
    "start_time": "2024-05-18T15:11:56.032Z"
   },
   {
    "duration": 41,
    "start_time": "2024-05-18T15:11:56.143Z"
   },
   {
    "duration": 82,
    "start_time": "2024-05-18T15:11:56.187Z"
   },
   {
    "duration": 12,
    "start_time": "2024-05-18T15:11:56.274Z"
   },
   {
    "duration": 108,
    "start_time": "2024-05-18T15:11:56.289Z"
   },
   {
    "duration": 65,
    "start_time": "2024-05-18T15:11:56.400Z"
   },
   {
    "duration": 17,
    "start_time": "2024-05-18T15:11:56.467Z"
   },
   {
    "duration": 75,
    "start_time": "2024-05-18T15:11:56.488Z"
   },
   {
    "duration": 316,
    "start_time": "2024-05-18T15:11:56.566Z"
   },
   {
    "duration": 20,
    "start_time": "2024-05-18T15:11:56.887Z"
   },
   {
    "duration": 26,
    "start_time": "2024-05-18T15:11:56.911Z"
   },
   {
    "duration": 91,
    "start_time": "2024-05-18T15:11:56.939Z"
   },
   {
    "duration": 6,
    "start_time": "2024-05-18T15:11:57.033Z"
   },
   {
    "duration": 19,
    "start_time": "2024-05-18T15:11:57.043Z"
   },
   {
    "duration": 499,
    "start_time": "2024-05-18T15:11:57.066Z"
   },
   {
    "duration": 419,
    "start_time": "2024-05-18T15:11:57.568Z"
   },
   {
    "duration": 412,
    "start_time": "2024-05-18T15:13:46.395Z"
   },
   {
    "duration": 18,
    "start_time": "2024-05-18T15:13:52.659Z"
   },
   {
    "duration": 12,
    "start_time": "2024-05-18T15:14:37.692Z"
   },
   {
    "duration": 67,
    "start_time": "2024-05-18T15:14:39.192Z"
   },
   {
    "duration": 10,
    "start_time": "2024-05-18T15:14:40.967Z"
   },
   {
    "duration": 18,
    "start_time": "2024-05-18T15:14:45.566Z"
   },
   {
    "duration": 28,
    "start_time": "2024-05-18T15:14:50.877Z"
   },
   {
    "duration": 8,
    "start_time": "2024-05-18T15:14:56.786Z"
   },
   {
    "duration": 7,
    "start_time": "2024-05-18T15:15:10.997Z"
   },
   {
    "duration": 90,
    "start_time": "2024-05-18T15:17:44.555Z"
   },
   {
    "duration": 4,
    "start_time": "2024-05-18T15:18:16.739Z"
   },
   {
    "duration": 1636,
    "start_time": "2024-05-18T15:18:16.747Z"
   },
   {
    "duration": 734,
    "start_time": "2024-05-18T15:18:18.386Z"
   },
   {
    "duration": 165,
    "start_time": "2024-05-18T15:18:19.125Z"
   },
   {
    "duration": 38,
    "start_time": "2024-05-18T15:18:19.294Z"
   },
   {
    "duration": 146,
    "start_time": "2024-05-18T15:18:19.335Z"
   },
   {
    "duration": 199,
    "start_time": "2024-05-18T15:18:19.484Z"
   },
   {
    "duration": 103,
    "start_time": "2024-05-18T15:18:19.686Z"
   },
   {
    "duration": 321,
    "start_time": "2024-05-18T15:18:19.795Z"
   },
   {
    "duration": 368,
    "start_time": "2024-05-18T15:18:20.119Z"
   },
   {
    "duration": 307,
    "start_time": "2024-05-18T15:18:20.490Z"
   },
   {
    "duration": 110,
    "start_time": "2024-05-18T15:18:20.800Z"
   },
   {
    "duration": 52,
    "start_time": "2024-05-18T15:18:20.913Z"
   },
   {
    "duration": 76,
    "start_time": "2024-05-18T15:18:20.968Z"
   },
   {
    "duration": 12,
    "start_time": "2024-05-18T15:18:21.048Z"
   },
   {
    "duration": 102,
    "start_time": "2024-05-18T15:18:21.066Z"
   },
   {
    "duration": 62,
    "start_time": "2024-05-18T15:18:21.171Z"
   },
   {
    "duration": 16,
    "start_time": "2024-05-18T15:18:21.236Z"
   },
   {
    "duration": 78,
    "start_time": "2024-05-18T15:18:21.255Z"
   },
   {
    "duration": 329,
    "start_time": "2024-05-18T15:18:21.336Z"
   },
   {
    "duration": 19,
    "start_time": "2024-05-18T15:18:21.667Z"
   },
   {
    "duration": 452,
    "start_time": "2024-05-18T15:18:21.690Z"
   },
   {
    "duration": 18,
    "start_time": "2024-05-18T15:18:22.145Z"
   },
   {
    "duration": 13,
    "start_time": "2024-05-18T15:18:22.170Z"
   },
   {
    "duration": 110,
    "start_time": "2024-05-18T15:18:22.186Z"
   },
   {
    "duration": 6,
    "start_time": "2024-05-18T15:18:22.299Z"
   },
   {
    "duration": 34,
    "start_time": "2024-05-18T15:18:22.308Z"
   },
   {
    "duration": 7,
    "start_time": "2024-05-18T15:18:22.345Z"
   },
   {
    "duration": 82,
    "start_time": "2024-05-18T15:18:22.355Z"
   },
   {
    "duration": 65,
    "start_time": "2024-05-18T15:18:53.266Z"
   },
   {
    "duration": 6,
    "start_time": "2024-05-18T15:18:54.955Z"
   },
   {
    "duration": 46,
    "start_time": "2024-05-18T15:21:37.268Z"
   },
   {
    "duration": 8363,
    "start_time": "2024-05-18T15:22:25.570Z"
   },
   {
    "duration": 11685,
    "start_time": "2024-05-18T15:25:33.171Z"
   },
   {
    "duration": 48,
    "start_time": "2024-05-18T15:31:59.657Z"
   },
   {
    "duration": 9,
    "start_time": "2024-05-18T15:32:31.186Z"
   },
   {
    "duration": 83,
    "start_time": "2024-05-18T15:32:48.050Z"
   },
   {
    "duration": 48,
    "start_time": "2024-05-18T15:33:18.545Z"
   },
   {
    "duration": 49,
    "start_time": "2024-05-18T15:37:52.114Z"
   },
   {
    "duration": 47,
    "start_time": "2024-05-18T15:38:13.366Z"
   },
   {
    "duration": 42,
    "start_time": "2024-05-18T15:40:21.886Z"
   },
   {
    "duration": 54,
    "start_time": "2024-05-18T15:40:25.500Z"
   },
   {
    "duration": 49,
    "start_time": "2024-05-18T15:40:26.444Z"
   },
   {
    "duration": 66,
    "start_time": "2024-05-18T15:40:27.229Z"
   },
   {
    "duration": 54,
    "start_time": "2024-05-18T15:40:27.909Z"
   },
   {
    "duration": 43,
    "start_time": "2024-05-18T15:40:28.596Z"
   },
   {
    "duration": 44,
    "start_time": "2024-05-18T15:40:29.258Z"
   },
   {
    "duration": 49,
    "start_time": "2024-05-18T15:40:29.989Z"
   },
   {
    "duration": 52,
    "start_time": "2024-05-18T15:40:30.653Z"
   },
   {
    "duration": 4,
    "start_time": "2024-05-18T15:40:38.063Z"
   },
   {
    "duration": 1835,
    "start_time": "2024-05-18T15:40:38.072Z"
   },
   {
    "duration": 777,
    "start_time": "2024-05-18T15:40:39.910Z"
   },
   {
    "duration": 179,
    "start_time": "2024-05-18T15:40:40.691Z"
   },
   {
    "duration": 27,
    "start_time": "2024-05-18T15:40:40.875Z"
   },
   {
    "duration": 159,
    "start_time": "2024-05-18T15:40:40.905Z"
   },
   {
    "duration": 221,
    "start_time": "2024-05-18T15:40:41.067Z"
   },
   {
    "duration": 106,
    "start_time": "2024-05-18T15:40:41.292Z"
   },
   {
    "duration": 351,
    "start_time": "2024-05-18T15:40:41.405Z"
   },
   {
    "duration": 394,
    "start_time": "2024-05-18T15:40:41.759Z"
   },
   {
    "duration": 329,
    "start_time": "2024-05-18T15:40:42.156Z"
   },
   {
    "duration": 116,
    "start_time": "2024-05-18T15:40:42.488Z"
   },
   {
    "duration": 63,
    "start_time": "2024-05-18T15:40:42.609Z"
   },
   {
    "duration": 76,
    "start_time": "2024-05-18T15:40:42.676Z"
   },
   {
    "duration": 15,
    "start_time": "2024-05-18T15:40:42.755Z"
   },
   {
    "duration": 111,
    "start_time": "2024-05-18T15:40:42.773Z"
   },
   {
    "duration": 75,
    "start_time": "2024-05-18T15:40:42.887Z"
   },
   {
    "duration": 17,
    "start_time": "2024-05-18T15:40:42.966Z"
   },
   {
    "duration": 80,
    "start_time": "2024-05-18T15:40:42.986Z"
   },
   {
    "duration": 314,
    "start_time": "2024-05-18T15:40:43.074Z"
   },
   {
    "duration": 19,
    "start_time": "2024-05-18T15:40:43.391Z"
   },
   {
    "duration": 403,
    "start_time": "2024-05-18T15:40:43.430Z"
   },
   {
    "duration": 19,
    "start_time": "2024-05-18T15:40:43.839Z"
   },
   {
    "duration": 13,
    "start_time": "2024-05-18T15:40:43.864Z"
   },
   {
    "duration": 106,
    "start_time": "2024-05-18T15:40:43.880Z"
   },
   {
    "duration": 6,
    "start_time": "2024-05-18T15:40:43.989Z"
   },
   {
    "duration": 48,
    "start_time": "2024-05-18T15:40:43.999Z"
   },
   {
    "duration": 10,
    "start_time": "2024-05-18T15:40:44.050Z"
   },
   {
    "duration": 646,
    "start_time": "2024-05-18T15:40:44.065Z"
   },
   {
    "duration": 102,
    "start_time": "2024-05-18T15:40:57.037Z"
   },
   {
    "duration": 62,
    "start_time": "2024-05-18T15:41:07.816Z"
   },
   {
    "duration": 54,
    "start_time": "2024-05-18T15:41:09.693Z"
   },
   {
    "duration": 71,
    "start_time": "2024-05-18T15:41:10.364Z"
   },
   {
    "duration": 58,
    "start_time": "2024-05-18T15:41:10.964Z"
   },
   {
    "duration": 85,
    "start_time": "2024-05-18T15:41:11.549Z"
   },
   {
    "duration": 90,
    "start_time": "2024-05-18T15:41:12.163Z"
   },
   {
    "duration": 79,
    "start_time": "2024-05-18T15:41:12.805Z"
   },
   {
    "duration": 55,
    "start_time": "2024-05-18T15:41:13.436Z"
   },
   {
    "duration": 110,
    "start_time": "2024-05-18T15:41:14.021Z"
   },
   {
    "duration": 74,
    "start_time": "2024-05-18T15:41:14.961Z"
   },
   {
    "duration": 4,
    "start_time": "2024-05-18T15:41:21.198Z"
   },
   {
    "duration": 2088,
    "start_time": "2024-05-18T15:41:21.207Z"
   },
   {
    "duration": 1015,
    "start_time": "2024-05-18T15:41:23.302Z"
   },
   {
    "duration": 251,
    "start_time": "2024-05-18T15:41:24.324Z"
   },
   {
    "duration": 31,
    "start_time": "2024-05-18T15:41:24.582Z"
   },
   {
    "duration": 241,
    "start_time": "2024-05-18T15:41:24.633Z"
   },
   {
    "duration": 281,
    "start_time": "2024-05-18T15:41:24.881Z"
   },
   {
    "duration": 174,
    "start_time": "2024-05-18T15:41:25.166Z"
   },
   {
    "duration": 433,
    "start_time": "2024-05-18T15:41:25.344Z"
   },
   {
    "duration": 485,
    "start_time": "2024-05-18T15:41:25.781Z"
   },
   {
    "duration": 420,
    "start_time": "2024-05-18T15:41:26.281Z"
   },
   {
    "duration": 185,
    "start_time": "2024-05-18T15:41:26.708Z"
   },
   {
    "duration": 58,
    "start_time": "2024-05-18T15:41:26.902Z"
   },
   {
    "duration": 86,
    "start_time": "2024-05-18T15:41:26.963Z"
   },
   {
    "duration": 16,
    "start_time": "2024-05-18T15:41:27.052Z"
   },
   {
    "duration": 110,
    "start_time": "2024-05-18T15:41:27.072Z"
   },
   {
    "duration": 78,
    "start_time": "2024-05-18T15:41:27.186Z"
   },
   {
    "duration": 19,
    "start_time": "2024-05-18T15:41:27.268Z"
   },
   {
    "duration": 93,
    "start_time": "2024-05-18T15:41:27.291Z"
   },
   {
    "duration": 452,
    "start_time": "2024-05-18T15:41:27.388Z"
   },
   {
    "duration": 23,
    "start_time": "2024-05-18T15:41:27.843Z"
   },
   {
    "duration": 447,
    "start_time": "2024-05-18T15:41:27.870Z"
   },
   {
    "duration": 22,
    "start_time": "2024-05-18T15:41:28.321Z"
   },
   {
    "duration": 15,
    "start_time": "2024-05-18T15:41:28.346Z"
   },
   {
    "duration": 113,
    "start_time": "2024-05-18T15:41:28.365Z"
   },
   {
    "duration": 7,
    "start_time": "2024-05-18T15:41:28.481Z"
   },
   {
    "duration": 42,
    "start_time": "2024-05-18T15:41:28.492Z"
   },
   {
    "duration": 8,
    "start_time": "2024-05-18T15:41:28.537Z"
   },
   {
    "duration": 102,
    "start_time": "2024-05-18T15:41:28.549Z"
   },
   {
    "duration": 79,
    "start_time": "2024-05-18T15:42:50.852Z"
   },
   {
    "duration": 123,
    "start_time": "2024-05-18T15:44:00.015Z"
   },
   {
    "duration": 56167,
    "start_time": "2024-05-18T15:44:53.490Z"
   },
   {
    "duration": 54616,
    "start_time": "2024-05-18T15:48:04.303Z"
   },
   {
    "duration": 4,
    "start_time": "2024-05-18T17:02:50.754Z"
   },
   {
    "duration": 5322,
    "start_time": "2024-05-18T17:02:50.769Z"
   },
   {
    "duration": 771,
    "start_time": "2024-05-18T17:02:56.096Z"
   },
   {
    "duration": 165,
    "start_time": "2024-05-18T17:02:56.870Z"
   },
   {
    "duration": 24,
    "start_time": "2024-05-18T17:02:57.041Z"
   },
   {
    "duration": 165,
    "start_time": "2024-05-18T17:02:57.070Z"
   },
   {
    "duration": 204,
    "start_time": "2024-05-18T17:02:57.238Z"
   },
   {
    "duration": 103,
    "start_time": "2024-05-18T17:02:57.445Z"
   },
   {
    "duration": 309,
    "start_time": "2024-05-18T17:02:57.551Z"
   },
   {
    "duration": 356,
    "start_time": "2024-05-18T17:02:57.863Z"
   },
   {
    "duration": 288,
    "start_time": "2024-05-18T17:02:58.222Z"
   },
   {
    "duration": 112,
    "start_time": "2024-05-18T17:02:58.513Z"
   },
   {
    "duration": 38,
    "start_time": "2024-05-18T17:02:58.627Z"
   },
   {
    "duration": 82,
    "start_time": "2024-05-18T17:02:58.668Z"
   },
   {
    "duration": 13,
    "start_time": "2024-05-18T17:02:58.759Z"
   },
   {
    "duration": 113,
    "start_time": "2024-05-18T17:02:58.776Z"
   },
   {
    "duration": 62,
    "start_time": "2024-05-18T17:02:58.891Z"
   },
   {
    "duration": 20,
    "start_time": "2024-05-18T17:02:58.956Z"
   },
   {
    "duration": 75,
    "start_time": "2024-05-18T17:02:58.979Z"
   },
   {
    "duration": 344,
    "start_time": "2024-05-18T17:02:59.057Z"
   },
   {
    "duration": 18,
    "start_time": "2024-05-18T17:02:59.408Z"
   },
   {
    "duration": 411,
    "start_time": "2024-05-18T17:02:59.429Z"
   },
   {
    "duration": 17,
    "start_time": "2024-05-18T17:02:59.843Z"
   },
   {
    "duration": 14,
    "start_time": "2024-05-18T17:02:59.863Z"
   },
   {
    "duration": 70,
    "start_time": "2024-05-18T17:02:59.908Z"
   },
   {
    "duration": 7,
    "start_time": "2024-05-18T17:02:59.980Z"
   },
   {
    "duration": 19,
    "start_time": "2024-05-18T17:03:00.009Z"
   },
   {
    "duration": 7,
    "start_time": "2024-05-18T17:03:00.031Z"
   },
   {
    "duration": 86,
    "start_time": "2024-05-18T17:03:00.041Z"
   },
   {
    "duration": 5598,
    "start_time": "2024-05-18T17:03:00.129Z"
   },
   {
    "duration": 44219,
    "start_time": "2024-05-18T17:03:05.730Z"
   },
   {
    "duration": 11680,
    "start_time": "2024-05-18T17:05:23.329Z"
   },
   {
    "duration": 8703,
    "start_time": "2024-05-18T17:05:57.619Z"
   },
   {
    "duration": 5385,
    "start_time": "2024-05-18T17:07:24.833Z"
   },
   {
    "duration": 12026,
    "start_time": "2024-05-18T17:07:56.497Z"
   },
   {
    "duration": 11627,
    "start_time": "2024-05-18T17:08:18.289Z"
   },
   {
    "duration": 4,
    "start_time": "2024-05-18T17:09:15.826Z"
   },
   {
    "duration": 1624,
    "start_time": "2024-05-18T17:09:15.834Z"
   },
   {
    "duration": 714,
    "start_time": "2024-05-18T17:09:17.462Z"
   },
   {
    "duration": 175,
    "start_time": "2024-05-18T17:09:18.181Z"
   },
   {
    "duration": 23,
    "start_time": "2024-05-18T17:09:18.359Z"
   },
   {
    "duration": 165,
    "start_time": "2024-05-18T17:09:18.385Z"
   },
   {
    "duration": 190,
    "start_time": "2024-05-18T17:09:18.553Z"
   },
   {
    "duration": 105,
    "start_time": "2024-05-18T17:09:18.746Z"
   },
   {
    "duration": 301,
    "start_time": "2024-05-18T17:09:18.856Z"
   },
   {
    "duration": 354,
    "start_time": "2024-05-18T17:09:19.160Z"
   },
   {
    "duration": 297,
    "start_time": "2024-05-18T17:09:19.517Z"
   },
   {
    "duration": 112,
    "start_time": "2024-05-18T17:09:19.817Z"
   },
   {
    "duration": 37,
    "start_time": "2024-05-18T17:09:19.933Z"
   },
   {
    "duration": 74,
    "start_time": "2024-05-18T17:09:19.974Z"
   },
   {
    "duration": 13,
    "start_time": "2024-05-18T17:09:20.050Z"
   },
   {
    "duration": 96,
    "start_time": "2024-05-18T17:09:20.066Z"
   },
   {
    "duration": 66,
    "start_time": "2024-05-18T17:09:20.165Z"
   },
   {
    "duration": 16,
    "start_time": "2024-05-18T17:09:20.234Z"
   },
   {
    "duration": 77,
    "start_time": "2024-05-18T17:09:20.253Z"
   },
   {
    "duration": 338,
    "start_time": "2024-05-18T17:09:20.333Z"
   },
   {
    "duration": 19,
    "start_time": "2024-05-18T17:09:20.674Z"
   },
   {
    "duration": 404,
    "start_time": "2024-05-18T17:09:20.707Z"
   },
   {
    "duration": 17,
    "start_time": "2024-05-18T17:09:21.114Z"
   },
   {
    "duration": 13,
    "start_time": "2024-05-18T17:09:21.137Z"
   },
   {
    "duration": 101,
    "start_time": "2024-05-18T17:09:21.153Z"
   },
   {
    "duration": 7,
    "start_time": "2024-05-18T17:09:21.257Z"
   },
   {
    "duration": 44,
    "start_time": "2024-05-18T17:09:21.267Z"
   },
   {
    "duration": 7,
    "start_time": "2024-05-18T17:09:21.314Z"
   },
   {
    "duration": 95,
    "start_time": "2024-05-18T17:09:21.323Z"
   },
   {
    "duration": 11605,
    "start_time": "2024-05-18T17:09:21.421Z"
   },
   {
    "duration": 11602,
    "start_time": "2024-05-18T17:09:33.029Z"
   },
   {
    "duration": 43743,
    "start_time": "2024-05-18T17:09:44.636Z"
   },
   {
    "duration": 4160,
    "start_time": "2024-05-18T17:10:28.383Z"
   },
   {
    "duration": 11551,
    "start_time": "2024-05-18T17:10:37.770Z"
   },
   {
    "duration": 11406,
    "start_time": "2024-05-18T17:15:07.018Z"
   },
   {
    "duration": 76,
    "start_time": "2024-05-18T17:18:42.291Z"
   },
   {
    "duration": 50,
    "start_time": "2024-05-18T17:18:43.275Z"
   },
   {
    "duration": 49,
    "start_time": "2024-05-18T17:18:44.287Z"
   },
   {
    "duration": 97,
    "start_time": "2024-05-18T17:18:45.119Z"
   },
   {
    "duration": 51,
    "start_time": "2024-05-18T17:18:45.941Z"
   },
   {
    "duration": 48,
    "start_time": "2024-05-18T17:18:46.693Z"
   },
   {
    "duration": 47,
    "start_time": "2024-05-18T17:18:47.514Z"
   },
   {
    "duration": 87,
    "start_time": "2024-05-18T17:18:48.220Z"
   },
   {
    "duration": 45,
    "start_time": "2024-05-18T17:18:48.973Z"
   },
   {
    "duration": 12459,
    "start_time": "2024-05-18T17:19:19.576Z"
   },
   {
    "duration": 13715,
    "start_time": "2024-05-18T17:21:43.503Z"
   },
   {
    "duration": 11095,
    "start_time": "2024-05-18T17:22:18.324Z"
   },
   {
    "duration": 12037,
    "start_time": "2024-05-18T17:24:17.879Z"
   },
   {
    "duration": 4,
    "start_time": "2024-05-18T17:24:55.006Z"
   },
   {
    "duration": 1718,
    "start_time": "2024-05-18T17:24:55.018Z"
   },
   {
    "duration": 779,
    "start_time": "2024-05-18T17:24:56.741Z"
   },
   {
    "duration": 166,
    "start_time": "2024-05-18T17:24:57.524Z"
   },
   {
    "duration": 33,
    "start_time": "2024-05-18T17:24:57.694Z"
   },
   {
    "duration": 150,
    "start_time": "2024-05-18T17:24:57.732Z"
   },
   {
    "duration": 195,
    "start_time": "2024-05-18T17:24:57.885Z"
   },
   {
    "duration": 150,
    "start_time": "2024-05-18T17:24:58.084Z"
   },
   {
    "duration": 332,
    "start_time": "2024-05-18T17:24:58.238Z"
   },
   {
    "duration": 412,
    "start_time": "2024-05-18T17:24:58.574Z"
   },
   {
    "duration": 337,
    "start_time": "2024-05-18T17:24:58.990Z"
   },
   {
    "duration": 119,
    "start_time": "2024-05-18T17:24:59.331Z"
   },
   {
    "duration": 65,
    "start_time": "2024-05-18T17:24:59.456Z"
   },
   {
    "duration": 84,
    "start_time": "2024-05-18T17:24:59.524Z"
   },
   {
    "duration": 15,
    "start_time": "2024-05-18T17:24:59.615Z"
   },
   {
    "duration": 98,
    "start_time": "2024-05-18T17:24:59.633Z"
   },
   {
    "duration": 74,
    "start_time": "2024-05-18T17:24:59.734Z"
   },
   {
    "duration": 17,
    "start_time": "2024-05-18T17:24:59.811Z"
   },
   {
    "duration": 87,
    "start_time": "2024-05-18T17:24:59.832Z"
   },
   {
    "duration": 333,
    "start_time": "2024-05-18T17:24:59.925Z"
   },
   {
    "duration": 23,
    "start_time": "2024-05-18T17:25:00.260Z"
   },
   {
    "duration": 447,
    "start_time": "2024-05-18T17:25:00.287Z"
   },
   {
    "duration": 18,
    "start_time": "2024-05-18T17:25:00.737Z"
   },
   {
    "duration": 15,
    "start_time": "2024-05-18T17:25:00.759Z"
   },
   {
    "duration": 76,
    "start_time": "2024-05-18T17:25:00.810Z"
   },
   {
    "duration": 20,
    "start_time": "2024-05-18T17:25:00.892Z"
   },
   {
    "duration": 24,
    "start_time": "2024-05-18T17:25:00.916Z"
   },
   {
    "duration": 7,
    "start_time": "2024-05-18T17:25:00.944Z"
   },
   {
    "duration": 157,
    "start_time": "2024-05-18T17:25:00.955Z"
   },
   {
    "duration": 11192,
    "start_time": "2024-05-18T17:25:01.117Z"
   },
   {
    "duration": 48336,
    "start_time": "2024-05-18T17:25:12.313Z"
   },
   {
    "duration": 6,
    "start_time": "2024-05-18T17:26:14.184Z"
   },
   {
    "duration": 46499,
    "start_time": "2024-05-18T17:27:19.476Z"
   },
   {
    "duration": 142597,
    "start_time": "2024-05-18T17:28:34.350Z"
   },
   {
    "duration": 0,
    "start_time": "2024-05-18T17:30:56.952Z"
   },
   {
    "duration": 12403,
    "start_time": "2024-05-18T17:31:02.619Z"
   },
   {
    "duration": 4,
    "start_time": "2024-05-18T17:31:43.566Z"
   },
   {
    "duration": 2011,
    "start_time": "2024-05-18T17:31:43.575Z"
   },
   {
    "duration": 743,
    "start_time": "2024-05-18T17:31:45.591Z"
   },
   {
    "duration": 174,
    "start_time": "2024-05-18T17:31:46.337Z"
   },
   {
    "duration": 24,
    "start_time": "2024-05-18T17:31:46.516Z"
   },
   {
    "duration": 169,
    "start_time": "2024-05-18T17:31:46.544Z"
   },
   {
    "duration": 196,
    "start_time": "2024-05-18T17:31:46.717Z"
   },
   {
    "duration": 106,
    "start_time": "2024-05-18T17:31:46.916Z"
   },
   {
    "duration": 318,
    "start_time": "2024-05-18T17:31:47.029Z"
   },
   {
    "duration": 367,
    "start_time": "2024-05-18T17:31:47.351Z"
   },
   {
    "duration": 308,
    "start_time": "2024-05-18T17:31:47.725Z"
   },
   {
    "duration": 111,
    "start_time": "2024-05-18T17:31:48.036Z"
   },
   {
    "duration": 59,
    "start_time": "2024-05-18T17:31:48.151Z"
   },
   {
    "duration": 59,
    "start_time": "2024-05-18T17:31:48.213Z"
   },
   {
    "duration": 40,
    "start_time": "2024-05-18T17:31:48.275Z"
   },
   {
    "duration": 77,
    "start_time": "2024-05-18T17:31:48.321Z"
   },
   {
    "duration": 54,
    "start_time": "2024-05-18T17:31:48.410Z"
   },
   {
    "duration": 42,
    "start_time": "2024-05-18T17:31:48.467Z"
   },
   {
    "duration": 58,
    "start_time": "2024-05-18T17:31:48.512Z"
   },
   {
    "duration": 358,
    "start_time": "2024-05-18T17:31:48.572Z"
   },
   {
    "duration": 21,
    "start_time": "2024-05-18T17:31:48.934Z"
   },
   {
    "duration": 421,
    "start_time": "2024-05-18T17:31:48.959Z"
   },
   {
    "duration": 29,
    "start_time": "2024-05-18T17:31:49.383Z"
   },
   {
    "duration": 14,
    "start_time": "2024-05-18T17:31:49.415Z"
   },
   {
    "duration": 96,
    "start_time": "2024-05-18T17:31:49.432Z"
   },
   {
    "duration": 7,
    "start_time": "2024-05-18T17:31:49.531Z"
   },
   {
    "duration": 20,
    "start_time": "2024-05-18T17:31:49.542Z"
   },
   {
    "duration": 8,
    "start_time": "2024-05-18T17:31:49.565Z"
   },
   {
    "duration": 15035,
    "start_time": "2024-05-18T17:31:49.612Z"
   },
   {
    "duration": 0,
    "start_time": "2024-05-18T17:32:04.651Z"
   },
   {
    "duration": 0,
    "start_time": "2024-05-18T17:32:04.653Z"
   },
   {
    "duration": 0,
    "start_time": "2024-05-18T17:32:04.655Z"
   },
   {
    "duration": 15,
    "start_time": "2024-05-18T17:32:46.288Z"
   },
   {
    "duration": 12684,
    "start_time": "2024-05-18T17:32:51.355Z"
   },
   {
    "duration": 84,
    "start_time": "2024-05-18T17:33:11.224Z"
   },
   {
    "duration": 12886,
    "start_time": "2024-05-18T17:34:05.446Z"
   },
   {
    "duration": 15755,
    "start_time": "2024-05-18T17:34:32.958Z"
   },
   {
    "duration": 6039,
    "start_time": "2024-05-18T17:35:14.294Z"
   },
   {
    "duration": 5,
    "start_time": "2024-05-18T17:35:31.565Z"
   },
   {
    "duration": 1895,
    "start_time": "2024-05-18T17:35:31.589Z"
   },
   {
    "duration": 801,
    "start_time": "2024-05-18T17:35:33.489Z"
   },
   {
    "duration": 173,
    "start_time": "2024-05-18T17:35:34.296Z"
   },
   {
    "duration": 45,
    "start_time": "2024-05-18T17:35:34.473Z"
   },
   {
    "duration": 171,
    "start_time": "2024-05-18T17:35:34.522Z"
   },
   {
    "duration": 185,
    "start_time": "2024-05-18T17:35:34.710Z"
   },
   {
    "duration": 119,
    "start_time": "2024-05-18T17:35:34.898Z"
   },
   {
    "duration": 341,
    "start_time": "2024-05-18T17:35:35.022Z"
   },
   {
    "duration": 361,
    "start_time": "2024-05-18T17:35:35.368Z"
   },
   {
    "duration": 300,
    "start_time": "2024-05-18T17:35:35.732Z"
   },
   {
    "duration": 109,
    "start_time": "2024-05-18T17:35:36.036Z"
   },
   {
    "duration": 60,
    "start_time": "2024-05-18T17:35:36.148Z"
   },
   {
    "duration": 59,
    "start_time": "2024-05-18T17:35:36.213Z"
   },
   {
    "duration": 33,
    "start_time": "2024-05-18T17:35:36.280Z"
   },
   {
    "duration": 73,
    "start_time": "2024-05-18T17:35:36.317Z"
   },
   {
    "duration": 64,
    "start_time": "2024-05-18T17:35:36.409Z"
   },
   {
    "duration": 34,
    "start_time": "2024-05-18T17:35:36.481Z"
   },
   {
    "duration": 66,
    "start_time": "2024-05-18T17:35:36.520Z"
   },
   {
    "duration": 369,
    "start_time": "2024-05-18T17:35:36.590Z"
   },
   {
    "duration": 27,
    "start_time": "2024-05-18T17:35:36.962Z"
   },
   {
    "duration": 437,
    "start_time": "2024-05-18T17:35:36.992Z"
   },
   {
    "duration": 17,
    "start_time": "2024-05-18T17:35:37.433Z"
   },
   {
    "duration": 13,
    "start_time": "2024-05-18T17:35:37.453Z"
   },
   {
    "duration": 109,
    "start_time": "2024-05-18T17:35:37.472Z"
   },
   {
    "duration": 6,
    "start_time": "2024-05-18T17:35:37.585Z"
   },
   {
    "duration": 24,
    "start_time": "2024-05-18T17:35:37.610Z"
   },
   {
    "duration": 7,
    "start_time": "2024-05-18T17:35:37.637Z"
   },
   {
    "duration": 14990,
    "start_time": "2024-05-18T17:35:37.648Z"
   },
   {
    "duration": 16173,
    "start_time": "2024-05-18T17:35:52.642Z"
   },
   {
    "duration": 46949,
    "start_time": "2024-05-18T17:36:08.819Z"
   },
   {
    "duration": 103594,
    "start_time": "2024-05-18T17:36:55.771Z"
   },
   {
    "duration": 0,
    "start_time": "2024-05-18T17:38:39.369Z"
   },
   {
    "duration": 0,
    "start_time": "2024-05-18T17:38:58.803Z"
   },
   {
    "duration": 6,
    "start_time": "2024-05-18T17:39:41.659Z"
   },
   {
    "duration": 1671,
    "start_time": "2024-05-18T17:39:41.669Z"
   },
   {
    "duration": 789,
    "start_time": "2024-05-18T17:39:43.343Z"
   },
   {
    "duration": 188,
    "start_time": "2024-05-18T17:39:44.137Z"
   },
   {
    "duration": 28,
    "start_time": "2024-05-18T17:39:44.328Z"
   },
   {
    "duration": 179,
    "start_time": "2024-05-18T17:39:44.361Z"
   },
   {
    "duration": 224,
    "start_time": "2024-05-18T17:39:44.542Z"
   },
   {
    "duration": 139,
    "start_time": "2024-05-18T17:39:44.769Z"
   },
   {
    "duration": 314,
    "start_time": "2024-05-18T17:39:44.921Z"
   },
   {
    "duration": 364,
    "start_time": "2024-05-18T17:39:45.240Z"
   },
   {
    "duration": 330,
    "start_time": "2024-05-18T17:39:45.608Z"
   },
   {
    "duration": 153,
    "start_time": "2024-05-18T17:39:45.942Z"
   },
   {
    "duration": 45,
    "start_time": "2024-05-18T17:39:46.098Z"
   },
   {
    "duration": 81,
    "start_time": "2024-05-18T17:39:46.149Z"
   },
   {
    "duration": 13,
    "start_time": "2024-05-18T17:39:46.235Z"
   },
   {
    "duration": 103,
    "start_time": "2024-05-18T17:39:46.252Z"
   },
   {
    "duration": 65,
    "start_time": "2024-05-18T17:39:46.359Z"
   },
   {
    "duration": 18,
    "start_time": "2024-05-18T17:39:46.427Z"
   },
   {
    "duration": 78,
    "start_time": "2024-05-18T17:39:46.449Z"
   },
   {
    "duration": 325,
    "start_time": "2024-05-18T17:39:46.530Z"
   },
   {
    "duration": 25,
    "start_time": "2024-05-18T17:39:46.858Z"
   },
   {
    "duration": 467,
    "start_time": "2024-05-18T17:39:46.886Z"
   },
   {
    "duration": 26,
    "start_time": "2024-05-18T17:39:47.357Z"
   },
   {
    "duration": 28,
    "start_time": "2024-05-18T17:39:47.391Z"
   },
   {
    "duration": 91,
    "start_time": "2024-05-18T17:39:47.424Z"
   },
   {
    "duration": 6,
    "start_time": "2024-05-18T17:39:47.520Z"
   },
   {
    "duration": 20,
    "start_time": "2024-05-18T17:39:47.530Z"
   },
   {
    "duration": 8,
    "start_time": "2024-05-18T17:39:47.554Z"
   },
   {
    "duration": 13657,
    "start_time": "2024-05-18T17:39:47.566Z"
   },
   {
    "duration": 13595,
    "start_time": "2024-05-18T17:40:01.232Z"
   },
   {
    "duration": 13834,
    "start_time": "2024-05-18T17:40:14.831Z"
   },
   {
    "duration": 0,
    "start_time": "2024-05-18T17:40:28.672Z"
   },
   {
    "duration": 0,
    "start_time": "2024-05-18T17:40:28.674Z"
   },
   {
    "duration": 4,
    "start_time": "2024-05-18T17:40:31.398Z"
   },
   {
    "duration": 1749,
    "start_time": "2024-05-18T17:40:31.406Z"
   },
   {
    "duration": 775,
    "start_time": "2024-05-18T17:40:33.158Z"
   },
   {
    "duration": 192,
    "start_time": "2024-05-18T17:40:33.936Z"
   },
   {
    "duration": 23,
    "start_time": "2024-05-18T17:40:34.133Z"
   },
   {
    "duration": 170,
    "start_time": "2024-05-18T17:40:34.163Z"
   },
   {
    "duration": 215,
    "start_time": "2024-05-18T17:40:34.337Z"
   },
   {
    "duration": 122,
    "start_time": "2024-05-18T17:40:34.556Z"
   },
   {
    "duration": 320,
    "start_time": "2024-05-18T17:40:34.681Z"
   },
   {
    "duration": 346,
    "start_time": "2024-05-18T17:40:35.010Z"
   },
   {
    "duration": 307,
    "start_time": "2024-05-18T17:40:35.358Z"
   },
   {
    "duration": 111,
    "start_time": "2024-05-18T17:40:35.667Z"
   },
   {
    "duration": 52,
    "start_time": "2024-05-18T17:40:35.781Z"
   },
   {
    "duration": 71,
    "start_time": "2024-05-18T17:40:35.839Z"
   },
   {
    "duration": 13,
    "start_time": "2024-05-18T17:40:35.914Z"
   },
   {
    "duration": 91,
    "start_time": "2024-05-18T17:40:35.930Z"
   },
   {
    "duration": 54,
    "start_time": "2024-05-18T17:40:36.024Z"
   },
   {
    "duration": 38,
    "start_time": "2024-05-18T17:40:36.081Z"
   },
   {
    "duration": 60,
    "start_time": "2024-05-18T17:40:36.122Z"
   },
   {
    "duration": 339,
    "start_time": "2024-05-18T17:40:36.185Z"
   },
   {
    "duration": 18,
    "start_time": "2024-05-18T17:40:36.527Z"
   },
   {
    "duration": 429,
    "start_time": "2024-05-18T17:40:36.548Z"
   },
   {
    "duration": 29,
    "start_time": "2024-05-18T17:40:36.981Z"
   },
   {
    "duration": 13,
    "start_time": "2024-05-18T17:40:37.015Z"
   },
   {
    "duration": 88,
    "start_time": "2024-05-18T17:40:37.030Z"
   },
   {
    "duration": 6,
    "start_time": "2024-05-18T17:40:37.120Z"
   },
   {
    "duration": 18,
    "start_time": "2024-05-18T17:40:37.129Z"
   },
   {
    "duration": 7,
    "start_time": "2024-05-18T17:40:37.150Z"
   },
   {
    "duration": 79,
    "start_time": "2024-05-18T17:40:37.160Z"
   },
   {
    "duration": 11988,
    "start_time": "2024-05-18T17:40:37.242Z"
   },
   {
    "duration": 44789,
    "start_time": "2024-05-18T17:40:49.309Z"
   },
   {
    "duration": 11371,
    "start_time": "2024-05-18T17:41:34.101Z"
   },
   {
    "duration": 0,
    "start_time": "2024-05-18T17:41:45.475Z"
   },
   {
    "duration": 11398,
    "start_time": "2024-05-18T17:42:12.629Z"
   },
   {
    "duration": 4,
    "start_time": "2024-05-18T17:42:52.339Z"
   },
   {
    "duration": 1617,
    "start_time": "2024-05-18T17:42:52.347Z"
   },
   {
    "duration": 757,
    "start_time": "2024-05-18T17:42:53.968Z"
   },
   {
    "duration": 165,
    "start_time": "2024-05-18T17:42:54.728Z"
   },
   {
    "duration": 33,
    "start_time": "2024-05-18T17:42:54.897Z"
   },
   {
    "duration": 159,
    "start_time": "2024-05-18T17:42:54.934Z"
   },
   {
    "duration": 205,
    "start_time": "2024-05-18T17:42:55.096Z"
   },
   {
    "duration": 107,
    "start_time": "2024-05-18T17:42:55.309Z"
   },
   {
    "duration": 319,
    "start_time": "2024-05-18T17:42:55.419Z"
   },
   {
    "duration": 347,
    "start_time": "2024-05-18T17:42:55.743Z"
   },
   {
    "duration": 309,
    "start_time": "2024-05-18T17:42:56.093Z"
   },
   {
    "duration": 112,
    "start_time": "2024-05-18T17:42:56.405Z"
   },
   {
    "duration": 39,
    "start_time": "2024-05-18T17:42:56.520Z"
   },
   {
    "duration": 93,
    "start_time": "2024-05-18T17:42:56.567Z"
   },
   {
    "duration": 12,
    "start_time": "2024-05-18T17:42:56.664Z"
   },
   {
    "duration": 99,
    "start_time": "2024-05-18T17:42:56.679Z"
   },
   {
    "duration": 63,
    "start_time": "2024-05-18T17:42:56.781Z"
   },
   {
    "duration": 17,
    "start_time": "2024-05-18T17:42:56.847Z"
   },
   {
    "duration": 77,
    "start_time": "2024-05-18T17:42:56.866Z"
   },
   {
    "duration": 307,
    "start_time": "2024-05-18T17:42:56.946Z"
   },
   {
    "duration": 19,
    "start_time": "2024-05-18T17:42:57.256Z"
   },
   {
    "duration": 449,
    "start_time": "2024-05-18T17:42:57.278Z"
   },
   {
    "duration": 22,
    "start_time": "2024-05-18T17:42:57.731Z"
   },
   {
    "duration": 15,
    "start_time": "2024-05-18T17:42:57.756Z"
   },
   {
    "duration": 96,
    "start_time": "2024-05-18T17:42:57.774Z"
   },
   {
    "duration": 6,
    "start_time": "2024-05-18T17:42:57.872Z"
   },
   {
    "duration": 42,
    "start_time": "2024-05-18T17:42:57.882Z"
   },
   {
    "duration": 6,
    "start_time": "2024-05-18T17:42:57.927Z"
   },
   {
    "duration": 85,
    "start_time": "2024-05-18T17:42:57.937Z"
   },
   {
    "duration": 11803,
    "start_time": "2024-05-18T17:42:58.024Z"
   },
   {
    "duration": 11578,
    "start_time": "2024-05-18T17:43:09.830Z"
   },
   {
    "duration": 4,
    "start_time": "2024-05-18T17:44:00.095Z"
   },
   {
    "duration": 1646,
    "start_time": "2024-05-18T17:44:00.103Z"
   },
   {
    "duration": 735,
    "start_time": "2024-05-18T17:44:01.752Z"
   },
   {
    "duration": 146,
    "start_time": "2024-05-18T17:44:02.491Z"
   },
   {
    "duration": 24,
    "start_time": "2024-05-18T17:44:02.640Z"
   },
   {
    "duration": 166,
    "start_time": "2024-05-18T17:44:02.666Z"
   },
   {
    "duration": 196,
    "start_time": "2024-05-18T17:44:02.834Z"
   },
   {
    "duration": 101,
    "start_time": "2024-05-18T17:44:03.032Z"
   },
   {
    "duration": 309,
    "start_time": "2024-05-18T17:44:03.139Z"
   },
   {
    "duration": 342,
    "start_time": "2024-05-18T17:44:03.451Z"
   },
   {
    "duration": 301,
    "start_time": "2024-05-18T17:44:03.796Z"
   },
   {
    "duration": 114,
    "start_time": "2024-05-18T17:44:04.100Z"
   },
   {
    "duration": 42,
    "start_time": "2024-05-18T17:44:04.216Z"
   },
   {
    "duration": 86,
    "start_time": "2024-05-18T17:44:04.262Z"
   },
   {
    "duration": 12,
    "start_time": "2024-05-18T17:44:04.352Z"
   },
   {
    "duration": 100,
    "start_time": "2024-05-18T17:44:04.367Z"
   },
   {
    "duration": 63,
    "start_time": "2024-05-18T17:44:04.470Z"
   },
   {
    "duration": 21,
    "start_time": "2024-05-18T17:44:04.535Z"
   },
   {
    "duration": 81,
    "start_time": "2024-05-18T17:44:04.562Z"
   },
   {
    "duration": 328,
    "start_time": "2024-05-18T17:44:04.645Z"
   },
   {
    "duration": 33,
    "start_time": "2024-05-18T17:44:04.975Z"
   },
   {
    "duration": 402,
    "start_time": "2024-05-18T17:44:05.011Z"
   },
   {
    "duration": 17,
    "start_time": "2024-05-18T17:44:05.416Z"
   },
   {
    "duration": 12,
    "start_time": "2024-05-18T17:44:05.441Z"
   },
   {
    "duration": 98,
    "start_time": "2024-05-18T17:44:05.456Z"
   },
   {
    "duration": 7,
    "start_time": "2024-05-18T17:44:05.558Z"
   },
   {
    "duration": 47,
    "start_time": "2024-05-18T17:44:05.568Z"
   },
   {
    "duration": 7,
    "start_time": "2024-05-18T17:44:05.618Z"
   },
   {
    "duration": 83,
    "start_time": "2024-05-18T17:44:05.627Z"
   },
   {
    "duration": 11116,
    "start_time": "2024-05-18T17:44:05.712Z"
   },
   {
    "duration": 12299,
    "start_time": "2024-05-18T17:44:16.912Z"
   },
   {
    "duration": 5,
    "start_time": "2024-05-18T17:44:42.323Z"
   },
   {
    "duration": 1702,
    "start_time": "2024-05-18T17:44:42.333Z"
   },
   {
    "duration": 739,
    "start_time": "2024-05-18T17:44:44.038Z"
   },
   {
    "duration": 159,
    "start_time": "2024-05-18T17:44:44.780Z"
   },
   {
    "duration": 22,
    "start_time": "2024-05-18T17:44:44.944Z"
   },
   {
    "duration": 178,
    "start_time": "2024-05-18T17:44:44.968Z"
   },
   {
    "duration": 201,
    "start_time": "2024-05-18T17:44:45.149Z"
   },
   {
    "duration": 106,
    "start_time": "2024-05-18T17:44:45.353Z"
   },
   {
    "duration": 309,
    "start_time": "2024-05-18T17:44:45.462Z"
   },
   {
    "duration": 336,
    "start_time": "2024-05-18T17:44:45.774Z"
   },
   {
    "duration": 306,
    "start_time": "2024-05-18T17:44:46.112Z"
   },
   {
    "duration": 109,
    "start_time": "2024-05-18T17:44:46.421Z"
   },
   {
    "duration": 38,
    "start_time": "2024-05-18T17:44:46.533Z"
   },
   {
    "duration": 81,
    "start_time": "2024-05-18T17:44:46.577Z"
   },
   {
    "duration": 12,
    "start_time": "2024-05-18T17:44:46.662Z"
   },
   {
    "duration": 102,
    "start_time": "2024-05-18T17:44:46.676Z"
   },
   {
    "duration": 69,
    "start_time": "2024-05-18T17:44:46.780Z"
   },
   {
    "duration": 18,
    "start_time": "2024-05-18T17:44:46.852Z"
   },
   {
    "duration": 70,
    "start_time": "2024-05-18T17:44:46.873Z"
   },
   {
    "duration": 328,
    "start_time": "2024-05-18T17:44:46.946Z"
   },
   {
    "duration": 32,
    "start_time": "2024-05-18T17:44:47.277Z"
   },
   {
    "duration": 420,
    "start_time": "2024-05-18T17:44:47.317Z"
   },
   {
    "duration": 17,
    "start_time": "2024-05-18T17:44:47.740Z"
   },
   {
    "duration": 17,
    "start_time": "2024-05-18T17:44:47.763Z"
   },
   {
    "duration": 88,
    "start_time": "2024-05-18T17:44:47.783Z"
   },
   {
    "duration": 6,
    "start_time": "2024-05-18T17:44:47.874Z"
   },
   {
    "duration": 40,
    "start_time": "2024-05-18T17:44:47.883Z"
   },
   {
    "duration": 10,
    "start_time": "2024-05-18T17:44:47.926Z"
   },
   {
    "duration": 78,
    "start_time": "2024-05-18T17:44:47.939Z"
   },
   {
    "duration": 11611,
    "start_time": "2024-05-18T17:44:48.019Z"
   },
   {
    "duration": 11689,
    "start_time": "2024-05-18T17:44:59.633Z"
   },
   {
    "duration": 43818,
    "start_time": "2024-05-18T17:45:11.326Z"
   },
   {
    "duration": 343906,
    "start_time": "2024-05-18T17:45:55.147Z"
   },
   {
    "duration": 78,
    "start_time": "2024-05-18T17:51:59.932Z"
   },
   {
    "duration": 4,
    "start_time": "2024-05-18T17:52:06.665Z"
   },
   {
    "duration": 1618,
    "start_time": "2024-05-18T17:52:06.673Z"
   },
   {
    "duration": 735,
    "start_time": "2024-05-18T17:52:08.295Z"
   },
   {
    "duration": 174,
    "start_time": "2024-05-18T17:52:09.033Z"
   },
   {
    "duration": 21,
    "start_time": "2024-05-18T17:52:09.212Z"
   },
   {
    "duration": 159,
    "start_time": "2024-05-18T17:52:09.235Z"
   },
   {
    "duration": 189,
    "start_time": "2024-05-18T17:52:09.397Z"
   },
   {
    "duration": 107,
    "start_time": "2024-05-18T17:52:09.589Z"
   },
   {
    "duration": 312,
    "start_time": "2024-05-18T17:52:09.699Z"
   },
   {
    "duration": 360,
    "start_time": "2024-05-18T17:52:10.014Z"
   },
   {
    "duration": 296,
    "start_time": "2024-05-18T17:52:10.377Z"
   },
   {
    "duration": 109,
    "start_time": "2024-05-18T17:52:10.676Z"
   },
   {
    "duration": 55,
    "start_time": "2024-05-18T17:52:10.788Z"
   },
   {
    "duration": 75,
    "start_time": "2024-05-18T17:52:10.851Z"
   },
   {
    "duration": 15,
    "start_time": "2024-05-18T17:52:10.929Z"
   },
   {
    "duration": 95,
    "start_time": "2024-05-18T17:52:10.947Z"
   },
   {
    "duration": 70,
    "start_time": "2024-05-18T17:52:11.046Z"
   },
   {
    "duration": 17,
    "start_time": "2024-05-18T17:52:11.118Z"
   },
   {
    "duration": 73,
    "start_time": "2024-05-18T17:52:11.137Z"
   },
   {
    "duration": 324,
    "start_time": "2024-05-18T17:52:11.214Z"
   },
   {
    "duration": 22,
    "start_time": "2024-05-18T17:52:11.541Z"
   },
   {
    "duration": 412,
    "start_time": "2024-05-18T17:52:11.566Z"
   },
   {
    "duration": 28,
    "start_time": "2024-05-18T17:52:11.980Z"
   },
   {
    "duration": 13,
    "start_time": "2024-05-18T17:52:12.011Z"
   },
   {
    "duration": 101,
    "start_time": "2024-05-18T17:52:12.027Z"
   },
   {
    "duration": 7,
    "start_time": "2024-05-18T17:52:12.131Z"
   },
   {
    "duration": 19,
    "start_time": "2024-05-18T17:52:12.141Z"
   },
   {
    "duration": 6,
    "start_time": "2024-05-18T17:52:12.164Z"
   },
   {
    "duration": 135,
    "start_time": "2024-05-18T17:52:12.173Z"
   },
   {
    "duration": 11514,
    "start_time": "2024-05-18T17:52:12.311Z"
   },
   {
    "duration": 11598,
    "start_time": "2024-05-18T17:52:23.833Z"
   },
   {
    "duration": 43576,
    "start_time": "2024-05-18T17:52:35.515Z"
   },
   {
    "duration": 5,
    "start_time": "2024-05-18T17:54:41.671Z"
   },
   {
    "duration": 1692,
    "start_time": "2024-05-18T17:54:41.682Z"
   },
   {
    "duration": 766,
    "start_time": "2024-05-18T17:54:43.378Z"
   },
   {
    "duration": 157,
    "start_time": "2024-05-18T17:54:44.146Z"
   },
   {
    "duration": 24,
    "start_time": "2024-05-18T17:54:44.311Z"
   },
   {
    "duration": 170,
    "start_time": "2024-05-18T17:54:44.338Z"
   },
   {
    "duration": 230,
    "start_time": "2024-05-18T17:54:44.511Z"
   },
   {
    "duration": 108,
    "start_time": "2024-05-18T17:54:44.743Z"
   },
   {
    "duration": 346,
    "start_time": "2024-05-18T17:54:44.854Z"
   },
   {
    "duration": 355,
    "start_time": "2024-05-18T17:54:45.210Z"
   },
   {
    "duration": 315,
    "start_time": "2024-05-18T17:54:45.568Z"
   },
   {
    "duration": 109,
    "start_time": "2024-05-18T17:54:45.887Z"
   },
   {
    "duration": 40,
    "start_time": "2024-05-18T17:54:46.009Z"
   },
   {
    "duration": 80,
    "start_time": "2024-05-18T17:54:46.055Z"
   },
   {
    "duration": 12,
    "start_time": "2024-05-18T17:54:46.138Z"
   },
   {
    "duration": 104,
    "start_time": "2024-05-18T17:54:46.153Z"
   },
   {
    "duration": 64,
    "start_time": "2024-05-18T17:54:46.261Z"
   },
   {
    "duration": 16,
    "start_time": "2024-05-18T17:54:46.328Z"
   },
   {
    "duration": 78,
    "start_time": "2024-05-18T17:54:46.348Z"
   },
   {
    "duration": 337,
    "start_time": "2024-05-18T17:54:46.429Z"
   },
   {
    "duration": 18,
    "start_time": "2024-05-18T17:54:46.769Z"
   },
   {
    "duration": 442,
    "start_time": "2024-05-18T17:54:46.790Z"
   },
   {
    "duration": 18,
    "start_time": "2024-05-18T17:54:47.235Z"
   },
   {
    "duration": 13,
    "start_time": "2024-05-18T17:54:47.256Z"
   },
   {
    "duration": 111,
    "start_time": "2024-05-18T17:54:47.272Z"
   },
   {
    "duration": 7,
    "start_time": "2024-05-18T17:54:47.387Z"
   },
   {
    "duration": 21,
    "start_time": "2024-05-18T17:54:47.410Z"
   },
   {
    "duration": 7,
    "start_time": "2024-05-18T17:54:47.433Z"
   },
   {
    "duration": 85,
    "start_time": "2024-05-18T17:54:47.444Z"
   },
   {
    "duration": 11785,
    "start_time": "2024-05-18T17:54:47.532Z"
   },
   {
    "duration": 43942,
    "start_time": "2024-05-18T17:54:59.325Z"
   },
   {
    "duration": 208660,
    "start_time": "2024-05-18T17:55:43.273Z"
   },
   {
    "duration": 15788,
    "start_time": "2024-05-18T17:59:24.499Z"
   },
   {
    "duration": 215229,
    "start_time": "2024-05-18T17:59:52.182Z"
   },
   {
    "duration": 0,
    "start_time": "2024-05-18T18:07:22.035Z"
   },
   {
    "duration": 0,
    "start_time": "2024-05-18T18:07:43.994Z"
   },
   {
    "duration": 43717,
    "start_time": "2024-05-18T18:07:48.880Z"
   },
   {
    "duration": 5,
    "start_time": "2024-05-18T18:09:21.842Z"
   },
   {
    "duration": 2687,
    "start_time": "2024-05-18T18:09:21.852Z"
   },
   {
    "duration": 809,
    "start_time": "2024-05-18T18:09:24.542Z"
   },
   {
    "duration": 155,
    "start_time": "2024-05-18T18:09:25.354Z"
   },
   {
    "duration": 26,
    "start_time": "2024-05-18T18:09:25.513Z"
   },
   {
    "duration": 153,
    "start_time": "2024-05-18T18:09:25.542Z"
   },
   {
    "duration": 222,
    "start_time": "2024-05-18T18:09:25.698Z"
   },
   {
    "duration": 100,
    "start_time": "2024-05-18T18:09:25.923Z"
   },
   {
    "duration": 311,
    "start_time": "2024-05-18T18:09:26.026Z"
   },
   {
    "duration": 338,
    "start_time": "2024-05-18T18:09:26.341Z"
   },
   {
    "duration": 328,
    "start_time": "2024-05-18T18:09:26.682Z"
   },
   {
    "duration": 109,
    "start_time": "2024-05-18T18:09:27.013Z"
   },
   {
    "duration": 39,
    "start_time": "2024-05-18T18:09:27.125Z"
   },
   {
    "duration": 85,
    "start_time": "2024-05-18T18:09:27.171Z"
   },
   {
    "duration": 15,
    "start_time": "2024-05-18T18:09:27.260Z"
   },
   {
    "duration": 98,
    "start_time": "2024-05-18T18:09:27.279Z"
   },
   {
    "duration": 68,
    "start_time": "2024-05-18T18:09:27.381Z"
   },
   {
    "duration": 17,
    "start_time": "2024-05-18T18:09:27.452Z"
   },
   {
    "duration": 79,
    "start_time": "2024-05-18T18:09:27.472Z"
   },
   {
    "duration": 324,
    "start_time": "2024-05-18T18:09:27.554Z"
   },
   {
    "duration": 19,
    "start_time": "2024-05-18T18:09:27.881Z"
   },
   {
    "duration": 426,
    "start_time": "2024-05-18T18:09:27.910Z"
   },
   {
    "duration": 19,
    "start_time": "2024-05-18T18:09:28.339Z"
   },
   {
    "duration": 47,
    "start_time": "2024-05-18T18:09:28.361Z"
   },
   {
    "duration": 70,
    "start_time": "2024-05-18T18:09:28.411Z"
   },
   {
    "duration": 26,
    "start_time": "2024-05-18T18:09:28.483Z"
   },
   {
    "duration": 24,
    "start_time": "2024-05-18T18:09:28.512Z"
   },
   {
    "duration": 10,
    "start_time": "2024-05-18T18:09:28.539Z"
   },
   {
    "duration": 76,
    "start_time": "2024-05-18T18:09:28.553Z"
   },
   {
    "duration": 12591,
    "start_time": "2024-05-18T18:09:28.631Z"
   },
   {
    "duration": 45123,
    "start_time": "2024-05-18T18:09:41.225Z"
   },
   {
    "duration": 127549,
    "start_time": "2024-05-18T18:10:26.351Z"
   },
   {
    "duration": 4,
    "start_time": "2024-05-18T18:13:35.566Z"
   },
   {
    "duration": 1645,
    "start_time": "2024-05-18T18:13:35.574Z"
   },
   {
    "duration": 750,
    "start_time": "2024-05-18T18:13:37.222Z"
   },
   {
    "duration": 161,
    "start_time": "2024-05-18T18:13:37.977Z"
   },
   {
    "duration": 23,
    "start_time": "2024-05-18T18:13:38.141Z"
   },
   {
    "duration": 163,
    "start_time": "2024-05-18T18:13:38.167Z"
   },
   {
    "duration": 213,
    "start_time": "2024-05-18T18:13:38.333Z"
   },
   {
    "duration": 104,
    "start_time": "2024-05-18T18:13:38.548Z"
   },
   {
    "duration": 316,
    "start_time": "2024-05-18T18:13:38.659Z"
   },
   {
    "duration": 352,
    "start_time": "2024-05-18T18:13:38.978Z"
   },
   {
    "duration": 321,
    "start_time": "2024-05-18T18:13:39.333Z"
   },
   {
    "duration": 106,
    "start_time": "2024-05-18T18:13:39.658Z"
   },
   {
    "duration": 62,
    "start_time": "2024-05-18T18:13:39.768Z"
   },
   {
    "duration": 56,
    "start_time": "2024-05-18T18:13:39.833Z"
   },
   {
    "duration": 12,
    "start_time": "2024-05-18T18:13:39.909Z"
   },
   {
    "duration": 104,
    "start_time": "2024-05-18T18:13:39.924Z"
   },
   {
    "duration": 54,
    "start_time": "2024-05-18T18:13:40.031Z"
   },
   {
    "duration": 34,
    "start_time": "2024-05-18T18:13:40.088Z"
   },
   {
    "duration": 52,
    "start_time": "2024-05-18T18:13:40.125Z"
   },
   {
    "duration": 323,
    "start_time": "2024-05-18T18:13:40.180Z"
   },
   {
    "duration": 18,
    "start_time": "2024-05-18T18:13:40.509Z"
   },
   {
    "duration": 433,
    "start_time": "2024-05-18T18:13:40.529Z"
   },
   {
    "duration": 18,
    "start_time": "2024-05-18T18:13:40.964Z"
   },
   {
    "duration": 28,
    "start_time": "2024-05-18T18:13:40.990Z"
   },
   {
    "duration": 93,
    "start_time": "2024-05-18T18:13:41.021Z"
   },
   {
    "duration": 6,
    "start_time": "2024-05-18T18:13:41.117Z"
   },
   {
    "duration": 19,
    "start_time": "2024-05-18T18:13:41.127Z"
   },
   {
    "duration": 7,
    "start_time": "2024-05-18T18:13:41.150Z"
   },
   {
    "duration": 86,
    "start_time": "2024-05-18T18:13:41.161Z"
   },
   {
    "duration": 11513,
    "start_time": "2024-05-18T18:13:41.310Z"
   },
   {
    "duration": 43168,
    "start_time": "2024-05-18T18:13:52.830Z"
   },
   {
    "duration": 127421,
    "start_time": "2024-05-18T18:14:36.001Z"
   },
   {
    "duration": 4,
    "start_time": "2024-05-18T18:18:23.699Z"
   },
   {
    "duration": 1595,
    "start_time": "2024-05-18T18:19:03.336Z"
   },
   {
    "duration": 5,
    "start_time": "2024-05-18T18:19:14.037Z"
   },
   {
    "duration": 1668,
    "start_time": "2024-05-18T18:19:14.046Z"
   },
   {
    "duration": 724,
    "start_time": "2024-05-18T18:19:15.718Z"
   },
   {
    "duration": 149,
    "start_time": "2024-05-18T18:19:16.445Z"
   },
   {
    "duration": 30,
    "start_time": "2024-05-18T18:19:16.598Z"
   },
   {
    "duration": 151,
    "start_time": "2024-05-18T18:19:16.632Z"
   },
   {
    "duration": 193,
    "start_time": "2024-05-18T18:19:16.785Z"
   },
   {
    "duration": 104,
    "start_time": "2024-05-18T18:19:16.980Z"
   },
   {
    "duration": 343,
    "start_time": "2024-05-18T18:19:17.087Z"
   },
   {
    "duration": 345,
    "start_time": "2024-05-18T18:19:17.434Z"
   },
   {
    "duration": 292,
    "start_time": "2024-05-18T18:19:17.785Z"
   },
   {
    "duration": 104,
    "start_time": "2024-05-18T18:19:18.080Z"
   },
   {
    "duration": 53,
    "start_time": "2024-05-18T18:19:18.186Z"
   },
   {
    "duration": 75,
    "start_time": "2024-05-18T18:19:18.242Z"
   },
   {
    "duration": 13,
    "start_time": "2024-05-18T18:19:18.320Z"
   },
   {
    "duration": 105,
    "start_time": "2024-05-18T18:19:18.336Z"
   },
   {
    "duration": 75,
    "start_time": "2024-05-18T18:19:18.443Z"
   },
   {
    "duration": 21,
    "start_time": "2024-05-18T18:19:18.521Z"
   },
   {
    "duration": 82,
    "start_time": "2024-05-18T18:19:18.545Z"
   },
   {
    "duration": 326,
    "start_time": "2024-05-18T18:19:18.630Z"
   },
   {
    "duration": 19,
    "start_time": "2024-05-18T18:19:18.959Z"
   },
   {
    "duration": 428,
    "start_time": "2024-05-18T18:19:18.982Z"
   },
   {
    "duration": 17,
    "start_time": "2024-05-18T18:19:19.412Z"
   },
   {
    "duration": 13,
    "start_time": "2024-05-18T18:19:19.432Z"
   },
   {
    "duration": 98,
    "start_time": "2024-05-18T18:19:19.448Z"
   },
   {
    "duration": 7,
    "start_time": "2024-05-18T18:19:19.549Z"
   },
   {
    "duration": 20,
    "start_time": "2024-05-18T18:19:19.559Z"
   },
   {
    "duration": 33,
    "start_time": "2024-05-18T18:19:19.582Z"
   },
   {
    "duration": 88,
    "start_time": "2024-05-18T18:19:19.624Z"
   },
   {
    "duration": 1602,
    "start_time": "2024-05-18T18:19:19.715Z"
   },
   {
    "duration": 39665,
    "start_time": "2024-05-18T18:19:21.320Z"
   },
   {
    "duration": 0,
    "start_time": "2024-05-18T18:20:00.989Z"
   },
   {
    "duration": 0,
    "start_time": "2024-05-18T18:20:00.991Z"
   },
   {
    "duration": 4,
    "start_time": "2024-05-18T18:20:04.522Z"
   },
   {
    "duration": 1633,
    "start_time": "2024-05-18T18:20:04.530Z"
   },
   {
    "duration": 750,
    "start_time": "2024-05-18T18:20:06.167Z"
   },
   {
    "duration": 162,
    "start_time": "2024-05-18T18:20:06.920Z"
   },
   {
    "duration": 38,
    "start_time": "2024-05-18T18:20:07.087Z"
   },
   {
    "duration": 155,
    "start_time": "2024-05-18T18:20:07.128Z"
   },
   {
    "duration": 237,
    "start_time": "2024-05-18T18:20:07.286Z"
   },
   {
    "duration": 260,
    "start_time": "2024-05-18T18:20:07.527Z"
   },
   {
    "duration": 359,
    "start_time": "2024-05-18T18:20:07.791Z"
   },
   {
    "duration": 407,
    "start_time": "2024-05-18T18:20:08.153Z"
   },
   {
    "duration": 340,
    "start_time": "2024-05-18T18:20:08.563Z"
   },
   {
    "duration": 111,
    "start_time": "2024-05-18T18:20:08.908Z"
   },
   {
    "duration": 39,
    "start_time": "2024-05-18T18:20:09.023Z"
   },
   {
    "duration": 86,
    "start_time": "2024-05-18T18:20:09.068Z"
   },
   {
    "duration": 24,
    "start_time": "2024-05-18T18:20:09.158Z"
   },
   {
    "duration": 90,
    "start_time": "2024-05-18T18:20:09.191Z"
   },
   {
    "duration": 63,
    "start_time": "2024-05-18T18:20:09.284Z"
   },
   {
    "duration": 18,
    "start_time": "2024-05-18T18:20:09.349Z"
   },
   {
    "duration": 74,
    "start_time": "2024-05-18T18:20:09.370Z"
   },
   {
    "duration": 331,
    "start_time": "2024-05-18T18:20:09.447Z"
   },
   {
    "duration": 40,
    "start_time": "2024-05-18T18:20:09.782Z"
   },
   {
    "duration": 444,
    "start_time": "2024-05-18T18:20:09.825Z"
   },
   {
    "duration": 21,
    "start_time": "2024-05-18T18:20:10.272Z"
   },
   {
    "duration": 14,
    "start_time": "2024-05-18T18:20:10.309Z"
   },
   {
    "duration": 99,
    "start_time": "2024-05-18T18:20:10.326Z"
   },
   {
    "duration": 6,
    "start_time": "2024-05-18T18:20:10.429Z"
   },
   {
    "duration": 24,
    "start_time": "2024-05-18T18:20:10.439Z"
   },
   {
    "duration": 7,
    "start_time": "2024-05-18T18:20:10.468Z"
   },
   {
    "duration": 116,
    "start_time": "2024-05-18T18:20:10.509Z"
   },
   {
    "duration": 11991,
    "start_time": "2024-05-18T18:20:10.630Z"
   },
   {
    "duration": 43520,
    "start_time": "2024-05-18T18:20:22.624Z"
   },
   {
    "duration": 4,
    "start_time": "2024-05-18T18:21:06.147Z"
   },
   {
    "duration": 4,
    "start_time": "2024-05-18T18:21:37.370Z"
   },
   {
    "duration": 1648,
    "start_time": "2024-05-18T18:21:37.379Z"
   },
   {
    "duration": 735,
    "start_time": "2024-05-18T18:21:39.030Z"
   },
   {
    "duration": 175,
    "start_time": "2024-05-18T18:21:39.770Z"
   },
   {
    "duration": 27,
    "start_time": "2024-05-18T18:21:39.949Z"
   },
   {
    "duration": 159,
    "start_time": "2024-05-18T18:21:39.980Z"
   },
   {
    "duration": 199,
    "start_time": "2024-05-18T18:21:40.141Z"
   },
   {
    "duration": 99,
    "start_time": "2024-05-18T18:21:40.342Z"
   },
   {
    "duration": 324,
    "start_time": "2024-05-18T18:21:40.443Z"
   },
   {
    "duration": 344,
    "start_time": "2024-05-18T18:21:40.773Z"
   },
   {
    "duration": 300,
    "start_time": "2024-05-18T18:21:41.120Z"
   },
   {
    "duration": 104,
    "start_time": "2024-05-18T18:21:41.423Z"
   },
   {
    "duration": 38,
    "start_time": "2024-05-18T18:21:41.530Z"
   },
   {
    "duration": 84,
    "start_time": "2024-05-18T18:21:41.572Z"
   },
   {
    "duration": 14,
    "start_time": "2024-05-18T18:21:41.660Z"
   },
   {
    "duration": 102,
    "start_time": "2024-05-18T18:21:41.681Z"
   },
   {
    "duration": 59,
    "start_time": "2024-05-18T18:21:41.785Z"
   },
   {
    "duration": 16,
    "start_time": "2024-05-18T18:21:41.847Z"
   },
   {
    "duration": 75,
    "start_time": "2024-05-18T18:21:41.866Z"
   },
   {
    "duration": 318,
    "start_time": "2024-05-18T18:21:41.944Z"
   },
   {
    "duration": 20,
    "start_time": "2024-05-18T18:21:42.265Z"
   },
   {
    "duration": 443,
    "start_time": "2024-05-18T18:21:42.288Z"
   },
   {
    "duration": 21,
    "start_time": "2024-05-18T18:21:42.734Z"
   },
   {
    "duration": 15,
    "start_time": "2024-05-18T18:21:42.759Z"
   },
   {
    "duration": 109,
    "start_time": "2024-05-18T18:21:42.777Z"
   },
   {
    "duration": 6,
    "start_time": "2024-05-18T18:21:42.889Z"
   },
   {
    "duration": 23,
    "start_time": "2024-05-18T18:21:42.910Z"
   },
   {
    "duration": 6,
    "start_time": "2024-05-18T18:21:42.940Z"
   },
   {
    "duration": 76,
    "start_time": "2024-05-18T18:21:42.950Z"
   },
   {
    "duration": 11686,
    "start_time": "2024-05-18T18:21:43.029Z"
   },
   {
    "duration": 11270,
    "start_time": "2024-05-18T18:27:16.861Z"
   },
   {
    "duration": 6,
    "start_time": "2024-05-18T18:27:41.140Z"
   },
   {
    "duration": 5,
    "start_time": "2024-05-18T18:28:15.789Z"
   },
   {
    "duration": 4,
    "start_time": "2024-05-18T18:28:20.724Z"
   },
   {
    "duration": 4,
    "start_time": "2024-05-18T18:28:29.752Z"
   },
   {
    "duration": 4,
    "start_time": "2024-05-18T18:28:52.207Z"
   },
   {
    "duration": 1659,
    "start_time": "2024-05-18T18:28:52.215Z"
   },
   {
    "duration": 755,
    "start_time": "2024-05-18T18:28:53.877Z"
   },
   {
    "duration": 165,
    "start_time": "2024-05-18T18:28:54.636Z"
   },
   {
    "duration": 31,
    "start_time": "2024-05-18T18:28:54.803Z"
   },
   {
    "duration": 172,
    "start_time": "2024-05-18T18:28:54.837Z"
   },
   {
    "duration": 203,
    "start_time": "2024-05-18T18:28:55.014Z"
   },
   {
    "duration": 108,
    "start_time": "2024-05-18T18:28:55.220Z"
   },
   {
    "duration": 320,
    "start_time": "2024-05-18T18:28:55.333Z"
   },
   {
    "duration": 357,
    "start_time": "2024-05-18T18:28:55.657Z"
   },
   {
    "duration": 313,
    "start_time": "2024-05-18T18:28:56.017Z"
   },
   {
    "duration": 115,
    "start_time": "2024-05-18T18:28:56.333Z"
   },
   {
    "duration": 61,
    "start_time": "2024-05-18T18:28:56.450Z"
   },
   {
    "duration": 56,
    "start_time": "2024-05-18T18:28:56.514Z"
   },
   {
    "duration": 35,
    "start_time": "2024-05-18T18:28:56.573Z"
   },
   {
    "duration": 97,
    "start_time": "2024-05-18T18:28:56.612Z"
   },
   {
    "duration": 55,
    "start_time": "2024-05-18T18:28:56.712Z"
   },
   {
    "duration": 16,
    "start_time": "2024-05-18T18:28:56.771Z"
   },
   {
    "duration": 52,
    "start_time": "2024-05-18T18:28:56.810Z"
   },
   {
    "duration": 340,
    "start_time": "2024-05-18T18:28:56.864Z"
   },
   {
    "duration": 23,
    "start_time": "2024-05-18T18:28:57.207Z"
   },
   {
    "duration": 434,
    "start_time": "2024-05-18T18:28:57.233Z"
   },
   {
    "duration": 17,
    "start_time": "2024-05-18T18:28:57.669Z"
   },
   {
    "duration": 12,
    "start_time": "2024-05-18T18:28:57.709Z"
   },
   {
    "duration": 84,
    "start_time": "2024-05-18T18:28:57.724Z"
   },
   {
    "duration": 6,
    "start_time": "2024-05-18T18:28:57.812Z"
   },
   {
    "duration": 19,
    "start_time": "2024-05-18T18:28:57.821Z"
   },
   {
    "duration": 6,
    "start_time": "2024-05-18T18:28:57.843Z"
   },
   {
    "duration": 85,
    "start_time": "2024-05-18T18:28:57.852Z"
   },
   {
    "duration": 73,
    "start_time": "2024-05-18T18:28:57.940Z"
   },
   {
    "duration": 44973,
    "start_time": "2024-05-18T18:28:58.017Z"
   },
   {
    "duration": 5,
    "start_time": "2024-05-18T18:29:42.993Z"
   },
   {
    "duration": 5,
    "start_time": "2024-05-18T18:31:35.922Z"
   },
   {
    "duration": 6,
    "start_time": "2024-05-18T18:33:20.884Z"
   },
   {
    "duration": 5,
    "start_time": "2024-05-18T18:34:19.122Z"
   },
   {
    "duration": 3,
    "start_time": "2024-05-18T18:53:29.036Z"
   },
   {
    "duration": 5,
    "start_time": "2024-05-18T18:53:31.196Z"
   },
   {
    "duration": 3,
    "start_time": "2024-05-18T18:53:48.303Z"
   },
   {
    "duration": 4,
    "start_time": "2024-05-18T18:53:51.076Z"
   },
   {
    "duration": 4,
    "start_time": "2024-05-18T18:55:29.337Z"
   },
   {
    "duration": 1582,
    "start_time": "2024-05-18T18:55:29.346Z"
   },
   {
    "duration": 732,
    "start_time": "2024-05-18T18:55:30.933Z"
   },
   {
    "duration": 154,
    "start_time": "2024-05-18T18:55:31.668Z"
   },
   {
    "duration": 22,
    "start_time": "2024-05-18T18:55:31.827Z"
   },
   {
    "duration": 160,
    "start_time": "2024-05-18T18:55:31.852Z"
   },
   {
    "duration": 179,
    "start_time": "2024-05-18T18:55:32.015Z"
   },
   {
    "duration": 117,
    "start_time": "2024-05-18T18:55:32.196Z"
   },
   {
    "duration": 296,
    "start_time": "2024-05-18T18:55:32.316Z"
   },
   {
    "duration": 336,
    "start_time": "2024-05-18T18:55:32.614Z"
   },
   {
    "duration": 314,
    "start_time": "2024-05-18T18:55:32.953Z"
   },
   {
    "duration": 108,
    "start_time": "2024-05-18T18:55:33.270Z"
   },
   {
    "duration": 49,
    "start_time": "2024-05-18T18:55:33.381Z"
   },
   {
    "duration": 75,
    "start_time": "2024-05-18T18:55:33.438Z"
   },
   {
    "duration": 13,
    "start_time": "2024-05-18T18:55:33.517Z"
   },
   {
    "duration": 97,
    "start_time": "2024-05-18T18:55:33.533Z"
   },
   {
    "duration": 52,
    "start_time": "2024-05-18T18:55:33.633Z"
   },
   {
    "duration": 33,
    "start_time": "2024-05-18T18:55:33.688Z"
   },
   {
    "duration": 54,
    "start_time": "2024-05-18T18:55:33.724Z"
   },
   {
    "duration": 334,
    "start_time": "2024-05-18T18:55:33.781Z"
   },
   {
    "duration": 18,
    "start_time": "2024-05-18T18:55:34.118Z"
   },
   {
    "duration": 426,
    "start_time": "2024-05-18T18:55:34.139Z"
   },
   {
    "duration": 24,
    "start_time": "2024-05-18T18:55:34.567Z"
   },
   {
    "duration": 28,
    "start_time": "2024-05-18T18:55:34.596Z"
   },
   {
    "duration": 82,
    "start_time": "2024-05-18T18:55:34.628Z"
   },
   {
    "duration": 7,
    "start_time": "2024-05-18T18:55:34.713Z"
   },
   {
    "duration": 20,
    "start_time": "2024-05-18T18:55:34.724Z"
   },
   {
    "duration": 7,
    "start_time": "2024-05-18T18:55:34.747Z"
   },
   {
    "duration": 87,
    "start_time": "2024-05-18T18:55:34.758Z"
   },
   {
    "duration": 63,
    "start_time": "2024-05-18T18:55:34.848Z"
   },
   {
    "duration": 5,
    "start_time": "2024-05-18T18:55:34.914Z"
   },
   {
    "duration": 43619,
    "start_time": "2024-05-18T18:55:34.922Z"
   },
   {
    "duration": 6,
    "start_time": "2024-05-18T18:56:18.545Z"
   },
   {
    "duration": 6,
    "start_time": "2024-05-18T18:56:18.555Z"
   },
   {
    "duration": 36062,
    "start_time": "2024-05-18T18:56:18.565Z"
   },
   {
    "duration": 35388,
    "start_time": "2024-05-18T19:02:04.086Z"
   },
   {
    "duration": 105675,
    "start_time": "2024-05-18T19:03:00.432Z"
   },
   {
    "duration": 27549,
    "start_time": "2024-05-18T19:06:10.383Z"
   },
   {
    "duration": 27850,
    "start_time": "2024-05-18T19:23:50.809Z"
   },
   {
    "duration": 3,
    "start_time": "2024-05-18T19:24:18.663Z"
   },
   {
    "duration": 5,
    "start_time": "2024-05-18T19:24:22.382Z"
   },
   {
    "duration": 3471,
    "start_time": "2024-05-18T19:24:47.938Z"
   },
   {
    "duration": 86871,
    "start_time": "2024-05-18T19:25:01.753Z"
   },
   {
    "duration": 4,
    "start_time": "2024-05-18T19:27:22.545Z"
   },
   {
    "duration": 3,
    "start_time": "2024-05-18T19:27:31.867Z"
   },
   {
    "duration": 4,
    "start_time": "2024-05-20T14:06:00.145Z"
   },
   {
    "duration": 5200,
    "start_time": "2024-05-20T14:06:00.154Z"
   },
   {
    "duration": 778,
    "start_time": "2024-05-20T14:06:05.357Z"
   },
   {
    "duration": 159,
    "start_time": "2024-05-20T14:06:06.137Z"
   },
   {
    "duration": 20,
    "start_time": "2024-05-20T14:06:06.312Z"
   },
   {
    "duration": 155,
    "start_time": "2024-05-20T14:06:06.335Z"
   },
   {
    "duration": 185,
    "start_time": "2024-05-20T14:06:06.493Z"
   },
   {
    "duration": 132,
    "start_time": "2024-05-20T14:06:06.680Z"
   },
   {
    "duration": 298,
    "start_time": "2024-05-20T14:06:06.815Z"
   },
   {
    "duration": 354,
    "start_time": "2024-05-20T14:06:07.116Z"
   },
   {
    "duration": 295,
    "start_time": "2024-05-20T14:06:07.473Z"
   },
   {
    "duration": 115,
    "start_time": "2024-05-20T14:06:07.771Z"
   },
   {
    "duration": 51,
    "start_time": "2024-05-20T14:06:07.889Z"
   },
   {
    "duration": 72,
    "start_time": "2024-05-20T14:06:07.947Z"
   },
   {
    "duration": 12,
    "start_time": "2024-05-20T14:06:08.022Z"
   },
   {
    "duration": 95,
    "start_time": "2024-05-20T14:06:08.037Z"
   },
   {
    "duration": 52,
    "start_time": "2024-05-20T14:06:08.134Z"
   },
   {
    "duration": 33,
    "start_time": "2024-05-20T14:06:08.189Z"
   },
   {
    "duration": 51,
    "start_time": "2024-05-20T14:06:08.225Z"
   },
   {
    "duration": 343,
    "start_time": "2024-05-20T14:06:08.279Z"
   },
   {
    "duration": 19,
    "start_time": "2024-05-20T14:06:08.625Z"
   },
   {
    "duration": 417,
    "start_time": "2024-05-20T14:06:08.648Z"
   },
   {
    "duration": 18,
    "start_time": "2024-05-20T14:06:09.068Z"
   },
   {
    "duration": 28,
    "start_time": "2024-05-20T14:06:09.091Z"
   },
   {
    "duration": 65,
    "start_time": "2024-05-20T14:06:09.122Z"
   },
   {
    "duration": 26,
    "start_time": "2024-05-20T14:06:09.190Z"
   },
   {
    "duration": 20,
    "start_time": "2024-05-20T14:06:09.219Z"
   },
   {
    "duration": 7,
    "start_time": "2024-05-20T14:06:09.243Z"
   },
   {
    "duration": 87,
    "start_time": "2024-05-20T14:06:09.253Z"
   },
   {
    "duration": 3,
    "start_time": "2024-05-20T14:06:09.414Z"
   },
   {
    "duration": 6,
    "start_time": "2024-05-20T14:06:09.420Z"
   },
   {
    "duration": 42722,
    "start_time": "2024-05-20T14:06:09.429Z"
   },
   {
    "duration": 3,
    "start_time": "2024-05-20T14:06:52.154Z"
   },
   {
    "duration": 5,
    "start_time": "2024-05-20T14:06:52.162Z"
   },
   {
    "duration": 27648,
    "start_time": "2024-05-20T14:06:52.171Z"
   },
   {
    "duration": 3,
    "start_time": "2024-05-20T14:07:19.822Z"
   },
   {
    "duration": 5,
    "start_time": "2024-05-20T14:07:19.829Z"
   },
   {
    "duration": 495,
    "start_time": "2024-05-20T14:09:42.468Z"
   },
   {
    "duration": 322,
    "start_time": "2024-05-20T14:11:07.359Z"
   },
   {
    "duration": 3,
    "start_time": "2024-05-20T14:11:07.794Z"
   },
   {
    "duration": 1778,
    "start_time": "2024-05-20T14:11:07.802Z"
   },
   {
    "duration": 0,
    "start_time": "2024-05-20T14:11:09.586Z"
   },
   {
    "duration": 0,
    "start_time": "2024-05-20T14:11:09.588Z"
   },
   {
    "duration": 0,
    "start_time": "2024-05-20T14:11:09.590Z"
   },
   {
    "duration": 0,
    "start_time": "2024-05-20T14:11:09.592Z"
   },
   {
    "duration": 0,
    "start_time": "2024-05-20T14:11:09.595Z"
   },
   {
    "duration": 0,
    "start_time": "2024-05-20T14:11:09.597Z"
   },
   {
    "duration": 0,
    "start_time": "2024-05-20T14:11:09.613Z"
   },
   {
    "duration": 0,
    "start_time": "2024-05-20T14:11:09.616Z"
   },
   {
    "duration": 0,
    "start_time": "2024-05-20T14:11:09.618Z"
   },
   {
    "duration": 0,
    "start_time": "2024-05-20T14:11:09.621Z"
   },
   {
    "duration": 0,
    "start_time": "2024-05-20T14:11:09.622Z"
   },
   {
    "duration": 0,
    "start_time": "2024-05-20T14:11:09.624Z"
   },
   {
    "duration": 0,
    "start_time": "2024-05-20T14:11:09.625Z"
   },
   {
    "duration": 0,
    "start_time": "2024-05-20T14:11:09.629Z"
   },
   {
    "duration": 0,
    "start_time": "2024-05-20T14:11:09.631Z"
   },
   {
    "duration": 0,
    "start_time": "2024-05-20T14:11:09.633Z"
   },
   {
    "duration": 0,
    "start_time": "2024-05-20T14:11:09.636Z"
   },
   {
    "duration": 0,
    "start_time": "2024-05-20T14:11:09.637Z"
   },
   {
    "duration": 0,
    "start_time": "2024-05-20T14:11:09.639Z"
   },
   {
    "duration": 0,
    "start_time": "2024-05-20T14:11:09.640Z"
   },
   {
    "duration": 0,
    "start_time": "2024-05-20T14:11:09.644Z"
   },
   {
    "duration": 0,
    "start_time": "2024-05-20T14:11:09.646Z"
   },
   {
    "duration": 0,
    "start_time": "2024-05-20T14:11:09.648Z"
   },
   {
    "duration": 0,
    "start_time": "2024-05-20T14:11:09.650Z"
   },
   {
    "duration": 0,
    "start_time": "2024-05-20T14:11:09.712Z"
   },
   {
    "duration": 0,
    "start_time": "2024-05-20T14:11:09.714Z"
   },
   {
    "duration": 0,
    "start_time": "2024-05-20T14:11:09.716Z"
   },
   {
    "duration": 0,
    "start_time": "2024-05-20T14:11:09.718Z"
   },
   {
    "duration": 0,
    "start_time": "2024-05-20T14:11:09.720Z"
   },
   {
    "duration": 0,
    "start_time": "2024-05-20T14:11:09.722Z"
   },
   {
    "duration": 0,
    "start_time": "2024-05-20T14:11:09.724Z"
   },
   {
    "duration": 0,
    "start_time": "2024-05-20T14:11:09.726Z"
   },
   {
    "duration": 0,
    "start_time": "2024-05-20T14:11:09.728Z"
   },
   {
    "duration": 0,
    "start_time": "2024-05-20T14:11:09.731Z"
   },
   {
    "duration": 0,
    "start_time": "2024-05-20T14:11:09.733Z"
   },
   {
    "duration": 0,
    "start_time": "2024-05-20T14:11:09.735Z"
   },
   {
    "duration": 40,
    "start_time": "2024-05-20T14:18:20.217Z"
   },
   {
    "duration": 4,
    "start_time": "2024-05-20T14:18:45.774Z"
   },
   {
    "duration": 1662,
    "start_time": "2024-05-20T14:18:45.782Z"
   },
   {
    "duration": 709,
    "start_time": "2024-05-20T14:18:47.447Z"
   },
   {
    "duration": 163,
    "start_time": "2024-05-20T14:18:48.161Z"
   },
   {
    "duration": 22,
    "start_time": "2024-05-20T14:18:48.327Z"
   },
   {
    "duration": 162,
    "start_time": "2024-05-20T14:18:48.352Z"
   },
   {
    "duration": 185,
    "start_time": "2024-05-20T14:18:48.519Z"
   },
   {
    "duration": 104,
    "start_time": "2024-05-20T14:18:48.714Z"
   },
   {
    "duration": 302,
    "start_time": "2024-05-20T14:18:48.821Z"
   },
   {
    "duration": 402,
    "start_time": "2024-05-20T14:18:49.130Z"
   },
   {
    "duration": 347,
    "start_time": "2024-05-20T14:18:49.535Z"
   },
   {
    "duration": 104,
    "start_time": "2024-05-20T14:18:49.885Z"
   },
   {
    "duration": 51,
    "start_time": "2024-05-20T14:18:49.993Z"
   },
   {
    "duration": 76,
    "start_time": "2024-05-20T14:18:50.048Z"
   },
   {
    "duration": 11,
    "start_time": "2024-05-20T14:18:50.127Z"
   },
   {
    "duration": 94,
    "start_time": "2024-05-20T14:18:50.141Z"
   },
   {
    "duration": 51,
    "start_time": "2024-05-20T14:18:50.237Z"
   },
   {
    "duration": 33,
    "start_time": "2024-05-20T14:18:50.291Z"
   },
   {
    "duration": 54,
    "start_time": "2024-05-20T14:18:50.327Z"
   },
   {
    "duration": 330,
    "start_time": "2024-05-20T14:18:50.388Z"
   },
   {
    "duration": 20,
    "start_time": "2024-05-20T14:18:50.721Z"
   },
   {
    "duration": 416,
    "start_time": "2024-05-20T14:18:50.744Z"
   },
   {
    "duration": 19,
    "start_time": "2024-05-20T14:18:51.162Z"
   },
   {
    "duration": 30,
    "start_time": "2024-05-20T14:18:51.183Z"
   },
   {
    "duration": 66,
    "start_time": "2024-05-20T14:18:51.215Z"
   },
   {
    "duration": 7,
    "start_time": "2024-05-20T14:18:51.283Z"
   },
   {
    "duration": 19,
    "start_time": "2024-05-20T14:18:51.314Z"
   },
   {
    "duration": 6,
    "start_time": "2024-05-20T14:18:51.340Z"
   },
   {
    "duration": 80,
    "start_time": "2024-05-20T14:18:51.349Z"
   },
   {
    "duration": 3,
    "start_time": "2024-05-20T14:18:51.431Z"
   },
   {
    "duration": 74,
    "start_time": "2024-05-20T14:18:51.437Z"
   },
   {
    "duration": 43036,
    "start_time": "2024-05-20T14:18:51.518Z"
   },
   {
    "duration": 5,
    "start_time": "2024-05-20T14:19:34.557Z"
   },
   {
    "duration": 6,
    "start_time": "2024-05-20T14:19:34.565Z"
   },
   {
    "duration": 27177,
    "start_time": "2024-05-20T14:19:34.574Z"
   },
   {
    "duration": 6,
    "start_time": "2024-05-20T14:20:01.754Z"
   },
   {
    "duration": 6,
    "start_time": "2024-05-20T14:20:01.763Z"
   },
   {
    "duration": 452,
    "start_time": "2024-05-20T14:20:01.773Z"
   },
   {
    "duration": 0,
    "start_time": "2024-05-20T14:20:02.228Z"
   },
   {
    "duration": 1825,
    "start_time": "2024-05-20T14:20:10.509Z"
   },
   {
    "duration": 2263,
    "start_time": "2024-05-20T14:24:20.368Z"
   },
   {
    "duration": 6,
    "start_time": "2024-05-20T14:24:37.432Z"
   },
   {
    "duration": 1590,
    "start_time": "2024-05-20T14:24:37.442Z"
   },
   {
    "duration": 727,
    "start_time": "2024-05-20T14:24:39.036Z"
   },
   {
    "duration": 155,
    "start_time": "2024-05-20T14:24:39.766Z"
   },
   {
    "duration": 23,
    "start_time": "2024-05-20T14:24:39.927Z"
   },
   {
    "duration": 161,
    "start_time": "2024-05-20T14:24:39.953Z"
   },
   {
    "duration": 180,
    "start_time": "2024-05-20T14:24:40.116Z"
   },
   {
    "duration": 126,
    "start_time": "2024-05-20T14:24:40.299Z"
   },
   {
    "duration": 308,
    "start_time": "2024-05-20T14:24:40.428Z"
   },
   {
    "duration": 346,
    "start_time": "2024-05-20T14:24:40.740Z"
   },
   {
    "duration": 283,
    "start_time": "2024-05-20T14:24:41.088Z"
   },
   {
    "duration": 110,
    "start_time": "2024-05-20T14:24:41.374Z"
   },
   {
    "duration": 57,
    "start_time": "2024-05-20T14:24:41.488Z"
   },
   {
    "duration": 83,
    "start_time": "2024-05-20T14:24:41.553Z"
   },
   {
    "duration": 14,
    "start_time": "2024-05-20T14:24:41.639Z"
   },
   {
    "duration": 94,
    "start_time": "2024-05-20T14:24:41.657Z"
   },
   {
    "duration": 62,
    "start_time": "2024-05-20T14:24:41.754Z"
   },
   {
    "duration": 16,
    "start_time": "2024-05-20T14:24:41.820Z"
   },
   {
    "duration": 75,
    "start_time": "2024-05-20T14:24:41.839Z"
   },
   {
    "duration": 319,
    "start_time": "2024-05-20T14:24:41.917Z"
   },
   {
    "duration": 19,
    "start_time": "2024-05-20T14:24:42.238Z"
   },
   {
    "duration": 424,
    "start_time": "2024-05-20T14:24:42.260Z"
   },
   {
    "duration": 29,
    "start_time": "2024-05-20T14:24:42.687Z"
   },
   {
    "duration": 14,
    "start_time": "2024-05-20T14:24:42.719Z"
   },
   {
    "duration": 99,
    "start_time": "2024-05-20T14:24:42.736Z"
   },
   {
    "duration": 5,
    "start_time": "2024-05-20T14:24:42.838Z"
   },
   {
    "duration": 20,
    "start_time": "2024-05-20T14:24:42.846Z"
   },
   {
    "duration": 6,
    "start_time": "2024-05-20T14:24:42.871Z"
   },
   {
    "duration": 68,
    "start_time": "2024-05-20T14:24:42.881Z"
   },
   {
    "duration": 3,
    "start_time": "2024-05-20T14:24:42.951Z"
   },
   {
    "duration": 8,
    "start_time": "2024-05-20T14:24:43.018Z"
   },
   {
    "duration": 43254,
    "start_time": "2024-05-20T14:24:43.029Z"
   },
   {
    "duration": 4,
    "start_time": "2024-05-20T14:25:26.286Z"
   },
   {
    "duration": 19,
    "start_time": "2024-05-20T14:25:26.293Z"
   },
   {
    "duration": 27641,
    "start_time": "2024-05-20T14:25:26.316Z"
   },
   {
    "duration": 5,
    "start_time": "2024-05-20T14:25:53.960Z"
   },
   {
    "duration": 5,
    "start_time": "2024-05-20T14:25:53.969Z"
   },
   {
    "duration": 2046,
    "start_time": "2024-05-20T14:25:53.979Z"
   },
   {
    "duration": 6345,
    "start_time": "2024-05-20T14:30:11.695Z"
   },
   {
    "duration": 5,
    "start_time": "2024-05-20T14:30:58.004Z"
   },
   {
    "duration": 4,
    "start_time": "2024-05-20T14:31:06.509Z"
   },
   {
    "duration": 2906,
    "start_time": "2024-05-20T14:33:16.634Z"
   },
   {
    "duration": 2087,
    "start_time": "2024-05-20T14:34:10.235Z"
   },
   {
    "duration": 6609,
    "start_time": "2024-05-20T14:34:51.215Z"
   },
   {
    "duration": 6565,
    "start_time": "2024-05-20T14:35:10.951Z"
   },
   {
    "duration": 6548,
    "start_time": "2024-05-20T14:35:18.875Z"
   },
   {
    "duration": 6076,
    "start_time": "2024-05-20T14:35:27.057Z"
   },
   {
    "duration": 4,
    "start_time": "2024-05-20T14:35:53.988Z"
   },
   {
    "duration": 9,
    "start_time": "2024-05-20T14:36:01.979Z"
   },
   {
    "duration": 3,
    "start_time": "2024-05-20T14:36:19.880Z"
   },
   {
    "duration": 2206,
    "start_time": "2024-05-20T14:40:43.324Z"
   },
   {
    "duration": 2091,
    "start_time": "2024-05-20T14:40:59.738Z"
   },
   {
    "duration": 5436,
    "start_time": "2024-05-20T14:45:36.078Z"
   },
   {
    "duration": 5317,
    "start_time": "2024-05-20T14:46:48.992Z"
   },
   {
    "duration": 5136,
    "start_time": "2024-05-20T14:48:11.004Z"
   },
   {
    "duration": 14555,
    "start_time": "2024-05-20T14:49:34.240Z"
   },
   {
    "duration": 5,
    "start_time": "2024-05-20T14:50:14.032Z"
   },
   {
    "duration": 3,
    "start_time": "2024-05-20T14:50:56.002Z"
   },
   {
    "duration": 51,
    "start_time": "2024-05-20T15:00:11.592Z"
   },
   {
    "duration": 47,
    "start_time": "2024-05-20T15:00:17.057Z"
   },
   {
    "duration": 6,
    "start_time": "2024-05-20T15:13:26.395Z"
   },
   {
    "duration": 5,
    "start_time": "2024-05-20T15:53:01.875Z"
   },
   {
    "duration": 5,
    "start_time": "2024-05-20T15:53:27.779Z"
   },
   {
    "duration": 6,
    "start_time": "2024-05-20T15:55:51.481Z"
   },
   {
    "duration": 5,
    "start_time": "2024-05-20T15:57:14.150Z"
   },
   {
    "duration": 6,
    "start_time": "2024-05-20T15:57:28.940Z"
   },
   {
    "duration": 5,
    "start_time": "2024-05-20T15:59:23.434Z"
   },
   {
    "duration": 434,
    "start_time": "2024-05-20T16:02:40.632Z"
   },
   {
    "duration": 5,
    "start_time": "2024-05-20T16:02:52.678Z"
   },
   {
    "duration": 1692,
    "start_time": "2024-05-20T16:02:52.687Z"
   },
   {
    "duration": 725,
    "start_time": "2024-05-20T16:02:54.383Z"
   },
   {
    "duration": 171,
    "start_time": "2024-05-20T16:02:55.114Z"
   },
   {
    "duration": 37,
    "start_time": "2024-05-20T16:02:55.288Z"
   },
   {
    "duration": 149,
    "start_time": "2024-05-20T16:02:55.328Z"
   },
   {
    "duration": 191,
    "start_time": "2024-05-20T16:02:55.479Z"
   },
   {
    "duration": 121,
    "start_time": "2024-05-20T16:02:55.672Z"
   },
   {
    "duration": 300,
    "start_time": "2024-05-20T16:02:55.812Z"
   },
   {
    "duration": 337,
    "start_time": "2024-05-20T16:02:56.114Z"
   },
   {
    "duration": 291,
    "start_time": "2024-05-20T16:02:56.453Z"
   },
   {
    "duration": 130,
    "start_time": "2024-05-20T16:02:56.748Z"
   },
   {
    "duration": 52,
    "start_time": "2024-05-20T16:02:56.883Z"
   },
   {
    "duration": 76,
    "start_time": "2024-05-20T16:02:56.938Z"
   },
   {
    "duration": 13,
    "start_time": "2024-05-20T16:02:57.017Z"
   },
   {
    "duration": 104,
    "start_time": "2024-05-20T16:02:57.033Z"
   },
   {
    "duration": 16,
    "start_time": "2024-05-20T16:02:57.140Z"
   },
   {
    "duration": 80,
    "start_time": "2024-05-20T16:02:57.160Z"
   },
   {
    "duration": 69,
    "start_time": "2024-05-20T16:02:57.243Z"
   },
   {
    "duration": 329,
    "start_time": "2024-05-20T16:02:57.315Z"
   },
   {
    "duration": 25,
    "start_time": "2024-05-20T16:02:57.646Z"
   },
   {
    "duration": 414,
    "start_time": "2024-05-20T16:02:57.675Z"
   },
   {
    "duration": 25,
    "start_time": "2024-05-20T16:02:58.092Z"
   },
   {
    "duration": 13,
    "start_time": "2024-05-20T16:02:58.125Z"
   },
   {
    "duration": 101,
    "start_time": "2024-05-20T16:02:58.141Z"
   },
   {
    "duration": 7,
    "start_time": "2024-05-20T16:02:58.244Z"
   },
   {
    "duration": 19,
    "start_time": "2024-05-20T16:02:58.254Z"
   },
   {
    "duration": 38,
    "start_time": "2024-05-20T16:02:58.276Z"
   },
   {
    "duration": 96,
    "start_time": "2024-05-20T16:02:58.316Z"
   },
   {
    "duration": 3,
    "start_time": "2024-05-20T16:02:58.417Z"
   },
   {
    "duration": 7,
    "start_time": "2024-05-20T16:02:58.424Z"
   },
   {
    "duration": 43913,
    "start_time": "2024-05-20T16:02:58.435Z"
   },
   {
    "duration": 4,
    "start_time": "2024-05-20T16:03:42.351Z"
   },
   {
    "duration": 6,
    "start_time": "2024-05-20T16:03:42.359Z"
   },
   {
    "duration": 28850,
    "start_time": "2024-05-20T16:03:42.368Z"
   },
   {
    "duration": 3,
    "start_time": "2024-05-20T16:04:11.223Z"
   },
   {
    "duration": 6,
    "start_time": "2024-05-20T16:04:11.228Z"
   },
   {
    "duration": 65785,
    "start_time": "2024-05-20T16:04:11.238Z"
   },
   {
    "duration": 3,
    "start_time": "2024-05-20T16:05:17.026Z"
   },
   {
    "duration": 6,
    "start_time": "2024-05-20T16:05:17.032Z"
   },
   {
    "duration": 5128,
    "start_time": "2024-05-20T16:05:17.042Z"
   },
   {
    "duration": 8,
    "start_time": "2024-05-20T16:05:22.176Z"
   },
   {
    "duration": 7,
    "start_time": "2024-05-20T16:05:22.187Z"
   },
   {
    "duration": 9,
    "start_time": "2024-05-20T16:05:22.197Z"
   },
   {
    "duration": 18,
    "start_time": "2024-05-20T16:06:34.221Z"
   },
   {
    "duration": 16,
    "start_time": "2024-05-20T16:06:48.534Z"
   },
   {
    "duration": 4,
    "start_time": "2024-05-20T16:07:19.602Z"
   },
   {
    "duration": 1648,
    "start_time": "2024-05-20T16:07:19.610Z"
   },
   {
    "duration": 764,
    "start_time": "2024-05-20T16:07:21.261Z"
   },
   {
    "duration": 166,
    "start_time": "2024-05-20T16:07:22.031Z"
   },
   {
    "duration": 32,
    "start_time": "2024-05-20T16:07:22.201Z"
   },
   {
    "duration": 164,
    "start_time": "2024-05-20T16:07:22.236Z"
   },
   {
    "duration": 212,
    "start_time": "2024-05-20T16:07:22.402Z"
   },
   {
    "duration": 105,
    "start_time": "2024-05-20T16:07:22.617Z"
   },
   {
    "duration": 348,
    "start_time": "2024-05-20T16:07:22.725Z"
   },
   {
    "duration": 375,
    "start_time": "2024-05-20T16:07:23.080Z"
   },
   {
    "duration": 317,
    "start_time": "2024-05-20T16:07:23.458Z"
   },
   {
    "duration": 143,
    "start_time": "2024-05-20T16:07:23.778Z"
   },
   {
    "duration": 39,
    "start_time": "2024-05-20T16:07:23.926Z"
   },
   {
    "duration": 95,
    "start_time": "2024-05-20T16:07:23.968Z"
   },
   {
    "duration": 23,
    "start_time": "2024-05-20T16:07:24.066Z"
   },
   {
    "duration": 92,
    "start_time": "2024-05-20T16:07:24.092Z"
   },
   {
    "duration": 32,
    "start_time": "2024-05-20T16:07:24.186Z"
   },
   {
    "duration": 53,
    "start_time": "2024-05-20T16:07:24.222Z"
   },
   {
    "duration": 76,
    "start_time": "2024-05-20T16:07:24.278Z"
   },
   {
    "duration": 325,
    "start_time": "2024-05-20T16:07:24.358Z"
   },
   {
    "duration": 28,
    "start_time": "2024-05-20T16:07:24.685Z"
   },
   {
    "duration": 420,
    "start_time": "2024-05-20T16:07:24.716Z"
   },
   {
    "duration": 21,
    "start_time": "2024-05-20T16:07:25.139Z"
   },
   {
    "duration": 15,
    "start_time": "2024-05-20T16:07:25.163Z"
   },
   {
    "duration": 67,
    "start_time": "2024-05-20T16:07:25.212Z"
   },
   {
    "duration": 31,
    "start_time": "2024-05-20T16:07:25.282Z"
   },
   {
    "duration": 24,
    "start_time": "2024-05-20T16:07:25.316Z"
   },
   {
    "duration": 13,
    "start_time": "2024-05-20T16:07:25.349Z"
   },
   {
    "duration": 89,
    "start_time": "2024-05-20T16:07:25.367Z"
   },
   {
    "duration": 54,
    "start_time": "2024-05-20T16:07:25.459Z"
   },
   {
    "duration": 6,
    "start_time": "2024-05-20T16:07:25.516Z"
   },
   {
    "duration": 44305,
    "start_time": "2024-05-20T16:07:25.524Z"
   },
   {
    "duration": 4,
    "start_time": "2024-05-20T16:08:09.832Z"
   },
   {
    "duration": 6,
    "start_time": "2024-05-20T16:08:09.840Z"
   },
   {
    "duration": 28441,
    "start_time": "2024-05-20T16:08:09.853Z"
   },
   {
    "duration": 15,
    "start_time": "2024-05-20T16:08:38.297Z"
   },
   {
    "duration": 5,
    "start_time": "2024-05-20T16:08:38.315Z"
   },
   {
    "duration": 2001,
    "start_time": "2024-05-20T16:08:38.324Z"
   },
   {
    "duration": 4,
    "start_time": "2024-05-20T16:08:40.329Z"
   },
   {
    "duration": 6,
    "start_time": "2024-05-20T16:08:40.336Z"
   },
   {
    "duration": 5207,
    "start_time": "2024-05-20T16:08:40.345Z"
   },
   {
    "duration": 7,
    "start_time": "2024-05-20T16:08:45.556Z"
   },
   {
    "duration": 6,
    "start_time": "2024-05-20T16:08:45.566Z"
   },
   {
    "duration": 16,
    "start_time": "2024-05-20T16:08:45.576Z"
   },
   {
    "duration": 428,
    "start_time": "2024-05-20T16:11:10.910Z"
   },
   {
    "duration": 8,
    "start_time": "2024-05-20T16:11:23.183Z"
   },
   {
    "duration": 16,
    "start_time": "2024-05-20T16:11:29.094Z"
   },
   {
    "duration": 31,
    "start_time": "2024-05-20T16:11:41.077Z"
   },
   {
    "duration": 5,
    "start_time": "2024-05-20T16:11:55.433Z"
   },
   {
    "duration": 1598,
    "start_time": "2024-05-20T16:11:55.442Z"
   },
   {
    "duration": 761,
    "start_time": "2024-05-20T16:11:57.043Z"
   },
   {
    "duration": 165,
    "start_time": "2024-05-20T16:11:57.807Z"
   },
   {
    "duration": 36,
    "start_time": "2024-05-20T16:11:57.977Z"
   },
   {
    "duration": 158,
    "start_time": "2024-05-20T16:11:58.017Z"
   },
   {
    "duration": 261,
    "start_time": "2024-05-20T16:11:58.179Z"
   },
   {
    "duration": 109,
    "start_time": "2024-05-20T16:11:58.444Z"
   },
   {
    "duration": 330,
    "start_time": "2024-05-20T16:11:58.555Z"
   },
   {
    "duration": 371,
    "start_time": "2024-05-20T16:11:58.890Z"
   },
   {
    "duration": 349,
    "start_time": "2024-05-20T16:11:59.264Z"
   },
   {
    "duration": 125,
    "start_time": "2024-05-20T16:11:59.617Z"
   },
   {
    "duration": 40,
    "start_time": "2024-05-20T16:11:59.745Z"
   },
   {
    "duration": 56,
    "start_time": "2024-05-20T16:11:59.812Z"
   },
   {
    "duration": 41,
    "start_time": "2024-05-20T16:11:59.871Z"
   },
   {
    "duration": 77,
    "start_time": "2024-05-20T16:11:59.914Z"
   },
   {
    "duration": 36,
    "start_time": "2024-05-20T16:11:59.994Z"
   },
   {
    "duration": 81,
    "start_time": "2024-05-20T16:12:00.033Z"
   },
   {
    "duration": 56,
    "start_time": "2024-05-20T16:12:00.117Z"
   },
   {
    "duration": 349,
    "start_time": "2024-05-20T16:12:00.176Z"
   },
   {
    "duration": 19,
    "start_time": "2024-05-20T16:12:00.529Z"
   },
   {
    "duration": 429,
    "start_time": "2024-05-20T16:12:00.551Z"
   },
   {
    "duration": 29,
    "start_time": "2024-05-20T16:12:00.983Z"
   },
   {
    "duration": 18,
    "start_time": "2024-05-20T16:12:01.016Z"
   },
   {
    "duration": 95,
    "start_time": "2024-05-20T16:12:01.037Z"
   },
   {
    "duration": 7,
    "start_time": "2024-05-20T16:12:01.135Z"
   },
   {
    "duration": 23,
    "start_time": "2024-05-20T16:12:01.146Z"
   },
   {
    "duration": 40,
    "start_time": "2024-05-20T16:12:01.172Z"
   },
   {
    "duration": 98,
    "start_time": "2024-05-20T16:12:01.216Z"
   },
   {
    "duration": 4,
    "start_time": "2024-05-20T16:12:01.317Z"
   },
   {
    "duration": 7,
    "start_time": "2024-05-20T16:12:01.323Z"
   },
   {
    "duration": 44097,
    "start_time": "2024-05-20T16:12:01.333Z"
   },
   {
    "duration": 6,
    "start_time": "2024-05-20T16:12:45.433Z"
   },
   {
    "duration": 6,
    "start_time": "2024-05-20T16:12:45.442Z"
   },
   {
    "duration": 28693,
    "start_time": "2024-05-20T16:12:45.452Z"
   },
   {
    "duration": 5,
    "start_time": "2024-05-20T16:13:14.149Z"
   },
   {
    "duration": 14,
    "start_time": "2024-05-20T16:13:14.158Z"
   },
   {
    "duration": 2658,
    "start_time": "2024-05-20T16:13:14.176Z"
   },
   {
    "duration": 4,
    "start_time": "2024-05-20T16:13:16.837Z"
   },
   {
    "duration": 6,
    "start_time": "2024-05-20T16:13:16.844Z"
   },
   {
    "duration": 4844,
    "start_time": "2024-05-20T16:13:16.911Z"
   },
   {
    "duration": 3,
    "start_time": "2024-05-20T16:13:21.759Z"
   },
   {
    "duration": 6,
    "start_time": "2024-05-20T16:13:21.765Z"
   },
   {
    "duration": 441,
    "start_time": "2024-05-20T16:13:21.775Z"
   },
   {
    "duration": 11,
    "start_time": "2024-05-20T16:13:35.865Z"
   },
   {
    "duration": 16,
    "start_time": "2024-05-20T16:13:46.490Z"
   },
   {
    "duration": 7,
    "start_time": "2024-05-20T16:15:36.724Z"
   },
   {
    "duration": 16,
    "start_time": "2024-05-20T16:15:44.867Z"
   },
   {
    "duration": 6,
    "start_time": "2024-05-20T16:17:11.643Z"
   },
   {
    "duration": 6,
    "start_time": "2024-05-20T16:17:17.987Z"
   },
   {
    "duration": 40,
    "start_time": "2024-05-20T16:18:32.043Z"
   },
   {
    "duration": 40,
    "start_time": "2024-05-20T16:18:39.878Z"
   },
   {
    "duration": 65,
    "start_time": "2024-05-20T16:18:49.947Z"
   },
   {
    "duration": 5,
    "start_time": "2024-05-20T16:19:11.780Z"
   },
   {
    "duration": 8,
    "start_time": "2024-05-20T16:19:41.357Z"
   },
   {
    "duration": 17,
    "start_time": "2024-05-20T16:19:47.987Z"
   },
   {
    "duration": 16,
    "start_time": "2024-05-20T16:19:56.218Z"
   },
   {
    "duration": 18,
    "start_time": "2024-05-20T16:20:11.707Z"
   },
   {
    "duration": 17,
    "start_time": "2024-05-20T16:20:18.503Z"
   },
   {
    "duration": 27,
    "start_time": "2024-05-20T16:22:32.787Z"
   },
   {
    "duration": 811,
    "start_time": "2024-05-20T16:22:44.381Z"
   },
   {
    "duration": 278,
    "start_time": "2024-05-20T16:23:32.929Z"
   },
   {
    "duration": 252,
    "start_time": "2024-05-20T16:24:40.040Z"
   },
   {
    "duration": 242,
    "start_time": "2024-05-20T16:25:00.147Z"
   },
   {
    "duration": 53,
    "start_time": "2024-05-20T16:25:52.763Z"
   },
   {
    "duration": 244,
    "start_time": "2024-05-20T16:26:07.043Z"
   },
   {
    "duration": 23,
    "start_time": "2024-05-20T16:27:23.916Z"
   },
   {
    "duration": 250,
    "start_time": "2024-05-20T16:27:29.464Z"
   },
   {
    "duration": 262,
    "start_time": "2024-05-20T16:27:35.674Z"
   },
   {
    "duration": 253,
    "start_time": "2024-05-20T16:28:05.161Z"
   },
   {
    "duration": 237,
    "start_time": "2024-05-20T16:30:00.751Z"
   },
   {
    "duration": 247,
    "start_time": "2024-05-20T16:30:11.247Z"
   },
   {
    "duration": 456,
    "start_time": "2024-05-20T16:31:57.336Z"
   },
   {
    "duration": 505,
    "start_time": "2024-05-20T16:32:22.446Z"
   },
   {
    "duration": 543,
    "start_time": "2024-05-20T16:33:22.735Z"
   },
   {
    "duration": 514,
    "start_time": "2024-05-20T16:33:37.668Z"
   },
   {
    "duration": 615,
    "start_time": "2024-05-20T16:33:55.918Z"
   },
   {
    "duration": 10,
    "start_time": "2024-05-20T16:34:15.096Z"
   },
   {
    "duration": 757,
    "start_time": "2024-05-20T16:34:18.688Z"
   },
   {
    "duration": 669,
    "start_time": "2024-05-20T16:35:56.255Z"
   },
   {
    "duration": 256,
    "start_time": "2024-05-20T16:39:39.751Z"
   },
   {
    "duration": 352,
    "start_time": "2024-05-20T16:39:46.181Z"
   },
   {
    "duration": 358,
    "start_time": "2024-05-20T16:39:59.485Z"
   },
   {
    "duration": 431,
    "start_time": "2024-05-20T16:40:36.433Z"
   },
   {
    "duration": 822,
    "start_time": "2024-05-20T16:42:13.878Z"
   },
   {
    "duration": 543,
    "start_time": "2024-05-20T16:43:10.502Z"
   },
   {
    "duration": 524,
    "start_time": "2024-05-20T16:48:05.715Z"
   },
   {
    "duration": 759,
    "start_time": "2024-05-20T16:48:16.848Z"
   },
   {
    "duration": 1342,
    "start_time": "2024-05-20T16:50:03.235Z"
   },
   {
    "duration": 513,
    "start_time": "2024-05-20T16:50:16.559Z"
   },
   {
    "duration": 499,
    "start_time": "2024-05-20T16:50:56.238Z"
   },
   {
    "duration": 490,
    "start_time": "2024-05-20T16:51:30.257Z"
   },
   {
    "duration": 485,
    "start_time": "2024-05-20T16:52:15.939Z"
   },
   {
    "duration": 544,
    "start_time": "2024-05-20T16:52:30.251Z"
   },
   {
    "duration": 399,
    "start_time": "2024-05-20T16:52:39.777Z"
   },
   {
    "duration": 428,
    "start_time": "2024-05-20T16:52:47.386Z"
   },
   {
    "duration": 520,
    "start_time": "2024-05-20T16:52:58.529Z"
   },
   {
    "duration": 528,
    "start_time": "2024-05-20T16:53:45.368Z"
   },
   {
    "duration": 739,
    "start_time": "2024-05-20T16:54:33.037Z"
   },
   {
    "duration": 645,
    "start_time": "2024-05-20T16:55:05.544Z"
   },
   {
    "duration": 527,
    "start_time": "2024-05-20T16:55:37.188Z"
   },
   {
    "duration": 478,
    "start_time": "2024-05-20T16:56:58.242Z"
   },
   {
    "duration": 11,
    "start_time": "2024-05-20T16:58:24.985Z"
   },
   {
    "duration": 522,
    "start_time": "2024-05-20T16:58:28.322Z"
   },
   {
    "duration": 532,
    "start_time": "2024-05-20T16:59:40.462Z"
   },
   {
    "duration": 534,
    "start_time": "2024-05-20T17:00:00.848Z"
   },
   {
    "duration": 532,
    "start_time": "2024-05-20T17:02:11.223Z"
   },
   {
    "duration": 553,
    "start_time": "2024-05-20T17:02:21.489Z"
   },
   {
    "duration": 10,
    "start_time": "2024-05-20T17:02:36.756Z"
   },
   {
    "duration": 596,
    "start_time": "2024-05-20T17:02:40.160Z"
   },
   {
    "duration": 540,
    "start_time": "2024-05-20T17:03:01.902Z"
   },
   {
    "duration": 556,
    "start_time": "2024-05-20T17:03:33.218Z"
   },
   {
    "duration": 521,
    "start_time": "2024-05-20T17:03:38.248Z"
   },
   {
    "duration": 570,
    "start_time": "2024-05-20T17:03:46.883Z"
   },
   {
    "duration": 586,
    "start_time": "2024-05-20T17:06:08.516Z"
   },
   {
    "duration": 603,
    "start_time": "2024-05-20T17:06:19.805Z"
   },
   {
    "duration": 843,
    "start_time": "2024-05-20T17:06:25.824Z"
   },
   {
    "duration": 685,
    "start_time": "2024-05-20T17:06:43.093Z"
   },
   {
    "duration": 662,
    "start_time": "2024-05-20T17:06:51.817Z"
   },
   {
    "duration": 631,
    "start_time": "2024-05-20T17:07:00.473Z"
   },
   {
    "duration": 601,
    "start_time": "2024-05-20T17:07:10.839Z"
   },
   {
    "duration": 564,
    "start_time": "2024-05-20T17:07:25.000Z"
   },
   {
    "duration": 554,
    "start_time": "2024-05-20T17:07:31.635Z"
   },
   {
    "duration": 822,
    "start_time": "2024-05-20T17:07:38.025Z"
   },
   {
    "duration": 605,
    "start_time": "2024-05-20T17:07:40.423Z"
   },
   {
    "duration": 592,
    "start_time": "2024-05-20T17:07:47.919Z"
   },
   {
    "duration": 633,
    "start_time": "2024-05-20T17:07:55.653Z"
   },
   {
    "duration": 642,
    "start_time": "2024-05-20T17:08:09.029Z"
   },
   {
    "duration": 862,
    "start_time": "2024-05-20T17:08:15.596Z"
   },
   {
    "duration": 621,
    "start_time": "2024-05-20T17:08:22.217Z"
   },
   {
    "duration": 604,
    "start_time": "2024-05-20T17:11:47.444Z"
   },
   {
    "duration": 578,
    "start_time": "2024-05-20T17:11:57.980Z"
   },
   {
    "duration": 535,
    "start_time": "2024-05-20T17:12:05.018Z"
   },
   {
    "duration": 656,
    "start_time": "2024-05-20T17:12:13.801Z"
   },
   {
    "duration": 563,
    "start_time": "2024-05-20T17:12:18.739Z"
   },
   {
    "duration": 608,
    "start_time": "2024-05-20T17:12:23.684Z"
   },
   {
    "duration": 573,
    "start_time": "2024-05-20T17:12:29.403Z"
   },
   {
    "duration": 536,
    "start_time": "2024-05-20T17:12:36.730Z"
   },
   {
    "duration": 585,
    "start_time": "2024-05-20T17:13:02.899Z"
   },
   {
    "duration": 5,
    "start_time": "2024-05-20T17:13:24.188Z"
   },
   {
    "duration": 1777,
    "start_time": "2024-05-20T17:13:24.197Z"
   },
   {
    "duration": 784,
    "start_time": "2024-05-20T17:13:25.978Z"
   },
   {
    "duration": 155,
    "start_time": "2024-05-20T17:13:26.765Z"
   },
   {
    "duration": 25,
    "start_time": "2024-05-20T17:13:26.925Z"
   },
   {
    "duration": 182,
    "start_time": "2024-05-20T17:13:26.952Z"
   },
   {
    "duration": 195,
    "start_time": "2024-05-20T17:13:27.137Z"
   },
   {
    "duration": 116,
    "start_time": "2024-05-20T17:13:27.335Z"
   },
   {
    "duration": 336,
    "start_time": "2024-05-20T17:13:27.453Z"
   },
   {
    "duration": 339,
    "start_time": "2024-05-20T17:13:27.792Z"
   },
   {
    "duration": 304,
    "start_time": "2024-05-20T17:13:28.134Z"
   },
   {
    "duration": 118,
    "start_time": "2024-05-20T17:13:28.440Z"
   },
   {
    "duration": 54,
    "start_time": "2024-05-20T17:13:28.564Z"
   },
   {
    "duration": 65,
    "start_time": "2024-05-20T17:13:28.627Z"
   },
   {
    "duration": 26,
    "start_time": "2024-05-20T17:13:28.696Z"
   },
   {
    "duration": 100,
    "start_time": "2024-05-20T17:13:28.726Z"
   },
   {
    "duration": 17,
    "start_time": "2024-05-20T17:13:28.830Z"
   },
   {
    "duration": 77,
    "start_time": "2024-05-20T17:13:28.851Z"
   },
   {
    "duration": 62,
    "start_time": "2024-05-20T17:13:28.932Z"
   },
   {
    "duration": 344,
    "start_time": "2024-05-20T17:13:28.997Z"
   },
   {
    "duration": 26,
    "start_time": "2024-05-20T17:13:29.344Z"
   },
   {
    "duration": 435,
    "start_time": "2024-05-20T17:13:29.373Z"
   },
   {
    "duration": 20,
    "start_time": "2024-05-20T17:13:29.810Z"
   },
   {
    "duration": 18,
    "start_time": "2024-05-20T17:13:29.832Z"
   },
   {
    "duration": 93,
    "start_time": "2024-05-20T17:13:29.852Z"
   },
   {
    "duration": 7,
    "start_time": "2024-05-20T17:13:29.948Z"
   },
   {
    "duration": 20,
    "start_time": "2024-05-20T17:13:29.959Z"
   },
   {
    "duration": 32,
    "start_time": "2024-05-20T17:13:29.983Z"
   },
   {
    "duration": 98,
    "start_time": "2024-05-20T17:13:30.018Z"
   },
   {
    "duration": 5,
    "start_time": "2024-05-20T17:13:30.120Z"
   },
   {
    "duration": 8,
    "start_time": "2024-05-20T17:13:30.128Z"
   },
   {
    "duration": 42612,
    "start_time": "2024-05-20T17:13:30.139Z"
   },
   {
    "duration": 3,
    "start_time": "2024-05-20T17:14:12.754Z"
   },
   {
    "duration": 6,
    "start_time": "2024-05-20T17:14:12.760Z"
   },
   {
    "duration": 27650,
    "start_time": "2024-05-20T17:14:12.769Z"
   },
   {
    "duration": 4,
    "start_time": "2024-05-20T17:14:40.422Z"
   },
   {
    "duration": 5,
    "start_time": "2024-05-20T17:14:40.429Z"
   },
   {
    "duration": 4195,
    "start_time": "2024-05-20T17:14:40.438Z"
   },
   {
    "duration": 4,
    "start_time": "2024-05-20T17:14:44.637Z"
   },
   {
    "duration": 5,
    "start_time": "2024-05-20T17:14:44.645Z"
   },
   {
    "duration": 5577,
    "start_time": "2024-05-20T17:14:44.658Z"
   },
   {
    "duration": 4,
    "start_time": "2024-05-20T17:14:50.238Z"
   },
   {
    "duration": 7,
    "start_time": "2024-05-20T17:14:50.245Z"
   },
   {
    "duration": 20,
    "start_time": "2024-05-20T17:14:50.256Z"
   },
   {
    "duration": 767,
    "start_time": "2024-05-20T17:14:50.279Z"
   },
   {
    "duration": 20,
    "start_time": "2024-05-20T17:15:57.955Z"
   },
   {
    "duration": 22,
    "start_time": "2024-05-20T17:16:04.975Z"
   },
   {
    "duration": 537,
    "start_time": "2024-05-20T17:16:28.233Z"
   },
   {
    "duration": 549,
    "start_time": "2024-05-20T19:18:19.590Z"
   },
   {
    "duration": 324,
    "start_time": "2024-05-20T19:20:43.032Z"
   },
   {
    "duration": 345,
    "start_time": "2024-05-20T19:21:46.624Z"
   },
   {
    "duration": 337,
    "start_time": "2024-05-20T19:22:22.219Z"
   },
   {
    "duration": 41,
    "start_time": "2024-05-20T19:25:17.566Z"
   },
   {
    "duration": 335,
    "start_time": "2024-05-20T19:25:29.933Z"
   },
   {
    "duration": 328,
    "start_time": "2024-05-20T19:26:11.259Z"
   },
   {
    "duration": 323,
    "start_time": "2024-05-20T19:31:19.528Z"
   },
   {
    "duration": 8,
    "start_time": "2024-05-20T19:32:11.202Z"
   },
   {
    "duration": 318,
    "start_time": "2024-05-20T19:32:13.926Z"
   },
   {
    "duration": 382,
    "start_time": "2024-05-20T19:33:05.762Z"
   },
   {
    "duration": 288,
    "start_time": "2024-05-20T19:34:11.576Z"
   },
   {
    "duration": 385,
    "start_time": "2024-05-20T19:34:18.177Z"
   },
   {
    "duration": 327,
    "start_time": "2024-05-20T19:35:20.323Z"
   },
   {
    "duration": 342,
    "start_time": "2024-05-20T19:35:28.922Z"
   },
   {
    "duration": 635,
    "start_time": "2024-05-20T19:36:37.795Z"
   },
   {
    "duration": 358,
    "start_time": "2024-05-20T19:36:40.225Z"
   },
   {
    "duration": 409,
    "start_time": "2024-05-20T19:37:00.788Z"
   },
   {
    "duration": 343,
    "start_time": "2024-05-20T19:37:08.191Z"
   },
   {
    "duration": 363,
    "start_time": "2024-05-20T19:37:25.249Z"
   },
   {
    "duration": 474,
    "start_time": "2024-05-20T19:37:33.566Z"
   },
   {
    "duration": 341,
    "start_time": "2024-05-20T19:37:37.989Z"
   },
   {
    "duration": 349,
    "start_time": "2024-05-20T19:37:58.857Z"
   },
   {
    "duration": 327,
    "start_time": "2024-05-20T19:38:11.045Z"
   },
   {
    "duration": 323,
    "start_time": "2024-05-20T19:38:15.454Z"
   },
   {
    "duration": 328,
    "start_time": "2024-05-20T19:38:19.705Z"
   },
   {
    "duration": 340,
    "start_time": "2024-05-20T19:38:25.646Z"
   },
   {
    "duration": 320,
    "start_time": "2024-05-20T19:38:38.164Z"
   },
   {
    "duration": 9,
    "start_time": "2024-05-20T19:38:47.568Z"
   },
   {
    "duration": 340,
    "start_time": "2024-05-20T19:38:50.803Z"
   },
   {
    "duration": 322,
    "start_time": "2024-05-20T19:38:55.161Z"
   },
   {
    "duration": 521,
    "start_time": "2024-05-20T19:39:06.347Z"
   },
   {
    "duration": 329,
    "start_time": "2024-05-20T19:39:09.184Z"
   },
   {
    "duration": 363,
    "start_time": "2024-05-20T19:39:28.440Z"
   },
   {
    "duration": 323,
    "start_time": "2024-05-20T19:39:39.841Z"
   },
   {
    "duration": 342,
    "start_time": "2024-05-20T19:40:02.090Z"
   },
   {
    "duration": 487,
    "start_time": "2024-05-20T19:40:11.728Z"
   },
   {
    "duration": 9,
    "start_time": "2024-05-20T19:40:39.351Z"
   },
   {
    "duration": 336,
    "start_time": "2024-05-20T19:40:45.792Z"
   },
   {
    "duration": 341,
    "start_time": "2024-05-20T19:41:11.153Z"
   },
   {
    "duration": 348,
    "start_time": "2024-05-20T19:41:20.657Z"
   },
   {
    "duration": 339,
    "start_time": "2024-05-20T19:41:25.556Z"
   },
   {
    "duration": 350,
    "start_time": "2024-05-20T19:41:34.521Z"
   },
   {
    "duration": 379,
    "start_time": "2024-05-20T19:41:44.345Z"
   },
   {
    "duration": 351,
    "start_time": "2024-05-20T19:42:29.815Z"
   },
   {
    "duration": 343,
    "start_time": "2024-05-20T19:42:35.110Z"
   },
   {
    "duration": 362,
    "start_time": "2024-05-20T19:42:50.709Z"
   },
   {
    "duration": 363,
    "start_time": "2024-05-20T19:43:44.107Z"
   },
   {
    "duration": 379,
    "start_time": "2024-05-20T19:44:16.886Z"
   },
   {
    "duration": 371,
    "start_time": "2024-05-20T19:44:35.344Z"
   },
   {
    "duration": 368,
    "start_time": "2024-05-20T19:44:53.472Z"
   },
   {
    "duration": 364,
    "start_time": "2024-05-20T19:45:00.295Z"
   },
   {
    "duration": 11,
    "start_time": "2024-05-20T19:45:53.080Z"
   },
   {
    "duration": 365,
    "start_time": "2024-05-20T19:45:56.227Z"
   },
   {
    "duration": 593,
    "start_time": "2024-05-20T19:47:40.599Z"
   },
   {
    "duration": 390,
    "start_time": "2024-05-20T19:47:45.974Z"
   },
   {
    "duration": 386,
    "start_time": "2024-05-20T19:47:53.673Z"
   },
   {
    "duration": 577,
    "start_time": "2024-05-20T19:48:18.682Z"
   },
   {
    "duration": 8,
    "start_time": "2024-05-20T19:48:56.214Z"
   },
   {
    "duration": 488,
    "start_time": "2024-05-20T19:49:06.735Z"
   },
   {
    "duration": 514,
    "start_time": "2024-05-20T19:49:14.023Z"
   },
   {
    "duration": 498,
    "start_time": "2024-05-20T19:49:20.462Z"
   },
   {
    "duration": 1002,
    "start_time": "2024-05-20T19:49:47.490Z"
   },
   {
    "duration": 569,
    "start_time": "2024-05-20T19:50:02.282Z"
   },
   {
    "duration": 536,
    "start_time": "2024-05-20T19:50:18.965Z"
   },
   {
    "duration": 767,
    "start_time": "2024-05-20T19:50:28.377Z"
   },
   {
    "duration": 495,
    "start_time": "2024-05-20T19:50:56.337Z"
   },
   {
    "duration": 485,
    "start_time": "2024-05-20T19:51:10.759Z"
   },
   {
    "duration": 493,
    "start_time": "2024-05-20T19:51:59.242Z"
   },
   {
    "duration": 503,
    "start_time": "2024-05-20T19:52:08.045Z"
   },
   {
    "duration": 525,
    "start_time": "2024-05-20T19:52:17.342Z"
   },
   {
    "duration": 634,
    "start_time": "2024-05-20T19:52:31.478Z"
   },
   {
    "duration": 551,
    "start_time": "2024-05-20T19:52:38.590Z"
   },
   {
    "duration": 38,
    "start_time": "2024-05-20T19:53:10.950Z"
   },
   {
    "duration": 20,
    "start_time": "2024-05-20T19:53:17.995Z"
   },
   {
    "duration": 535,
    "start_time": "2024-05-20T19:53:28.318Z"
   },
   {
    "duration": 529,
    "start_time": "2024-05-20T19:53:57.636Z"
   },
   {
    "duration": 394,
    "start_time": "2024-05-20T19:54:03.389Z"
   },
   {
    "duration": 556,
    "start_time": "2024-05-20T19:54:06.661Z"
   },
   {
    "duration": 513,
    "start_time": "2024-05-20T19:54:21.172Z"
   },
   {
    "duration": 503,
    "start_time": "2024-05-20T19:54:33.861Z"
   },
   {
    "duration": 548,
    "start_time": "2024-05-20T19:54:39.574Z"
   },
   {
    "duration": 518,
    "start_time": "2024-05-20T19:54:43.435Z"
   },
   {
    "duration": 484,
    "start_time": "2024-05-20T19:54:46.544Z"
   },
   {
    "duration": 541,
    "start_time": "2024-05-20T19:55:21.475Z"
   },
   {
    "duration": 521,
    "start_time": "2024-05-20T19:55:30.973Z"
   },
   {
    "duration": 535,
    "start_time": "2024-05-20T19:55:49.756Z"
   },
   {
    "duration": 537,
    "start_time": "2024-05-20T19:56:16.290Z"
   },
   {
    "duration": 795,
    "start_time": "2024-05-20T19:56:24.621Z"
   },
   {
    "duration": 498,
    "start_time": "2024-05-20T19:56:44.957Z"
   },
   {
    "duration": 1009,
    "start_time": "2024-05-20T19:57:51.553Z"
   },
   {
    "duration": 525,
    "start_time": "2024-05-20T19:58:04.478Z"
   },
   {
    "duration": 490,
    "start_time": "2024-05-20T19:58:46.858Z"
   },
   {
    "duration": 511,
    "start_time": "2024-05-20T19:59:32.524Z"
   },
   {
    "duration": 495,
    "start_time": "2024-05-20T19:59:36.730Z"
   },
   {
    "duration": 369,
    "start_time": "2024-05-20T19:59:51.338Z"
   },
   {
    "duration": 1353,
    "start_time": "2024-05-20T20:00:38.987Z"
   },
   {
    "duration": 537,
    "start_time": "2024-05-20T20:00:50.875Z"
   },
   {
    "duration": 496,
    "start_time": "2024-05-20T20:03:15.923Z"
   },
   {
    "duration": 526,
    "start_time": "2024-05-20T20:03:22.989Z"
   },
   {
    "duration": 491,
    "start_time": "2024-05-20T20:05:25.118Z"
   },
   {
    "duration": 533,
    "start_time": "2024-05-20T20:05:38.159Z"
   },
   {
    "duration": 524,
    "start_time": "2024-05-20T20:05:50.352Z"
   },
   {
    "duration": 539,
    "start_time": "2024-05-20T20:07:14.993Z"
   },
   {
    "duration": 528,
    "start_time": "2024-05-20T20:07:25.487Z"
   },
   {
    "duration": 508,
    "start_time": "2024-05-20T20:07:56.011Z"
   },
   {
    "duration": 500,
    "start_time": "2024-05-20T20:08:05.128Z"
   },
   {
    "duration": 206,
    "start_time": "2024-05-20T20:09:58.498Z"
   },
   {
    "duration": 6,
    "start_time": "2024-05-20T20:10:35.115Z"
   },
   {
    "duration": 194,
    "start_time": "2024-05-20T20:10:40.645Z"
   },
   {
    "duration": 205,
    "start_time": "2024-05-20T20:10:46.441Z"
   },
   {
    "duration": 256,
    "start_time": "2024-05-20T20:11:11.856Z"
   },
   {
    "duration": 514,
    "start_time": "2024-05-20T20:11:40.636Z"
   },
   {
    "duration": 1471,
    "start_time": "2024-05-20T20:11:57.000Z"
   },
   {
    "duration": 404,
    "start_time": "2024-05-20T20:12:03.940Z"
   },
   {
    "duration": 294,
    "start_time": "2024-05-20T20:12:14.209Z"
   },
   {
    "duration": 265,
    "start_time": "2024-05-20T20:12:44.834Z"
   },
   {
    "duration": 278,
    "start_time": "2024-05-20T20:13:09.797Z"
   },
   {
    "duration": 277,
    "start_time": "2024-05-20T20:13:48.329Z"
   },
   {
    "duration": 284,
    "start_time": "2024-05-20T20:14:55.071Z"
   },
   {
    "duration": 324,
    "start_time": "2024-05-20T20:15:47.191Z"
   },
   {
    "duration": 9,
    "start_time": "2024-05-20T20:16:09.800Z"
   },
   {
    "duration": 309,
    "start_time": "2024-05-20T20:16:13.695Z"
   },
   {
    "duration": 299,
    "start_time": "2024-05-20T20:16:21.240Z"
   },
   {
    "duration": 7,
    "start_time": "2024-05-20T20:17:06.819Z"
   },
   {
    "duration": 331,
    "start_time": "2024-05-20T20:17:27.631Z"
   },
   {
    "duration": 391,
    "start_time": "2024-05-20T20:17:31.610Z"
   },
   {
    "duration": 354,
    "start_time": "2024-05-20T20:17:38.912Z"
   },
   {
    "duration": 352,
    "start_time": "2024-05-20T20:17:57.597Z"
   },
   {
    "duration": 353,
    "start_time": "2024-05-20T20:18:28.319Z"
   },
   {
    "duration": 431,
    "start_time": "2024-05-20T20:18:33.998Z"
   },
   {
    "duration": 293,
    "start_time": "2024-05-20T20:18:40.494Z"
   },
   {
    "duration": 392,
    "start_time": "2024-05-20T20:20:03.760Z"
   },
   {
    "duration": 372,
    "start_time": "2024-05-20T20:20:16.734Z"
   },
   {
    "duration": 565,
    "start_time": "2024-05-20T20:20:24.367Z"
   },
   {
    "duration": 311,
    "start_time": "2024-05-20T20:20:55.271Z"
   },
   {
    "duration": 296,
    "start_time": "2024-05-20T20:21:17.825Z"
   },
   {
    "duration": 283,
    "start_time": "2024-05-20T20:21:22.057Z"
   },
   {
    "duration": 1131,
    "start_time": "2024-05-20T20:23:02.399Z"
   },
   {
    "duration": 1272,
    "start_time": "2024-05-20T20:23:24.079Z"
   },
   {
    "duration": 953,
    "start_time": "2024-05-20T20:23:34.985Z"
   },
   {
    "duration": 2230,
    "start_time": "2024-05-20T20:23:46.509Z"
   },
   {
    "duration": 23,
    "start_time": "2024-05-20T20:26:23.014Z"
   },
   {
    "duration": 555,
    "start_time": "2024-05-20T20:26:53.989Z"
   },
   {
    "duration": 518,
    "start_time": "2024-05-20T20:27:19.235Z"
   },
   {
    "duration": 720,
    "start_time": "2024-05-20T20:27:33.029Z"
   },
   {
    "duration": 542,
    "start_time": "2024-05-20T20:27:51.500Z"
   },
   {
    "duration": 557,
    "start_time": "2024-05-20T20:28:09.773Z"
   },
   {
    "duration": 590,
    "start_time": "2024-05-20T20:28:21.188Z"
   },
   {
    "duration": 552,
    "start_time": "2024-05-20T20:28:30.463Z"
   },
   {
    "duration": 4,
    "start_time": "2024-05-20T20:29:09.296Z"
   },
   {
    "duration": 1660,
    "start_time": "2024-05-20T20:29:09.303Z"
   },
   {
    "duration": 738,
    "start_time": "2024-05-20T20:29:10.968Z"
   },
   {
    "duration": 149,
    "start_time": "2024-05-20T20:29:11.708Z"
   },
   {
    "duration": 25,
    "start_time": "2024-05-20T20:29:11.862Z"
   },
   {
    "duration": 156,
    "start_time": "2024-05-20T20:29:11.913Z"
   },
   {
    "duration": 190,
    "start_time": "2024-05-20T20:29:12.072Z"
   },
   {
    "duration": 103,
    "start_time": "2024-05-20T20:29:12.265Z"
   },
   {
    "duration": 314,
    "start_time": "2024-05-20T20:29:12.370Z"
   },
   {
    "duration": 354,
    "start_time": "2024-05-20T20:29:12.686Z"
   },
   {
    "duration": 323,
    "start_time": "2024-05-20T20:29:13.048Z"
   },
   {
    "duration": 108,
    "start_time": "2024-05-20T20:29:13.374Z"
   },
   {
    "duration": 58,
    "start_time": "2024-05-20T20:29:13.485Z"
   },
   {
    "duration": 82,
    "start_time": "2024-05-20T20:29:13.546Z"
   },
   {
    "duration": 13,
    "start_time": "2024-05-20T20:29:13.631Z"
   },
   {
    "duration": 102,
    "start_time": "2024-05-20T20:29:13.647Z"
   },
   {
    "duration": 19,
    "start_time": "2024-05-20T20:29:13.752Z"
   },
   {
    "duration": 81,
    "start_time": "2024-05-20T20:29:13.774Z"
   },
   {
    "duration": 67,
    "start_time": "2024-05-20T20:29:13.858Z"
   },
   {
    "duration": 328,
    "start_time": "2024-05-20T20:29:13.928Z"
   },
   {
    "duration": 23,
    "start_time": "2024-05-20T20:29:14.260Z"
   },
   {
    "duration": 444,
    "start_time": "2024-05-20T20:29:14.288Z"
   },
   {
    "duration": 18,
    "start_time": "2024-05-20T20:29:14.735Z"
   },
   {
    "duration": 12,
    "start_time": "2024-05-20T20:29:14.760Z"
   },
   {
    "duration": 93,
    "start_time": "2024-05-20T20:29:14.774Z"
   },
   {
    "duration": 6,
    "start_time": "2024-05-20T20:29:14.870Z"
   },
   {
    "duration": 43,
    "start_time": "2024-05-20T20:29:14.880Z"
   },
   {
    "duration": 6,
    "start_time": "2024-05-20T20:29:14.926Z"
   },
   {
    "duration": 74,
    "start_time": "2024-05-20T20:29:14.941Z"
   },
   {
    "duration": 3,
    "start_time": "2024-05-20T20:29:15.018Z"
   },
   {
    "duration": 5,
    "start_time": "2024-05-20T20:29:15.024Z"
   },
   {
    "duration": 41702,
    "start_time": "2024-05-20T20:29:15.032Z"
   },
   {
    "duration": 4,
    "start_time": "2024-05-20T20:29:56.740Z"
   },
   {
    "duration": 5,
    "start_time": "2024-05-20T20:29:56.748Z"
   },
   {
    "duration": 27431,
    "start_time": "2024-05-20T20:29:56.757Z"
   },
   {
    "duration": 3,
    "start_time": "2024-05-20T20:30:24.192Z"
   },
   {
    "duration": 8,
    "start_time": "2024-05-20T20:30:24.214Z"
   },
   {
    "duration": 2000,
    "start_time": "2024-05-20T20:30:24.226Z"
   },
   {
    "duration": 4,
    "start_time": "2024-05-20T20:30:26.229Z"
   },
   {
    "duration": 6,
    "start_time": "2024-05-20T20:30:26.236Z"
   },
   {
    "duration": 5038,
    "start_time": "2024-05-20T20:30:26.246Z"
   },
   {
    "duration": 5,
    "start_time": "2024-05-20T20:30:31.287Z"
   },
   {
    "duration": 6,
    "start_time": "2024-05-20T20:30:31.295Z"
   },
   {
    "duration": 18,
    "start_time": "2024-05-20T20:30:31.304Z"
   },
   {
    "duration": 674,
    "start_time": "2024-05-20T20:30:31.325Z"
   },
   {
    "duration": 306,
    "start_time": "2024-05-20T20:30:32.003Z"
   },
   {
    "duration": 2613,
    "start_time": "2024-05-20T20:30:32.313Z"
   },
   {
    "duration": 20,
    "start_time": "2024-05-20T20:32:27.388Z"
   },
   {
    "duration": 28,
    "start_time": "2024-05-20T20:32:37.701Z"
   },
   {
    "duration": 20,
    "start_time": "2024-05-20T20:32:55.119Z"
   },
   {
    "duration": 529,
    "start_time": "2024-05-20T20:33:12.621Z"
   },
   {
    "duration": 527,
    "start_time": "2024-05-20T20:33:19.951Z"
   },
   {
    "duration": 519,
    "start_time": "2024-05-20T20:36:56.726Z"
   },
   {
    "duration": 541,
    "start_time": "2024-05-20T20:37:07.888Z"
   },
   {
    "duration": 392,
    "start_time": "2024-05-20T20:37:31.755Z"
   },
   {
    "duration": 364,
    "start_time": "2024-05-20T20:38:27.515Z"
   },
   {
    "duration": 7,
    "start_time": "2024-05-20T20:38:54.810Z"
   },
   {
    "duration": 376,
    "start_time": "2024-05-20T20:38:58.892Z"
   },
   {
    "duration": 364,
    "start_time": "2024-05-20T20:39:13.699Z"
   },
   {
    "duration": 8,
    "start_time": "2024-05-20T20:40:04.584Z"
   },
   {
    "duration": 6,
    "start_time": "2024-05-20T20:40:07.194Z"
   },
   {
    "duration": 513,
    "start_time": "2024-05-20T20:40:12.402Z"
   },
   {
    "duration": 9,
    "start_time": "2024-05-20T20:42:36.144Z"
   },
   {
    "duration": 305,
    "start_time": "2024-05-20T20:42:43.358Z"
   },
   {
    "duration": 354,
    "start_time": "2024-05-20T20:42:53.546Z"
   },
   {
    "duration": 529,
    "start_time": "2024-05-20T20:45:32.112Z"
   },
   {
    "duration": 544,
    "start_time": "2024-05-20T20:46:02.407Z"
   },
   {
    "duration": 393,
    "start_time": "2024-05-20T20:46:07.145Z"
   },
   {
    "duration": 1780,
    "start_time": "2024-05-20T20:46:15.762Z"
   },
   {
    "duration": 282,
    "start_time": "2024-05-20T20:46:21.800Z"
   },
   {
    "duration": 284,
    "start_time": "2024-05-20T20:46:28.229Z"
   },
   {
    "duration": 306,
    "start_time": "2024-05-20T20:47:29.072Z"
   },
   {
    "duration": 429,
    "start_time": "2024-05-20T20:47:33.402Z"
   },
   {
    "duration": 287,
    "start_time": "2024-05-20T20:49:27.456Z"
   },
   {
    "duration": 290,
    "start_time": "2024-05-20T20:49:30.603Z"
   },
   {
    "duration": 290,
    "start_time": "2024-05-20T20:52:07.880Z"
   },
   {
    "duration": 2434,
    "start_time": "2024-05-20T20:54:41.693Z"
   },
   {
    "duration": 4953,
    "start_time": "2024-05-20T20:54:56.544Z"
   },
   {
    "duration": 4917,
    "start_time": "2024-05-20T20:55:31.573Z"
   },
   {
    "duration": 4,
    "start_time": "2024-05-20T20:56:33.127Z"
   },
   {
    "duration": 1658,
    "start_time": "2024-05-20T20:56:33.136Z"
   },
   {
    "duration": 717,
    "start_time": "2024-05-20T20:56:34.798Z"
   },
   {
    "duration": 148,
    "start_time": "2024-05-20T20:56:35.519Z"
   },
   {
    "duration": 42,
    "start_time": "2024-05-20T20:56:35.670Z"
   },
   {
    "duration": 149,
    "start_time": "2024-05-20T20:56:35.715Z"
   },
   {
    "duration": 199,
    "start_time": "2024-05-20T20:56:35.867Z"
   },
   {
    "duration": 99,
    "start_time": "2024-05-20T20:56:36.069Z"
   },
   {
    "duration": 309,
    "start_time": "2024-05-20T20:56:36.175Z"
   },
   {
    "duration": 352,
    "start_time": "2024-05-20T20:56:36.487Z"
   },
   {
    "duration": 295,
    "start_time": "2024-05-20T20:56:36.842Z"
   },
   {
    "duration": 108,
    "start_time": "2024-05-20T20:56:37.140Z"
   },
   {
    "duration": 62,
    "start_time": "2024-05-20T20:56:37.250Z"
   },
   {
    "duration": 57,
    "start_time": "2024-05-20T20:56:37.315Z"
   },
   {
    "duration": 11,
    "start_time": "2024-05-20T20:56:37.376Z"
   },
   {
    "duration": 95,
    "start_time": "2024-05-20T20:56:37.389Z"
   },
   {
    "duration": 33,
    "start_time": "2024-05-20T20:56:37.486Z"
   },
   {
    "duration": 53,
    "start_time": "2024-05-20T20:56:37.522Z"
   },
   {
    "duration": 78,
    "start_time": "2024-05-20T20:56:37.578Z"
   },
   {
    "duration": 321,
    "start_time": "2024-05-20T20:56:37.659Z"
   },
   {
    "duration": 30,
    "start_time": "2024-05-20T20:56:37.983Z"
   },
   {
    "duration": 407,
    "start_time": "2024-05-20T20:56:38.017Z"
   },
   {
    "duration": 18,
    "start_time": "2024-05-20T20:56:38.427Z"
   },
   {
    "duration": 17,
    "start_time": "2024-05-20T20:56:38.451Z"
   },
   {
    "duration": 97,
    "start_time": "2024-05-20T20:56:38.470Z"
   },
   {
    "duration": 6,
    "start_time": "2024-05-20T20:56:38.570Z"
   },
   {
    "duration": 34,
    "start_time": "2024-05-20T20:56:38.579Z"
   },
   {
    "duration": 6,
    "start_time": "2024-05-20T20:56:38.616Z"
   },
   {
    "duration": 93,
    "start_time": "2024-05-20T20:56:38.625Z"
   },
   {
    "duration": 5,
    "start_time": "2024-05-20T20:56:38.722Z"
   },
   {
    "duration": 6,
    "start_time": "2024-05-20T20:56:38.730Z"
   },
   {
    "duration": 46463,
    "start_time": "2024-05-20T20:56:38.814Z"
   },
   {
    "duration": 4,
    "start_time": "2024-05-20T20:57:25.280Z"
   },
   {
    "duration": 26,
    "start_time": "2024-05-20T20:57:25.288Z"
   },
   {
    "duration": 29937,
    "start_time": "2024-05-20T20:57:25.318Z"
   },
   {
    "duration": 4,
    "start_time": "2024-05-20T20:57:55.257Z"
   },
   {
    "duration": 6,
    "start_time": "2024-05-20T20:57:55.264Z"
   },
   {
    "duration": 2258,
    "start_time": "2024-05-20T20:57:55.274Z"
   },
   {
    "duration": 6,
    "start_time": "2024-05-20T20:57:57.535Z"
   },
   {
    "duration": 68,
    "start_time": "2024-05-20T20:57:57.545Z"
   },
   {
    "duration": 4992,
    "start_time": "2024-05-20T20:57:57.616Z"
   },
   {
    "duration": 4,
    "start_time": "2024-05-20T20:58:02.611Z"
   },
   {
    "duration": 5,
    "start_time": "2024-05-20T20:58:02.618Z"
   },
   {
    "duration": 18,
    "start_time": "2024-05-20T20:58:02.626Z"
   },
   {
    "duration": 614,
    "start_time": "2024-05-20T20:58:02.647Z"
   },
   {
    "duration": 318,
    "start_time": "2024-05-20T20:58:03.264Z"
   },
   {
    "duration": 2246,
    "start_time": "2024-05-20T20:58:03.585Z"
   },
   {
    "duration": 6843,
    "start_time": "2024-05-20T22:09:23.481Z"
   },
   {
    "duration": 4,
    "start_time": "2024-05-20T22:09:52.172Z"
   },
   {
    "duration": 4,
    "start_time": "2024-05-20T23:00:19.781Z"
   },
   {
    "duration": 546,
    "start_time": "2024-05-20T23:06:51.412Z"
   },
   {
    "duration": 23,
    "start_time": "2024-05-20T23:07:28.787Z"
   },
   {
    "duration": 28,
    "start_time": "2024-05-20T23:08:00.041Z"
   },
   {
    "duration": 25,
    "start_time": "2024-05-20T23:08:15.356Z"
   },
   {
    "duration": 27,
    "start_time": "2024-05-20T23:09:57.867Z"
   },
   {
    "duration": 23,
    "start_time": "2024-05-20T23:16:30.417Z"
   },
   {
    "duration": 4,
    "start_time": "2024-05-20T23:17:08.124Z"
   },
   {
    "duration": 1653,
    "start_time": "2024-05-20T23:17:08.132Z"
   },
   {
    "duration": 741,
    "start_time": "2024-05-20T23:17:09.787Z"
   },
   {
    "duration": 157,
    "start_time": "2024-05-20T23:17:10.531Z"
   },
   {
    "duration": 39,
    "start_time": "2024-05-20T23:17:10.693Z"
   },
   {
    "duration": 161,
    "start_time": "2024-05-20T23:17:10.736Z"
   },
   {
    "duration": 214,
    "start_time": "2024-05-20T23:17:10.900Z"
   },
   {
    "duration": 105,
    "start_time": "2024-05-20T23:17:11.117Z"
   },
   {
    "duration": 323,
    "start_time": "2024-05-20T23:17:11.225Z"
   },
   {
    "duration": 368,
    "start_time": "2024-05-20T23:17:11.551Z"
   },
   {
    "duration": 292,
    "start_time": "2024-05-20T23:17:11.922Z"
   },
   {
    "duration": 108,
    "start_time": "2024-05-20T23:17:12.217Z"
   },
   {
    "duration": 40,
    "start_time": "2024-05-20T23:17:12.327Z"
   },
   {
    "duration": 84,
    "start_time": "2024-05-20T23:17:12.375Z"
   },
   {
    "duration": 13,
    "start_time": "2024-05-20T23:17:12.462Z"
   },
   {
    "duration": 95,
    "start_time": "2024-05-20T23:17:12.478Z"
   },
   {
    "duration": 16,
    "start_time": "2024-05-20T23:17:12.576Z"
   },
   {
    "duration": 52,
    "start_time": "2024-05-20T23:17:12.613Z"
   },
   {
    "duration": 72,
    "start_time": "2024-05-20T23:17:12.668Z"
   },
   {
    "duration": 326,
    "start_time": "2024-05-20T23:17:12.743Z"
   },
   {
    "duration": 19,
    "start_time": "2024-05-20T23:17:13.072Z"
   },
   {
    "duration": 451,
    "start_time": "2024-05-20T23:17:13.094Z"
   },
   {
    "duration": 19,
    "start_time": "2024-05-20T23:17:13.548Z"
   },
   {
    "duration": 42,
    "start_time": "2024-05-20T23:17:13.570Z"
   },
   {
    "duration": 74,
    "start_time": "2024-05-20T23:17:13.616Z"
   },
   {
    "duration": 19,
    "start_time": "2024-05-20T23:17:13.695Z"
   },
   {
    "duration": 21,
    "start_time": "2024-05-20T23:17:13.718Z"
   },
   {
    "duration": 8,
    "start_time": "2024-05-20T23:17:13.742Z"
   },
   {
    "duration": 81,
    "start_time": "2024-05-20T23:17:13.753Z"
   },
   {
    "duration": 9,
    "start_time": "2024-05-20T23:17:13.837Z"
   },
   {
    "duration": 5,
    "start_time": "2024-05-20T23:17:13.918Z"
   },
   {
    "duration": 42998,
    "start_time": "2024-05-20T23:17:13.926Z"
   },
   {
    "duration": 4,
    "start_time": "2024-05-20T23:17:56.926Z"
   },
   {
    "duration": 5,
    "start_time": "2024-05-20T23:17:56.933Z"
   },
   {
    "duration": 27809,
    "start_time": "2024-05-20T23:17:56.942Z"
   },
   {
    "duration": 3,
    "start_time": "2024-05-20T23:18:24.754Z"
   },
   {
    "duration": 6,
    "start_time": "2024-05-20T23:18:24.760Z"
   },
   {
    "duration": 2060,
    "start_time": "2024-05-20T23:18:24.770Z"
   },
   {
    "duration": 3,
    "start_time": "2024-05-20T23:18:26.833Z"
   },
   {
    "duration": 73,
    "start_time": "2024-05-20T23:18:26.840Z"
   },
   {
    "duration": 5323,
    "start_time": "2024-05-20T23:18:26.921Z"
   },
   {
    "duration": 4,
    "start_time": "2024-05-20T23:18:32.247Z"
   },
   {
    "duration": 5,
    "start_time": "2024-05-20T23:18:32.254Z"
   },
   {
    "duration": 19,
    "start_time": "2024-05-20T23:18:32.262Z"
   },
   {
    "duration": 621,
    "start_time": "2024-05-20T23:18:32.285Z"
   },
   {
    "duration": 378,
    "start_time": "2024-05-20T23:18:32.910Z"
   },
   {
    "duration": 9344,
    "start_time": "2024-05-20T23:18:33.291Z"
   },
   {
    "duration": 3,
    "start_time": "2024-05-20T23:18:42.638Z"
   },
   {
    "duration": 71,
    "start_time": "2024-05-20T23:18:42.644Z"
   },
   {
    "duration": 458,
    "start_time": "2024-05-20T23:18:42.718Z"
   },
   {
    "duration": 23,
    "start_time": "2024-05-20T23:20:58.344Z"
   },
   {
    "duration": 24,
    "start_time": "2024-05-20T23:21:02.105Z"
   },
   {
    "duration": 23,
    "start_time": "2024-05-20T23:21:18.677Z"
   },
   {
    "duration": 23,
    "start_time": "2024-05-20T23:21:37.073Z"
   },
   {
    "duration": 23,
    "start_time": "2024-05-20T23:22:26.037Z"
   },
   {
    "duration": 23,
    "start_time": "2024-05-20T23:22:29.057Z"
   },
   {
    "duration": 4,
    "start_time": "2024-05-20T23:22:46.620Z"
   },
   {
    "duration": 1624,
    "start_time": "2024-05-20T23:22:46.628Z"
   },
   {
    "duration": 706,
    "start_time": "2024-05-20T23:22:48.256Z"
   },
   {
    "duration": 169,
    "start_time": "2024-05-20T23:22:48.966Z"
   },
   {
    "duration": 25,
    "start_time": "2024-05-20T23:22:49.137Z"
   },
   {
    "duration": 163,
    "start_time": "2024-05-20T23:22:49.164Z"
   },
   {
    "duration": 195,
    "start_time": "2024-05-20T23:22:49.330Z"
   },
   {
    "duration": 100,
    "start_time": "2024-05-20T23:22:49.527Z"
   },
   {
    "duration": 309,
    "start_time": "2024-05-20T23:22:49.629Z"
   },
   {
    "duration": 352,
    "start_time": "2024-05-20T23:22:49.944Z"
   },
   {
    "duration": 293,
    "start_time": "2024-05-20T23:22:50.299Z"
   },
   {
    "duration": 107,
    "start_time": "2024-05-20T23:22:50.595Z"
   },
   {
    "duration": 42,
    "start_time": "2024-05-20T23:22:50.705Z"
   },
   {
    "duration": 81,
    "start_time": "2024-05-20T23:22:50.750Z"
   },
   {
    "duration": 12,
    "start_time": "2024-05-20T23:22:50.834Z"
   },
   {
    "duration": 103,
    "start_time": "2024-05-20T23:22:50.849Z"
   },
   {
    "duration": 19,
    "start_time": "2024-05-20T23:22:50.955Z"
   },
   {
    "duration": 75,
    "start_time": "2024-05-20T23:22:50.977Z"
   },
   {
    "duration": 67,
    "start_time": "2024-05-20T23:22:51.055Z"
   },
   {
    "duration": 315,
    "start_time": "2024-05-20T23:22:51.124Z"
   },
   {
    "duration": 18,
    "start_time": "2024-05-20T23:22:51.442Z"
   },
   {
    "duration": 434,
    "start_time": "2024-05-20T23:22:51.463Z"
   },
   {
    "duration": 21,
    "start_time": "2024-05-20T23:22:51.900Z"
   },
   {
    "duration": 13,
    "start_time": "2024-05-20T23:22:51.924Z"
   },
   {
    "duration": 93,
    "start_time": "2024-05-20T23:22:51.940Z"
   },
   {
    "duration": 6,
    "start_time": "2024-05-20T23:22:52.036Z"
   },
   {
    "duration": 21,
    "start_time": "2024-05-20T23:22:52.045Z"
   },
   {
    "duration": 37,
    "start_time": "2024-05-20T23:22:52.075Z"
   },
   {
    "duration": 100,
    "start_time": "2024-05-20T23:22:52.115Z"
   },
   {
    "duration": 4,
    "start_time": "2024-05-20T23:22:52.218Z"
   },
   {
    "duration": 7,
    "start_time": "2024-05-20T23:22:52.225Z"
   },
   {
    "duration": 42377,
    "start_time": "2024-05-20T23:22:52.235Z"
   },
   {
    "duration": 4,
    "start_time": "2024-05-20T23:23:34.615Z"
   },
   {
    "duration": 5,
    "start_time": "2024-05-20T23:23:34.622Z"
   },
   {
    "duration": 27650,
    "start_time": "2024-05-20T23:23:34.630Z"
   },
   {
    "duration": 4,
    "start_time": "2024-05-20T23:24:02.282Z"
   },
   {
    "duration": 21,
    "start_time": "2024-05-20T23:24:02.290Z"
   },
   {
    "duration": 3298,
    "start_time": "2024-05-20T23:24:02.314Z"
   },
   {
    "duration": 3,
    "start_time": "2024-05-20T23:24:05.617Z"
   },
   {
    "duration": 5,
    "start_time": "2024-05-20T23:24:05.627Z"
   },
   {
    "duration": 5157,
    "start_time": "2024-05-20T23:24:05.636Z"
   },
   {
    "duration": 4,
    "start_time": "2024-05-20T23:24:10.796Z"
   },
   {
    "duration": 6,
    "start_time": "2024-05-20T23:24:10.802Z"
   },
   {
    "duration": 18,
    "start_time": "2024-05-20T23:24:10.811Z"
   },
   {
    "duration": 589,
    "start_time": "2024-05-20T23:24:10.832Z"
   },
   {
    "duration": 314,
    "start_time": "2024-05-20T23:24:11.424Z"
   },
   {
    "duration": 2277,
    "start_time": "2024-05-20T23:24:11.741Z"
   },
   {
    "duration": 4,
    "start_time": "2024-05-20T23:24:14.021Z"
   },
   {
    "duration": 7,
    "start_time": "2024-05-20T23:24:14.030Z"
   },
   {
    "duration": 477,
    "start_time": "2024-05-20T23:25:19.575Z"
   },
   {
    "duration": 6,
    "start_time": "2024-05-20T23:25:46.790Z"
   },
   {
    "duration": 112,
    "start_time": "2024-05-20T23:25:50.406Z"
   },
   {
    "duration": 34,
    "start_time": "2024-05-20T23:25:57.250Z"
   },
   {
    "duration": 48,
    "start_time": "2024-05-20T23:26:08.647Z"
   },
   {
    "duration": 31,
    "start_time": "2024-05-20T23:27:35.148Z"
   },
   {
    "duration": 7,
    "start_time": "2024-05-20T23:27:44.132Z"
   },
   {
    "duration": 5,
    "start_time": "2024-05-20T23:31:00.754Z"
   },
   {
    "duration": 11,
    "start_time": "2024-05-20T23:31:05.952Z"
   },
   {
    "duration": 6,
    "start_time": "2024-05-20T23:31:11.462Z"
   },
   {
    "duration": 106,
    "start_time": "2024-05-20T23:31:42.037Z"
   },
   {
    "duration": 246,
    "start_time": "2024-05-20T23:31:49.710Z"
   },
   {
    "duration": 8,
    "start_time": "2024-05-20T23:32:08.715Z"
   },
   {
    "duration": 250,
    "start_time": "2024-05-20T23:32:28.717Z"
   },
   {
    "duration": 8,
    "start_time": "2024-05-20T23:34:14.925Z"
   },
   {
    "duration": 8,
    "start_time": "2024-05-20T23:37:49.823Z"
   },
   {
    "duration": 27,
    "start_time": "2024-05-20T23:40:44.021Z"
   },
   {
    "duration": 6,
    "start_time": "2024-05-20T23:41:00.036Z"
   },
   {
    "duration": 6,
    "start_time": "2024-05-20T23:41:05.499Z"
   },
   {
    "duration": 5,
    "start_time": "2024-05-20T23:41:10.258Z"
   },
   {
    "duration": 1675,
    "start_time": "2024-05-20T23:41:10.268Z"
   },
   {
    "duration": 744,
    "start_time": "2024-05-20T23:41:11.947Z"
   },
   {
    "duration": 149,
    "start_time": "2024-05-20T23:41:12.694Z"
   },
   {
    "duration": 22,
    "start_time": "2024-05-20T23:41:12.850Z"
   },
   {
    "duration": 199,
    "start_time": "2024-05-20T23:41:12.876Z"
   },
   {
    "duration": 277,
    "start_time": "2024-05-20T23:41:13.081Z"
   },
   {
    "duration": 112,
    "start_time": "2024-05-20T23:41:13.363Z"
   },
   {
    "duration": 359,
    "start_time": "2024-05-20T23:41:13.479Z"
   },
   {
    "duration": 390,
    "start_time": "2024-05-20T23:41:13.841Z"
   },
   {
    "duration": 388,
    "start_time": "2024-05-20T23:41:14.234Z"
   },
   {
    "duration": 151,
    "start_time": "2024-05-20T23:41:14.627Z"
   },
   {
    "duration": 50,
    "start_time": "2024-05-20T23:41:14.781Z"
   },
   {
    "duration": 77,
    "start_time": "2024-05-20T23:41:14.839Z"
   },
   {
    "duration": 13,
    "start_time": "2024-05-20T23:41:14.920Z"
   },
   {
    "duration": 101,
    "start_time": "2024-05-20T23:41:14.936Z"
   },
   {
    "duration": 18,
    "start_time": "2024-05-20T23:41:15.040Z"
   },
   {
    "duration": 69,
    "start_time": "2024-05-20T23:41:15.062Z"
   },
   {
    "duration": 81,
    "start_time": "2024-05-20T23:41:15.135Z"
   },
   {
    "duration": 342,
    "start_time": "2024-05-20T23:41:15.219Z"
   },
   {
    "duration": 20,
    "start_time": "2024-05-20T23:41:15.564Z"
   },
   {
    "duration": 480,
    "start_time": "2024-05-20T23:41:15.588Z"
   },
   {
    "duration": 20,
    "start_time": "2024-05-20T23:41:16.072Z"
   },
   {
    "duration": 28,
    "start_time": "2024-05-20T23:41:16.095Z"
   },
   {
    "duration": 96,
    "start_time": "2024-05-20T23:41:16.125Z"
   },
   {
    "duration": 6,
    "start_time": "2024-05-20T23:41:16.224Z"
   },
   {
    "duration": 20,
    "start_time": "2024-05-20T23:41:16.234Z"
   },
   {
    "duration": 9,
    "start_time": "2024-05-20T23:41:16.257Z"
   },
   {
    "duration": 145,
    "start_time": "2024-05-20T23:41:16.272Z"
   },
   {
    "duration": 5,
    "start_time": "2024-05-20T23:41:16.421Z"
   },
   {
    "duration": 8,
    "start_time": "2024-05-20T23:41:16.430Z"
   },
   {
    "duration": 44113,
    "start_time": "2024-05-20T23:41:16.441Z"
   },
   {
    "duration": 3,
    "start_time": "2024-05-20T23:42:00.557Z"
   },
   {
    "duration": 6,
    "start_time": "2024-05-20T23:42:00.565Z"
   },
   {
    "duration": 28965,
    "start_time": "2024-05-20T23:42:00.574Z"
   },
   {
    "duration": 5,
    "start_time": "2024-05-20T23:42:29.542Z"
   },
   {
    "duration": 5,
    "start_time": "2024-05-20T23:42:29.551Z"
   },
   {
    "duration": 69764,
    "start_time": "2024-05-20T23:42:29.560Z"
   },
   {
    "duration": 3,
    "start_time": "2024-05-20T23:43:39.329Z"
   },
   {
    "duration": 5,
    "start_time": "2024-05-20T23:43:39.335Z"
   },
   {
    "duration": 5026,
    "start_time": "2024-05-20T23:43:39.349Z"
   },
   {
    "duration": 4,
    "start_time": "2024-05-20T23:43:44.380Z"
   },
   {
    "duration": 9,
    "start_time": "2024-05-20T23:43:44.388Z"
   },
   {
    "duration": 22,
    "start_time": "2024-05-20T23:43:44.400Z"
   },
   {
    "duration": 643,
    "start_time": "2024-05-20T23:43:44.426Z"
   },
   {
    "duration": 335,
    "start_time": "2024-05-20T23:43:45.076Z"
   },
   {
    "duration": 4,
    "start_time": "2024-05-20T23:44:26.322Z"
   },
   {
    "duration": 1734,
    "start_time": "2024-05-20T23:44:26.330Z"
   },
   {
    "duration": 777,
    "start_time": "2024-05-20T23:44:28.069Z"
   },
   {
    "duration": 180,
    "start_time": "2024-05-20T23:44:28.849Z"
   },
   {
    "duration": 24,
    "start_time": "2024-05-20T23:44:29.034Z"
   },
   {
    "duration": 182,
    "start_time": "2024-05-20T23:44:29.061Z"
   },
   {
    "duration": 200,
    "start_time": "2024-05-20T23:44:29.247Z"
   },
   {
    "duration": 134,
    "start_time": "2024-05-20T23:44:29.450Z"
   },
   {
    "duration": 316,
    "start_time": "2024-05-20T23:44:29.587Z"
   },
   {
    "duration": 349,
    "start_time": "2024-05-20T23:44:29.906Z"
   },
   {
    "duration": 309,
    "start_time": "2024-05-20T23:44:30.262Z"
   },
   {
    "duration": 109,
    "start_time": "2024-05-20T23:44:30.575Z"
   },
   {
    "duration": 48,
    "start_time": "2024-05-20T23:44:30.688Z"
   },
   {
    "duration": 75,
    "start_time": "2024-05-20T23:44:30.739Z"
   },
   {
    "duration": 13,
    "start_time": "2024-05-20T23:44:30.816Z"
   },
   {
    "duration": 101,
    "start_time": "2024-05-20T23:44:30.832Z"
   },
   {
    "duration": 19,
    "start_time": "2024-05-20T23:44:30.936Z"
   },
   {
    "duration": 79,
    "start_time": "2024-05-20T23:44:30.958Z"
   },
   {
    "duration": 52,
    "start_time": "2024-05-20T23:44:31.046Z"
   },
   {
    "duration": 369,
    "start_time": "2024-05-20T23:44:31.111Z"
   },
   {
    "duration": 42,
    "start_time": "2024-05-20T23:44:31.483Z"
   },
   {
    "duration": 559,
    "start_time": "2024-05-20T23:44:31.528Z"
   },
   {
    "duration": 26,
    "start_time": "2024-05-20T23:44:32.090Z"
   },
   {
    "duration": 13,
    "start_time": "2024-05-20T23:44:32.120Z"
   },
   {
    "duration": 98,
    "start_time": "2024-05-20T23:44:32.136Z"
   },
   {
    "duration": 9,
    "start_time": "2024-05-20T23:44:32.236Z"
   },
   {
    "duration": 20,
    "start_time": "2024-05-20T23:44:32.248Z"
   },
   {
    "duration": 7,
    "start_time": "2024-05-20T23:44:32.272Z"
   },
   {
    "duration": 94,
    "start_time": "2024-05-20T23:44:32.317Z"
   },
   {
    "duration": 4,
    "start_time": "2024-05-20T23:44:32.416Z"
   },
   {
    "duration": 9,
    "start_time": "2024-05-20T23:44:32.425Z"
   },
   {
    "duration": 43079,
    "start_time": "2024-05-20T23:44:32.439Z"
   },
   {
    "duration": 5,
    "start_time": "2024-05-20T23:45:15.521Z"
   },
   {
    "duration": 6,
    "start_time": "2024-05-20T23:45:15.530Z"
   },
   {
    "duration": 27821,
    "start_time": "2024-05-20T23:45:15.540Z"
   },
   {
    "duration": 4,
    "start_time": "2024-05-20T23:45:43.363Z"
   },
   {
    "duration": 5,
    "start_time": "2024-05-20T23:45:43.370Z"
   },
   {
    "duration": 2263,
    "start_time": "2024-05-20T23:45:43.378Z"
   },
   {
    "duration": 66,
    "start_time": "2024-05-20T23:45:45.646Z"
   },
   {
    "duration": 9,
    "start_time": "2024-05-20T23:45:45.715Z"
   },
   {
    "duration": 4869,
    "start_time": "2024-05-20T23:45:45.726Z"
   },
   {
    "duration": 3,
    "start_time": "2024-05-20T23:45:50.598Z"
   },
   {
    "duration": 6,
    "start_time": "2024-05-20T23:45:50.604Z"
   },
   {
    "duration": 18,
    "start_time": "2024-05-20T23:45:50.613Z"
   },
   {
    "duration": 606,
    "start_time": "2024-05-20T23:45:50.633Z"
   },
   {
    "duration": 314,
    "start_time": "2024-05-20T23:45:51.242Z"
   },
   {
    "duration": 2277,
    "start_time": "2024-05-20T23:45:51.560Z"
   },
   {
    "duration": 3,
    "start_time": "2024-05-20T23:45:53.840Z"
   },
   {
    "duration": 5,
    "start_time": "2024-05-20T23:45:53.846Z"
   },
   {
    "duration": 259,
    "start_time": "2024-05-20T23:45:53.915Z"
   },
   {
    "duration": 743,
    "start_time": "2024-05-20T23:45:54.178Z"
   },
   {
    "duration": 225,
    "start_time": "2024-05-20T23:49:08.754Z"
   },
   {
    "duration": 4,
    "start_time": "2024-05-20T23:49:27.448Z"
   },
   {
    "duration": 1750,
    "start_time": "2024-05-20T23:49:27.456Z"
   },
   {
    "duration": 754,
    "start_time": "2024-05-20T23:49:29.209Z"
   },
   {
    "duration": 156,
    "start_time": "2024-05-20T23:49:29.966Z"
   },
   {
    "duration": 25,
    "start_time": "2024-05-20T23:49:30.128Z"
   },
   {
    "duration": 164,
    "start_time": "2024-05-20T23:49:30.157Z"
   },
   {
    "duration": 189,
    "start_time": "2024-05-20T23:49:30.324Z"
   },
   {
    "duration": 103,
    "start_time": "2024-05-20T23:49:30.516Z"
   },
   {
    "duration": 301,
    "start_time": "2024-05-20T23:49:30.622Z"
   },
   {
    "duration": 354,
    "start_time": "2024-05-20T23:49:30.926Z"
   },
   {
    "duration": 300,
    "start_time": "2024-05-20T23:49:31.283Z"
   },
   {
    "duration": 103,
    "start_time": "2024-05-20T23:49:31.586Z"
   },
   {
    "duration": 53,
    "start_time": "2024-05-20T23:49:31.692Z"
   },
   {
    "duration": 72,
    "start_time": "2024-05-20T23:49:31.751Z"
   },
   {
    "duration": 13,
    "start_time": "2024-05-20T23:49:31.825Z"
   },
   {
    "duration": 97,
    "start_time": "2024-05-20T23:49:31.840Z"
   },
   {
    "duration": 16,
    "start_time": "2024-05-20T23:49:31.940Z"
   },
   {
    "duration": 73,
    "start_time": "2024-05-20T23:49:31.960Z"
   },
   {
    "duration": 51,
    "start_time": "2024-05-20T23:49:32.036Z"
   },
   {
    "duration": 338,
    "start_time": "2024-05-20T23:49:32.089Z"
   },
   {
    "duration": 18,
    "start_time": "2024-05-20T23:49:32.430Z"
   },
   {
    "duration": 429,
    "start_time": "2024-05-20T23:49:32.450Z"
   },
   {
    "duration": 18,
    "start_time": "2024-05-20T23:49:32.882Z"
   },
   {
    "duration": 13,
    "start_time": "2024-05-20T23:49:32.914Z"
   },
   {
    "duration": 92,
    "start_time": "2024-05-20T23:49:32.930Z"
   },
   {
    "duration": 6,
    "start_time": "2024-05-20T23:49:33.026Z"
   },
   {
    "duration": 23,
    "start_time": "2024-05-20T23:49:33.036Z"
   },
   {
    "duration": 7,
    "start_time": "2024-05-20T23:49:33.062Z"
   },
   {
    "duration": 80,
    "start_time": "2024-05-20T23:49:33.072Z"
   },
   {
    "duration": 62,
    "start_time": "2024-05-20T23:49:33.155Z"
   },
   {
    "duration": 6,
    "start_time": "2024-05-20T23:49:33.220Z"
   },
   {
    "duration": 42982,
    "start_time": "2024-05-20T23:49:33.230Z"
   },
   {
    "duration": 4,
    "start_time": "2024-05-20T23:50:16.215Z"
   },
   {
    "duration": 6,
    "start_time": "2024-05-20T23:50:16.221Z"
   },
   {
    "duration": 27320,
    "start_time": "2024-05-20T23:50:16.229Z"
   },
   {
    "duration": 5,
    "start_time": "2024-05-20T23:50:43.552Z"
   },
   {
    "duration": 5,
    "start_time": "2024-05-20T23:50:43.561Z"
   },
   {
    "duration": 2758,
    "start_time": "2024-05-20T23:50:43.569Z"
   },
   {
    "duration": 3,
    "start_time": "2024-05-20T23:50:46.331Z"
   },
   {
    "duration": 6,
    "start_time": "2024-05-20T23:50:46.338Z"
   },
   {
    "duration": 5007,
    "start_time": "2024-05-20T23:50:46.417Z"
   },
   {
    "duration": 4,
    "start_time": "2024-05-20T23:50:51.430Z"
   },
   {
    "duration": 6,
    "start_time": "2024-05-20T23:50:51.438Z"
   },
   {
    "duration": 20,
    "start_time": "2024-05-20T23:50:51.448Z"
   },
   {
    "duration": 576,
    "start_time": "2024-05-20T23:50:51.471Z"
   },
   {
    "duration": 303,
    "start_time": "2024-05-20T23:50:52.051Z"
   },
   {
    "duration": 2464,
    "start_time": "2024-05-20T23:50:52.357Z"
   },
   {
    "duration": 3,
    "start_time": "2024-05-20T23:50:54.824Z"
   },
   {
    "duration": 5,
    "start_time": "2024-05-20T23:50:54.830Z"
   },
   {
    "duration": 278,
    "start_time": "2024-05-20T23:50:54.838Z"
   },
   {
    "duration": 5,
    "start_time": "2024-05-20T23:55:18.892Z"
   },
   {
    "duration": 1694,
    "start_time": "2024-05-20T23:55:18.901Z"
   },
   {
    "duration": 776,
    "start_time": "2024-05-20T23:55:20.597Z"
   },
   {
    "duration": 174,
    "start_time": "2024-05-20T23:55:21.378Z"
   },
   {
    "duration": 24,
    "start_time": "2024-05-20T23:55:21.556Z"
   },
   {
    "duration": 157,
    "start_time": "2024-05-20T23:55:21.585Z"
   },
   {
    "duration": 200,
    "start_time": "2024-05-20T23:55:21.745Z"
   },
   {
    "duration": 120,
    "start_time": "2024-05-20T23:55:21.948Z"
   },
   {
    "duration": 313,
    "start_time": "2024-05-20T23:55:22.071Z"
   },
   {
    "duration": 348,
    "start_time": "2024-05-20T23:55:22.390Z"
   },
   {
    "duration": 303,
    "start_time": "2024-05-20T23:55:22.741Z"
   },
   {
    "duration": 129,
    "start_time": "2024-05-20T23:55:23.048Z"
   },
   {
    "duration": 54,
    "start_time": "2024-05-20T23:55:23.183Z"
   },
   {
    "duration": 72,
    "start_time": "2024-05-20T23:55:23.240Z"
   },
   {
    "duration": 14,
    "start_time": "2024-05-20T23:55:23.314Z"
   },
   {
    "duration": 101,
    "start_time": "2024-05-20T23:55:23.332Z"
   },
   {
    "duration": 17,
    "start_time": "2024-05-20T23:55:23.436Z"
   },
   {
    "duration": 75,
    "start_time": "2024-05-20T23:55:23.456Z"
   },
   {
    "duration": 52,
    "start_time": "2024-05-20T23:55:23.536Z"
   },
   {
    "duration": 336,
    "start_time": "2024-05-20T23:55:23.591Z"
   },
   {
    "duration": 19,
    "start_time": "2024-05-20T23:55:23.930Z"
   },
   {
    "duration": 427,
    "start_time": "2024-05-20T23:55:23.952Z"
   },
   {
    "duration": 17,
    "start_time": "2024-05-20T23:55:24.382Z"
   },
   {
    "duration": 13,
    "start_time": "2024-05-20T23:55:24.413Z"
   },
   {
    "duration": 88,
    "start_time": "2024-05-20T23:55:24.429Z"
   },
   {
    "duration": 7,
    "start_time": "2024-05-20T23:55:24.520Z"
   },
   {
    "duration": 20,
    "start_time": "2024-05-20T23:55:24.530Z"
   },
   {
    "duration": 6,
    "start_time": "2024-05-20T23:55:24.558Z"
   },
   {
    "duration": 86,
    "start_time": "2024-05-20T23:55:24.567Z"
   },
   {
    "duration": 55,
    "start_time": "2024-05-20T23:55:24.658Z"
   },
   {
    "duration": 8,
    "start_time": "2024-05-20T23:55:24.716Z"
   },
   {
    "duration": 43704,
    "start_time": "2024-05-20T23:55:24.727Z"
   },
   {
    "duration": 3,
    "start_time": "2024-05-20T23:56:08.434Z"
   },
   {
    "duration": 6,
    "start_time": "2024-05-20T23:56:08.440Z"
   },
   {
    "duration": 28684,
    "start_time": "2024-05-20T23:56:08.449Z"
   },
   {
    "duration": 3,
    "start_time": "2024-05-20T23:56:37.136Z"
   },
   {
    "duration": 6,
    "start_time": "2024-05-20T23:56:37.142Z"
   },
   {
    "duration": 2082,
    "start_time": "2024-05-20T23:56:37.151Z"
   },
   {
    "duration": 4,
    "start_time": "2024-05-20T23:56:39.236Z"
   },
   {
    "duration": 5,
    "start_time": "2024-05-20T23:56:39.244Z"
   },
   {
    "duration": 4930,
    "start_time": "2024-05-20T23:56:39.312Z"
   },
   {
    "duration": 9,
    "start_time": "2024-05-20T23:56:44.245Z"
   },
   {
    "duration": 6,
    "start_time": "2024-05-20T23:56:44.259Z"
   },
   {
    "duration": 48,
    "start_time": "2024-05-20T23:56:44.269Z"
   },
   {
    "duration": 627,
    "start_time": "2024-05-20T23:56:44.321Z"
   },
   {
    "duration": 1262,
    "start_time": "2024-05-20T23:56:44.951Z"
   },
   {
    "duration": 0,
    "start_time": "2024-05-20T23:56:46.216Z"
   },
   {
    "duration": 0,
    "start_time": "2024-05-20T23:56:46.218Z"
   },
   {
    "duration": 0,
    "start_time": "2024-05-20T23:56:46.220Z"
   },
   {
    "duration": 0,
    "start_time": "2024-05-20T23:56:46.223Z"
   },
   {
    "duration": 300,
    "start_time": "2024-05-20T23:57:23.559Z"
   },
   {
    "duration": 3133,
    "start_time": "2024-05-20T23:57:27.194Z"
   },
   {
    "duration": 2712,
    "start_time": "2024-05-20T23:57:36.518Z"
   },
   {
    "duration": 4,
    "start_time": "2024-05-20T23:57:39.237Z"
   },
   {
    "duration": 5,
    "start_time": "2024-05-20T23:57:39.245Z"
   },
   {
    "duration": 244,
    "start_time": "2024-05-20T23:57:41.755Z"
   },
   {
    "duration": 5,
    "start_time": "2024-05-21T02:12:51.801Z"
   },
   {
    "duration": 6766,
    "start_time": "2024-05-21T02:12:51.811Z"
   },
   {
    "duration": 867,
    "start_time": "2024-05-21T02:12:58.580Z"
   },
   {
    "duration": 344,
    "start_time": "2024-05-21T02:12:59.455Z"
   },
   {
    "duration": 52,
    "start_time": "2024-05-21T02:12:59.812Z"
   },
   {
    "duration": 177,
    "start_time": "2024-05-21T02:12:59.874Z"
   },
   {
    "duration": 201,
    "start_time": "2024-05-21T02:13:00.054Z"
   },
   {
    "duration": 108,
    "start_time": "2024-05-21T02:13:00.259Z"
   },
   {
    "duration": 434,
    "start_time": "2024-05-21T02:13:00.377Z"
   },
   {
    "duration": 372,
    "start_time": "2024-05-21T02:13:00.814Z"
   },
   {
    "duration": 339,
    "start_time": "2024-05-21T02:13:01.189Z"
   },
   {
    "duration": 120,
    "start_time": "2024-05-21T02:13:01.531Z"
   },
   {
    "duration": 39,
    "start_time": "2024-05-21T02:13:01.654Z"
   },
   {
    "duration": 82,
    "start_time": "2024-05-21T02:13:01.696Z"
   },
   {
    "duration": 12,
    "start_time": "2024-05-21T02:13:01.781Z"
   },
   {
    "duration": 108,
    "start_time": "2024-05-21T02:13:01.796Z"
   },
   {
    "duration": 35,
    "start_time": "2024-05-21T02:13:01.906Z"
   },
   {
    "duration": 56,
    "start_time": "2024-05-21T02:13:01.944Z"
   },
   {
    "duration": 54,
    "start_time": "2024-05-21T02:13:02.028Z"
   },
   {
    "duration": 456,
    "start_time": "2024-05-21T02:13:02.086Z"
   },
   {
    "duration": 17,
    "start_time": "2024-05-21T02:13:02.545Z"
   },
   {
    "duration": 453,
    "start_time": "2024-05-21T02:13:02.566Z"
   },
   {
    "duration": 18,
    "start_time": "2024-05-21T02:13:03.026Z"
   },
   {
    "duration": 13,
    "start_time": "2024-05-21T02:13:03.052Z"
   },
   {
    "duration": 101,
    "start_time": "2024-05-21T02:13:03.067Z"
   },
   {
    "duration": 7,
    "start_time": "2024-05-21T02:13:03.172Z"
   },
   {
    "duration": 46,
    "start_time": "2024-05-21T02:13:03.183Z"
   },
   {
    "duration": 8,
    "start_time": "2024-05-21T02:13:03.233Z"
   },
   {
    "duration": 96,
    "start_time": "2024-05-21T02:13:03.247Z"
   },
   {
    "duration": 3,
    "start_time": "2024-05-21T02:13:03.346Z"
   },
   {
    "duration": 80,
    "start_time": "2024-05-21T02:13:03.351Z"
   },
   {
    "duration": 48346,
    "start_time": "2024-05-21T02:13:03.435Z"
   },
   {
    "duration": 3,
    "start_time": "2024-05-21T02:13:51.785Z"
   },
   {
    "duration": 10,
    "start_time": "2024-05-21T02:13:51.793Z"
   },
   {
    "duration": 30471,
    "start_time": "2024-05-21T02:13:51.828Z"
   },
   {
    "duration": 5,
    "start_time": "2024-05-21T02:14:22.302Z"
   },
   {
    "duration": 5,
    "start_time": "2024-05-21T02:14:22.326Z"
   },
   {
    "duration": 2126,
    "start_time": "2024-05-21T02:14:22.334Z"
   },
   {
    "duration": 3,
    "start_time": "2024-05-21T02:14:24.525Z"
   },
   {
    "duration": 5,
    "start_time": "2024-05-21T02:14:24.532Z"
   },
   {
    "duration": 5270,
    "start_time": "2024-05-21T02:14:24.541Z"
   },
   {
    "duration": 5,
    "start_time": "2024-05-21T02:14:29.814Z"
   },
   {
    "duration": 7,
    "start_time": "2024-05-21T02:14:29.823Z"
   },
   {
    "duration": 27,
    "start_time": "2024-05-21T02:14:29.834Z"
   },
   {
    "duration": 639,
    "start_time": "2024-05-21T02:14:29.864Z"
   },
   {
    "duration": 342,
    "start_time": "2024-05-21T02:14:30.506Z"
   },
   {
    "duration": 2185,
    "start_time": "2024-05-21T02:14:30.852Z"
   },
   {
    "duration": 7,
    "start_time": "2024-05-21T02:14:33.040Z"
   },
   {
    "duration": 5,
    "start_time": "2024-05-21T02:14:33.050Z"
   },
   {
    "duration": 305,
    "start_time": "2024-05-21T02:14:33.059Z"
   },
   {
    "duration": 17,
    "start_time": "2024-05-21T02:27:12.777Z"
   },
   {
    "duration": 184,
    "start_time": "2024-05-21T02:27:32.690Z"
   },
   {
    "duration": 5175,
    "start_time": "2024-05-21T02:27:32.877Z"
   },
   {
    "duration": 853,
    "start_time": "2024-05-21T02:27:38.055Z"
   },
   {
    "duration": 148,
    "start_time": "2024-05-21T02:27:38.926Z"
   },
   {
    "duration": 24,
    "start_time": "2024-05-21T02:27:39.078Z"
   },
   {
    "duration": 159,
    "start_time": "2024-05-21T02:27:39.105Z"
   },
   {
    "duration": 231,
    "start_time": "2024-05-21T02:27:39.267Z"
   },
   {
    "duration": 113,
    "start_time": "2024-05-21T02:27:39.502Z"
   },
   {
    "duration": 343,
    "start_time": "2024-05-21T02:27:39.626Z"
   },
   {
    "duration": 376,
    "start_time": "2024-05-21T02:27:39.975Z"
   },
   {
    "duration": 344,
    "start_time": "2024-05-21T02:27:40.354Z"
   },
   {
    "duration": 113,
    "start_time": "2024-05-21T02:27:40.702Z"
   },
   {
    "duration": 38,
    "start_time": "2024-05-21T02:27:40.827Z"
   },
   {
    "duration": 86,
    "start_time": "2024-05-21T02:27:40.868Z"
   },
   {
    "duration": 14,
    "start_time": "2024-05-21T02:27:40.957Z"
   },
   {
    "duration": 107,
    "start_time": "2024-05-21T02:27:40.974Z"
   },
   {
    "duration": 19,
    "start_time": "2024-05-21T02:27:41.084Z"
   },
   {
    "duration": 74,
    "start_time": "2024-05-21T02:27:41.107Z"
   },
   {
    "duration": 73,
    "start_time": "2024-05-21T02:27:41.184Z"
   },
   {
    "duration": 332,
    "start_time": "2024-05-21T02:27:41.260Z"
   },
   {
    "duration": 34,
    "start_time": "2024-05-21T02:27:41.596Z"
   },
   {
    "duration": 438,
    "start_time": "2024-05-21T02:27:41.633Z"
   },
   {
    "duration": 19,
    "start_time": "2024-05-21T02:27:42.074Z"
   },
   {
    "duration": 38,
    "start_time": "2024-05-21T02:27:42.097Z"
   },
   {
    "duration": 19,
    "start_time": "2024-05-21T02:27:42.137Z"
   },
   {
    "duration": 6,
    "start_time": "2024-05-21T02:27:42.162Z"
   },
   {
    "duration": 108,
    "start_time": "2024-05-21T02:27:42.172Z"
   },
   {
    "duration": 6,
    "start_time": "2024-05-21T02:27:42.289Z"
   },
   {
    "duration": 67,
    "start_time": "2024-05-21T02:27:42.299Z"
   },
   {
    "duration": 58,
    "start_time": "2024-05-21T02:27:42.368Z"
   },
   {
    "duration": 11,
    "start_time": "2024-05-21T02:27:42.429Z"
   },
   {
    "duration": 47892,
    "start_time": "2024-05-21T02:27:42.444Z"
   },
   {
    "duration": 4,
    "start_time": "2024-05-21T02:28:30.340Z"
   },
   {
    "duration": 6,
    "start_time": "2024-05-21T02:28:30.347Z"
   },
   {
    "duration": 32552,
    "start_time": "2024-05-21T02:28:30.357Z"
   },
   {
    "duration": 16,
    "start_time": "2024-05-21T02:29:02.912Z"
   },
   {
    "duration": 7,
    "start_time": "2024-05-21T02:29:02.931Z"
   },
   {
    "duration": 2308,
    "start_time": "2024-05-21T02:29:02.941Z"
   },
   {
    "duration": 4,
    "start_time": "2024-05-21T02:29:05.253Z"
   },
   {
    "duration": 7,
    "start_time": "2024-05-21T02:29:05.325Z"
   },
   {
    "duration": 5116,
    "start_time": "2024-05-21T02:29:05.336Z"
   },
   {
    "duration": 4,
    "start_time": "2024-05-21T02:29:10.455Z"
   },
   {
    "duration": 5,
    "start_time": "2024-05-21T02:29:10.463Z"
   },
   {
    "duration": 20,
    "start_time": "2024-05-21T02:29:10.472Z"
   },
   {
    "duration": 620,
    "start_time": "2024-05-21T02:29:10.495Z"
   },
   {
    "duration": 344,
    "start_time": "2024-05-21T02:29:11.118Z"
   },
   {
    "duration": 2080,
    "start_time": "2024-05-21T02:29:11.465Z"
   },
   {
    "duration": 4,
    "start_time": "2024-05-21T02:29:13.549Z"
   },
   {
    "duration": 10,
    "start_time": "2024-05-21T02:29:13.557Z"
   },
   {
    "duration": 257,
    "start_time": "2024-05-21T02:29:13.625Z"
   },
   {
    "duration": 5,
    "start_time": "2024-05-21T02:30:16.269Z"
   },
   {
    "duration": 262,
    "start_time": "2024-05-21T03:02:45.567Z"
   },
   {
    "duration": 21,
    "start_time": "2024-05-21T03:09:10.596Z"
   },
   {
    "duration": 21,
    "start_time": "2024-05-21T03:09:24.553Z"
   },
   {
    "duration": 578,
    "start_time": "2024-05-21T03:10:08.195Z"
   },
   {
    "duration": 4,
    "start_time": "2024-05-21T14:51:42.032Z"
   },
   {
    "duration": 5298,
    "start_time": "2024-05-21T14:51:42.040Z"
   },
   {
    "duration": 775,
    "start_time": "2024-05-21T14:51:47.341Z"
   },
   {
    "duration": 147,
    "start_time": "2024-05-21T14:51:48.119Z"
   },
   {
    "duration": 42,
    "start_time": "2024-05-21T14:51:48.270Z"
   },
   {
    "duration": 139,
    "start_time": "2024-05-21T14:51:48.315Z"
   },
   {
    "duration": 195,
    "start_time": "2024-05-21T14:51:48.457Z"
   },
   {
    "duration": 103,
    "start_time": "2024-05-21T14:51:48.655Z"
   },
   {
    "duration": 303,
    "start_time": "2024-05-21T14:51:48.763Z"
   },
   {
    "duration": 334,
    "start_time": "2024-05-21T14:51:49.069Z"
   },
   {
    "duration": 290,
    "start_time": "2024-05-21T14:51:49.405Z"
   },
   {
    "duration": 117,
    "start_time": "2024-05-21T14:51:49.698Z"
   },
   {
    "duration": 36,
    "start_time": "2024-05-21T14:51:49.824Z"
   },
   {
    "duration": 79,
    "start_time": "2024-05-21T14:51:49.863Z"
   },
   {
    "duration": 14,
    "start_time": "2024-05-21T14:51:49.946Z"
   },
   {
    "duration": 97,
    "start_time": "2024-05-21T14:51:49.964Z"
   },
   {
    "duration": 16,
    "start_time": "2024-05-21T14:51:50.064Z"
   },
   {
    "duration": 67,
    "start_time": "2024-05-21T14:51:50.083Z"
   },
   {
    "duration": 69,
    "start_time": "2024-05-21T14:51:50.153Z"
   },
   {
    "duration": 315,
    "start_time": "2024-05-21T14:51:50.225Z"
   },
   {
    "duration": 20,
    "start_time": "2024-05-21T14:51:50.542Z"
   },
   {
    "duration": 424,
    "start_time": "2024-05-21T14:51:50.565Z"
   },
   {
    "duration": 33,
    "start_time": "2024-05-21T14:51:50.992Z"
   },
   {
    "duration": 14,
    "start_time": "2024-05-21T14:51:51.029Z"
   },
   {
    "duration": 17,
    "start_time": "2024-05-21T14:51:51.047Z"
   },
   {
    "duration": 8,
    "start_time": "2024-05-21T14:51:51.067Z"
   },
   {
    "duration": 65,
    "start_time": "2024-05-21T14:51:51.114Z"
   },
   {
    "duration": 6,
    "start_time": "2024-05-21T14:51:51.182Z"
   },
   {
    "duration": 108,
    "start_time": "2024-05-21T14:51:51.214Z"
   },
   {
    "duration": 5,
    "start_time": "2024-05-21T14:51:51.324Z"
   },
   {
    "duration": 82,
    "start_time": "2024-05-21T14:51:51.334Z"
   },
   {
    "duration": 43357,
    "start_time": "2024-05-21T14:51:51.420Z"
   },
   {
    "duration": 4,
    "start_time": "2024-05-21T14:52:34.780Z"
   },
   {
    "duration": 6,
    "start_time": "2024-05-21T14:52:34.787Z"
   },
   {
    "duration": 27664,
    "start_time": "2024-05-21T14:52:34.813Z"
   },
   {
    "duration": 3,
    "start_time": "2024-05-21T14:53:02.480Z"
   },
   {
    "duration": 5,
    "start_time": "2024-05-21T14:53:02.511Z"
   },
   {
    "duration": 2416,
    "start_time": "2024-05-21T14:53:02.520Z"
   },
   {
    "duration": 4,
    "start_time": "2024-05-21T14:53:05.011Z"
   },
   {
    "duration": 5,
    "start_time": "2024-05-21T14:53:05.018Z"
   },
   {
    "duration": 4896,
    "start_time": "2024-05-21T14:53:05.027Z"
   },
   {
    "duration": 5,
    "start_time": "2024-05-21T14:53:09.927Z"
   },
   {
    "duration": 6,
    "start_time": "2024-05-21T14:53:09.935Z"
   },
   {
    "duration": 21,
    "start_time": "2024-05-21T14:53:09.944Z"
   },
   {
    "duration": 705,
    "start_time": "2024-05-21T14:53:09.968Z"
   },
   {
    "duration": 305,
    "start_time": "2024-05-21T14:53:10.675Z"
   },
   {
    "duration": 2059,
    "start_time": "2024-05-21T14:53:10.983Z"
   },
   {
    "duration": 4,
    "start_time": "2024-05-21T14:53:13.046Z"
   },
   {
    "duration": 59,
    "start_time": "2024-05-21T14:53:13.053Z"
   },
   {
    "duration": 252,
    "start_time": "2024-05-21T14:53:13.118Z"
   },
   {
    "duration": 1647,
    "start_time": "2024-05-21T15:08:30.498Z"
   },
   {
    "duration": 735,
    "start_time": "2024-05-21T15:08:32.148Z"
   },
   {
    "duration": 181,
    "start_time": "2024-05-21T15:08:32.886Z"
   },
   {
    "duration": 23,
    "start_time": "2024-05-21T15:08:33.070Z"
   },
   {
    "duration": 149,
    "start_time": "2024-05-21T15:08:33.115Z"
   },
   {
    "duration": 202,
    "start_time": "2024-05-21T15:08:33.267Z"
   },
   {
    "duration": 109,
    "start_time": "2024-05-21T15:08:33.471Z"
   },
   {
    "duration": 329,
    "start_time": "2024-05-21T15:08:33.583Z"
   },
   {
    "duration": 350,
    "start_time": "2024-05-21T15:08:33.915Z"
   },
   {
    "duration": 301,
    "start_time": "2024-05-21T15:08:34.268Z"
   },
   {
    "duration": 117,
    "start_time": "2024-05-21T15:08:34.573Z"
   },
   {
    "duration": 48,
    "start_time": "2024-05-21T15:08:34.693Z"
   },
   {
    "duration": 72,
    "start_time": "2024-05-21T15:08:34.744Z"
   },
   {
    "duration": 13,
    "start_time": "2024-05-21T15:08:34.822Z"
   },
   {
    "duration": 101,
    "start_time": "2024-05-21T15:08:34.838Z"
   },
   {
    "duration": 16,
    "start_time": "2024-05-21T15:08:34.942Z"
   },
   {
    "duration": 74,
    "start_time": "2024-05-21T15:08:34.963Z"
   },
   {
    "duration": 51,
    "start_time": "2024-05-21T15:08:35.041Z"
   },
   {
    "duration": 336,
    "start_time": "2024-05-21T15:08:35.094Z"
   },
   {
    "duration": 18,
    "start_time": "2024-05-21T15:08:35.432Z"
   },
   {
    "duration": 422,
    "start_time": "2024-05-21T15:08:35.453Z"
   },
   {
    "duration": 19,
    "start_time": "2024-05-21T15:08:35.877Z"
   },
   {
    "duration": 12,
    "start_time": "2024-05-21T15:08:35.914Z"
   },
   {
    "duration": 16,
    "start_time": "2024-05-21T15:08:35.930Z"
   },
   {
    "duration": 9,
    "start_time": "2024-05-21T15:08:35.949Z"
   },
   {
    "duration": 102,
    "start_time": "2024-05-21T15:08:35.960Z"
   },
   {
    "duration": 7,
    "start_time": "2024-05-21T15:08:36.064Z"
   },
   {
    "duration": 62,
    "start_time": "2024-05-21T15:08:36.074Z"
   },
   {
    "duration": 4,
    "start_time": "2024-05-21T15:08:36.141Z"
   },
   {
    "duration": 6,
    "start_time": "2024-05-21T15:08:36.214Z"
   },
   {
    "duration": 43203,
    "start_time": "2024-05-21T15:08:36.224Z"
   },
   {
    "duration": 4,
    "start_time": "2024-05-21T15:09:19.430Z"
   },
   {
    "duration": 7,
    "start_time": "2024-05-21T15:09:19.437Z"
   },
   {
    "duration": 27916,
    "start_time": "2024-05-21T15:09:19.446Z"
   },
   {
    "duration": 3,
    "start_time": "2024-05-21T15:09:47.365Z"
   },
   {
    "duration": 5,
    "start_time": "2024-05-21T15:09:47.371Z"
   },
   {
    "duration": 2349,
    "start_time": "2024-05-21T15:09:47.380Z"
   },
   {
    "duration": 4,
    "start_time": "2024-05-21T15:09:49.731Z"
   },
   {
    "duration": 6,
    "start_time": "2024-05-21T15:09:49.739Z"
   },
   {
    "duration": 5049,
    "start_time": "2024-05-21T15:09:49.748Z"
   },
   {
    "duration": 3,
    "start_time": "2024-05-21T15:09:54.806Z"
   },
   {
    "duration": 5,
    "start_time": "2024-05-21T15:09:54.812Z"
   },
   {
    "duration": 20,
    "start_time": "2024-05-21T15:09:54.820Z"
   },
   {
    "duration": 631,
    "start_time": "2024-05-21T15:09:54.843Z"
   },
   {
    "duration": 299,
    "start_time": "2024-05-21T15:09:55.477Z"
   },
   {
    "duration": 2056,
    "start_time": "2024-05-21T15:09:55.779Z"
   },
   {
    "duration": 3,
    "start_time": "2024-05-21T15:09:57.838Z"
   },
   {
    "duration": 68,
    "start_time": "2024-05-21T15:09:57.844Z"
   },
   {
    "duration": 248,
    "start_time": "2024-05-21T15:09:57.915Z"
   },
   {
    "duration": 1582,
    "start_time": "2024-05-21T15:53:15.754Z"
   },
   {
    "duration": 725,
    "start_time": "2024-05-21T15:53:17.340Z"
   },
   {
    "duration": 168,
    "start_time": "2024-05-21T15:53:18.068Z"
   },
   {
    "duration": 22,
    "start_time": "2024-05-21T15:53:18.239Z"
   },
   {
    "duration": 156,
    "start_time": "2024-05-21T15:53:18.266Z"
   },
   {
    "duration": 189,
    "start_time": "2024-05-21T15:53:18.426Z"
   },
   {
    "duration": 103,
    "start_time": "2024-05-21T15:53:18.618Z"
   },
   {
    "duration": 307,
    "start_time": "2024-05-21T15:53:18.723Z"
   },
   {
    "duration": 346,
    "start_time": "2024-05-21T15:53:19.033Z"
   },
   {
    "duration": 297,
    "start_time": "2024-05-21T15:53:19.382Z"
   },
   {
    "duration": 108,
    "start_time": "2024-05-21T15:53:19.684Z"
   },
   {
    "duration": 49,
    "start_time": "2024-05-21T15:53:19.795Z"
   },
   {
    "duration": 71,
    "start_time": "2024-05-21T15:53:19.847Z"
   },
   {
    "duration": 13,
    "start_time": "2024-05-21T15:53:19.925Z"
   },
   {
    "duration": 100,
    "start_time": "2024-05-21T15:53:19.941Z"
   },
   {
    "duration": 15,
    "start_time": "2024-05-21T15:53:20.044Z"
   },
   {
    "duration": 71,
    "start_time": "2024-05-21T15:53:20.062Z"
   },
   {
    "duration": 51,
    "start_time": "2024-05-21T15:53:20.136Z"
   },
   {
    "duration": 341,
    "start_time": "2024-05-21T15:53:20.190Z"
   },
   {
    "duration": 20,
    "start_time": "2024-05-21T15:53:20.533Z"
   },
   {
    "duration": 419,
    "start_time": "2024-05-21T15:53:20.556Z"
   },
   {
    "duration": 32,
    "start_time": "2024-05-21T15:53:20.980Z"
   },
   {
    "duration": 15,
    "start_time": "2024-05-21T15:53:21.014Z"
   },
   {
    "duration": 16,
    "start_time": "2024-05-21T15:53:21.032Z"
   },
   {
    "duration": 7,
    "start_time": "2024-05-21T15:53:21.051Z"
   },
   {
    "duration": 110,
    "start_time": "2024-05-21T15:53:21.061Z"
   },
   {
    "duration": 6,
    "start_time": "2024-05-21T15:53:21.174Z"
   },
   {
    "duration": 62,
    "start_time": "2024-05-21T15:53:21.183Z"
   },
   {
    "duration": 2,
    "start_time": "2024-05-21T15:53:21.248Z"
   },
   {
    "duration": 5,
    "start_time": "2024-05-21T15:53:21.314Z"
   },
   {
    "duration": 42049,
    "start_time": "2024-05-21T15:53:21.322Z"
   },
   {
    "duration": 3,
    "start_time": "2024-05-21T15:54:03.374Z"
   },
   {
    "duration": 5,
    "start_time": "2024-05-21T15:54:03.380Z"
   },
   {
    "duration": 28054,
    "start_time": "2024-05-21T15:54:03.388Z"
   },
   {
    "duration": 3,
    "start_time": "2024-05-21T15:54:31.448Z"
   },
   {
    "duration": 6,
    "start_time": "2024-05-21T15:54:31.455Z"
   },
   {
    "duration": 2572,
    "start_time": "2024-05-21T15:54:31.466Z"
   },
   {
    "duration": 3,
    "start_time": "2024-05-21T15:54:34.041Z"
   },
   {
    "duration": 6,
    "start_time": "2024-05-21T15:54:34.047Z"
   },
   {
    "duration": 4868,
    "start_time": "2024-05-21T15:54:34.056Z"
   },
   {
    "duration": 7,
    "start_time": "2024-05-21T15:54:38.933Z"
   },
   {
    "duration": 7,
    "start_time": "2024-05-21T15:54:38.942Z"
   },
   {
    "duration": 21,
    "start_time": "2024-05-21T15:54:38.952Z"
   },
   {
    "duration": 605,
    "start_time": "2024-05-21T15:54:38.976Z"
   },
   {
    "duration": 293,
    "start_time": "2024-05-21T15:54:39.585Z"
   },
   {
    "duration": 2146,
    "start_time": "2024-05-21T15:54:39.882Z"
   },
   {
    "duration": 3,
    "start_time": "2024-05-21T15:54:42.031Z"
   },
   {
    "duration": 5,
    "start_time": "2024-05-21T15:54:42.038Z"
   },
   {
    "duration": 262,
    "start_time": "2024-05-21T15:54:42.114Z"
   },
   {
    "duration": 1694,
    "start_time": "2024-05-21T16:09:13.322Z"
   },
   {
    "duration": 730,
    "start_time": "2024-05-21T16:09:15.021Z"
   },
   {
    "duration": 151,
    "start_time": "2024-05-21T16:09:15.754Z"
   },
   {
    "duration": 22,
    "start_time": "2024-05-21T16:09:15.913Z"
   },
   {
    "duration": 150,
    "start_time": "2024-05-21T16:09:15.940Z"
   },
   {
    "duration": 192,
    "start_time": "2024-05-21T16:09:16.093Z"
   },
   {
    "duration": 109,
    "start_time": "2024-05-21T16:09:16.288Z"
   },
   {
    "duration": 302,
    "start_time": "2024-05-21T16:09:16.399Z"
   },
   {
    "duration": 344,
    "start_time": "2024-05-21T16:09:16.704Z"
   },
   {
    "duration": 289,
    "start_time": "2024-05-21T16:09:17.051Z"
   },
   {
    "duration": 122,
    "start_time": "2024-05-21T16:09:17.345Z"
   },
   {
    "duration": 51,
    "start_time": "2024-05-21T16:09:17.470Z"
   },
   {
    "duration": 55,
    "start_time": "2024-05-21T16:09:17.524Z"
   },
   {
    "duration": 35,
    "start_time": "2024-05-21T16:09:17.586Z"
   },
   {
    "duration": 88,
    "start_time": "2024-05-21T16:09:17.624Z"
   },
   {
    "duration": 16,
    "start_time": "2024-05-21T16:09:17.715Z"
   },
   {
    "duration": 52,
    "start_time": "2024-05-21T16:09:17.734Z"
   },
   {
    "duration": 53,
    "start_time": "2024-05-21T16:09:17.811Z"
   },
   {
    "duration": 322,
    "start_time": "2024-05-21T16:09:17.867Z"
   },
   {
    "duration": 22,
    "start_time": "2024-05-21T16:09:18.193Z"
   },
   {
    "duration": 441,
    "start_time": "2024-05-21T16:09:18.219Z"
   },
   {
    "duration": 17,
    "start_time": "2024-05-21T16:09:18.662Z"
   },
   {
    "duration": 36,
    "start_time": "2024-05-21T16:09:18.683Z"
   },
   {
    "duration": 16,
    "start_time": "2024-05-21T16:09:18.721Z"
   },
   {
    "duration": 7,
    "start_time": "2024-05-21T16:09:18.740Z"
   },
   {
    "duration": 96,
    "start_time": "2024-05-21T16:09:18.750Z"
   },
   {
    "duration": 6,
    "start_time": "2024-05-21T16:09:18.849Z"
   },
   {
    "duration": 68,
    "start_time": "2024-05-21T16:09:18.859Z"
   },
   {
    "duration": 3,
    "start_time": "2024-05-21T16:09:18.931Z"
   },
   {
    "duration": 78,
    "start_time": "2024-05-21T16:09:18.937Z"
   },
   {
    "duration": 44056,
    "start_time": "2024-05-21T16:09:19.017Z"
   },
   {
    "duration": 3,
    "start_time": "2024-05-21T16:10:03.076Z"
   },
   {
    "duration": 6,
    "start_time": "2024-05-21T16:10:03.082Z"
   },
   {
    "duration": 28165,
    "start_time": "2024-05-21T16:10:03.117Z"
   },
   {
    "duration": 4,
    "start_time": "2024-05-21T16:10:31.285Z"
   },
   {
    "duration": 22,
    "start_time": "2024-05-21T16:10:31.292Z"
   },
   {
    "duration": 2202,
    "start_time": "2024-05-21T16:10:31.318Z"
   },
   {
    "duration": 7,
    "start_time": "2024-05-21T16:10:33.523Z"
   },
   {
    "duration": 5,
    "start_time": "2024-05-21T16:10:33.533Z"
   },
   {
    "duration": 4951,
    "start_time": "2024-05-21T16:10:33.542Z"
   },
   {
    "duration": 3,
    "start_time": "2024-05-21T16:10:38.501Z"
   },
   {
    "duration": 6,
    "start_time": "2024-05-21T16:10:38.507Z"
   },
   {
    "duration": 19,
    "start_time": "2024-05-21T16:10:38.516Z"
   },
   {
    "duration": 619,
    "start_time": "2024-05-21T16:10:38.538Z"
   },
   {
    "duration": 295,
    "start_time": "2024-05-21T16:10:39.160Z"
   },
   {
    "duration": 2155,
    "start_time": "2024-05-21T16:10:39.459Z"
   },
   {
    "duration": 4,
    "start_time": "2024-05-21T16:10:41.616Z"
   },
   {
    "duration": 6,
    "start_time": "2024-05-21T16:10:41.623Z"
   },
   {
    "duration": 261,
    "start_time": "2024-05-21T16:10:41.632Z"
   },
   {
    "duration": 5298,
    "start_time": "2024-05-22T12:35:39.095Z"
   },
   {
    "duration": 782,
    "start_time": "2024-05-22T12:35:44.397Z"
   },
   {
    "duration": 150,
    "start_time": "2024-05-22T12:35:45.181Z"
   },
   {
    "duration": 24,
    "start_time": "2024-05-22T12:35:45.335Z"
   },
   {
    "duration": 159,
    "start_time": "2024-05-22T12:35:45.362Z"
   },
   {
    "duration": 177,
    "start_time": "2024-05-22T12:35:45.532Z"
   },
   {
    "duration": 102,
    "start_time": "2024-05-22T12:35:45.712Z"
   },
   {
    "duration": 353,
    "start_time": "2024-05-22T12:35:45.817Z"
   },
   {
    "duration": 347,
    "start_time": "2024-05-22T12:35:46.173Z"
   },
   {
    "duration": 287,
    "start_time": "2024-05-22T12:35:46.530Z"
   },
   {
    "duration": 113,
    "start_time": "2024-05-22T12:35:46.820Z"
   },
   {
    "duration": 44,
    "start_time": "2024-05-22T12:35:46.936Z"
   },
   {
    "duration": 94,
    "start_time": "2024-05-22T12:35:46.986Z"
   },
   {
    "duration": 13,
    "start_time": "2024-05-22T12:35:47.083Z"
   },
   {
    "duration": 97,
    "start_time": "2024-05-22T12:35:47.099Z"
   },
   {
    "duration": 17,
    "start_time": "2024-05-22T12:35:47.199Z"
   },
   {
    "duration": 53,
    "start_time": "2024-05-22T12:35:47.232Z"
   },
   {
    "duration": 79,
    "start_time": "2024-05-22T12:35:47.287Z"
   },
   {
    "duration": 320,
    "start_time": "2024-05-22T12:35:47.369Z"
   },
   {
    "duration": 20,
    "start_time": "2024-05-22T12:35:47.691Z"
   },
   {
    "duration": 425,
    "start_time": "2024-05-22T12:35:47.714Z"
   },
   {
    "duration": 19,
    "start_time": "2024-05-22T12:35:48.144Z"
   },
   {
    "duration": 17,
    "start_time": "2024-05-22T12:35:48.166Z"
   },
   {
    "duration": 48,
    "start_time": "2024-05-22T12:35:48.186Z"
   },
   {
    "duration": 7,
    "start_time": "2024-05-22T12:35:48.237Z"
   },
   {
    "duration": 90,
    "start_time": "2024-05-22T12:35:48.247Z"
   },
   {
    "duration": 6,
    "start_time": "2024-05-22T12:35:48.339Z"
   },
   {
    "duration": 87,
    "start_time": "2024-05-22T12:35:48.353Z"
   },
   {
    "duration": 3,
    "start_time": "2024-05-22T12:35:48.443Z"
   },
   {
    "duration": 81,
    "start_time": "2024-05-22T12:35:48.448Z"
   },
   {
    "duration": 42952,
    "start_time": "2024-05-22T12:35:48.534Z"
   },
   {
    "duration": 4,
    "start_time": "2024-05-22T12:36:31.488Z"
   },
   {
    "duration": 6,
    "start_time": "2024-05-22T12:36:31.495Z"
   },
   {
    "duration": 27926,
    "start_time": "2024-05-22T12:36:31.505Z"
   },
   {
    "duration": 3,
    "start_time": "2024-05-22T12:36:59.435Z"
   },
   {
    "duration": 7,
    "start_time": "2024-05-22T12:36:59.441Z"
   },
   {
    "duration": 2104,
    "start_time": "2024-05-22T12:36:59.452Z"
   },
   {
    "duration": 3,
    "start_time": "2024-05-22T12:37:01.631Z"
   },
   {
    "duration": 5,
    "start_time": "2024-05-22T12:37:01.637Z"
   },
   {
    "duration": 5212,
    "start_time": "2024-05-22T12:37:01.645Z"
   },
   {
    "duration": 4,
    "start_time": "2024-05-22T12:37:06.861Z"
   },
   {
    "duration": 7,
    "start_time": "2024-05-22T12:37:06.869Z"
   },
   {
    "duration": 23,
    "start_time": "2024-05-22T12:37:06.880Z"
   },
   {
    "duration": 554,
    "start_time": "2024-05-22T12:37:06.930Z"
   },
   {
    "duration": 297,
    "start_time": "2024-05-22T12:37:07.487Z"
   },
   {
    "duration": 2153,
    "start_time": "2024-05-22T12:37:07.787Z"
   },
   {
    "duration": 3,
    "start_time": "2024-05-22T12:37:09.943Z"
   },
   {
    "duration": 5,
    "start_time": "2024-05-22T12:37:09.950Z"
   },
   {
    "duration": 300,
    "start_time": "2024-05-22T12:37:09.958Z"
   },
   {
    "duration": 625,
    "start_time": "2024-05-22T12:37:43.705Z"
   },
   {
    "duration": 294,
    "start_time": "2024-05-22T12:38:10.506Z"
   },
   {
    "duration": 310,
    "start_time": "2024-05-22T12:38:22.587Z"
   },
   {
    "duration": 2083,
    "start_time": "2024-05-22T12:38:33.019Z"
   },
   {
    "duration": 358,
    "start_time": "2024-05-22T12:38:38.140Z"
   },
   {
    "duration": 329,
    "start_time": "2024-05-22T12:38:41.732Z"
   },
   {
    "duration": 560,
    "start_time": "2024-05-22T12:39:48.400Z"
   },
   {
    "duration": 533,
    "start_time": "2024-05-22T12:40:08.025Z"
   },
   {
    "duration": 1186,
    "start_time": "2024-05-22T12:42:16.984Z"
   },
   {
    "duration": 529,
    "start_time": "2024-05-22T12:42:25.816Z"
   },
   {
    "duration": 1636,
    "start_time": "2024-05-22T12:43:08.411Z"
   },
   {
    "duration": 764,
    "start_time": "2024-05-22T12:43:10.051Z"
   },
   {
    "duration": 149,
    "start_time": "2024-05-22T12:43:10.818Z"
   },
   {
    "duration": 21,
    "start_time": "2024-05-22T12:43:10.970Z"
   },
   {
    "duration": 160,
    "start_time": "2024-05-22T12:43:10.996Z"
   },
   {
    "duration": 201,
    "start_time": "2024-05-22T12:43:11.159Z"
   },
   {
    "duration": 104,
    "start_time": "2024-05-22T12:43:11.363Z"
   },
   {
    "duration": 309,
    "start_time": "2024-05-22T12:43:11.471Z"
   },
   {
    "duration": 370,
    "start_time": "2024-05-22T12:43:11.782Z"
   },
   {
    "duration": 307,
    "start_time": "2024-05-22T12:43:12.155Z"
   },
   {
    "duration": 112,
    "start_time": "2024-05-22T12:43:12.466Z"
   },
   {
    "duration": 62,
    "start_time": "2024-05-22T12:43:12.581Z"
   },
   {
    "duration": 56,
    "start_time": "2024-05-22T12:43:12.646Z"
   },
   {
    "duration": 14,
    "start_time": "2024-05-22T12:43:12.730Z"
   },
   {
    "duration": 96,
    "start_time": "2024-05-22T12:43:12.747Z"
   },
   {
    "duration": 17,
    "start_time": "2024-05-22T12:43:12.847Z"
   },
   {
    "duration": 74,
    "start_time": "2024-05-22T12:43:12.867Z"
   },
   {
    "duration": 56,
    "start_time": "2024-05-22T12:43:12.946Z"
   },
   {
    "duration": 350,
    "start_time": "2024-05-22T12:43:13.006Z"
   },
   {
    "duration": 19,
    "start_time": "2024-05-22T12:43:13.358Z"
   },
   {
    "duration": 417,
    "start_time": "2024-05-22T12:43:13.380Z"
   },
   {
    "duration": 17,
    "start_time": "2024-05-22T12:43:13.800Z"
   },
   {
    "duration": 18,
    "start_time": "2024-05-22T12:43:13.830Z"
   },
   {
    "duration": 17,
    "start_time": "2024-05-22T12:43:13.851Z"
   },
   {
    "duration": 9,
    "start_time": "2024-05-22T12:43:13.872Z"
   },
   {
    "duration": 107,
    "start_time": "2024-05-22T12:43:13.884Z"
   },
   {
    "duration": 6,
    "start_time": "2024-05-22T12:43:13.993Z"
   },
   {
    "duration": 61,
    "start_time": "2024-05-22T12:43:14.003Z"
   },
   {
    "duration": 66,
    "start_time": "2024-05-22T12:43:14.068Z"
   },
   {
    "duration": 6,
    "start_time": "2024-05-22T12:43:14.136Z"
   },
   {
    "duration": 43938,
    "start_time": "2024-05-22T12:43:14.145Z"
   },
   {
    "duration": 4,
    "start_time": "2024-05-22T12:43:58.087Z"
   },
   {
    "duration": 5,
    "start_time": "2024-05-22T12:43:58.094Z"
   },
   {
    "duration": 27806,
    "start_time": "2024-05-22T12:43:58.103Z"
   },
   {
    "duration": 4,
    "start_time": "2024-05-22T12:44:25.912Z"
   },
   {
    "duration": 15,
    "start_time": "2024-05-22T12:44:25.918Z"
   },
   {
    "duration": 2017,
    "start_time": "2024-05-22T12:44:25.936Z"
   },
   {
    "duration": 3,
    "start_time": "2024-05-22T12:44:27.957Z"
   },
   {
    "duration": 70,
    "start_time": "2024-05-22T12:44:27.964Z"
   },
   {
    "duration": 4785,
    "start_time": "2024-05-22T12:44:28.039Z"
   },
   {
    "duration": 4,
    "start_time": "2024-05-22T12:44:32.833Z"
   },
   {
    "duration": 6,
    "start_time": "2024-05-22T12:44:32.840Z"
   },
   {
    "duration": 20,
    "start_time": "2024-05-22T12:44:32.850Z"
   },
   {
    "duration": 581,
    "start_time": "2024-05-22T12:44:32.876Z"
   },
   {
    "duration": 301,
    "start_time": "2024-05-22T12:44:33.461Z"
   },
   {
    "duration": 1991,
    "start_time": "2024-05-22T12:44:33.766Z"
   },
   {
    "duration": 3,
    "start_time": "2024-05-22T12:44:35.830Z"
   },
   {
    "duration": 5,
    "start_time": "2024-05-22T12:44:35.836Z"
   },
   {
    "duration": 277,
    "start_time": "2024-05-22T12:44:35.845Z"
   }
  ],
  "kernelspec": {
   "display_name": "Python 3 (ipykernel)",
   "language": "python",
   "name": "python3"
  },
  "language_info": {
   "codemirror_mode": {
    "name": "ipython",
    "version": 3
   },
   "file_extension": ".py",
   "mimetype": "text/x-python",
   "name": "python",
   "nbconvert_exporter": "python",
   "pygments_lexer": "ipython3",
   "version": "3.9.19"
  },
  "toc": {
   "base_numbering": 1,
   "nav_menu": {},
   "number_sections": true,
   "sideBar": true,
   "skip_h1_title": true,
   "title_cell": "Contenido:",
   "title_sidebar": "Contenido:",
   "toc_cell": true,
   "toc_position": {
    "height": "calc(100% - 180px)",
    "left": "10px",
    "top": "150px",
    "width": "299.503px"
   },
   "toc_section_display": true,
   "toc_window_display": true
  }
 },
 "nbformat": 4,
 "nbformat_minor": 2
}
